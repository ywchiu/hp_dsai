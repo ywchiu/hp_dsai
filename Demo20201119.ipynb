{
  "nbformat": 4,
  "nbformat_minor": 0,
  "metadata": {
    "colab": {
      "name": "Demo20201119.ipynb",
      "provenance": [],
      "collapsed_sections": []
    },
    "kernelspec": {
      "name": "python3",
      "display_name": "Python 3"
    }
  },
  "cells": [
    {
      "cell_type": "code",
      "metadata": {
        "colab": {
          "base_uri": "https://localhost:8080/",
          "height": 174
        },
        "id": "INg5Is7a-7LW",
        "outputId": "c143a465-d64c-49a8-9cba-80bec9db9c65"
      },
      "source": [
        "import requests\n",
        "headers = {\n",
        "   'cookie': '_samesite_flag_=true; cookie2=1eda0ae2df04d93042a8d9a1809e8560; t=b80ab48fc64a72d7a149a49f7f487879; _tb_token_=eb48737956d71; cna=ol6+F/mPolcCAd+JbgOD7P24; xlly_s=1; _m_h5_tk=3149002579f2a4a28f11c263f5494f89_1605757289878; _m_h5_tk_enc=2f901d7d924c437d864a0966cabd1b06; mt=ci%3D-1_0; tfstk=c09VBQOqEOY7eK6s9t6aGXEGleWAZQYMR8SOiCuC6cCu7ifciVzOqftN4MQKEsf..; l=eBLV4pBnOGsfkOiFBOfZnurza779IIRAguPzaNbMiOCPOpfp5_GdWZ77qjT9CnGNh6kvR3WzLK_aBeYBcI2jPGK3X2uPIOMmn; isg=BENDt7FOGB_T8NRrp1o62Zg60gHtuNf6-oSlt3UgnaIZNGNW_Yl8Spqirsx6lC_y' \n",
        "}\n",
        "res = requests.get('https://h5api.m.taobao.com/h5/mtop.alimama.union.xt.en.api.entry/1.0/?jsv=2.5.1&appKey=12574478&t=1605751436371&sign=f65c5d7abf114f6e5f6083abd7df05ce&api=mtop.alimama.union.xt.en.api.entry&v=1.0&AntiCreep=true&timeout=20000&AntiFlood=true&type=jsonp&dataType=jsonp&callback=mtopjsonp2&data=%7B%22pNum%22%3A0%2C%22pSize%22%3A%2260%22%2C%22refpid%22%3A%22mm_12238993_19794510_110896800135%22%2C%22variableMap%22%3A%22%7B%5C%22q%5C%22%3A%5C%22%E7%AC%94%E8%AE%B0%E6%9C%AC%5C%22%2C%5C%22navigator%5C%22%3Atrue%2C%5C%22pidvid%5C%22%3A%5C%2220000%3A11119%5C%22%2C%5C%22recoveryId%5C%22%3A%5C%22201_11.1.81.73_5846365_1605751434906%5C%22%7D%22%2C%22qieId%22%3A%2234374%22%2C%22spm%22%3A%22a2e1u.19484427.29996460%22%2C%22app_pvid%22%3A%22201_11.1.81.73_5846365_1605751434906%22%2C%22ctm%22%3A%22spm-url%3Aa2e1u.19484427.29996460.1%3Bpage_url%3Ahttps%253A%252F%252Fai.taobao.com%252Fsearch%252Findex.htm%253Fspm%253Da2e1u.19484427.29996460.1%2526pid%253Dmm_12238993_19794510_110896800135%2526app_pvid%253Dbbf8e790-4769-4208-9d51-b065be089283%2526channelId%253D3%2526key%253D%2525E7%2525AC%252594%2525E8%2525AE%2525B0%2525E6%25259C%2525AC%2526unid%2526scm%253D1007.23044.123524.0%2526engPvid%253Dbbf8e790-4769-4208-9d51-b065be089283%2526cat%253D1101%2526pnum%253D0%2526pidvid%253D20000%25253A11119%22%7D', headers = headers)\n",
        "res.text"
      ],
      "execution_count": 6,
      "outputs": [
        {
          "output_type": "execute_result",
          "data": {
            "application/vnd.google.colaboratory.intrinsic+json": {
              "type": "string"
            },
            "text/plain": [
              "' mtopjsonp2({\"api\":\"mtop.alimama.union.xt.en.api.entry\",\"data\":{\"kvpairs\":null,\"lunaKvpairs\":null,\"combinePairs\":{},\"kvpairsString\":{},\"qtype\":{},\"recommend\":{\"resultList\":[{\"floorId\":34371,\"itemId\":\"619117327323\",\"itemName\":\"【24期免息】2020联想 小新15 英特尔酷睿I5轻薄便携商务办公手提<span class=H>笔记本</span>电脑15.6英寸 超极本学生独显游戏本\",\"subTitle\":\"新十代 热销款\",\"userType\":1,\"isTmall\":true,\"sellerId\":1996270577,\"reservePrice\":\"5699\",\"price\":\"5699\",\"promotionPrice\":\"5699\",\"priceAfterCoupon\":\"5599.00\",\"originalTkSpRates\":\"\",\"zkSalesPrice\":\"0.00\",\"pic\":\"//img.alicdn.com/bao/uploaded/i4/1996270577/O1CN01YqgzvE1G8JAQ6g2QG_!!0-item_pic.jpg\",\"couponAmount\":\"100\",\"couponSendCount\":2985,\"couponTotalCount\":100000,\"couponTag\":\"0\",\"couponEffectiveStartTime\":\"1605110400000\",\"couponEffectiveEndTime\":\"1607529599000\",\"couponStartFee\":\"2000\",\"monthSellCount\":\"32\",\"nick\":\"联想天晴东方专卖店\",\"realPostFee\":\"0.00\",\"auctionTags\":\"385 843 1163 1478 1483 1923 2049 2059 2315 3974 4166 4491 4555 5323 7431 7879 7883 8263 11083 11339 11467 11846 12427 15489 19787 20481 21121 21762 22155 22273 25282 28353 30337 30401 30849 30977 31489 33217 34433 35713 36161 37569 39233 39809 40897 49218 64129 66241 67521 70402 70465 73793 96002 101762 112193 115329 120962 123649 123905 131713 145793 155841 155905 159041 161793 161921 162690 172226 188609 188673 192769 200321 202050 214273 217985 218049 218177 218369 225410 231553 249858 281666 296066 299394 348546 363650 363714 363778 363842 363906 363970 364034 364610 427458 519106 544322 545090 545218 545282 1322626 1337858 1473090 1615810 1640770 1640898 1648706 1648770 1657986 1664962 1665026 1691586 1702530 1720066 1769346 1772034 1779714\",\"ostime\":null,\"oetime\":null,\"jddPrice\":null,\"jddNum\":null,\"uvSumPreSale\":\"\",\"couponShareUrl\":\"//uland.taobao.com/coupon/edetail?e=UyoNsOnDF9ENfLV8niU3R40dlhWtfp96Ng4Gqf8CT4BnmB%2Fzds2ljedjSF2Kn9FaLxJkhB7eVB4sHefUD3pJVFyyRsLQYwaHvB3FlNvlg%2FD%2BX6jzHDW6A9CRgSbn%2BRpv%2BseQYHs6ctfl9bOppAwFQWNki%2B0rkDXJYxwsNJh5yzQifcaHclw2r81rh%2B4QgJspTA0FRtOwCuw%3D&&app_pvid=59590_33.3.247.237_605_1605751530257&ptl=floorId:34371;app_pvid:59590_33.3.247.237_605_1605751530257;tpp_pvid:100_11.229.250.224_30180_6961605751530266088&union_lens=lensId%3AOPT%401605751530%402103f7ed_06cc_175de3fe3c2_84de%4001\",\"url\":\"//s.click.taobao.com/t?e=m%3D2%26s%3DxHMhSP74Espw4vFB6t2Z2ueEDrYVVa64RZKDdhY4Y8EKwPl3T8wu7Hq9Oxuj2hhdeMWMkvOuGu1pav%2FfWtOoXJBd%2FLLdqLkGnXXh09ZhQLa6kw7MOHsoJF8JOblEdwDXn9rhi5suOxV7CK2DBga9hnFO9PmqE%2BEG%2BO7I%2FS37W4chhQs2DjqgEA%3D%3D&scm=null&pvid=100_11.229.250.224_30180_6961605751530266088&app_pvid=59590_33.3.247.237_605_1605751530257&ptl=floorId:34371;originalFloorId:34371;pvid:100_11.229.250.224_30180_6961605751530266088;app_pvid:59590_33.3.247.237_605_1605751530257&union_lens=lensId%3AOPT%401605751530%402103f7ed_06cc_175de3fe3c2_84de%4001\",\"udf_temp_store\":{},\"lensId\":\"OPT@1605751530@2103f7ed_06cc_175de3fe3c2_84de@01\"},{\"floorId\":34371,\"itemId\":\"602140857754\",\"itemName\":\"联想拯救者Y7000P i7<span class=H>笔记本</span>电脑R720超薄本便携学生游戏本i5吃鸡\",\"subTitle\":\"\",\"userType\":0,\"isTmall\":false,\"sellerId\":255469942,\"reservePrice\":\"1999\",\"price\":\"1999\",\"promotionPrice\":\"1999\",\"priceAfterCoupon\":\"1699.00\",\"originalTkSpRates\":\"\",\"zkSalesPrice\":\"0.00\",\"pic\":\"//img.alicdn.com/bao/uploaded/i1/255469942/O1CN01YiiZGx2NJUIWGd1pC_!!255469942.jpg\",\"couponAmount\":\"300\",\"couponSendCount\":1565,\"couponTotalCount\":100000,\"couponTag\":\"0\",\"couponEffectiveStartTime\":\"1605110400000\",\"couponEffectiveEndTime\":\"1605801599000\",\"couponStartFee\":\"1999\",\"monthSellCount\":\"149\",\"nick\":\"nijingfenfa\",\"realPostFee\":\"0.00\",\"auctionTags\":\"385 843 1163 1483 2059 2315 4491 4555 5190 5323 6081 7110 7883 11083 11339 11467 11846 12427 19787 22155 25282 36610 40513 40897 48578 52290 59970 66241 67521 85249 87425 100609 104514 115329 123905 131713 149057 172226 241218 388354 426754 484098 544322 1337858 1362178 1362242 1441090 1445762 1624194 1648770 1691458 1691586 1702530 1769346\",\"ostime\":null,\"oetime\":null,\"jddPrice\":null,\"jddNum\":null,\"uvSumPreSale\":\"\",\"couponShareUrl\":\"//uland.taobao.com/coupon/edetail?e=4bVEDwif%2B90NfLV8niU3R40dlhWtfp96Ng4Gqf8CT4BnmB%2Fzds2ljWpvU2ZA6UJQ5YtW6YgXTpwsHefUD3pJVFyyRsLQYwaHvB3FlNvlg%2FD%2BX6jzHDW6A9CRgSbn%2BRpvIFM1z%2F3S%2Fipk%2Bc8V7jaGJY%2BfGyiuHIbNo5wZbrrEV2NGYwgswNx%2BiD5%2F6mJ0IOYhJTNWSR3CwiY%3D&&app_pvid=59590_33.3.247.237_605_1605751530257&ptl=floorId:34371;app_pvid:59590_33.3.247.237_605_1605751530257;tpp_pvid:100_11.229.250.224_30180_6961605751530266088&union_lens=lensId%3AOPT%401605751530%402103f7ed_06cc_175de3fe3c2_84df%4001\",\"url\":\"//s.click.taobao.com/t?e=m%3D2%26s%3DvTxAPlnt09Nw4vFB6t2Z2ueEDrYVVa64qYbrUZilZ4UKwPl3T8wu7Hq9Oxuj2hhdeMWMkvOuGu1pav%2FfWtOoXJBd%2FLLdqLkGnXXh09ZhQLa6kw7MOHsoJKbNhZMk%2F5fLwgaucDJJ5hnf3fSXKojgdlLV%2BRdSbL2cf6uktJ2wNzjGDmntuH4VtA%3D%3D&scm=null&pvid=100_11.229.250.224_30180_6961605751530266088&app_pvid=59590_33.3.247.237_605_1605751530257&ptl=floorId:34371;originalFloorId:34371;pvid:100_11.229.250.224_30180_6961605751530266088;app_pvid:59590_33.3.247.237_605_1605751530257&union_lens=lensId%3AOPT%401605751530%402103f7ed_06cc_175de3fe3c2_84df%4001\",\"udf_temp_store\":{},\"lensId\":\"OPT@1605751530@2103f7ed_06cc_175de3fe3c2_84df@01\"},{\"floorId\":34371,\"itemId\":\"610696099154\",\"itemName\":\"Lenovo/联想 小新Air 14 游戏办公<span class=H>笔记本</span>电脑超薄i5 i7独显学生本\",\"subTitle\":\"\",\"userType\":0,\"isTmall\":false,\"sellerId\":2822377667,\"reservePrice\":\"1999\",\"price\":\"1999\",\"promotionPrice\":\"1599\",\"priceAfterCoupon\":\"1599.00\",\"originalTkSpRates\":\"\",\"zkSalesPrice\":\"0.00\",\"pic\":\"//img.alicdn.com/bao/uploaded/i3/2822377667/O1CN01iTJsMY26VXGthe2Wc_!!2822377667.jpg\",\"couponAmount\":null,\"couponSendCount\":0,\"couponTotalCount\":0,\"couponTag\":\"\",\"couponEffectiveStartTime\":\"\",\"couponEffectiveEndTime\":\"\",\"couponStartFee\":null,\"monthSellCount\":\"264\",\"nick\":\"xutian欣\",\"realPostFee\":\"0.00\",\"auctionTags\":\"385 843 1163 1483 2059 2315 4491 4555 5190 5323 7883 11083 11339 11467 11846 12427 19787 21442 22155 25282 36610 44545 48578 52290 59970 67521 104514 119106 120962 131713 143746 172226 216513 227457 241218 284802 362178 368066 388354 426754 481986 484098 490498 493250 544322 1288066 1337858 1359554 1362178 1362242 1441090 1443906 1445762 1589442 1589570 1589634 1602178 1624194 1648770 1691458 1691586 1702530 1745602 1768002 1769346 1770370\",\"ostime\":null,\"oetime\":null,\"jddPrice\":null,\"jddNum\":null,\"uvSumPreSale\":\"\",\"couponShareUrl\":null,\"url\":\"//s.click.taobao.com/t?e=m%3D2%26s%3DRWmUJ%2BqkDIVw4vFB6t2Z2ueEDrYVVa64qYbrUZilZ4UKwPl3T8wu7Hq9Oxuj2hhdeMWMkvOuGu1pav%2FfWtOoXJBd%2FLLdqLkGnXXh09ZhQLa6kw7MOHsoJLNFKgXfsUHIj5tf7KvF4Wd7CK2DBga9hmx2LMCGG45UGR%2BuGjIXoyYhhQs2DjqgEA%3D%3D&scm=null&pvid=100_11.229.250.224_30180_6961605751530266088&app_pvid=59590_33.3.247.237_605_1605751530257&ptl=floorId:34371;originalFloorId:34371;pvid:100_11.229.250.224_30180_6961605751530266088;app_pvid:59590_33.3.247.237_605_1605751530257&union_lens=lensId%3AOPT%401605751530%402103f7ed_06cc_175de3fe3c2_84e0%4001\",\"udf_temp_store\":{},\"lensId\":\"OPT@1605751530@2103f7ed_06cc_175de3fe3c2_84e0@01\"},{\"floorId\":34371,\"itemId\":\"618502698299\",\"itemName\":\"联想拯救者R7000/Y7000 2020款Y7000P学生R7000P游戏本i7<span class=H>笔记本</span>R7\",\"subTitle\":\"\",\"userType\":0,\"isTmall\":false,\"sellerId\":97975161,\"reservePrice\":\"5599\",\"price\":\"5599\",\"promotionPrice\":\"5499\",\"priceAfterCoupon\":\"5449.00\",\"originalTkSpRates\":\"\",\"zkSalesPrice\":\"0.00\",\"pic\":\"//img.alicdn.com/bao/uploaded/i1/97975161/O1CN01B6YUNx1nzmjHHZHxv_!!97975161.jpg\",\"couponAmount\":\"50\",\"couponSendCount\":4506,\"couponTotalCount\":100000,\"couponTag\":\"0\",\"couponEffectiveStartTime\":\"1605283200000\",\"couponEffectiveEndTime\":\"1609430399000\",\"couponStartFee\":\"1888\",\"monthSellCount\":\"1759\",\"nick\":\"天晴东方_联想\",\"realPostFee\":\"0.00\",\"auctionTags\":\"385 843 1159 1163 1483 2059 2315 3974 4491 4555 5190 5323 7110 7883 11083 11339 11467 12427 19787 21442 22155 25282 28353 36610 40513 40897 48578 52290 59970 67521 85249 86786 104514 120962 123905 131713 143746 149057 164673 216513 241218 388354 450114 490498 493250 1359554 1443906 1445762 1585794 1589442 1589634 1600194 1602178 1622978 1624194 1691586 1702530 1762306 1762370 1769346 1770114 1770178 1770306 1770370 1772034 1778946 1779074 1779714\",\"ostime\":null,\"oetime\":null,\"jddPrice\":null,\"jddNum\":null,\"uvSumPreSale\":\"\",\"couponShareUrl\":\"//uland.taobao.com/coupon/edetail?e=En1sj3ntiPwNfLV8niU3R40dlhWtfp96Ng4Gqf8CT4B%2BjJnrC%2FSE1UA2bSnkTMfNmMHpNfYdHdAPkf%2BIwRD1B%2FfL1Y0L1DgsL58N9XQN5aZK8rZ3A2zQf7pK%2BiB0fEdkXr8J7su9aB77herX%2FxhfuvauyW6BCiFkGjRY2lt7WwE%2BInh8FV60jeIg09jheaZgonv6QcvcARY%3D&&app_pvid=59590_33.3.247.237_605_1605751530257&ptl=floorId:34371;app_pvid:59590_33.3.247.237_605_1605751530257;tpp_pvid:100_11.229.250.224_30180_6961605751530266088&union_lens=lensId%3AOPT%401605751530%402103f7ed_06cc_175de3fe3c2_84e1%4001\",\"url\":\"//s.click.taobao.com/t?e=m%3D2%26s%3DdgnRkLTJokJw4vFB6t2Z2ueEDrYVVa64Vb0yt%2F5tJWX%2BmkB8Ys0cBZdOwQLjTps3lc2MxE3r9TvbUz3vG%2FGJ%2FUDRWTB43ZUaHIa9RbrgZYzCwiYxkgA7Pv9rOdHOLmd1XPNtI9svmYTQgddpDTbxRJI%2FCDiFCaaMxgxdTc00KD8%3D&scm=null&pvid=100_11.229.250.224_30180_6961605751530266088&app_pvid=59590_33.3.247.237_605_1605751530257&ptl=floorId:34371;originalFloorId:34371;pvid:100_11.229.250.224_30180_6961605751530266088;app_pvid:59590_33.3.247.237_605_1605751530257&union_lens=lensId%3AOPT%401605751530%402103f7ed_06cc_175de3fe3c2_84e1%4001\",\"udf_temp_store\":{},\"lensId\":\"OPT@1605751530@2103f7ed_06cc_175de3fe3c2_84e1@01\"},{\"floorId\":34371,\"itemId\":\"624105216269\",\"itemName\":\"联想小新pro13 2020款锐龙R7 八核超薄轻薄便携<span class=H>笔记本</span>电脑学生\",\"subTitle\":\"\",\"userType\":0,\"isTmall\":false,\"sellerId\":97975161,\"reservePrice\":\"5399\",\"price\":\"5399\",\"promotionPrice\":\"5399\",\"priceAfterCoupon\":\"5349.00\",\"originalTkSpRates\":\"\",\"zkSalesPrice\":\"0.00\",\"pic\":\"//img.alicdn.com/bao/uploaded/i3/97975161/O1CN01rd5lni1nzmi9XtpZb_!!97975161.jpg\",\"couponAmount\":\"50\",\"couponSendCount\":4506,\"couponTotalCount\":100000,\"couponTag\":\"0\",\"couponEffectiveStartTime\":\"1605283200000\",\"couponEffectiveEndTime\":\"1609430399000\",\"couponStartFee\":\"1888\",\"monthSellCount\":\"242\",\"nick\":\"天晴东方_联想\",\"realPostFee\":\"0.00\",\"auctionTags\":\"385 843 1159 1163 1483 2059 2315 3974 4491 4555 5190 5323 7110 7883 11083 11339 11467 12427 19787 22155 25282 28353 36610 40513 40897 48578 52290 59970 67521 85249 104514 120962 123905 131713 149057 164673 172226 216513 241218 277250 1261954 1262082 1262210 1311618 1337858 1354754 1359554 1363522 1443906 1445762 1589442 1589634 1600194 1624194 1630786 1691586 1702530 1769346 1779714\",\"ostime\":null,\"oetime\":null,\"jddPrice\":null,\"jddNum\":null,\"uvSumPreSale\":\"\",\"couponShareUrl\":\"//uland.taobao.com/coupon/edetail?e=W%2BLon7cKrLQNfLV8niU3R40dlhWtfp96Ng4Gqf8CT4CS0eUzckdB8AYH8tNgVUWMmMHpNfYdHdAPkf%2BIwRD1B%2FfL1Y0L1DgsL58N9XQN5aZK8rZ3A2zQf2zWclIq8Ox5eGKpzpyjdbzX83%2BMcAPqPPauyW6BCiFkGjRY2lt7WwE%2BInh8FV60jeIg09jheaZgonv6QcvcARY%3D&&app_pvid=59590_33.3.247.237_605_1605751530257&ptl=floorId:34371;app_pvid:59590_33.3.247.237_605_1605751530257;tpp_pvid:100_11.229.250.224_30180_6961605751530266088&union_lens=lensId%3AOPT%401605751530%402103f7ed_06cc_175de3fe3c2_84e2%4001\",\"url\":\"//s.click.taobao.com/t?e=m%3D2%26s%3DdfiNe15QSxdw4vFB6t2Z2ueEDrYVVa64Vb0yt%2F5tJWX%2BmkB8Ys0cBZdOwQLjTps3lc2MxE3r9TvbUz3vG%2FGJ%2FUDRWTB43ZUaHIa9RbrgZYzCwiYxkgA7Pv9rOdHOLmd1XPNtI9svmYQiJOjPotuc%2FgHyjwgJ2mO2xgxdTc00KD8%3D&scm=null&pvid=100_11.229.250.224_30180_6961605751530266088&app_pvid=59590_33.3.247.237_605_1605751530257&ptl=floorId:34371;originalFloorId:34371;pvid:100_11.229.250.224_30180_6961605751530266088;app_pvid:59590_33.3.247.237_605_1605751530257&union_lens=lensId%3AOPT%401605751530%402103f7ed_06cc_175de3fe3c2_84e2%4001\",\"udf_temp_store\":{},\"lensId\":\"OPT@1605751530@2103f7ed_06cc_175de3fe3c2_84e2@01\"},{\"floorId\":34371,\"itemId\":\"618220017297\",\"itemName\":\"【领劵立减300】联想拯救者R7000P 2020款锐龙R7八核电竞屏RTX2060游戏本学生Y7000P<span class=H>笔记本</span>电脑15.6英寸i7cpu\",\"subTitle\":\"2020新款 锐龙处理器R7八核 144Hz电竞屏\",\"userType\":1,\"isTmall\":true,\"sellerId\":1996270577,\"reservePrice\":\"7699\",\"price\":\"7699\",\"promotionPrice\":\"7699\",\"priceAfterCoupon\":\"7599.00\",\"originalTkSpRates\":\"\",\"zkSalesPrice\":\"0.00\",\"pic\":\"//img.alicdn.com/bao/uploaded/i4/1996270577/O1CN01VsJxHE1G8JAFia846_!!0-item_pic.jpg\",\"couponAmount\":\"100\",\"couponSendCount\":2985,\"couponTotalCount\":100000,\"couponTag\":\"0\",\"couponEffectiveStartTime\":\"1605110400000\",\"couponEffectiveEndTime\":\"1607529599000\",\"couponStartFee\":\"2000\",\"monthSellCount\":\"104\",\"nick\":\"联想天晴东方专卖店\",\"realPostFee\":\"0.00\",\"auctionTags\":\"385 843 1163 1478 1483 1923 2049 2059 2315 3974 4166 4491 4555 5323 7431 7879 7883 8263 11083 11339 11467 11846 12427 15489 19787 20481 21121 21442 21762 22155 22273 25282 28353 30337 30401 30849 30977 31489 33217 34433 35713 36161 37569 39233 39809 40897 49218 64129 66241 67521 70402 70465 73793 96002 101762 112193 115329 120962 123649 123905 131713 143746 145793 155841 155905 159041 161793 161921 172226 188609 188673 192769 200002 200321 202050 214273 217985 218049 218177 218369 231553 241218 249858 257666 257730 257794 257858 257922 257986 281666 292098 299394 348546 363650 363714 363778 363842 363906 363970 364034 364610 388354 427458 490498 493250 519106 544322 1322626 1337858 1443906 1473090 1499202 1615810 1645570 1648770 1651586 1657986 1664962 1665026 1691586 1702530 1769346 1772034 1779714\",\"ostime\":null,\"oetime\":null,\"jddPrice\":null,\"jddNum\":null,\"uvSumPreSale\":\"\",\"couponShareUrl\":\"//uland.taobao.com/coupon/edetail?e=5nbt5YrNuAcNfLV8niU3R40dlhWtfp96Ng4Gqf8CT4Be5gBVZk3IZ4xpoXVRcEK3mMHpNfYdHdAPkf%2BIwRD1B%2FfL1Y0L1DgsL58N9XQN5aZK8rZ3A2zQf7pK%2BiB0fEdks0ffFqIpviV6JfL3Qr7kMvPUByw7qoQ5gwtP3f%2FtWchIH07HK3v5wM1rh%2B4QgJspTA0FRtOwCuw%3D&&app_pvid=59590_33.3.247.237_605_1605751530257&ptl=floorId:34371;app_pvid:59590_33.3.247.237_605_1605751530257;tpp_pvid:100_11.229.250.224_30180_6961605751530266088&union_lens=lensId%3AOPT%401605751530%402103f7ed_06cc_175de3fe3c2_84e3%4001\",\"url\":\"//s.click.taobao.com/t?e=m%3D2%26s%3DvgkzNicEjB1w4vFB6t2Z2ueEDrYVVa64RZKDdhY4Y8EKwPl3T8wu7Hq9Oxuj2hhdeMWMkvOuGu1pav%2FfWtOoXJBd%2FLLdqLkGnXXh09ZhQLa6kw7MOHsoJF8JOblEdwDXn9rhi5suOxWEMq5nmi4wrU8K5FJ8dAGyDJbuZDCrHt4%3D&scm=null&pvid=100_11.229.250.224_30180_6961605751530266088&app_pvid=59590_33.3.247.237_605_1605751530257&ptl=floorId:34371;originalFloorId:34371;pvid:100_11.229.250.224_30180_6961605751530266088;app_pvid:59590_33.3.247.237_605_1605751530257&union_lens=lensId%3AOPT%401605751530%402103f7ed_06cc_175de3fe3c2_84e3%4001\",\"udf_temp_store\":{},\"lensId\":\"OPT@1605751530@2103f7ed_06cc_175de3fe3c2_84e3@01\"},{\"floorId\":34371,\"itemId\":\"554842736491\",\"itemName\":\"Lenovo/联想 小新 14 酷睿i5/i7扬天V15轻薄学生游戏<span class=H>笔记本</span>电脑20\",\"subTitle\":\"\",\"userType\":0,\"isTmall\":false,\"sellerId\":693653550,\"reservePrice\":\"1900\",\"price\":\"1900\",\"promotionPrice\":\"1767\",\"priceAfterCoupon\":\"1767.00\",\"originalTkSpRates\":\"111\",\"zkSalesPrice\":\"0.00\",\"pic\":\"//img.alicdn.com/bao/uploaded/i3/693653550/O1CN01w7NdAi1c5wcFbqDsZ_!!693653550.jpg\",\"couponAmount\":null,\"couponSendCount\":0,\"couponTotalCount\":0,\"couponTag\":\"\",\"couponEffectiveStartTime\":\"\",\"couponEffectiveEndTime\":\"\",\"couponStartFee\":null,\"monthSellCount\":\"140\",\"nick\":\"虎子kivey\",\"realPostFee\":\"0.00\",\"auctionTags\":\"843 1159 1163 1483 2059 2315 3974 4491 4555 5190 5323 7110 7883 11083 11339 11467 11846 12427 19787 22155 25282 28353 30977 34433 36161 36610 40513 40897 48578 52290 59970 65281 66241 67521 85249 86786 87425 104514 105601 115329 119298 120962 123905 149057 164673 172226 216513 218754 224642 241218 362178 368066 371650 379586 388354 426754 443650 481986 483522 484098 508226 524418 544322 1255362 1288322 1337858 1362178 1362242 1441090 1445762 1481986 1520514 1585794 1602178 1624130 1624194 1648770 1691458 1691586 1702530 1762370 1769346 1770114 1770178 1770306 1770370 1778946\",\"ostime\":null,\"oetime\":null,\"jddPrice\":null,\"jddNum\":null,\"uvSumPreSale\":\"\",\"couponShareUrl\":null,\"url\":\"//s.click.taobao.com/t?e=m%3D2%26s%3DmZMpSDG%2BLxJw4vFB6t2Z2ueEDrYVVa64qYbrUZilZ4UKwPl3T8wu7Hq9Oxuj2hhdeMWMkvOuGu1pav%2FfWtOoXJBd%2FLLdqLkGnXXh09ZhQLa6kw7MOHsoJFjF25xYUUtSC9YIVewUDG7f3fSXKojgdid6bThObDMNJN1FXpwlJrDGDmntuH4VtA%3D%3D&scm=null&pvid=100_11.229.250.224_30180_6961605751530266088&app_pvid=59590_33.3.247.237_605_1605751530257&ptl=floorId:34371;originalFloorId:34371;pvid:100_11.229.250.224_30180_6961605751530266088;app_pvid:59590_33.3.247.237_605_1605751530257&union_lens=lensId%3AOPT%401605751530%402103f7ed_06cc_175de3fe3c2_84e4%4001\",\"udf_temp_store\":{},\"lensId\":\"OPT@1605751530@2103f7ed_06cc_175de3fe3c2_84e4@01\"},{\"floorId\":34371,\"itemId\":\"609131028741\",\"itemName\":\"Lenovo/联想 拯救者 R7000新款Y7000P i7游戏学生吃鸡<span class=H>笔记本</span>电脑\",\"subTitle\":\"\",\"userType\":0,\"isTmall\":false,\"sellerId\":77485266,\"reservePrice\":\"3699\",\"price\":\"3699\",\"promotionPrice\":\"3699\",\"priceAfterCoupon\":\"3669.00\",\"originalTkSpRates\":\"120\",\"zkSalesPrice\":\"0.00\",\"pic\":\"//img.alicdn.com/bao/uploaded/i2/77485266/O1CN010rhwWi1olsIH4YxnY_!!77485266.jpg\",\"couponAmount\":\"30\",\"couponSendCount\":1422,\"couponTotalCount\":10000,\"couponTag\":\"0\",\"couponEffectiveStartTime\":\"1604851200000\",\"couponEffectiveEndTime\":\"1607529599000\",\"couponStartFee\":\"1999\",\"monthSellCount\":\"133\",\"nick\":\"yangxin2471480\",\"realPostFee\":\"0.00\",\"auctionTags\":\"385 843 1163 1483 2059 2315 4491 4555 5190 5323 6407 7883 11083 11339 11467 11846 12427 19787 22155 22529 25282 36610 40897 48578 52290 66241 67521 72962 85249 100609 104514 120962 123905 131713 149057 172226 241218 368386 388354 426754 484098 490498 493250 544322 1337858 1359554 1362178 1362242 1441090 1443906 1445762 1585794 1589442 1624194 1648770 1665474 1691458 1691586 1702530 1762370 1769346 1770114 1770306 1770370 1783234\",\"ostime\":null,\"oetime\":null,\"jddPrice\":null,\"jddNum\":null,\"uvSumPreSale\":\"\",\"couponShareUrl\":\"//uland.taobao.com/coupon/edetail?e=Bggg9AJk6cYNfLV8niU3R40dlhWtfp96Ng4Gqf8CT4CVstoTk0j%2BUgxmGeRXdX4cmMHpNfYdHdAPkf%2BIwRD1B%2FfL1Y0L1DgsL58N9XQN5aZK8rZ3A2zQf6bHv%2FFimYHagdc1y2DcfQvjOWBzdlW0YCuS3B8pS3knGjRY2lt7WwE%2BInh8FV60jeIg09jheaZgonv6QcvcARY%3D&&app_pvid=59590_33.3.247.237_605_1605751530257&ptl=floorId:34371;app_pvid:59590_33.3.247.237_605_1605751530257;tpp_pvid:100_11.229.250.224_30180_6961605751530266088&union_lens=lensId%3AOPT%401605751530%402103f7ed_06cc_175de3fe3c2_84e5%4001\",\"url\":\"//s.click.taobao.com/t?e=m%3D2%26s%3D4fPK0r4MD25w4vFB6t2Z2ueEDrYVVa64Vb0yt%2F5tJWX%2BmkB8Ys0cBZdOwQLjTps3lc2MxE3r9TvbUz3vG%2FGJ%2FUDRWTB43ZUaHIa9RbrgZYzCwiYxkgA7Pl%2FZnNBeezSeGLik0PNFlILQxaeT1ztE3zVEXD92HzIIxgxdTc00KD8%3D&scm=null&pvid=100_11.229.250.224_30180_6961605751530266088&app_pvid=59590_33.3.247.237_605_1605751530257&ptl=floorId:34371;originalFloorId:34371;pvid:100_11.229.250.224_30180_6961605751530266088;app_pvid:59590_33.3.247.237_605_1605751530257&union_lens=lensId%3AOPT%401605751530%402103f7ed_06cc_175de3fe3c2_84e5%4001\",\"udf_temp_store\":{},\"lensId\":\"OPT@1605751530@2103f7ed_06cc_175de3fe3c2_84e5@01\"},{\"floorId\":34371,\"itemId\":\"575929291409\",\"itemName\":\"Lenovo/联想 拯救者 R720吃鸡轻薄15.6寸Y7000游戏本i7<span class=H>笔记本</span>电脑\",\"subTitle\":\"\",\"userType\":0,\"isTmall\":false,\"sellerId\":2208225413,\"reservePrice\":\"3400\",\"price\":\"3400\",\"promotionPrice\":\"3332\",\"priceAfterCoupon\":\"3332.00\",\"originalTkSpRates\":\"\",\"zkSalesPrice\":\"0.00\",\"pic\":\"//img.alicdn.com/bao/uploaded/i2/2208225413/O1CN01soYRFb1prCWBMfKVv_!!2208225413.jpg\",\"couponAmount\":null,\"couponSendCount\":0,\"couponTotalCount\":0,\"couponTag\":\"\",\"couponEffectiveStartTime\":\"\",\"couponEffectiveEndTime\":\"\",\"couponStartFee\":null,\"monthSellCount\":\"46\",\"nick\":\"什么时候熬出头啊\",\"realPostFee\":\"0.00\",\"auctionTags\":\"385 843 1163 1483 2059 2315 4491 4555 5190 5323 7883 11083 11339 11467 11649 11846 12427 19787 21442 22155 25282 28353 36610 40897 45314 48578 52290 59970 66241 67521 70465 72962 85249 87425 104514 118465 120962 123905 131713 143746 149057 172226 216513 218754 224642 241218 368450 368962 371650 379586 388354 426754 484098 544322 1255362 1288322 1337858 1362178 1362242 1441090 1445762 1481986 1520514 1602178 1624130 1624194 1648770 1665474 1691458 1691586 1702530 1769346 1770306 1770370\",\"ostime\":null,\"oetime\":null,\"jddPrice\":null,\"jddNum\":null,\"uvSumPreSale\":\"\",\"couponShareUrl\":null,\"url\":\"//s.click.taobao.com/t?e=m%3D2%26s%3DIipZvSyr0t5w4vFB6t2Z2ueEDrYVVa64qYbrUZilZ4UKwPl3T8wu7Hq9Oxuj2hhdeMWMkvOuGu1pav%2FfWtOoXJBd%2FLLdqLkGnXXh09ZhQLa6kw7MOHsoJMf7AdObD3K12UAvQFrOHPl7CK2DBga9hnQh88bXW0LnBs8MiWglDzYhhQs2DjqgEA%3D%3D&scm=null&pvid=100_11.229.250.224_30180_6961605751530266088&app_pvid=59590_33.3.247.237_605_1605751530257&ptl=floorId:34371;originalFloorId:34371;pvid:100_11.229.250.224_30180_6961605751530266088;app_pvid:59590_33.3.247.237_605_1605751530257&union_lens=lensId%3AOPT%401605751530%402103f7ed_06cc_175de3fe3c2_84e6%4001\",\"udf_temp_store\":{},\"lensId\":\"OPT@1605751530@2103f7ed_06cc_175de3fe3c2_84e6@01\"},{\"floorId\":34371,\"itemId\":\"590239622105\",\"itemName\":\"Lenovo/联想 拯救者 y7000-2019吃鸡P<span class=H>笔记本</span>电脑游戏本GTX1060\",\"subTitle\":\"\",\"userType\":0,\"isTmall\":false,\"sellerId\":849646876,\"reservePrice\":\"4599\",\"price\":\"4599\",\"promotionPrice\":\"4599\",\"priceAfterCoupon\":\"4499.00\",\"originalTkSpRates\":\"\",\"zkSalesPrice\":\"0.00\",\"pic\":\"//img.alicdn.com/bao/uploaded/i1/849646876/O1CN01s4eccm20fFz9le8lb_!!849646876-0-picasso.jpg\",\"couponAmount\":\"100\",\"couponSendCount\":6,\"couponTotalCount\":5000,\"couponTag\":\"0\",\"couponEffectiveStartTime\":\"1605628800000\",\"couponEffectiveEndTime\":\"1606319999000\",\"couponStartFee\":\"3000\",\"monthSellCount\":\"54\",\"nick\":\"美惠数码商城520\",\"realPostFee\":\"0.00\",\"auctionTags\":\"843 1159 1163 1483 2059 2315 3974 4491 4555 5190 5323 7883 11083 11339 11467 11846 12427 19787 21442 22155 22529 25282 36610 40897 44545 48578 52290 53185 59970 65281 67521 85249 86786 87425 104514 118465 120962 131713 143746 149057 164673 172226 216513 218754 224642 227393 227457 241218 368450 368962 379586 388354 426754 443650 484098 493250 508226 524418 544322 1288322 1303234 1337858 1362178 1441090 1445762 1481986 1520514 1585794 1589442 1602178 1624130 1624194 1648770 1691458 1691586 1702530 1762306 1762370 1769346 1770114 1770178 1770306 1770370 1770818 1778946 1779074 1779394\",\"ostime\":null,\"oetime\":null,\"jddPrice\":null,\"jddNum\":null,\"uvSumPreSale\":\"\",\"couponShareUrl\":\"//uland.taobao.com/coupon/edetail?e=qHdH8ivJL5cNfLV8niU3R40dlhWtfp96Ng4Gqf8CT4BnmB%2Fzds2ljaGjyFsszexORZqijVDdseAsHefUD3pJVFyyRsLQYwaHvB3FlNvlg%2FD%2BX6jzHDW6A9CRgSbn%2BRpvYbHOzHE50hCg3AG9nmiRHlbpAdgCob9F1AD5i%2BwT9EpGYwgswNx%2BiD5%2F6mJ0IOYhJTNWSR3CwiY%3D&&app_pvid=59590_33.3.247.237_605_1605751530257&ptl=floorId:34371;app_pvid:59590_33.3.247.237_605_1605751530257;tpp_pvid:100_11.229.250.224_30180_6961605751530266088&union_lens=lensId%3AOPT%401605751530%402103f7ed_06cc_175de3fe3c2_84e7%4001\",\"url\":\"//s.click.taobao.com/t?e=m%3D2%26s%3DFoOWnVbBUHZw4vFB6t2Z2ueEDrYVVa64qYbrUZilZ4UKwPl3T8wu7Hq9Oxuj2hhdeMWMkvOuGu1pav%2FfWtOoXJBd%2FLLdqLkGnXXh09ZhQLa6kw7MOHsoJLyeZ6z95UmkQRCW2rHs1Uff3fSXKojgdldTXxGzEe27kZtaZhmtMgrGDmntuH4VtA%3D%3D&scm=null&pvid=100_11.229.250.224_30180_6961605751530266088&app_pvid=59590_33.3.247.237_605_1605751530257&ptl=floorId:34371;originalFloorId:34371;pvid:100_11.229.250.224_30180_6961605751530266088;app_pvid:59590_33.3.247.237_605_1605751530257&union_lens=lensId%3AOPT%401605751530%402103f7ed_06cc_175de3fe3c2_84e7%4001\",\"udf_temp_store\":{},\"lensId\":\"OPT@1605751530@2103f7ed_06cc_175de3fe3c2_84e7@01\"},{\"floorId\":34371,\"itemId\":\"617942397395\",\"itemName\":\"联想拯救者R7000 2020款六核R5轻薄便携学生独显游戏本<span class=H>笔记本</span>电脑商务办公手提Y7000官方旗舰店15.6英寸P手提\",\"subTitle\":\"新品锐龙R5六核处理器+GTX1650独显 高色域\",\"userType\":1,\"isTmall\":true,\"sellerId\":2938863078,\"reservePrice\":\"5498\",\"price\":\"5498\",\"promotionPrice\":\"5498\",\"priceAfterCoupon\":\"5398.00\",\"originalTkSpRates\":\"\",\"zkSalesPrice\":\"0.00\",\"pic\":\"//img.alicdn.com/bao/uploaded/i2/2938863078/O1CN01HvBxM71Yblj7bDu2x_!!0-item_pic.jpg\",\"couponAmount\":\"100\",\"couponSendCount\":3808,\"couponTotalCount\":100000,\"couponTag\":\"41196001\",\"couponEffectiveStartTime\":\"1604851200000\",\"couponEffectiveEndTime\":\"1609430399000\",\"couponStartFee\":\"2020\",\"monthSellCount\":\"113\",\"nick\":\"联想冉创专卖店\",\"realPostFee\":\"10.00\",\"auctionTags\":\"385 843 1163 1478 1483 1923 2049 2059 2315 3974 4166 4491 4555 5323 7879 7883 8263 11083 11339 11467 11846 12427 19787 21442 21762 22155 25282 28353 33217 37569 39809 40897 49218 64129 66241 67521 70402 70465 84801 95105 101762 112001 115329 123905 131713 143746 144385 161793 161921 172226 188609 188673 192769 200002 200321 214273 217985 218049 218177 218241 249858 257666 257794 257922 257986 281666 288962 299394 348546 363650 363714 363778 363842 363906 363970 364034 364610 388354 427458 490498 493250 531906 544322 1322626 1337858 1443906 1481986 1499202 1520514 1602178 1624130 1645570 1648770 1651586 1657986 1664962 1665026 1691586 1702530 1769346 1779714\",\"ostime\":null,\"oetime\":null,\"jddPrice\":null,\"jddNum\":null,\"uvSumPreSale\":\"\",\"couponShareUrl\":\"//uland.taobao.com/coupon/edetail?e=v5VEx3nLpDYNfLV8niU3R40dlhWtfp96Ng4Gqf8CT4BnmB%2Fzds2ljfTktxfbe5vN7h1yo4rohZksHefUD3pJVFyyRsLQYwaHvB3FlNvlg%2FD%2BX6jzHDW6A9CRgSbn%2BRpvq1NFYfOb8oPJCSp8Yg0G2z%2FuNGLqWU7nYJN9gACUxckifcaHclw2r81rh%2B4QgJspTA0FRtOwCuw%3D&&app_pvid=59590_33.3.247.237_605_1605751530257&ptl=floorId:34371;app_pvid:59590_33.3.247.237_605_1605751530257;tpp_pvid:100_11.229.250.224_30180_6961605751530266088&union_lens=lensId%3AOPT%401605751530%402103f7ed_06cc_175de3fe3c2_84e8%4001\",\"url\":\"//s.click.taobao.com/t?e=m%3D2%26s%3DC%2B80LpVIrc9w4vFB6t2Z2ueEDrYVVa64RZKDdhY4Y8EKwPl3T8wu7Hq9Oxuj2hhdeMWMkvOuGu1pav%2FfWtOoXJBd%2FLLdqLkGnXXh09ZhQLa6kw7MOHsoJHNkb2rSJPZHb8lHRJtjEhZ7CK2DBga9hsVyHEtht5%2Bwt1RaEZWqhZAhhQs2DjqgEA%3D%3D&scm=null&pvid=100_11.229.250.224_30180_6961605751530266088&app_pvid=59590_33.3.247.237_605_1605751530257&ptl=floorId:34371;originalFloorId:34371;pvid:100_11.229.250.224_30180_6961605751530266088;app_pvid:59590_33.3.247.237_605_1605751530257&union_lens=lensId%3AOPT%401605751530%402103f7ed_06cc_175de3fe3c2_84e8%4001\",\"udf_temp_store\":{},\"lensId\":\"OPT@1605751530@2103f7ed_06cc_175de3fe3c2_84e8@01\"},{\"floorId\":34371,\"itemId\":\"631872275109\",\"itemName\":\"【2021新品】联想小新Air15<span class=H>笔记本</span>电脑轻薄便携学生11代酷睿i5-1135G7办公MX450游戏本官方旗舰店正品非AIR14\",\"subTitle\":\"11代酷睿i5  全新MX450游戏级独显 2021款\",\"userType\":1,\"isTmall\":true,\"sellerId\":1647052829,\"reservePrice\":\"5499\",\"price\":\"5499\",\"promotionPrice\":\"5499\",\"priceAfterCoupon\":\"5399.00\",\"originalTkSpRates\":\"50\",\"zkSalesPrice\":\"0.00\",\"pic\":\"//img.alicdn.com/bao/uploaded/i4/1647052829/O1CN0107gYR11Wlj6YT1Quz_!!0-item_pic.jpg\",\"couponAmount\":\"100\",\"couponSendCount\":688,\"couponTotalCount\":5000,\"couponTag\":\"0\",\"couponEffectiveStartTime\":\"1605456000000\",\"couponEffectiveEndTime\":\"1606147199000\",\"couponStartFee\":\"2021\",\"monthSellCount\":\"117\",\"nick\":\"联想率秀图新专卖店\",\"realPostFee\":\"0.00\",\"auctionTags\":\"385 843 1163 1478 1483 1923 2049 2059 2315 3974 4166 4491 4555 5323 7879 7883 11083 11339 11467 12427 15489 18945 19787 20481 21442 21697 21762 22155 22273 25282 28353 30337 30401 30849 30977 33217 35713 37569 39809 40897 49218 66241 67521 70402 70465 84801 101762 101889 107842 115329 120577 123905 131713 137281 143746 145793 161921 172226 188609 188801 192769 194306 200002 200321 214273 217985 218369 249858 273282 281602 281666 288962 299394 346114 388354 427458 432834 484098 531906 1322626 1337858 1615810 1665026 1691586 1702530 1769346 1772034\",\"ostime\":null,\"oetime\":null,\"jddPrice\":null,\"jddNum\":null,\"uvSumPreSale\":\"\",\"couponShareUrl\":\"//uland.taobao.com/coupon/edetail?e=YGUitbe6SY4NfLV8niU3R40dlhWtfp96Ng4Gqf8CT4D65uCEHJNhsQfDgf6ZzmqKmMHpNfYdHdAPkf%2BIwRD1B%2FfL1Y0L1DgsL58N9XQN5aZK8rZ3A2zQf4l%2BFkIjiPH%2FT9%2BeU01gLjVkX3pZSuvr3MF1qICEfgr3gwtP3f%2FtWchIH07HK3v5wM1rh%2B4QgJspTA0FRtOwCuw%3D&&app_pvid=59590_33.3.247.237_605_1605751530257&ptl=floorId:34371;app_pvid:59590_33.3.247.237_605_1605751530257;tpp_pvid:100_11.229.250.224_30180_6961605751530266088&union_lens=lensId%3AOPT%401605751530%402103f7ed_06cc_175de3fe3c2_84e9%4001\",\"url\":\"//s.click.taobao.com/t?e=m%3D2%26s%3DizbGppoJ6eVw4vFB6t2Z2ueEDrYVVa64RZKDdhY4Y8EKwPl3T8wu7Hq9Oxuj2hhdeMWMkvOuGu1pav%2FfWtOoXJBd%2FLLdqLkGnXXh09ZhQLa6kw7MOHsoJEVe05LGC1dRUuIQfQwkCMFB8wLS7vnByT5GdjKGdKqTL33lFJev%2B6Q%3D&scm=null&pvid=100_11.229.250.224_30180_6961605751530266088&app_pvid=59590_33.3.247.237_605_1605751530257&ptl=floorId:34371;originalFloorId:34371;pvid:100_11.229.250.224_30180_6961605751530266088;app_pvid:59590_33.3.247.237_605_1605751530257&union_lens=lensId%3AOPT%401605751530%402103f7ed_06cc_175de3fe3c2_84e9%4001\",\"udf_temp_store\":{},\"lensId\":\"OPT@1605751530@2103f7ed_06cc_175de3fe3c2_84e9@01\"},{\"floorId\":34371,\"itemId\":\"617950681021\",\"itemName\":\"Lenovo/联想拯救者Y7000 /R7000十代英特尔酷睿i7学生轻薄便携游戏本<span class=H>笔记本</span>电脑15.6英寸i5官方旗舰店商务本\",\"subTitle\":\"新款十代酷睿i7六核+GTX1650独显4G+高色域\",\"userType\":1,\"isTmall\":true,\"sellerId\":2938863078,\"reservePrice\":\"5498\",\"price\":\"5498\",\"promotionPrice\":\"5498\",\"priceAfterCoupon\":\"5398.00\",\"originalTkSpRates\":\"\",\"zkSalesPrice\":\"0.00\",\"pic\":\"//img.alicdn.com/bao/uploaded/i1/2938863078/O1CN01zUUyVM1YbljBcWPLs_!!0-item_pic.jpg\",\"couponAmount\":\"100\",\"couponSendCount\":3808,\"couponTotalCount\":100000,\"couponTag\":\"41196001\",\"couponEffectiveStartTime\":\"1604851200000\",\"couponEffectiveEndTime\":\"1609430399000\",\"couponStartFee\":\"2020\",\"monthSellCount\":\"1114\",\"nick\":\"联想冉创专卖店\",\"realPostFee\":\"10.00\",\"auctionTags\":\"385 843 1163 1478 1483 1923 2049 2059 2315 3974 4166 4491 4555 5323 7879 7883 8263 11083 11339 11467 11846 12427 19787 21442 21762 22155 25282 28353 33217 37569 39809 40897 49218 64129 66241 67521 70402 70465 84801 95105 101762 112001 115329 123905 131713 143746 144385 161793 161921 172226 188609 188673 192769 200002 200321 214273 217985 218049 218177 218241 241218 249858 257666 257730 257794 257858 257922 257986 281666 288962 292098 299394 348546 363650 363714 363778 363842 363906 363970 364034 364610 388354 427458 490498 493250 531906 544322 1322626 1337858 1429634 1443906 1481986 1499202 1520514 1602178 1624130 1645570 1648770 1657986 1664962 1665026 1691586 1702530 1769346 1772034 1779714\",\"ostime\":null,\"oetime\":null,\"jddPrice\":null,\"jddNum\":null,\"uvSumPreSale\":\"\",\"couponShareUrl\":\"//uland.taobao.com/coupon/edetail?e=JmUuPgdixroNfLV8niU3R40dlhWtfp96Ng4Gqf8CT4BnmB%2Fzds2ljRri2atqRQUpxjDXeY9xJEAsHefUD3pJVFyyRsLQYwaHvB3FlNvlg%2FD%2BX6jzHDW6A9CRgSbn%2BRpvVdBo0yL7uF4HK5r%2F7lKnjT%2FuNGLqWU7nYJN9gACUxckifcaHclw2r81rh%2B4QgJspTA0FRtOwCuw%3D&&app_pvid=59590_33.3.247.237_605_1605751530257&ptl=floorId:34371;app_pvid:59590_33.3.247.237_605_1605751530257;tpp_pvid:100_11.229.250.224_30180_6961605751530266088&union_lens=lensId%3AOPT%401605751530%402103f7ed_06cc_175de3fe3c2_84ea%4001\",\"url\":\"//s.click.taobao.com/t?e=m%3D2%26s%3DHOSpvfI567dw4vFB6t2Z2ueEDrYVVa64RZKDdhY4Y8EKwPl3T8wu7Hq9Oxuj2hhdeMWMkvOuGu1pav%2FfWtOoXJBd%2FLLdqLkGnXXh09ZhQLa6kw7MOHsoJHNkb2rSJPZHb8lHRJtjEhZ7CK2DBga9huA3O8Tamw97E2lh2dSxTo4hhQs2DjqgEA%3D%3D&scm=null&pvid=100_11.229.250.224_30180_6961605751530266088&app_pvid=59590_33.3.247.237_605_1605751530257&ptl=floorId:34371;originalFloorId:34371;pvid:100_11.229.250.224_30180_6961605751530266088;app_pvid:59590_33.3.247.237_605_1605751530257&union_lens=lensId%3AOPT%401605751530%402103f7ed_06cc_175de3fe3c2_84ea%4001\",\"udf_temp_store\":{},\"lensId\":\"OPT@1605751530@2103f7ed_06cc_175de3fe3c2_84ea@01\"},{\"floorId\":34371,\"itemId\":\"616025073107\",\"itemName\":\"【2021新品】联想小新Pro13 Pro14英特尔酷睿i7 i5轻薄便携商务<span class=H>笔记本</span>电脑MX350独显13.3英寸11代YOGA Pro13s\",\"subTitle\":\"MX350新独显 高色域2.5K全面屏 长续航\",\"userType\":1,\"isTmall\":true,\"sellerId\":1796610007,\"reservePrice\":\"5299\",\"price\":\"5299\",\"promotionPrice\":\"5299\",\"priceAfterCoupon\":\"5199.00\",\"originalTkSpRates\":\"\",\"zkSalesPrice\":\"0.00\",\"pic\":\"//img.alicdn.com/bao/uploaded/i3/1796610007/O1CN01AhmPmc1BvFPYIQKfD_!!0-item_pic.jpg\",\"couponAmount\":\"100\",\"couponSendCount\":44495,\"couponTotalCount\":60000,\"couponTag\":\"0\",\"couponEffectiveStartTime\":\"1603641600000\",\"couponEffectiveEndTime\":\"1606751999000\",\"couponStartFee\":\"3000\",\"monthSellCount\":\"1232\",\"nick\":\"联想联保专卖店\",\"realPostFee\":\"0.00\",\"auctionTags\":\"385 843 1163 1478 1483 1923 2049 2059 2315 3974 4166 4491 4555 5323 7046 7431 7879 7883 8263 11083 11339 11467 11846 12427 15489 19787 21121 21442 21762 22155 25282 28353 30337 30401 30849 30977 31489 33217 34433 35713 36097 36161 37569 39233 39553 39809 40897 49218 64129 66241 67521 70402 70465 73793 84801 101761 101762 112001 115329 120577 123905 131713 137281 143746 161793 161921 172226 188609 188673 192769 200321 202050 214273 217985 218049 218177 218369 241218 249858 249986 257666 257730 257794 257858 257922 257986 281666 292098 299394 299458 348546 363650 363714 363778 363842 363906 363970 364610 427458 490498 493250 519106 531906 544322 1322626 1337858 1443906 1473090 1499202 1550466 1615810 1645570 1648770 1657986 1664962 1665026 1691586 1702530 1769346 1779714\",\"ostime\":null,\"oetime\":null,\"jddPrice\":null,\"jddNum\":null,\"uvSumPreSale\":\"\",\"couponShareUrl\":\"//uland.taobao.com/coupon/edetail?e=9KGWDcbdDXENfLV8niU3R40dlhWtfp96Ng4Gqf8CT4CK2U%2FXDn5rM8JY9wPL5clbmMHpNfYdHdAPkf%2BIwRD1B%2FfL1Y0L1DgsL58N9XQN5aZK8rZ3A2zQf7pK%2BiB0fEdkTSNTCspnlKdnHfq%2BU5W9QTCOpoIR%2FGr2gwtP3f%2FtWchIH07HK3v5wM1rh%2B4QgJspTA0FRtOwCuw%3D&&app_pvid=59590_33.3.247.237_605_1605751530257&ptl=floorId:34371;app_pvid:59590_33.3.247.237_605_1605751530257;tpp_pvid:100_11.229.250.224_30180_6961605751530266088&union_lens=lensId%3AOPT%401605751530%402103f7ed_06cc_175de3fe3c2_84eb%4001\",\"url\":\"//s.click.taobao.com/t?e=m%3D2%26s%3DG0VgassttIJw4vFB6t2Z2ueEDrYVVa64RZKDdhY4Y8EKwPl3T8wu7Hq9Oxuj2hhdeMWMkvOuGu1pav%2FfWtOoXJBd%2FLLdqLkGnXXh09ZhQLa6kw7MOHsoJOjEaOjMQHhzefep%2Ftf3hBIVmS3Mj%2Bi8ytd8%2BLFImQM8DJbuZDCrHt4%3D&scm=null&pvid=100_11.229.250.224_30180_6961605751530266088&app_pvid=59590_33.3.247.237_605_1605751530257&ptl=floorId:34371;originalFloorId:34371;pvid:100_11.229.250.224_30180_6961605751530266088;app_pvid:59590_33.3.247.237_605_1605751530257&union_lens=lensId%3AOPT%401605751530%402103f7ed_06cc_175de3fe3c2_84eb%4001\",\"udf_temp_store\":{},\"lensId\":\"OPT@1605751530@2103f7ed_06cc_175de3fe3c2_84eb@01\"},{\"floorId\":34371,\"itemId\":\"622484013540\",\"itemName\":\"联想ideapad14S 2020<span class=H>笔记本</span>电脑十代i3-10110U办公用商务游戏本轻薄学生女生款超薄手提官方旗舰店非小新AIR\",\"subTitle\":\"十代酷睿i3 高分屏 2020新款\",\"userType\":1,\"isTmall\":true,\"sellerId\":1647052829,\"reservePrice\":\"2899\",\"price\":\"2899\",\"promotionPrice\":\"2899\",\"priceAfterCoupon\":\"2799.00\",\"originalTkSpRates\":\"50\",\"zkSalesPrice\":\"0.00\",\"pic\":\"//img.alicdn.com/bao/uploaded/i4/1647052829/O1CN01NYPt2Y1Wlj6klhyj5_!!0-item_pic.jpg\",\"couponAmount\":\"100\",\"couponSendCount\":688,\"couponTotalCount\":5000,\"couponTag\":\"0\",\"couponEffectiveStartTime\":\"1605456000000\",\"couponEffectiveEndTime\":\"1606147199000\",\"couponStartFee\":\"2021\",\"monthSellCount\":\"175\",\"nick\":\"联想率秀图新专卖店\",\"realPostFee\":\"0.00\",\"auctionTags\":\"385 843 1163 1478 1483 1923 2049 2059 2315 3974 4166 4491 4555 5323 7879 7883 11083 11339 11467 11846 12427 15489 18945 19787 20481 21442 21697 21762 22155 22273 25282 28353 30337 30401 30849 30977 33217 35713 37569 39809 40897 49218 66241 67521 70402 70465 84801 101762 101889 107842 115329 120577 123905 131713 137281 143746 145793 161921 172226 188609 188801 192769 200321 214273 217985 218369 241218 249858 257794 257986 281666 299394 363906 363970 364610 426754 427458 484098 490498 493250 544322 1322626 1337858 1362178 1362242 1441090 1443906 1499202 1615810 1645570 1648770 1664962 1665026 1691458 1691586 1702530 1769346\",\"ostime\":null,\"oetime\":null,\"jddPrice\":null,\"jddNum\":null,\"uvSumPreSale\":\"\",\"couponShareUrl\":\"//uland.taobao.com/coupon/edetail?e=RQWIj7FYv1QNfLV8niU3R40dlhWtfp96Ng4Gqf8CT4CMogbL095mDR5rsjuyUcmVmMHpNfYdHdAPkf%2BIwRD1B%2FfL1Y0L1DgsL58N9XQN5aZK8rZ3A2zQf2zWclIq8Ox5%2BAeC25xfNePtTpjASXdTh8F1qICEfgr3gwtP3f%2FtWchIH07HK3v5wM1rh%2B4QgJspTA0FRtOwCuw%3D&&app_pvid=59590_33.3.247.237_605_1605751530257&ptl=floorId:34371;app_pvid:59590_33.3.247.237_605_1605751530257;tpp_pvid:100_11.229.250.224_30180_6961605751530266088&union_lens=lensId%3AOPT%401605751530%402103f7ed_06cc_175de3fe3c2_84ec%4001\",\"url\":\"//s.click.taobao.com/t?e=m%3D2%26s%3DL%2FeqS9I%2BFcpw4vFB6t2Z2ueEDrYVVa64RZKDdhY4Y8EKwPl3T8wu7Hq9Oxuj2hhdeMWMkvOuGu1pav%2FfWtOoXJBd%2FLLdqLkGnXXh09ZhQLa6kw7MOHsoJEVe05LGC1dRUuIQfQwkCMHeX4j1tG4rxwovvZyO%2FeivUSwYGlubnWs%3D&scm=null&pvid=100_11.229.250.224_30180_6961605751530266088&app_pvid=59590_33.3.247.237_605_1605751530257&ptl=floorId:34371;originalFloorId:34371;pvid:100_11.229.250.224_30180_6961605751530266088;app_pvid:59590_33.3.247.237_605_1605751530257&union_lens=lensId%3AOPT%401605751530%402103f7ed_06cc_175de3fe3c2_84ec%4001\",\"udf_temp_store\":{},\"lensId\":\"OPT@1605751530@2103f7ed_06cc_175de3fe3c2_84ec@01\"},{\"floorId\":34371,\"itemId\":\"619415758960\",\"itemName\":\"Lenovo/联想 小新Air 14 轻薄办公学习独显游戏i7<span class=H>笔记本</span>电脑i5\",\"subTitle\":\"\",\"userType\":0,\"isTmall\":false,\"sellerId\":734602372,\"reservePrice\":\"2099\",\"price\":\"2099\",\"promotionPrice\":\"1699\",\"priceAfterCoupon\":\"1669.00\",\"originalTkSpRates\":\"\",\"zkSalesPrice\":\"0.00\",\"pic\":\"//img.alicdn.com/bao/uploaded/i4/734602372/O1CN01NEFPfz1TOQ58nwo8C_!!734602372.jpg\",\"couponAmount\":\"30\",\"couponSendCount\":295,\"couponTotalCount\":99999,\"couponTag\":\"0\",\"couponEffectiveStartTime\":\"1604851200000\",\"couponEffectiveEndTime\":\"1609430399000\",\"couponStartFee\":\"1699\",\"monthSellCount\":\"186\",\"nick\":\"accede33\",\"realPostFee\":\"0.00\",\"auctionTags\":\"385 843 1163 1483 2059 2315 4491 4555 5190 5323 7110 7883 11083 11339 11467 11846 12427 19787 21442 22155 25282 36610 40513 44545 48578 52290 59970 67521 104514 119106 120962 131713 143746 149057 216513 227457 241218 388354 426754 484098 544322 1359554 1362178 1362242 1441090 1445762 1481986 1520514 1585794 1585858 1589442 1602178 1624130 1624194 1648770 1691586 1702530 1745602 1762306 1762370 1768002 1769346 1770114 1770306 1770370 1770818\",\"ostime\":null,\"oetime\":null,\"jddPrice\":null,\"jddNum\":null,\"uvSumPreSale\":\"\",\"couponShareUrl\":\"//uland.taobao.com/coupon/edetail?e=6lw9UdIpgVcNfLV8niU3R40dlhWtfp96Ng4Gqf8CT4AwGFau2PPZozQ4SDuINDrlmMHpNfYdHdAPkf%2BIwRD1B%2FfL1Y0L1DgsL58N9XQN5aZK8rZ3A2zQf7pK%2BiB0fEdkWoKovikLu9UeXajU5cqFB6%2BAoGFiW9XnEf6uqGbvsBK8HzXEgh689T5%2F6mJ0IOYhJTNWSR3CwiY%3D&&app_pvid=59590_33.3.247.237_605_1605751530257&ptl=floorId:34371;app_pvid:59590_33.3.247.237_605_1605751530257;tpp_pvid:100_11.229.250.224_30180_6961605751530266088&union_lens=lensId%3AOPT%401605751530%402103f7ed_06cc_175de3fe3c2_84ed%4001\",\"url\":\"//s.click.taobao.com/t?e=m%3D2%26s%3DNfU5NuPtGyhw4vFB6t2Z2ueEDrYVVa64qYbrUZilZ4UKwPl3T8wu7Hq9Oxuj2hhdeMWMkvOuGu1pav%2FfWtOoXJBd%2FLLdqLkGnXXh09ZhQLa6kw7MOHsoJL4HbBq8MostTopXc8BX5hZCoXN3humQ9Mkb97OyDQP2xgxdTc00KD8%3D&scm=null&pvid=100_11.229.250.224_30180_6961605751530266088&app_pvid=59590_33.3.247.237_605_1605751530257&ptl=floorId:34371;originalFloorId:34371;pvid:100_11.229.250.224_30180_6961605751530266088;app_pvid:59590_33.3.247.237_605_1605751530257&union_lens=lensId%3AOPT%401605751530%402103f7ed_06cc_175de3fe3c2_84ed%4001\",\"udf_temp_store\":{},\"lensId\":\"OPT@1605751530@2103f7ed_06cc_175de3fe3c2_84ed@01\"},{\"floorId\":34371,\"itemId\":\"617381868990\",\"itemName\":\"Lenovo/联想 拯救者 R7000 2020款 15.6英寸游戏<span class=H>笔记本</span>电脑锐龙六核R5轻薄独显4G手提游戏本便携电脑Y7000\",\"subTitle\":\"热销爆款 锐龙六核R5 GTX1650独显 高色域\",\"userType\":1,\"isTmall\":true,\"sellerId\":459462135,\"reservePrice\":\"5599\",\"price\":\"5599\",\"promotionPrice\":\"5599\",\"priceAfterCoupon\":\"5499.00\",\"originalTkSpRates\":\"50\",\"zkSalesPrice\":\"0.00\",\"pic\":\"//img.alicdn.com/bao/uploaded/i2/459462135/O1CN01c0Fv3O1RdsEoLzAIt_!!0-item_pic.jpg\",\"couponAmount\":\"100\",\"couponSendCount\":48664,\"couponTotalCount\":100000,\"couponTag\":\"0\",\"couponEffectiveStartTime\":\"1604851200000\",\"couponEffectiveEndTime\":\"1607097599000\",\"couponStartFee\":\"888\",\"monthSellCount\":\"2142\",\"nick\":\"联想艾克兰斯专卖店\",\"realPostFee\":\"0.00\",\"auctionTags\":\"385 843 1163 1478 1483 1923 2049 2059 2315 3974 4166 4491 4555 5323 7495 7879 7883 8263 8583 11083 11339 11467 11846 12427 15489 19787 20481 21442 21697 21762 22155 22273 25282 28353 30337 30401 30849 30977 33217 34433 35713 36161 37569 39233 39809 40897 49218 64129 65281 67521 70402 70465 73793 100609 101761 101762 112193 115329 120962 123905 131713 143746 150465 155841 161729 161793 172226 188609 188865 189121 192769 200002 200321 202050 214401 217985 218049 218177 218241 241218 249858 257666 257730 257794 257858 257922 257986 281666 284802 288962 292098 299394 348546 363650 363714 363778 363842 363906 363970 364034 364610 388354 427458 490498 493250 519106 531906 544322 1321282 1322626 1337858 1429634 1443906 1473090 1481986 1499202 1508482 1520514 1602178 1615810 1624130 1640898 1645570 1648770 1657986 1664962 1665026 1691586 1702530 1769346 1779714\",\"ostime\":null,\"oetime\":null,\"jddPrice\":null,\"jddNum\":null,\"uvSumPreSale\":\"\",\"couponShareUrl\":\"//uland.taobao.com/coupon/edetail?e=b%2FEahiwaxagNfLV8niU3R40dlhWtfp96Ng4Gqf8CT4BKHTMsBTjKHJovswpQNgPLmMHpNfYdHdAPkf%2BIwRD1B%2FfL1Y0L1DgsL58N9XQN5aZK8rZ3A2zQf7pK%2BiB0fEdkU8c%2F%2By50bfoROz6pFklFvrBUc6JTpNe6Ef6uqGbvsBK8HzXEgh689Qk%2FwPX6CUItJTNWSR3CwiY%3D&&app_pvid=59590_33.3.247.237_605_1605751530257&ptl=floorId:34371;app_pvid:59590_33.3.247.237_605_1605751530257;tpp_pvid:100_11.229.250.224_30180_6961605751530266088&union_lens=lensId%3AOPT%401605751530%402103f7ed_06cc_175de3fe3c2_84ee%4001\",\"url\":\"//s.click.taobao.com/t?e=m%3D2%26s%3DYricEvZXJk9w4vFB6t2Z2ueEDrYVVa64RZKDdhY4Y8EKwPl3T8wu7Hq9Oxuj2hhdeMWMkvOuGu1pav%2FfWtOoXJBd%2FLLdqLkGnXXh09ZhQLa6kw7MOHsoJAHA4dOHRQPDDYwYP86ZYYpyKriuzJF3xbdPGquJ4%2FOAxgxdTc00KD8%3D&scm=null&pvid=100_11.229.250.224_30180_6961605751530266088&app_pvid=59590_33.3.247.237_605_1605751530257&ptl=floorId:34371;originalFloorId:34371;pvid:100_11.229.250.224_30180_6961605751530266088;app_pvid:59590_33.3.247.237_605_1605751530257&union_lens=lensId%3AOPT%401605751530%402103f7ed_06cc_175de3fe3c2_84ee%4001\",\"udf_temp_store\":{},\"lensId\":\"OPT@1605751530@2103f7ed_06cc_175de3fe3c2_84ee@01\"},{\"floorId\":34371,\"itemId\":\"629061676352\",\"itemName\":\"联想(Lenovo)拯救者R7000P 15.6英寸游戏<span class=H>笔记本</span>电脑 R7-4800H 游戏学生酷睿电竞屏<span class=H>笔记本</span>电脑\",\"subTitle\":\"\",\"userType\":1,\"isTmall\":true,\"sellerId\":2200675249400,\"reservePrice\":\"9828\",\"price\":\"9828\",\"promotionPrice\":\"9199\",\"priceAfterCoupon\":\"9199.00\",\"originalTkSpRates\":\"50 50 100 50\",\"zkSalesPrice\":\"0.00\",\"pic\":\"//img.alicdn.com/bao/uploaded/i3/2200675249400/O1CN01EdQrXZ2JJFehR4G9N_!!2200675249400.jpg\",\"couponAmount\":null,\"couponSendCount\":0,\"couponTotalCount\":0,\"couponTag\":\"\",\"couponEffectiveStartTime\":\"\",\"couponEffectiveEndTime\":\"\",\"couponStartFee\":null,\"monthSellCount\":\"235\",\"nick\":\"来酷智生活旗舰店\",\"realPostFee\":\"0.00\",\"auctionTags\":\"130 385 843 1163 1478 1483 1923 2049 2059 2178 2315 2562 3394 3974 4166 4491 4555 5323 7046 7883 11083 11339 11467 11846 12427 19787 21762 22155 25282 28802 33217 46914 49218 66241 67521 68289 70402 73409 101761 101762 103234 115329 120577 122306 123905 131713 137281 145793 161793 162177 172226 175746 188609 188673 192769 194306 199553 200321 203521 206337 214273 217985 218049 218177 218241 249858 257666 257730 257794 257858 257922 257986 273282 281602 281666 288962 292098 299394 346114 348546 363650 363714 363778 363842 363906 363970 364034 364610 427458 432834 520130 544322 1337858 1622018 1648770 1665026 1691586 1702530 1736834 1737154 1769346 1771778 1772034\",\"ostime\":null,\"oetime\":null,\"jddPrice\":null,\"jddNum\":null,\"uvSumPreSale\":\"\",\"couponShareUrl\":null,\"url\":\"//s.click.taobao.com/t?e=m%3D2%26s%3D4oQYjlVe58Vw4vFB6t2Z2ueEDrYVVa64RZKDdhY4Y8EKwPl3T8wu7Hq9Oxuj2hhdeMWMkvOuGu1pav%2FfWtOoXJBd%2FLLdqLkGnXXh09ZhQLa6kw7MOHsoJNLZnvo2YkXdD%2BVx03dF3AybhDFSouyvIuRpnm5SUV%2FKFIoUwi8ANLbGJe8N%2FwNpGw%3D%3D&scm=null&pvid=100_11.229.250.224_30180_6961605751530266088&app_pvid=59590_33.3.247.237_605_1605751530257&ptl=floorId:34371;originalFloorId:34371;pvid:100_11.229.250.224_30180_6961605751530266088;app_pvid:59590_33.3.247.237_605_1605751530257&union_lens=lensId%3AOPT%401605751530%402103f7ed_06cc_175de3fe3c2_84ef%4001\",\"udf_temp_store\":{},\"lensId\":\"OPT@1605751530@2103f7ed_06cc_175de3fe3c2_84ef@01\"},{\"floorId\":34371,\"itemId\":\"587206669150\",\"itemName\":\"【热卖现货】Lenovo/联想官方扬天V330旗轻薄便携学生14英寸女生轻薄手提办公本舰联想<span class=H>笔记本</span>电脑店游戏本\",\"subTitle\":\"高速固态+2G独立显卡+高清屏幕\",\"userType\":1,\"isTmall\":true,\"sellerId\":4083726440,\"reservePrice\":\"2299\",\"price\":\"2299\",\"promotionPrice\":\"2299\",\"priceAfterCoupon\":\"2199.00\",\"originalTkSpRates\":\"\",\"zkSalesPrice\":\"0.00\",\"pic\":\"//img.alicdn.com/bao/uploaded/i4/4083726440/O1CN01ydXoeV1xRZIhXbEsI_!!0-item_pic.jpg\",\"couponAmount\":\"100\",\"couponSendCount\":1000,\"couponTotalCount\":10000,\"couponTag\":\"0\",\"couponEffectiveStartTime\":\"1605369600000\",\"couponEffectiveEndTime\":\"1605887999000\",\"couponStartFee\":\"888\",\"monthSellCount\":\"1053\",\"nick\":\"联想联畅专卖店\",\"realPostFee\":\"0.00\",\"auctionTags\":\"385 843 1163 1478 1483 1923 2049 2059 2315 3974 4166 4491 4555 5323 7046 7883 8263 11083 11339 11467 11846 12427 19787 21442 21762 22155 25282 33217 39553 39809 40897 49218 65281 67521 70402 101762 103234 107842 112386 115329 120577 120962 123649 123905 131713 137281 143746 161793 161921 172226 188609 188673 192769 200002 200321 202050 203521 214273 217985 218049 218177 218369 233346 241218 249858 257666 257730 257794 257858 257922 257986 268418 281666 284802 292098 299394 299458 363650 363714 363778 363842 363906 363970 364034 364610 368386 368962 371074 371650 426754 427458 455554 484098 490498 493250 504066 508418 508674 519106 524418 531906 540546 544322 775554 1253314 1286402 1288066 1297602 1301314 1337858 1389250 1398722 1426690 1441090 1443906 1446722 1451906 1456258 1473090 1481986 1520514 1622018 1624130 1624706 1645570 1648770 1657986 1664962 1665026 1691586 1702530 1769346\",\"ostime\":null,\"oetime\":null,\"jddPrice\":null,\"jddNum\":null,\"uvSumPreSale\":\"\",\"couponShareUrl\":\"//uland.taobao.com/coupon/edetail?e=34LhXKvf4VcNfLV8niU3R40dlhWtfp96Ng4Gqf8CT4BsSBMwn%2BDvsnONr4MoCK6emMHpNfYdHdAPkf%2BIwRD1B%2FfL1Y0L1DgsL58N9XQN5aZK8rZ3A2zQf6DMcCTQGbCRA1dqpcKjgAX1up1aEECGKLcDDzdc%2Fa%2FggwtP3f%2FtWchIH07HK3v5wM1rh%2B4QgJspTA0FRtOwCuw%3D&&app_pvid=59590_33.3.247.237_605_1605751530257&ptl=floorId:34371;app_pvid:59590_33.3.247.237_605_1605751530257;tpp_pvid:100_11.229.250.224_30180_6961605751530266088&union_lens=lensId%3AOPT%401605751530%402103f7ed_06cc_175de3fe3c2_84f0%4001\",\"url\":\"//s.click.taobao.com/t?e=m%3D2%26s%3D0GbYY1JtlIJw4vFB6t2Z2ueEDrYVVa64RZKDdhY4Y8EKwPl3T8wu7Hq9Oxuj2hhdeMWMkvOuGu1pav%2FfWtOoXJBd%2FLLdqLkGnXXh09ZhQLa6kw7MOHsoJEkK9Dd%2FTqJyTd7HxQY%2BrUIioHQFumBdc1krTzvRrGVYUSwYGlubnWs%3D&scm=null&pvid=100_11.229.250.224_30180_6961605751530266088&app_pvid=59590_33.3.247.237_605_1605751530257&ptl=floorId:34371;originalFloorId:34371;pvid:100_11.229.250.224_30180_6961605751530266088;app_pvid:59590_33.3.247.237_605_1605751530257&union_lens=lensId%3AOPT%401605751530%402103f7ed_06cc_175de3fe3c2_84f0%4001\",\"udf_temp_store\":{},\"lensId\":\"OPT@1605751530@2103f7ed_06cc_175de3fe3c2_84f0@01\"},{\"floorId\":34371,\"itemId\":\"611770545953\",\"itemName\":\"【2020新品】联想小新Air14/Air15 锐龙轻薄<span class=H>笔记本</span>电脑 新一代R5六核R7便携全面屏金属壳长续航女手提11代i5\",\"subTitle\":\"[爆款] 锐龙R5升级版6核+16G高色域+金属本\",\"userType\":1,\"isTmall\":true,\"sellerId\":3375655191,\"reservePrice\":\"4599\",\"price\":\"4599\",\"promotionPrice\":\"4599\",\"priceAfterCoupon\":\"4499.00\",\"originalTkSpRates\":\"\",\"zkSalesPrice\":\"0.00\",\"pic\":\"//img.alicdn.com/bao/uploaded/i4/3375655191/O1CN01cDk7hp1oDWc4J5yur_!!0-item_pic.jpg\",\"couponAmount\":\"100\",\"couponSendCount\":17424,\"couponTotalCount\":100000,\"couponTag\":\"0\",\"couponEffectiveStartTime\":\"1603209600000\",\"couponEffectiveEndTime\":\"1606751999000\",\"couponStartFee\":\"2020\",\"monthSellCount\":\"271\",\"nick\":\"联想航电专卖店\",\"realPostFee\":\"0.00\",\"auctionTags\":\"385 843 1163 1478 1483 1923 2049 2059 2315 3974 4166 4491 4555 5323 5895 7879 7883 8263 8326 11083 11339 11467 11846 12427 19787 21442 21762 22155 25282 28353 33217 39809 40897 49218 64129 65281 66241 67521 70402 70465 92417 101761 101762 107842 115329 123905 131713 143746 161793 161921 172226 188609 188673 192769 200321 202050 214273 217985 218049 218369 241218 249858 249986 257666 257730 257794 257858 257922 257986 281666 284802 292098 299394 299458 363650 363714 363778 363842 363906 363970 364034 364610 368386 368962 369218 427458 490498 493250 519106 531906 544322 1286402 1322626 1337858 1398722 1426690 1443906 1473090 1481986 1499202 1520514 1550466 1615810 1624130 1648770 1657986 1664962 1665026 1691458 1691586 1702530 1769346\",\"ostime\":null,\"oetime\":null,\"jddPrice\":null,\"jddNum\":null,\"uvSumPreSale\":\"\",\"couponShareUrl\":\"//uland.taobao.com/coupon/edetail?e=RvbnkE6nPCoNfLV8niU3R40dlhWtfp96Ng4Gqf8CT4BnmB%2Fzds2ljXVSbhIWaG3A9tfMGLGOlxEsHefUD3pJVFyyRsLQYwaHvB3FlNvlg%2FD%2BX6jzHDW6A9CRgSbn%2BRpv6gTpcW9FTgS0hYF9TvGR6jmTXfsTdKk2hR3G%2BDlIaGcifcaHclw2r81rh%2B4QgJspTA0FRtOwCuw%3D&&app_pvid=59590_33.3.247.237_605_1605751530257&ptl=floorId:34371;app_pvid:59590_33.3.247.237_605_1605751530257;tpp_pvid:100_11.229.250.224_30180_6961605751530266088&union_lens=lensId%3AOPT%401605751530%402103f7ed_06cc_175de3fe3c2_84f1%4001\",\"url\":\"//s.click.taobao.com/t?e=m%3D2%26s%3DWMvpdup3tTZw4vFB6t2Z2ueEDrYVVa64RZKDdhY4Y8EKwPl3T8wu7Hq9Oxuj2hhdeMWMkvOuGu1pav%2FfWtOoXJBd%2FLLdqLkGnXXh09ZhQLa6kw7MOHsoJCB0ICmezwnJIcwBPuyGA%2Bp7CK2DBga9hnAcWJ36bX3iHQkR4IgcFughhQs2DjqgEA%3D%3D&scm=null&pvid=100_11.229.250.224_30180_6961605751530266088&app_pvid=59590_33.3.247.237_605_1605751530257&ptl=floorId:34371;originalFloorId:34371;pvid:100_11.229.250.224_30180_6961605751530266088;app_pvid:59590_33.3.247.237_605_1605751530257&union_lens=lensId%3AOPT%401605751530%402103f7ed_06cc_175de3fe3c2_84f1%4001\",\"udf_temp_store\":{},\"lensId\":\"OPT@1605751530@2103f7ed_06cc_175de3fe3c2_84f1@01\"},{\"floorId\":34371,\"itemId\":\"619661909589\",\"itemName\":\"联想小新air14/小新air15 2021款r7轻薄便携<span class=H>笔记本</span>电脑小新pro13\",\"subTitle\":\"\",\"userType\":0,\"isTmall\":false,\"sellerId\":21232975,\"reservePrice\":\"4879\",\"price\":\"4879\",\"promotionPrice\":\"4879\",\"priceAfterCoupon\":\"4829.00\",\"originalTkSpRates\":\"\",\"zkSalesPrice\":\"0.00\",\"pic\":\"//img.alicdn.com/bao/uploaded/i4/21232975/O1CN01F0ebv31XqavhYW5mG_!!21232975.jpg\",\"couponAmount\":\"50\",\"couponSendCount\":879,\"couponTotalCount\":3000,\"couponTag\":\"0\",\"couponEffectiveStartTime\":\"1603468800000\",\"couponEffectiveEndTime\":\"1608739199000\",\"couponStartFee\":\"3500\",\"monthSellCount\":\"140\",\"nick\":\"caiyongqiang\",\"realPostFee\":\"0.00\",\"auctionTags\":\"385 843 1159 1163 1483 2059 2315 3974 4491 4555 5190 5323 7883 11083 11339 11467 12427 19787 21442 22155 25282 36610 40897 48578 52290 59970 67521 85249 104514 120962 143746 241218 388354 426754 484098 1362178 1441090 1443906 1445762 1589442 1624194 1691458 1691586 1702530 1769346\",\"ostime\":null,\"oetime\":null,\"jddPrice\":null,\"jddNum\":null,\"uvSumPreSale\":\"\",\"couponShareUrl\":\"//uland.taobao.com/coupon/edetail?e=AwzEdjoyrr8NfLV8niU3R40dlhWtfp96Ng4Gqf8CT4CASyFfbXvVFGrZGaGWMVnumMHpNfYdHdAPkf%2BIwRD1B%2FfL1Y0L1DgsL58N9XQN5aZK8rZ3A2zQf7pK%2BiB0fEdkYNXQV7YdF2AB1R%2B0FH0adVFOIVJnH9wtQyEPzSpJOqU%2BInh8FV60jeIg09jheaZgonv6QcvcARY%3D&&app_pvid=59590_33.3.247.237_605_1605751530257&ptl=floorId:34371;app_pvid:59590_33.3.247.237_605_1605751530257;tpp_pvid:100_11.229.250.224_30180_6961605751530266088&union_lens=lensId%3AOPT%401605751530%402103f7ed_06cc_175de3fe3c2_84f2%4001\",\"url\":\"//s.click.taobao.com/t?e=m%3D2%26s%3Dzgdhz3tHGD5w4vFB6t2Z2ueEDrYVVa64qYbrUZilZ4UKwPl3T8wu7Hq9Oxuj2hhdeMWMkvOuGu1pav%2FfWtOoXJBd%2FLLdqLkGnXXh09ZhQLa6kw7MOHsoJB5q%2Fjvm6Od6RGMvs3bUtsLCLPO7pp3JHaIpGHlk4a5lcSpj5qSCmbA%3D&scm=null&pvid=100_11.229.250.224_30180_6961605751530266088&app_pvid=59590_33.3.247.237_605_1605751530257&ptl=floorId:34371;originalFloorId:34371;pvid:100_11.229.250.224_30180_6961605751530266088;app_pvid:59590_33.3.247.237_605_1605751530257&union_lens=lensId%3AOPT%401605751530%402103f7ed_06cc_175de3fe3c2_84f2%4001\",\"udf_temp_store\":{},\"lensId\":\"OPT@1605751530@2103f7ed_06cc_175de3fe3c2_84f2@01\"},{\"floorId\":34371,\"itemId\":\"622151770057\",\"itemName\":\"【新品】联想拯救者Y7000 2020 英特尔酷睿i7 15.6英寸游戏本<span class=H>笔记本</span>电脑GTX1650/GTX1650Ti 4G\",\"subTitle\":\"1T机械硬盘为定制版\",\"userType\":1,\"isTmall\":true,\"sellerId\":2200675249400,\"reservePrice\":\"8099\",\"price\":\"8099\",\"promotionPrice\":\"7299\",\"priceAfterCoupon\":\"7299.00\",\"originalTkSpRates\":\"50 50 100 50\",\"zkSalesPrice\":\"0.00\",\"pic\":\"//img.alicdn.com/bao/uploaded/i1/2200675249400/O1CN01uFjkP72JJFehR33HD_!!2200675249400.jpg\",\"couponAmount\":null,\"couponSendCount\":0,\"couponTotalCount\":0,\"couponTag\":\"\",\"couponEffectiveStartTime\":\"\",\"couponEffectiveEndTime\":\"\",\"couponStartFee\":null,\"monthSellCount\":\"114\",\"nick\":\"来酷智生活旗舰店\",\"realPostFee\":\"0.00\",\"auctionTags\":\"130 385 843 1163 1478 1483 1923 2049 2059 2315 3394 3974 4166 4491 4555 5323 7883 11083 11339 11467 11846 12427 19787 21762 22155 25282 28802 33217 46914 49218 66241 67521 68289 70402 73409 101761 101762 115329 120577 122306 123905 131713 137281 145793 161793 162177 172226 188609 188673 192769 199553 200321 203521 206337 214273 217985 218049 218177 218241 249858 257794 281666 288962 299394 363650 363714 363778 363842 363906 363970 364034 364610 427458 454722 490498 520130 544322 1337858 1443906 1499202 1622018 1625154 1645570 1648770 1657986 1664962 1665026 1691586 1702530 1712642 1768002 1769346 1771778 1771842 1772034 1779714\",\"ostime\":null,\"oetime\":null,\"jddPrice\":null,\"jddNum\":null,\"uvSumPreSale\":\"\",\"couponShareUrl\":null,\"url\":\"//s.click.taobao.com/t?e=m%3D2%26s%3DpfFzcxDeBVBw4vFB6t2Z2ueEDrYVVa64RZKDdhY4Y8EKwPl3T8wu7Hq9Oxuj2hhdeMWMkvOuGu1pav%2FfWtOoXJBd%2FLLdqLkGnXXh09ZhQLa6kw7MOHsoJNLZnvo2YkXdD%2BVx03dF3AybhDFSouyvIrwEPxLrcVEsIs%2BOJ%2FK0kpfGJe8N%2FwNpGw%3D%3D&scm=null&pvid=100_11.229.250.224_30180_6961605751530266088&app_pvid=59590_33.3.247.237_605_1605751530257&ptl=floorId:34371;originalFloorId:34371;pvid:100_11.229.250.224_30180_6961605751530266088;app_pvid:59590_33.3.247.237_605_1605751530257&union_lens=lensId%3AOPT%401605751530%402103f7ed_06cc_175de3fe3c2_84f3%4001\",\"udf_temp_store\":{},\"lensId\":\"OPT@1605751530@2103f7ed_06cc_175de3fe3c2_84f3@01\"},{\"floorId\":34371,\"itemId\":\"600389224749\",\"itemName\":\"Lenovo/联想 拯救者Y7000 吃鸡游戏本i5 Y7000P R720<span class=H>笔记本</span>电脑i7\",\"subTitle\":\"\",\"userType\":0,\"isTmall\":false,\"sellerId\":397984006,\"reservePrice\":\"3199\",\"price\":\"3199\",\"promotionPrice\":\"3199\",\"priceAfterCoupon\":\"2999.00\",\"originalTkSpRates\":\"\",\"zkSalesPrice\":\"0.00\",\"pic\":\"//img.alicdn.com/bao/uploaded/i2/397984006/O1CN01MCAawd1fSnHEqYRsa_!!0-item_pic.jpg\",\"couponAmount\":\"200\",\"couponSendCount\":948,\"couponTotalCount\":100000,\"couponTag\":\"0\",\"couponEffectiveStartTime\":\"1603900800000\",\"couponEffectiveEndTime\":\"1609171199000\",\"couponStartFee\":\"3000\",\"monthSellCount\":\"169\",\"nick\":\"xtzhuai365\",\"realPostFee\":\"0.00\",\"auctionTags\":\"385 843 1163 1483 2059 2315 4491 4555 5190 5323 7110 7883 11083 11339 11467 11846 12427 19787 21442 22155 25282 36610 40513 44545 48578 52290 59970 67521 85249 87425 104514 119106 120962 131713 143746 149057 172226 216513 218754 224642 227393 227457 241218 388354 426754 443650 484098 490498 493250 544322 1337858 1362178 1362242 1441090 1443906 1445762 1481986 1520514 1585794 1589442 1589634 1600194 1602178 1624130 1624194 1648770 1691458 1691586 1702530 1745602 1762370 1768002 1769346 1770114 1770306 1770370 1778946\",\"ostime\":null,\"oetime\":null,\"jddPrice\":null,\"jddNum\":null,\"uvSumPreSale\":\"\",\"couponShareUrl\":\"//uland.taobao.com/coupon/edetail?e=loNBB2tiAX4NfLV8niU3R40dlhWtfp96Ng4Gqf8CT4BnmB%2Fzds2ljTcPssivLgIxHoiylKqv4ncsHefUD3pJVFyyRsLQYwaHvB3FlNvlg%2FD%2BX6jzHDW6A9CRgSbn%2BRpvo0Tk92hSByXmgP0i1VjqY1jZnh6MeP%2BSF%2FRSyUlnodRGYwgswNx%2BiD5%2F6mJ0IOYhJTNWSR3CwiY%3D&&app_pvid=59590_33.3.247.237_605_1605751530257&ptl=floorId:34371;app_pvid:59590_33.3.247.237_605_1605751530257;tpp_pvid:100_11.229.250.224_30180_6961605751530266088&union_lens=lensId%3AOPT%401605751530%402103f7ed_06cc_175de3fe3c2_84f4%4001\",\"url\":\"//s.click.taobao.com/t?e=m%3D2%26s%3DqNB9QXUHaLFw4vFB6t2Z2ueEDrYVVa64qYbrUZilZ4UKwPl3T8wu7Hq9Oxuj2hhdeMWMkvOuGu1pav%2FfWtOoXJBd%2FLLdqLkGnXXh09ZhQLa6kw7MOHsoJFTUPypIU7pBDkQWIaLMwkbf3fSXKojgdqeEPilLTLXvf8U6Xgb8iTzGDmntuH4VtA%3D%3D&scm=null&pvid=100_11.229.250.224_30180_6961605751530266088&app_pvid=59590_33.3.247.237_605_1605751530257&ptl=floorId:34371;originalFloorId:34371;pvid:100_11.229.250.224_30180_6961605751530266088;app_pvid:59590_33.3.247.237_605_1605751530257&union_lens=lensId%3AOPT%401605751530%402103f7ed_06cc_175de3fe3c2_84f4%4001\",\"udf_temp_store\":{},\"lensId\":\"OPT@1605751530@2103f7ed_06cc_175de3fe3c2_84f4@01\"},{\"floorId\":34371,\"itemId\":\"613425324057\",\"itemName\":\"【2021款】Lenovo/联想小新15 英特尔酷睿i7独显MX450 轻薄便携<span class=H>笔记本</span>电脑15.6英寸游戏本官方旗舰店商务本\",\"subTitle\":\"2021新款  11代酷睿 MX450独显\",\"userType\":1,\"isTmall\":true,\"sellerId\":1796610007,\"reservePrice\":\"5499\",\"price\":\"5499\",\"promotionPrice\":\"5499\",\"priceAfterCoupon\":\"5399.00\",\"originalTkSpRates\":\"\",\"zkSalesPrice\":\"0.00\",\"pic\":\"//img.alicdn.com/bao/uploaded/i1/1796610007/O1CN01wAwPSv1BvFPOZ3wvB_!!0-item_pic.jpg\",\"couponAmount\":\"100\",\"couponSendCount\":44495,\"couponTotalCount\":60000,\"couponTag\":\"0\",\"couponEffectiveStartTime\":\"1603641600000\",\"couponEffectiveEndTime\":\"1606751999000\",\"couponStartFee\":\"3000\",\"monthSellCount\":\"102\",\"nick\":\"联想联保专卖店\",\"realPostFee\":\"0.00\",\"auctionTags\":\"385 843 1163 1478 1483 1923 2049 2059 2315 3974 4166 4491 4555 5323 7046 7431 7879 7883 8263 11083 11339 11467 11846 12427 15489 19787 21121 21442 21762 22155 25282 28353 30337 30401 30849 30977 31489 33217 34433 35713 36097 36161 37569 39233 39553 39809 40897 49218 64129 66241 67521 70402 70465 73793 84801 101761 101762 112001 115329 120577 123905 131713 137281 143746 161793 161921 172226 188609 188673 192769 200321 202050 214273 217985 218049 218177 218369 241218 249858 249986 257666 257730 257794 257858 257922 257986 281666 292098 299394 299458 363650 363714 363778 363842 363906 363970 364610 368386 368962 369218 427458 508674 519106 531906 544322 1322626 1337858 1443906 1473090 1481986 1499202 1520514 1615810 1624130 1648770 1664962 1665026 1691458 1691586 1702530 1769346 1779714\",\"ostime\":null,\"oetime\":null,\"jddPrice\":null,\"jddNum\":null,\"uvSumPreSale\":\"\",\"couponShareUrl\":\"//uland.taobao.com/coupon/edetail?e=TB74FnFkF7YNfLV8niU3R40dlhWtfp96Ng4Gqf8CT4B41aglR%2BymGVo9l%2BCZ7iXJmMHpNfYdHdAPkf%2BIwRD1B%2FfL1Y0L1DgsL58N9XQN5aZK8rZ3A2zQf7pK%2BiB0fEdkdy5p8sdpix35v3UmzAdmIjCOpoIR%2FGr2gwtP3f%2FtWchIH07HK3v5wM1rh%2B4QgJspTA0FRtOwCuw%3D&&app_pvid=59590_33.3.247.237_605_1605751530257&ptl=floorId:34371;app_pvid:59590_33.3.247.237_605_1605751530257;tpp_pvid:100_11.229.250.224_30180_6961605751530266088&union_lens=lensId%3AOPT%401605751530%402103f7ed_06cc_175de3fe3c2_84f5%4001\",\"url\":\"//s.click.taobao.com/t?e=m%3D2%26s%3DoxaAI23Sj6Rw4vFB6t2Z2ueEDrYVVa64RZKDdhY4Y8EKwPl3T8wu7Hq9Oxuj2hhdeMWMkvOuGu1pav%2FfWtOoXJBd%2FLLdqLkGnXXh09ZhQLa6kw7MOHsoJOjEaOjMQHhzefep%2Ftf3hBK4ALkSq0w4W0m59Yh10vjVDJbuZDCrHt4%3D&scm=null&pvid=100_11.229.250.224_30180_6961605751530266088&app_pvid=59590_33.3.247.237_605_1605751530257&ptl=floorId:34371;originalFloorId:34371;pvid:100_11.229.250.224_30180_6961605751530266088;app_pvid:59590_33.3.247.237_605_1605751530257&union_lens=lensId%3AOPT%401605751530%402103f7ed_06cc_175de3fe3c2_84f5%4001\",\"udf_temp_store\":{},\"lensId\":\"OPT@1605751530@2103f7ed_06cc_175de3fe3c2_84f5@01\"},{\"floorId\":34371,\"itemId\":\"604831373476\",\"itemName\":\"Lenovo/联想 拯救者Y7000P 2020游戏本144HZ电竞R7000P<span class=H>笔记本</span>电脑\",\"subTitle\":\"\",\"userType\":0,\"isTmall\":false,\"sellerId\":1639891418,\"reservePrice\":\"5899\",\"price\":\"5899\",\"promotionPrice\":\"5899\",\"priceAfterCoupon\":\"5889.00\",\"originalTkSpRates\":\"\",\"zkSalesPrice\":\"0.00\",\"pic\":\"//img.alicdn.com/bao/uploaded/i4/1639891418/O1CN01sHUFKJ1MLUE2ZBE65_!!1639891418.jpg\",\"couponAmount\":\"10\",\"couponSendCount\":482,\"couponTotalCount\":10000,\"couponTag\":\"0\",\"couponEffectiveStartTime\":\"1604592000000\",\"couponEffectiveEndTime\":\"1609689599000\",\"couponStartFee\":\"5000\",\"monthSellCount\":\"181\",\"nick\":\"yj15115944121\",\"realPostFee\":\"0.00\",\"auctionTags\":\"843 1163 1483 2059 2315 4491 4555 5190 5323 7883 11083 11339 11467 12427 19787 21442 22155 25282 36610 44545 48578 52290 59970 67521 85249 104514 120962 143746 149057 172226 218754 224642 227457 241218 368450 368962 388354 490498 493250 1288066 1337858 1443906 1445762 1585794 1589442 1589634 1602178 1624194 1691586 1702530 1762370 1769346 1770306 1772034 1779394\",\"ostime\":null,\"oetime\":null,\"jddPrice\":null,\"jddNum\":null,\"uvSumPreSale\":\"\",\"couponShareUrl\":\"//uland.taobao.com/coupon/edetail?e=Kodv5njrJTkNfLV8niU3R40dlhWtfp96Ng4Gqf8CT4BnmB%2Fzds2ljfWYHXr78kBw3WsCrZDSSL4sHefUD3pJVFyyRsLQYwaHvB3FlNvlg%2FD%2BX6jzHDW6A9CRgSbn%2BRpvj9C6Vn4Cq0FEpA0yZ90GQJpTEZMuPmYvvSK3wVIhLRAifcaHclw2r81rh%2B4QgJsp%2FzrmtpFY67E%3D&&app_pvid=59590_33.3.247.237_605_1605751530257&ptl=floorId:34371;app_pvid:59590_33.3.247.237_605_1605751530257;tpp_pvid:100_11.229.250.224_30180_6961605751530266088&union_lens=lensId%3AOPT%401605751530%402103f7ed_06cc_175de3fe3c2_84f6%4001\",\"url\":\"//s.click.taobao.com/t?e=m%3D2%26s%3DYvpBXiyE%2FVtw4vFB6t2Z2ueEDrYVVa64qYbrUZilZ4UKwPl3T8wu7Hq9Oxuj2hhdeMWMkvOuGu1pav%2FfWtOoXJBd%2FLLdqLkGnXXh09ZhQLa6kw7MOHsoJAo1QF9nUVh1jI4U7yvuuEp7CK2DBga9hpIDNXrVloougY35efM2PfghhQs2DjqgEA%3D%3D&scm=null&pvid=100_11.229.250.224_30180_6961605751530266088&app_pvid=59590_33.3.247.237_605_1605751530257&ptl=floorId:34371;originalFloorId:34371;pvid:100_11.229.250.224_30180_6961605751530266088;app_pvid:59590_33.3.247.237_605_1605751530257&union_lens=lensId%3AOPT%401605751530%402103f7ed_06cc_175de3fe3c2_84f6%4001\",\"udf_temp_store\":{},\"lensId\":\"OPT@1605751530@2103f7ed_06cc_175de3fe3c2_84f6@01\"},{\"floorId\":34371,\"itemId\":\"619957444356\",\"itemName\":\"Lenovo/联想 小新 Air14-2020<span class=H>笔记本</span>电脑轻薄学生办公i7独显游戏\",\"subTitle\":\"\",\"userType\":0,\"isTmall\":false,\"sellerId\":2208278051823,\"reservePrice\":\"2099\",\"price\":\"2099\",\"promotionPrice\":\"1699\",\"priceAfterCoupon\":\"1669.00\",\"originalTkSpRates\":\"\",\"zkSalesPrice\":\"0.00\",\"pic\":\"//img.alicdn.com/bao/uploaded/i3/2208278051823/O1CN01Vuxi6e1PKydPh6ukB_!!2208278051823.jpg\",\"couponAmount\":\"30\",\"couponSendCount\":2530,\"couponTotalCount\":99999,\"couponTag\":\"0\",\"couponEffectiveStartTime\":\"1603900800000\",\"couponEffectiveEndTime\":\"1606751999000\",\"couponStartFee\":\"1699\",\"monthSellCount\":\"634\",\"nick\":\"tb906955026\",\"realPostFee\":\"0.00\",\"auctionTags\":\"385 843 1163 1483 2059 2315 4491 4555 5190 5323 7883 11083 11339 11467 11846 12427 19787 21442 22155 25282 36610 44545 48578 52290 59970 67521 72962 86786 104514 119106 120962 131713 143746 216513 227457 241218 362178 368066 388354 426754 484098 490498 493250 544322 1362178 1362242 1441090 1443906 1445762 1589442 1589634 1602178 1624194 1648770 1665218 1691586 1702530 1745602 1762306 1762370 1768002 1769346 1770114 1770178 1770306 1770370 1770818\",\"ostime\":null,\"oetime\":null,\"jddPrice\":null,\"jddNum\":null,\"uvSumPreSale\":\"\",\"couponShareUrl\":\"//uland.taobao.com/coupon/edetail?e=3HUzcAcAy24NfLV8niU3R40dlhWtfp96Ng4Gqf8CT4BnmB%2Fzds2ljaeEFhCss1QbuHt91p4urAksHefUD3pJVFyyRsLQYwaHvB3FlNvlg%2FD%2BX6jzHDW6A9CRgSbn%2BRpvzvOVldDeQg03btoNlP8KYH4d3U8lTTRDB0Ey0Gxuq%2BmDC0%2Fd%2F%2B1ZyAzUv%2BYStry7WRP66uzeo7Y%3D&&app_pvid=59590_33.3.247.237_605_1605751530257&ptl=floorId:34371;app_pvid:59590_33.3.247.237_605_1605751530257;tpp_pvid:100_11.229.250.224_30180_6961605751530266088&union_lens=lensId%3AOPT%401605751530%402103f7ed_06cc_175de3fe3c3_84f7%4001\",\"url\":\"//s.click.taobao.com/t?e=m%3D2%26s%3DQ36tgWrYkChw4vFB6t2Z2ueEDrYVVa64qYbrUZilZ4UKwPl3T8wu7Hq9Oxuj2hhdeMWMkvOuGu1pav%2FfWtOoXJBd%2FLLdqLkGnXXh09ZhQLa6kw7MOHsoJMf7AdObD3K165zDJikwKOxETV2p2AIEg%2BpCi4B6Kb405Ptj4BU%2F7jw%2B5QowgvHJPA%3D%3D&scm=null&pvid=100_11.229.250.224_30180_6961605751530266088&app_pvid=59590_33.3.247.237_605_1605751530257&ptl=floorId:34371;originalFloorId:34371;pvid:100_11.229.250.224_30180_6961605751530266088;app_pvid:59590_33.3.247.237_605_1605751530257&union_lens=lensId%3AOPT%401605751530%402103f7ed_06cc_175de3fe3c3_84f7%4001\",\"udf_temp_store\":{},\"lensId\":\"OPT@1605751530@2103f7ed_06cc_175de3fe3c3_84f7@01\"},{\"floorId\":34371,\"itemId\":\"602470181205\",\"itemName\":\"Lenovo/联想 拯救者Y7000P-i7吃鸡游戏本R7000<span class=H>笔记本</span>电脑学生办公\",\"subTitle\":\"\",\"userType\":0,\"isTmall\":false,\"sellerId\":2187426682,\"reservePrice\":\"3499\",\"price\":\"3499\",\"promotionPrice\":\"3499\",\"priceAfterCoupon\":\"3449.00\",\"originalTkSpRates\":\"\",\"zkSalesPrice\":\"0.00\",\"pic\":\"//img.alicdn.com/bao/uploaded/i1/2187426682/O1CN01sZNpwn1zEP92ETbc4_!!2187426682-0-picasso.jpg\",\"couponAmount\":\"50\",\"couponSendCount\":244,\"couponTotalCount\":10000,\"couponTag\":\"28\",\"couponEffectiveStartTime\":\"1605110400000\",\"couponEffectiveEndTime\":\"1607702399000\",\"couponStartFee\":\"2000\",\"monthSellCount\":\"146\",\"nick\":\"韩小妞1995\",\"realPostFee\":\"0.00\",\"auctionTags\":\"385 843 1163 1483 2059 2315 4491 4555 5190 5323 7883 11083 11339 11467 11846 12427 19787 21442 22155 25282 36610 48578 52290 59970 66241 67521 85249 100609 104514 120962 131713 143746 145857 149057 172226 216513 218754 224642 241218 388354 426754 443650 481986 484098 508226 544322 1288322 1337858 1362178 1362242 1441090 1445762 1602178 1624194 1648770 1691458 1691586 1702530 1762306 1762370 1769346 1770114 1770178 1770306 1770370 1770818 1778946 1779074\",\"ostime\":null,\"oetime\":null,\"jddPrice\":null,\"jddNum\":null,\"uvSumPreSale\":\"\",\"couponShareUrl\":\"//uland.taobao.com/coupon/edetail?e=dhf6a1grZ64NfLV8niU3R40dlhWtfp96Ng4Gqf8CT4AHm2trztxDmi0aXXfAy0mImMHpNfYdHdAPkf%2BIwRD1B%2FfL1Y0L1DgsL58N9XQN5aZK8rZ3A2zQf6bHv%2FFimYHanjKPNOKb7pCj916SdC1aCzzetxtlvmcogwtP3f%2FtWchIH07HK3v5wM1rh%2B4QgJsp%2FzrmtpFY67E%3D&&app_pvid=59590_33.3.247.237_605_1605751530257&ptl=floorId:34371;app_pvid:59590_33.3.247.237_605_1605751530257;tpp_pvid:100_11.229.250.224_30180_6961605751530266088&union_lens=lensId%3AOPT%401605751530%402103f7ed_06cc_175de3fe3c3_84f8%4001\",\"url\":\"//s.click.taobao.com/t?e=m%3D2%26s%3D3VRvvY%2FDqCZw4vFB6t2Z2ueEDrYVVa64qYbrUZilZ4UKwPl3T8wu7Hq9Oxuj2hhdeMWMkvOuGu1pav%2FfWtOoXJBd%2FLLdqLkGnXXh09ZhQLa6kw7MOHsoJDQUP6UKuveANVl8NjfeJ3qmwJsl57oHTBwhWucoj0dMMzXmCitDxQQ%3D&scm=null&pvid=100_11.229.250.224_30180_6961605751530266088&app_pvid=59590_33.3.247.237_605_1605751530257&ptl=floorId:34371;originalFloorId:34371;pvid:100_11.229.250.224_30180_6961605751530266088;app_pvid:59590_33.3.247.237_605_1605751530257&union_lens=lensId%3AOPT%401605751530%402103f7ed_06cc_175de3fe3c3_84f8%4001\",\"udf_temp_store\":{},\"lensId\":\"OPT@1605751530@2103f7ed_06cc_175de3fe3c3_84f8@01\"},{\"floorId\":34371,\"itemId\":\"590488869427\",\"itemName\":\"【2021新品】Lenovo/联想小新Air14/Air15 十一代酷睿i5 14英寸轻薄独显商务办公学生手提锐龙游戏<span class=H>笔记本</span>电脑\",\"subTitle\":\"2021新品现货 MX450独显 电源指纹一键开机\",\"userType\":1,\"isTmall\":true,\"sellerId\":3375655191,\"reservePrice\":\"4699\",\"price\":\"4699\",\"promotionPrice\":\"4699\",\"priceAfterCoupon\":\"4599.00\",\"originalTkSpRates\":\"\",\"zkSalesPrice\":\"0.00\",\"pic\":\"//img.alicdn.com/bao/uploaded/i1/3375655191/O1CN01GmGQwP1oDWcAODKCt_!!0-item_pic.jpg\",\"couponAmount\":\"100\",\"couponSendCount\":17424,\"couponTotalCount\":100000,\"couponTag\":\"0\",\"couponEffectiveStartTime\":\"1603209600000\",\"couponEffectiveEndTime\":\"1606751999000\",\"couponStartFee\":\"2020\",\"monthSellCount\":\"60\",\"nick\":\"联想航电专卖店\",\"realPostFee\":\"0.00\",\"auctionTags\":\"385 843 1163 1478 1483 2049 2059 2315 3974 4166 4491 4555 5323 5895 7879 7883 8263 8326 11083 11339 11467 11846 12427 19787 21442 21762 22155 25282 28353 33217 39809 40897 49218 64129 65281 66241 67521 70402 70465 82306 92417 101761 101762 112386 115329 123905 131713 143746 161793 161921 172226 188609 188673 192769 200321 202050 214273 217985 218049 218369 241218 249858 257666 257858 281666 288962 299394 299458 317634 348546 363650 363714 363778 363842 363906 363970 364034 364610 368450 368962 371650 388354 427458 493250 519106 524418 531906 544322 775554 1259330 1286402 1322626 1337858 1443906 1473090 1481986 1520514 1602178 1615810 1624130 1648770 1664962 1691458 1691586 1702530 1769346\",\"ostime\":null,\"oetime\":null,\"jddPrice\":null,\"jddNum\":null,\"uvSumPreSale\":\"\",\"couponShareUrl\":\"//uland.taobao.com/coupon/edetail?e=DF6%2BM26%2BC1oNfLV8niU3R40dlhWtfp96Ng4Gqf8CT4BnmB%2Fzds2ljXBcgd8%2BC%2FXDmF0FoRRRrmYsHefUD3pJVFyyRsLQYwaHvB3FlNvlg%2FD%2BX6jzHDW6A9CRgSbn%2BRpvhnuYO7QOzCseGYnabhWCczmTXfsTdKk2hR3G%2BDlIaGcifcaHclw2r81rh%2B4QgJspTA0FRtOwCuw%3D&&app_pvid=59590_33.3.247.237_605_1605751530257&ptl=floorId:34371;app_pvid:59590_33.3.247.237_605_1605751530257;tpp_pvid:100_11.229.250.224_30180_6961605751530266088&union_lens=lensId%3AOPT%401605751530%402103f7ed_06cc_175de3fe3c3_84f9%4001\",\"url\":\"//s.click.taobao.com/t?e=m%3D2%26s%3DipzdHaZ0WqNw4vFB6t2Z2ueEDrYVVa64RZKDdhY4Y8EKwPl3T8wu7Hq9Oxuj2hhdeMWMkvOuGu1pav%2FfWtOoXJBd%2FLLdqLkGnXXh09ZhQLa6kw7MOHsoJCB0ICmezwnJIcwBPuyGA%2Bp7CK2DBga9hppxW4VFCZBWNzgWkw0TdcYhhQs2DjqgEA%3D%3D&scm=null&pvid=100_11.229.250.224_30180_6961605751530266088&app_pvid=59590_33.3.247.237_605_1605751530257&ptl=floorId:34371;originalFloorId:34371;pvid:100_11.229.250.224_30180_6961605751530266088;app_pvid:59590_33.3.247.237_605_1605751530257&union_lens=lensId%3AOPT%401605751530%402103f7ed_06cc_175de3fe3c3_84f9%4001\",\"udf_temp_store\":{},\"lensId\":\"OPT@1605751530@2103f7ed_06cc_175de3fe3c3_84f9@01\"},{\"floorId\":34371,\"itemId\":\"581480618172\",\"itemName\":\"Lenovo/联想 小新air14 锐龙<span class=H>笔记本</span>电脑商务轻薄便携 学生办公用\",\"subTitle\":\"\",\"userType\":0,\"isTmall\":false,\"sellerId\":77485266,\"reservePrice\":\"2499\",\"price\":\"2499\",\"promotionPrice\":\"2499\",\"priceAfterCoupon\":\"2469.00\",\"originalTkSpRates\":\"120\",\"zkSalesPrice\":\"0.00\",\"pic\":\"//img.alicdn.com/bao/uploaded/i1/77485266/O1CN01mY28PA1olsILDKYwF_!!77485266.jpg\",\"couponAmount\":\"30\",\"couponSendCount\":1422,\"couponTotalCount\":10000,\"couponTag\":\"0\",\"couponEffectiveStartTime\":\"1604851200000\",\"couponEffectiveEndTime\":\"1607529599000\",\"couponStartFee\":\"1999\",\"monthSellCount\":\"447\",\"nick\":\"yangxin2471480\",\"realPostFee\":\"0.00\",\"auctionTags\":\"385 843 1163 1483 2059 2315 4491 4555 5190 5323 6407 7883 11083 11339 11467 11846 12427 19787 22155 22529 25282 36610 40897 45314 48578 52290 59970 66241 67521 85249 100609 104514 120962 123905 131713 149057 172226 218754 224642 241218 371650 379586 388354 426754 481986 484098 490498 493250 508226 544322 1255362 1288322 1337858 1359554 1362178 1362242 1441090 1443906 1445762 1481986 1520514 1585794 1589442 1589634 1602178 1624130 1624194 1648770 1691458 1691586 1702530 1769346\",\"ostime\":null,\"oetime\":null,\"jddPrice\":null,\"jddNum\":null,\"uvSumPreSale\":\"\",\"couponShareUrl\":\"//uland.taobao.com/coupon/edetail?e=8s6UvTL8WXYNfLV8niU3R40dlhWtfp96Ng4Gqf8CT4DMzwdtDugQ6KRNodhO%2FmNBmMHpNfYdHdAPkf%2BIwRD1B%2FfL1Y0L1DgsL58N9XQN5aZK8rZ3A2zQf6DMcCTQGbCRJKJqx1Yo8zN5MsXC%2BHZ25CuS3B8pS3knGjRY2lt7WwE%2BInh8FV60jeIg09jheaZgonv6QcvcARY%3D&&app_pvid=59590_33.3.247.237_605_1605751530257&ptl=floorId:34371;app_pvid:59590_33.3.247.237_605_1605751530257;tpp_pvid:100_11.229.250.224_30180_6961605751530266088&union_lens=lensId%3AOPT%401605751530%402103f7ed_06cc_175de3fe3c3_84fa%4001\",\"url\":\"//s.click.taobao.com/t?e=m%3D2%26s%3D3W7q5kT0MmNw4vFB6t2Z2ueEDrYVVa64Vb0yt%2F5tJWX%2BmkB8Ys0cBZdOwQLjTps3lc2MxE3r9TvbUz3vG%2FGJ%2FUDRWTB43ZUaHIa9RbrgZYzCwiYxkgA7Pl%2FZnNBeezSeGLik0PNFlIIRcI750gI64YOafML%2FH%2Bi2xgxdTc00KD8%3D&scm=null&pvid=100_11.229.250.224_30180_6961605751530266088&app_pvid=59590_33.3.247.237_605_1605751530257&ptl=floorId:34371;originalFloorId:34371;pvid:100_11.229.250.224_30180_6961605751530266088;app_pvid:59590_33.3.247.237_605_1605751530257&union_lens=lensId%3AOPT%401605751530%402103f7ed_06cc_175de3fe3c3_84fa%4001\",\"udf_temp_store\":{},\"lensId\":\"OPT@1605751530@2103f7ed_06cc_175de3fe3c3_84fa@01\"},{\"floorId\":34371,\"itemId\":\"617703629940\",\"itemName\":\"Lenovo/联想拯救者R7000 2020款15.6英寸高色域游戏<span class=H>笔记本</span>电脑P锐龙八核轻薄Y7000十代酷睿4G独显官方旗舰店\",\"subTitle\":\"2020款拯救游戏本GTX1650独显4G高色域电竞\",\"userType\":1,\"isTmall\":true,\"sellerId\":3953810689,\"reservePrice\":\"5699\",\"price\":\"5699\",\"promotionPrice\":\"5699\",\"priceAfterCoupon\":\"5599.00\",\"originalTkSpRates\":\"\",\"zkSalesPrice\":\"0.00\",\"pic\":\"//img.alicdn.com/bao/uploaded/i4/3953810689/O1CN01UfAEpr1GxbWNfxne5_!!0-item_pic.jpg\",\"couponAmount\":\"100\",\"couponSendCount\":2100,\"couponTotalCount\":10000,\"couponTag\":\"0\",\"couponEffectiveStartTime\":\"1605196800000\",\"couponEffectiveEndTime\":\"1608220799000\",\"couponStartFee\":\"3000\",\"monthSellCount\":\"255\",\"nick\":\"联想蓝之新专卖店\",\"realPostFee\":\"0.00\",\"auctionTags\":\"385 843 1163 1478 1483 2049 2059 2315 3974 4166 4491 4555 5323 7883 8263 11083 11339 11467 11846 12427 19787 21442 21762 22155 25282 33217 40897 49218 67521 70402 95105 101762 107842 115329 120577 120962 123905 131713 137281 143746 145793 162177 172226 188609 188673 192769 200321 203521 214273 217985 218049 218177 218369 233282 241218 249858 257666 257730 257794 257922 257986 281666 299394 348546 363650 363714 363778 363842 363906 363970 364034 364610 388354 427458 490498 493250 531906 544322 1322626 1337858 1443906 1499202 1508482 1602178 1622018 1648770 1664962 1665026 1691586 1702530 1769346 1779714\",\"ostime\":null,\"oetime\":null,\"jddPrice\":null,\"jddNum\":null,\"uvSumPreSale\":\"\",\"couponShareUrl\":\"//uland.taobao.com/coupon/edetail?e=tIS%2BFD4H7wgNfLV8niU3R40dlhWtfp96Ng4Gqf8CT4ANystXvvX3Ksw5eedQ710CmMHpNfYdHdAPkf%2BIwRD1B%2FfL1Y0L1DgsL58N9XQN5aZK8rZ3A2zQf7pK%2BiB0fEdkiQ1yltS2qeAoU7DuVn0NgRxghx0YlbLKxx1pVDz2dhVIH07HK3v5wM1rh%2B4QgJspTA0FRtOwCuw%3D&&app_pvid=59590_33.3.247.237_605_1605751530257&ptl=floorId:34371;app_pvid:59590_33.3.247.237_605_1605751530257;tpp_pvid:100_11.229.250.224_30180_6961605751530266088&union_lens=lensId%3AOPT%401605751530%402103f7ed_06cc_175de3fe3c3_84fb%4001\",\"url\":\"//s.click.taobao.com/t?e=m%3D2%26s%3DKPKa5zBgUK9w4vFB6t2Z2ueEDrYVVa64szgHCoaJEBX%2BmkB8Ys0cBZdOwQLjTps3lc2MxE3r9TvbUz3vG%2FGJ%2FUDRWTB43ZUaHIa9RbrgZYzCwiYxkgA7PuFbZhKBPjAGElanoK3mRAg29aA9gxagy5CVd84eoghoxs0X94%2BXwmA%3D&scm=null&pvid=100_11.229.250.224_30180_6961605751530266088&app_pvid=59590_33.3.247.237_605_1605751530257&ptl=floorId:34371;originalFloorId:34371;pvid:100_11.229.250.224_30180_6961605751530266088;app_pvid:59590_33.3.247.237_605_1605751530257&union_lens=lensId%3AOPT%401605751530%402103f7ed_06cc_175de3fe3c3_84fb%4001\",\"udf_temp_store\":{},\"lensId\":\"OPT@1605751530@2103f7ed_06cc_175de3fe3c3_84fb@01\"},{\"floorId\":34371,\"itemId\":\"573374317044\",\"itemName\":\"Lenovo/联想 拯救者 Y7000 2020 Y7000P R7000吃鸡游戏<span class=H>笔记本</span>电脑\",\"subTitle\":\"\",\"userType\":0,\"isTmall\":false,\"sellerId\":376577408,\"reservePrice\":\"6000\",\"price\":\"6000\",\"promotionPrice\":\"5999\",\"priceAfterCoupon\":\"5899.00\",\"originalTkSpRates\":\"\",\"zkSalesPrice\":\"0.00\",\"pic\":\"//img.alicdn.com/bao/uploaded/i2/376577408/O1CN016BYw9z24aueqVQw1c_!!376577408.jpg\",\"couponAmount\":\"100\",\"couponSendCount\":1555,\"couponTotalCount\":10000,\"couponTag\":\"0\",\"couponEffectiveStartTime\":\"1604592000000\",\"couponEffectiveEndTime\":\"1609430399000\",\"couponStartFee\":\"5599\",\"monthSellCount\":\"184\",\"nick\":\"hujidi222\",\"realPostFee\":\"0.00\",\"auctionTags\":\"385 843 1159 1163 1483 2059 2315 3974 4491 4555 5190 5323 7110 7883 11083 11339 11467 12427 19787 21442 22155 25282 27137 28353 30977 34433 36161 36610 40513 40897 48578 52290 53121 53185 59970 65281 66241 67521 70465 72961 85249 87425 104514 118465 120962 123905 143746 149057 172226 241218 368962 388354 490498 493250 1277954 1337858 1443906 1445762 1481986 1520514 1589442 1624130 1624194 1691586 1702530 1769346 1770114 1770370 1772034 1778946 1779394\",\"ostime\":null,\"oetime\":null,\"jddPrice\":null,\"jddNum\":null,\"uvSumPreSale\":\"\",\"couponShareUrl\":\"//uland.taobao.com/coupon/edetail?e=GhF2WzJSgTENfLV8niU3R40dlhWtfp96Ng4Gqf8CT4D60tCwS4hRCTtHsK8wxblgmMHpNfYdHdAPkf%2BIwRD1B%2FfL1Y0L1DgsL58N9XQN5aZK8rZ3A2zQfwdnYtArTsWpbYrNK2MzIMb95rXns76ukTiDd8tkNDLDEf6uqGbvsBK8HzXEgh689T5%2F6mJ0IOYhJTNWSR3CwiY%3D&&app_pvid=59590_33.3.247.237_605_1605751530257&ptl=floorId:34371;app_pvid:59590_33.3.247.237_605_1605751530257;tpp_pvid:100_11.229.250.224_30180_6961605751530266088&union_lens=lensId%3AOPT%401605751530%402103f7ed_06cc_175de3fe3c3_84fc%4001\",\"url\":\"//s.click.taobao.com/t?e=m%3D2%26s%3DwHkqEZ1KD%2B1w4vFB6t2Z2ueEDrYVVa64qYbrUZilZ4UKwPl3T8wu7Hq9Oxuj2hhdeMWMkvOuGu1pav%2FfWtOoXJBd%2FLLdqLkGnXXh09ZhQLa6kw7MOHsoJOcRiDoiTDFrQXOqd0OtJhClYmffqexDvDRqinkOajRPxgxdTc00KD8%3D&scm=null&pvid=100_11.229.250.224_30180_6961605751530266088&app_pvid=59590_33.3.247.237_605_1605751530257&ptl=floorId:34371;originalFloorId:34371;pvid:100_11.229.250.224_30180_6961605751530266088;app_pvid:59590_33.3.247.237_605_1605751530257&union_lens=lensId%3AOPT%401605751530%402103f7ed_06cc_175de3fe3c3_84fc%4001\",\"udf_temp_store\":{},\"lensId\":\"OPT@1605751530@2103f7ed_06cc_175de3fe3c3_84fc@01\"},{\"floorId\":34371,\"itemId\":\"618042637411\",\"itemName\":\"【新品】Lenovo/联想拯救者Y7000P 2020款十代i7八核游戏电竞屏高色域<span class=H>笔记本</span>电脑RTX2060独显6G学生办公本\",\"subTitle\":\"2020拯救者Y7000P电竞游戏本RTX2060独显6G\",\"userType\":1,\"isTmall\":true,\"sellerId\":3953810689,\"reservePrice\":\"7299\",\"price\":\"7299\",\"promotionPrice\":\"7299\",\"priceAfterCoupon\":\"7199.00\",\"originalTkSpRates\":\"\",\"zkSalesPrice\":\"0.00\",\"pic\":\"//img.alicdn.com/bao/uploaded/i1/3953810689/O1CN014Fjbt21GxbWYx8qto_!!0-item_pic.jpg\",\"couponAmount\":\"100\",\"couponSendCount\":2100,\"couponTotalCount\":10000,\"couponTag\":\"0\",\"couponEffectiveStartTime\":\"1605196800000\",\"couponEffectiveEndTime\":\"1608220799000\",\"couponStartFee\":\"3000\",\"monthSellCount\":\"47\",\"nick\":\"联想蓝之新专卖店\",\"realPostFee\":\"0.00\",\"auctionTags\":\"385 843 1163 1478 1483 2049 2059 2315 3974 4166 4491 4555 5323 7883 8263 11083 11339 11467 11846 12427 19787 21442 21762 22155 25282 33217 40897 49218 67521 70402 95105 101762 107842 115329 120577 120962 123905 131713 137281 143746 145793 162177 172226 188609 188673 192769 200321 203521 214273 217985 218049 218177 218369 233282 249858 257794 257858 257986 281666 288962 299394 348546 363650 363714 363778 363842 363906 363970 364034 364610 388354 427458 544322 1322626 1337858 1443906 1499202 1648770 1664962 1665026 1691586 1702530 1768002 1769346 1772034 1779714\",\"ostime\":null,\"oetime\":null,\"jddPrice\":null,\"jddNum\":null,\"uvSumPreSale\":\"\",\"couponShareUrl\":\"//uland.taobao.com/coupon/edetail?e=NJF1srV4ptQNfLV8niU3R40dlhWtfp96Ng4Gqf8CT4CMA9d3IyPqpPRCsxRiHNHWmMHpNfYdHdAPkf%2BIwRD1B%2FfL1Y0L1DgsL58N9XQN5aZK8rZ3A2zQf7pK%2BiB0fEdk3zTCR2JLdDMeorczK4xPMxxghx0YlbLKxx1pVDz2dhVIH07HK3v5wM1rh%2B4QgJspTA0FRtOwCuw%3D&&app_pvid=59590_33.3.247.237_605_1605751530257&ptl=floorId:34371;app_pvid:59590_33.3.247.237_605_1605751530257;tpp_pvid:100_11.229.250.224_30180_6961605751530266088&union_lens=lensId%3AOPT%401605751530%402103f7ed_06cc_175de3fe3c3_84fd%4001\",\"url\":\"//s.click.taobao.com/t?e=m%3D2%26s%3DLCzt%2FinoScJw4vFB6t2Z2ueEDrYVVa64szgHCoaJEBX%2BmkB8Ys0cBZdOwQLjTps3lc2MxE3r9TvbUz3vG%2FGJ%2FUDRWTB43ZUaHIa9RbrgZYzCwiYxkgA7PuFbZhKBPjAGElanoK3mRAg29aA9gxagy33ocD4qAkLCZXrdo1CQivU%3D&scm=null&pvid=100_11.229.250.224_30180_6961605751530266088&app_pvid=59590_33.3.247.237_605_1605751530257&ptl=floorId:34371;originalFloorId:34371;pvid:100_11.229.250.224_30180_6961605751530266088;app_pvid:59590_33.3.247.237_605_1605751530257&union_lens=lensId%3AOPT%401605751530%402103f7ed_06cc_175de3fe3c3_84fd%4001\",\"udf_temp_store\":{},\"lensId\":\"OPT@1605751530@2103f7ed_06cc_175de3fe3c3_84fd@01\"},{\"floorId\":34371,\"itemId\":\"612583537835\",\"itemName\":\"【新品上市】Lenovo/联想小新air14 十代英特尔酷睿i5轻薄独显商务办公学生手提便携游戏i7<span class=H>笔记本</span>电脑14英寸\",\"subTitle\":\"新款现货  轻薄独显 电源指纹一键开机\",\"userType\":1,\"isTmall\":true,\"sellerId\":459462135,\"reservePrice\":\"5099\",\"price\":\"5099\",\"promotionPrice\":\"5099\",\"priceAfterCoupon\":\"4999.00\",\"originalTkSpRates\":\"50\",\"zkSalesPrice\":\"0.00\",\"pic\":\"//img.alicdn.com/bao/uploaded/i1/459462135/O1CN01TuklJN1RdsDtyJGbo_!!0-item_pic.jpg\",\"couponAmount\":\"100\",\"couponSendCount\":48664,\"couponTotalCount\":100000,\"couponTag\":\"0\",\"couponEffectiveStartTime\":\"1604851200000\",\"couponEffectiveEndTime\":\"1607097599000\",\"couponStartFee\":\"888\",\"monthSellCount\":\"184\",\"nick\":\"联想艾克兰斯专卖店\",\"realPostFee\":\"0.00\",\"auctionTags\":\"385 843 1163 1478 1483 1923 2049 2059 2315 3974 4166 4491 4555 5323 7495 7879 7883 8263 8583 11083 11339 11467 11846 12427 15489 19787 20481 21442 21697 21762 22155 22273 25282 28353 30337 30401 30849 30977 33217 34433 35713 36161 37569 39233 39809 40897 49218 64129 65281 67521 70402 70465 73793 100609 101761 101762 112193 115329 120962 123905 131713 143746 150465 155841 161729 161793 172226 188609 188865 189121 192769 200321 202050 214401 217985 218049 218177 218241 241218 249858 249986 257730 257794 257858 257922 281666 284802 299394 299458 348546 363650 363714 363778 363842 363906 363970 364034 364610 368386 368962 369218 388354 427458 490498 493250 519106 544322 1322626 1337858 1443906 1473090 1499202 1508482 1602178 1615810 1645570 1648770 1657986 1664962 1665026 1691586 1702530 1769346 1779714\",\"ostime\":null,\"oetime\":null,\"jddPrice\":null,\"jddNum\":null,\"uvSumPreSale\":\"\",\"couponShareUrl\":\"//uland.taobao.com/coupon/edetail?e=E6Y3L%2F%2BYW7YNfLV8niU3R40dlhWtfp96Ng4Gqf8CT4AMzmlbq6X1CSY9jMBswGPxmMHpNfYdHdAPkf%2BIwRD1B%2FfL1Y0L1DgsL58N9XQN5aZK8rZ3A2zQf7pK%2BiB0fEdkDrZkgmtzcAlATr6U6brgzrBUc6JTpNe6Ef6uqGbvsBK8HzXEgh689Qk%2FwPX6CUItJTNWSR3CwiY%3D&&app_pvid=59590_33.3.247.237_605_1605751530257&ptl=floorId:34371;app_pvid:59590_33.3.247.237_605_1605751530257;tpp_pvid:100_11.229.250.224_30180_6961605751530266088&union_lens=lensId%3AOPT%401605751530%402103f7ed_06cc_175de3fe3c3_84fe%4001\",\"url\":\"//s.click.taobao.com/t?e=m%3D2%26s%3DK0gX0NL5bLNw4vFB6t2Z2ueEDrYVVa64RZKDdhY4Y8EKwPl3T8wu7Hq9Oxuj2hhdeMWMkvOuGu1pav%2FfWtOoXJBd%2FLLdqLkGnXXh09ZhQLa6kw7MOHsoJAHA4dOHRQPDDYwYP86ZYYqD7SSEVcDGATVSg9hHHvt1xgxdTc00KD8%3D&scm=null&pvid=100_11.229.250.224_30180_6961605751530266088&app_pvid=59590_33.3.247.237_605_1605751530257&ptl=floorId:34371;originalFloorId:34371;pvid:100_11.229.250.224_30180_6961605751530266088;app_pvid:59590_33.3.247.237_605_1605751530257&union_lens=lensId%3AOPT%401605751530%402103f7ed_06cc_175de3fe3c3_84fe%4001\",\"udf_temp_store\":{},\"lensId\":\"OPT@1605751530@2103f7ed_06cc_175de3fe3c3_84fe@01\"},{\"floorId\":34371,\"itemId\":\"628906114873\",\"itemName\":\"【2021新款】Lenovo/联想小新Air14小新Air15锐龙版<span class=H>笔记本</span>电脑13\",\"subTitle\":\"\",\"userType\":0,\"isTmall\":false,\"sellerId\":100277129,\"reservePrice\":\"5499\",\"price\":\"5499\",\"promotionPrice\":\"4499\",\"priceAfterCoupon\":\"4399.00\",\"originalTkSpRates\":\"150\",\"zkSalesPrice\":\"0.00\",\"pic\":\"//img.alicdn.com/bao/uploaded/i4/100277129/O1CN01ZdntLF22X8BWROEdO_!!100277129.jpg\",\"couponAmount\":\"100\",\"couponSendCount\":10039,\"couponTotalCount\":99999,\"couponTag\":\"0\",\"couponEffectiveStartTime\":\"1603987200000\",\"couponEffectiveEndTime\":\"1606751999000\",\"couponStartFee\":\"2000\",\"monthSellCount\":\"293\",\"nick\":\"江黎丽_2008\",\"realPostFee\":\"0.00\",\"auctionTags\":\"843 1163 1483 2059 2315 4491 4555 5190 5323 7883 11083 11339 11467 11846 12427 19787 22155 25282 28353 36610 40897 44545 48578 52290 59970 66241 67521 68289 85249 86786 100609 101121 104514 105601 115329 118465 123905 149057 164673 172226 189761 216513 227393 388354 544322 1337858 1359554 1508482 1624194 1648770 1691586 1702530 1762306 1762370 1769346 1770114 1770178 1770306 1770370\",\"ostime\":null,\"oetime\":null,\"jddPrice\":null,\"jddNum\":null,\"uvSumPreSale\":\"\",\"couponShareUrl\":\"//uland.taobao.com/coupon/edetail?e=NPLdI%2BuSTEYNfLV8niU3R40dlhWtfp96Ng4Gqf8CT4BnmB%2Fzds2ljVeFa0byxb%2F%2FfLTuu9%2BHxtIsHefUD3pJVFyyRsLQYwaHvB3FlNvlg%2FD%2BX6jzHDW6A9CRgSbn%2BRpvHUd6VYChfU09pzzA8ocPq%2FahpDMcHaWL3CSFUUaTr%2FRGYwgswNx%2BiD5%2F6mJ0IOYhJTNWSR3CwiY%3D&&app_pvid=59590_33.3.247.237_605_1605751530257&ptl=floorId:34371;app_pvid:59590_33.3.247.237_605_1605751530257;tpp_pvid:100_11.229.250.224_30180_6961605751530266088&union_lens=lensId%3AOPT%401605751530%402103f7ed_06cc_175de3fe3c3_84ff%4001\",\"url\":\"//s.click.taobao.com/t?e=m%3D2%26s%3DuFJnYo0nViFw4vFB6t2Z2ueEDrYVVa64qYbrUZilZ4UKwPl3T8wu7Hq9Oxuj2hhdeMWMkvOuGu1pav%2FfWtOoXJBd%2FLLdqLkGnXXh09ZhQLa6kw7MOHsoJESBzCDvaoNRdjcNW%2FtNyLPf3fSXKojgdrDO9UEZbfnUgIbQzu6uQsrGDmntuH4VtA%3D%3D&scm=null&pvid=100_11.229.250.224_30180_6961605751530266088&app_pvid=59590_33.3.247.237_605_1605751530257&ptl=floorId:34371;originalFloorId:34371;pvid:100_11.229.250.224_30180_6961605751530266088;app_pvid:59590_33.3.247.237_605_1605751530257&union_lens=lensId%3AOPT%401605751530%402103f7ed_06cc_175de3fe3c3_84ff%4001\",\"udf_temp_store\":{},\"lensId\":\"OPT@1605751530@2103f7ed_06cc_175de3fe3c3_84ff@01\"},{\"floorId\":34371,\"itemId\":\"617648468398\",\"itemName\":\"【广州顺丰】联想拯救者R7000 2020六核锐龙R5游戏本十代酷睿i5/i7<span class=H>笔记本</span>电脑吃鸡Y7000官方旗舰店正品P\",\"subTitle\":\"标压六核锐龙R5 /GTX1650 4G独显/跑分39万+\",\"userType\":1,\"isTmall\":true,\"sellerId\":4173350239,\"reservePrice\":\"6399\",\"price\":\"6399\",\"promotionPrice\":\"6399\",\"priceAfterCoupon\":\"6299.00\",\"originalTkSpRates\":\"\",\"zkSalesPrice\":\"0.00\",\"pic\":\"//img.alicdn.com/bao/uploaded/i4/4173350239/O1CN01ymJ4aC1DdVITXBUdS_!!0-item_pic.jpg\",\"couponAmount\":\"100\",\"couponSendCount\":2640,\"couponTotalCount\":5000,\"couponTag\":\"0\",\"couponEffectiveStartTime\":\"1605283200000\",\"couponEffectiveEndTime\":\"1605887999000\",\"couponStartFee\":\"888\",\"monthSellCount\":\"157\",\"nick\":\"联想爱特家专卖店\",\"realPostFee\":\"0.00\",\"auctionTags\":\"385 843 1163 1478 1483 1923 2049 2059 2315 3974 4166 4491 4555 5323 7883 11083 11339 11467 11846 12427 19787 21442 21762 22155 25282 33217 40897 49218 67521 70402 101762 107842 115329 120577 123649 123905 131713 137281 143746 144385 161793 161921 172226 176769 183425 188609 188673 192769 200002 200321 202050 214273 217985 218049 218177 218369 231553 241218 249858 257666 257730 257794 257858 257922 257986 281666 292098 299394 363650 363714 363778 363842 363906 363970 364034 364610 388354 427458 490498 493250 519106 544322 1322626 1337858 1443906 1473090 1499202 1645570 1648770 1657986 1664962 1665026 1691586 1702530 1769346 1779714\",\"ostime\":null,\"oetime\":null,\"jddPrice\":null,\"jddNum\":null,\"uvSumPreSale\":\"\",\"couponShareUrl\":\"//uland.taobao.com/coupon/edetail?e=XqAKqH1FyEoNfLV8niU3R40dlhWtfp96Ng4Gqf8CT4Ax2wjPNCUHAmTc%2FCrWDFX7mMHpNfYdHdAPkf%2BIwRD1B%2FfL1Y0L1DgsL58N9XQN5aZK8rZ3A2zQf7pK%2BiB0fEdkYn3hygBeLbcq4%2F5YLHg0uPZ9s%2FsqosnNgwtP3f%2FtWchIH07HK3v5wM1rh%2B4QgJspTA0FRtOwCuw%3D&&app_pvid=59590_33.3.247.237_605_1605751530257&ptl=floorId:34371;app_pvid:59590_33.3.247.237_605_1605751530257;tpp_pvid:100_11.229.250.224_30180_6961605751530266088&union_lens=lensId%3AOPT%401605751530%402103f7ed_06cc_175de3fe3c3_8500%4001\",\"url\":\"//s.click.taobao.com/t?e=m%3D2%26s%3Dlg28JbdVT79w4vFB6t2Z2ueEDrYVVa64RZKDdhY4Y8EKwPl3T8wu7Hq9Oxuj2hhdeMWMkvOuGu1pav%2FfWtOoXJBd%2FLLdqLkGnXXh09ZhQLa6kw7MOHsoJMy8cQk%2FTvS2khkKo%2B7awX8iCmYTvfYfAF3lXagA%2FbQAz2TFFEd9SqY%3D&scm=null&pvid=100_11.229.250.224_30180_6961605751530266088&app_pvid=59590_33.3.247.237_605_1605751530257&ptl=floorId:34371;originalFloorId:34371;pvid:100_11.229.250.224_30180_6961605751530266088;app_pvid:59590_33.3.247.237_605_1605751530257&union_lens=lensId%3AOPT%401605751530%402103f7ed_06cc_175de3fe3c3_8500%4001\",\"udf_temp_store\":{},\"lensId\":\"OPT@1605751530@2103f7ed_06cc_175de3fe3c3_8500@01\"},{\"floorId\":34371,\"itemId\":\"618854092863\",\"itemName\":\"Lenovo/联想拯救者R70002020款学生锐龙8核LOL吃鸡游戏<span class=H>笔记本</span>电脑\",\"subTitle\":\"\",\"userType\":0,\"isTmall\":false,\"sellerId\":397984006,\"reservePrice\":\"4799\",\"price\":\"4799\",\"promotionPrice\":\"4799\",\"priceAfterCoupon\":\"4749.00\",\"originalTkSpRates\":\"\",\"zkSalesPrice\":\"0.00\",\"pic\":\"//img.alicdn.com/bao/uploaded/i2/397984006/O1CN01F2WEsx1fSnHE7zitq_!!0-item_pic.jpg\",\"couponAmount\":\"50\",\"couponSendCount\":1324,\"couponTotalCount\":100000,\"couponTag\":\"0\",\"couponEffectiveStartTime\":\"1603900800000\",\"couponEffectiveEndTime\":\"1609171199000\",\"couponStartFee\":\"4000\",\"monthSellCount\":\"181\",\"nick\":\"xtzhuai365\",\"realPostFee\":\"0.00\",\"auctionTags\":\"385 843 1163 1483 2059 2315 4491 4555 5190 5323 7110 7883 11083 11339 11467 11846 12427 19787 21442 22155 25282 36610 40513 44545 48578 52290 59970 67521 85249 87425 104514 119106 131713 143746 149057 216513 227393 227457 241218 388354 426754 484098 490498 544322 1362178 1441090 1443906 1445762 1589442 1589634 1602178 1624194 1648770 1691586 1702530 1745602 1762306 1762370 1768002 1769346 1770114 1770306 1770370 1770818 1778946 1779714\",\"ostime\":null,\"oetime\":null,\"jddPrice\":null,\"jddNum\":null,\"uvSumPreSale\":\"\",\"couponShareUrl\":\"//uland.taobao.com/coupon/edetail?e=CkwETswcLEYNfLV8niU3R40dlhWtfp96Ng4Gqf8CT4BnmB%2Fzds2ljZff0QdN%2ByHITsSn5VP9LP0sHefUD3pJVFyyRsLQYwaHvB3FlNvlg%2FD%2BX6jzHDW6A9CRgSbn%2BRpv8an3AOWwMviM%2BFTBiIqWGFjZnh6MeP%2BSF%2FRSyUlnodRGYwgswNx%2BiD5%2F6mJ0IOYhJTNWSR3CwiY%3D&&app_pvid=59590_33.3.247.237_605_1605751530257&ptl=floorId:34371;app_pvid:59590_33.3.247.237_605_1605751530257;tpp_pvid:100_11.229.250.224_30180_6961605751530266088&union_lens=lensId%3AOPT%401605751530%402103f7ed_06cc_175de3fe3c3_8501%4001\",\"url\":\"//s.click.taobao.com/t?e=m%3D2%26s%3DSEwOnFNchuhw4vFB6t2Z2ueEDrYVVa64qYbrUZilZ4UKwPl3T8wu7Hq9Oxuj2hhdeMWMkvOuGu1pav%2FfWtOoXJBd%2FLLdqLkGnXXh09ZhQLa6kw7MOHsoJFTUPypIU7pBDkQWIaLMwkbf3fSXKojgdlmHeFbKgujrKaaNtrYuFPTGDmntuH4VtA%3D%3D&scm=null&pvid=100_11.229.250.224_30180_6961605751530266088&app_pvid=59590_33.3.247.237_605_1605751530257&ptl=floorId:34371;originalFloorId:34371;pvid:100_11.229.250.224_30180_6961605751530266088;app_pvid:59590_33.3.247.237_605_1605751530257&union_lens=lensId%3AOPT%401605751530%402103f7ed_06cc_175de3fe3c3_8501%4001\",\"udf_temp_store\":{},\"lensId\":\"OPT@1605751530@2103f7ed_06cc_175de3fe3c3_8501@01\"},{\"floorId\":34371,\"itemId\":\"615898458422\",\"itemName\":\"联想扬天威6 锐龙版六6核r5 4600u/4500u轻薄便捷 学生14英寸商务办公游戏本超薄<span class=H>笔记本</span>电脑联想官方旗舰店官\",\"subTitle\":\"六核锐龙r5-4600U  全国联保  加送包鼠\",\"userType\":1,\"isTmall\":true,\"sellerId\":2200605958543,\"reservePrice\":\"3099\",\"price\":\"3099\",\"promotionPrice\":\"3099\",\"priceAfterCoupon\":\"2999.00\",\"originalTkSpRates\":\"\",\"zkSalesPrice\":\"0.00\",\"pic\":\"//img.alicdn.com/bao/uploaded/i3/2200605958543/O1CN01Z5Hw0t2CykE9XhZtk_!!0-item_pic.jpg\",\"couponAmount\":\"100\",\"couponSendCount\":11,\"couponTotalCount\":1000,\"couponTag\":\"0\",\"couponEffectiveStartTime\":\"1605628800000\",\"couponEffectiveEndTime\":\"1606319999000\",\"couponStartFee\":\"3000\",\"monthSellCount\":\"102\",\"nick\":\"联想瑾琪专卖店\",\"realPostFee\":\"0.00\",\"auctionTags\":\"385 843 1163 1478 1483 2049 2059 2315 3974 4166 4491 4555 5323 7883 8263 11083 11339 11467 11846 12427 19787 21442 21762 22155 25282 33217 49218 66241 67521 70402 95105 101762 107842 120577 123905 131713 137281 143746 172226 189761 192769 200002 214529 217985 218177 218369 241218 249858 257666 257794 281666 288962 299394 299458 363906 364034 364610 368642 388354 427458 490498 493250 544322 1337858 1443906 1481986 1520514 1602178 1622018 1624130 1645570 1648770 1657986 1664962 1665026 1691458 1691586 1702530 1769346\",\"ostime\":null,\"oetime\":null,\"jddPrice\":null,\"jddNum\":null,\"uvSumPreSale\":\"\",\"couponShareUrl\":\"//uland.taobao.com/coupon/edetail?e=zDMzilnvJvgNfLV8niU3R40dlhWtfp96Ng4Gqf8CT4CJF%2B954ytabi2iySZMw9pbmMHpNfYdHdAPkf%2BIwRD1B%2FfL1Y0L1DgsL58N9XQN5aZK8rZ3A2zQf7pK%2BiB0fEdkPE%2BAPt5mCoVrgAdI0DVyR8iRswZoMYPCslohqli6HXbIGNNkxyNsZQzUv%2BYStry7fjh37OZy0Bg%3D&&app_pvid=59590_33.3.247.237_605_1605751530257&ptl=floorId:34371;app_pvid:59590_33.3.247.237_605_1605751530257;tpp_pvid:100_11.229.250.224_30180_6961605751530266088&union_lens=lensId%3AOPT%401605751530%402103f7ed_06cc_175de3fe3c3_8502%4001\",\"url\":\"//s.click.taobao.com/t?e=m%3D2%26s%3DcycDlHbDqB9w4vFB6t2Z2ueEDrYVVa64RZKDdhY4Y8EKwPl3T8wu7Hq9Oxuj2hhdeMWMkvOuGu1pav%2FfWtOoXJBd%2FLLdqLkGnXXh09ZhQLa6kw7MOHsoJNLZnvo2YkXdLQegCtrS5lDG3S9D9B52fe%2FWBpkVCZNb8dwB9pqau4zGJe8N%2FwNpGw%3D%3D&scm=null&pvid=100_11.229.250.224_30180_6961605751530266088&app_pvid=59590_33.3.247.237_605_1605751530257&ptl=floorId:34371;originalFloorId:34371;pvid:100_11.229.250.224_30180_6961605751530266088;app_pvid:59590_33.3.247.237_605_1605751530257&union_lens=lensId%3AOPT%401605751530%402103f7ed_06cc_175de3fe3c3_8502%4001\",\"udf_temp_store\":{},\"lensId\":\"OPT@1605751530@2103f7ed_06cc_175de3fe3c3_8502@01\"},{\"floorId\":34371,\"itemId\":\"618620287909\",\"itemName\":\"Lenovo/联想 拯救者 R7000 2020款 15.6英寸锐龙R5轻薄游戏本<span class=H>笔记本</span>电脑独显4G女学生手提旗舰店非Y7000 i7\",\"subTitle\":\"2020新款【设计、电竞 吃鸡独显GTX1650Ti】\",\"userType\":1,\"isTmall\":true,\"sellerId\":2201495610820,\"reservePrice\":\"5499\",\"price\":\"5499\",\"promotionPrice\":\"5499\",\"priceAfterCoupon\":\"5299.00\",\"originalTkSpRates\":\"\",\"zkSalesPrice\":\"0.00\",\"pic\":\"//img.alicdn.com/bao/uploaded/i3/2201495610820/O1CN01hAx80l1HvbPTGfstR_!!0-item_pic.jpg\",\"couponAmount\":\"200\",\"couponSendCount\":1012,\"couponTotalCount\":50000,\"couponTag\":\"0\",\"couponEffectiveStartTime\":\"1605196800000\",\"couponEffectiveEndTime\":\"1607270399000\",\"couponStartFee\":\"2020\",\"monthSellCount\":\"143\",\"nick\":\"联想卓电专卖店\",\"realPostFee\":\"0.00\",\"auctionTags\":\"385 843 1163 1478 1483 2049 2059 2315 3974 4166 4491 4555 5323 5895 7883 8326 11083 11339 11467 11846 12427 19787 21442 21762 22155 25282 33217 49218 66241 67521 70402 101761 101762 120577 137281 143746 161793 162177 172226 188609 188673 192769 200321 203521 214273 217985 218049 218369 249858 257666 257794 281666 288962 299394 363906 364034 364610 388354 427458 493250 531906 544322 1337858 1443906 1499202 1645570 1648770 1664962 1665026 1691586 1702530 1769346 1779714\",\"ostime\":null,\"oetime\":null,\"jddPrice\":null,\"jddNum\":null,\"uvSumPreSale\":\"\",\"couponShareUrl\":\"//uland.taobao.com/coupon/edetail?e=mY4EHhikmcsNfLV8niU3R40dlhWtfp96Ng4Gqf8CT4Du6CXqz5bLw4qHguJpisI%2FmMHpNfYdHdAPkf%2BIwRD1B%2FfL1Y0L1DgsL58N9XQN5aZK8rZ3A2zQf7pK%2BiB0fEdkPjCQYEdrs3QmGyRE9iten%2F3GxnjFGGyibDGSSSBqoTbIGNNkxyNsZQzUv%2BYStry7fjh37OZy0Bg%3D&&app_pvid=59590_33.3.247.237_605_1605751530257&ptl=floorId:34371;app_pvid:59590_33.3.247.237_605_1605751530257;tpp_pvid:100_11.229.250.224_30180_6961605751530266088&union_lens=lensId%3AOPT%401605751530%402103f7ed_06cc_175de3fe3c3_8503%4001\",\"url\":\"//s.click.taobao.com/t?e=m%3D2%26s%3DbdmoZQGJ99Fw4vFB6t2Z2ueEDrYVVa64RZKDdhY4Y8EKwPl3T8wu7Hq9Oxuj2hhdeMWMkvOuGu1pav%2FfWtOoXJBd%2FLLdqLkGnXXh09ZhQLa6kw7MOHsoJNo9WH8jVW4IDEaJSDW3IvmbhDFSouyvIs28NU094yErj12r%2Fvg29QLGJe8N%2FwNpGw%3D%3D&scm=null&pvid=100_11.229.250.224_30180_6961605751530266088&app_pvid=59590_33.3.247.237_605_1605751530257&ptl=floorId:34371;originalFloorId:34371;pvid:100_11.229.250.224_30180_6961605751530266088;app_pvid:59590_33.3.247.237_605_1605751530257&union_lens=lensId%3AOPT%401605751530%402103f7ed_06cc_175de3fe3c3_8503%4001\",\"udf_temp_store\":{},\"lensId\":\"OPT@1605751530@2103f7ed_06cc_175de3fe3c3_8503@01\"},{\"floorId\":34371,\"itemId\":\"618840871450\",\"itemName\":\"【爆款现货】Lenovo/联想<span class=H>笔记本</span>电脑v110 轻薄便携学生女商务办公网课用手提本超薄14英寸超级本\",\"subTitle\":\"送Office 2106正版 固态读秒启动 兼容win7\",\"userType\":1,\"isTmall\":true,\"sellerId\":2208105026036,\"reservePrice\":\"2399\",\"price\":\"2399\",\"promotionPrice\":\"2399\",\"priceAfterCoupon\":\"2299.00\",\"originalTkSpRates\":\"\",\"zkSalesPrice\":\"0.00\",\"pic\":\"//img.alicdn.com/bao/uploaded/i1/2208105026036/O1CN01vxIPSs1uSXI0qoiS9_!!0-item_pic.jpg\",\"couponAmount\":\"100\",\"couponSendCount\":15244,\"couponTotalCount\":100000,\"couponTag\":\"0\",\"couponEffectiveStartTime\":\"1603728000000\",\"couponEffectiveEndTime\":\"1606751999000\",\"couponStartFee\":\"2000\",\"monthSellCount\":\"932\",\"nick\":\"联想添泰专卖店\",\"realPostFee\":\"0.00\",\"auctionTags\":\"385 843 1163 1478 1483 1923 2049 2059 2315 3974 4166 4491 4555 5323 7883 8263 11083 11339 11467 11846 12427 19787 21442 21762 22155 25282 33217 49218 65281 67521 70402 101761 101762 107842 120962 131713 143746 200002 214529 217985 218177 218369 241218 249858 257666 257730 257794 257858 257922 257986 281666 288962 292098 299394 363650 363714 363778 363842 363906 363970 364034 364610 426754 427458 484098 490498 493250 531906 544322 1362178 1362242 1441090 1443906 1645570 1648770 1657986 1664962 1665026 1691458 1691586 1702530 1769346\",\"ostime\":null,\"oetime\":null,\"jddPrice\":null,\"jddNum\":null,\"uvSumPreSale\":\"\",\"couponShareUrl\":\"//uland.taobao.com/coupon/edetail?e=y%2FA0q6leKhwNfLV8niU3R40dlhWtfp96Ng4Gqf8CT4C9IBhJrZbVwa0Dzaq0dMOBmMHpNfYdHdAPkf%2BIwRD1B%2FfL1Y0L1DgsL58N9XQN5aZK8rZ3A2zQf7pK%2BiB0fEdkROnOnxGcFP8c%2BbonF9M3XqPqkexi5ihdgkiocDXEk6x4em%2BkJGep%2BgzUv%2BYStry7fjh37OZy0Bg%3D&&app_pvid=59590_33.3.247.237_605_1605751530257&ptl=floorId:34371;app_pvid:59590_33.3.247.237_605_1605751530257;tpp_pvid:100_11.229.250.224_30180_6961605751530266088&union_lens=lensId%3AOPT%401605751530%402103f7ed_06cc_175de3fe3c3_8504%4001\",\"url\":\"//s.click.taobao.com/t?e=m%3D2%26s%3D3PIy4YxKZfhw4vFB6t2Z2ueEDrYVVa64szgHCoaJEBX%2BmkB8Ys0cBZdOwQLjTps3lc2MxE3r9TvbUz3vG%2FGJ%2FUDRWTB43ZUaHIa9RbrgZYzCwiYxkgA7PqZ8rqEfMfsVJv0uK7zBz0gBkfDkX5WHZrk10xy1U7NKx6VS3O3j3gTGDmntuH4VtA%3D%3D&scm=null&pvid=100_11.229.250.224_30180_6961605751530266088&app_pvid=59590_33.3.247.237_605_1605751530257&ptl=floorId:34371;originalFloorId:34371;pvid:100_11.229.250.224_30180_6961605751530266088;app_pvid:59590_33.3.247.237_605_1605751530257&union_lens=lensId%3AOPT%401605751530%402103f7ed_06cc_175de3fe3c3_8504%4001\",\"udf_temp_store\":{},\"lensId\":\"OPT@1605751530@2103f7ed_06cc_175de3fe3c3_8504@01\"},{\"floorId\":34371,\"itemId\":\"618585217031\",\"itemName\":\"【新品】联想小新15 2020锐龙版R5六核轻薄便携 学生<span class=H>笔记本</span>电脑R7超薄15.6英寸游戏本官方旗舰店商务办公本\",\"subTitle\":\"\",\"userType\":1,\"isTmall\":true,\"sellerId\":2435538353,\"reservePrice\":\"4899\",\"price\":\"4899\",\"promotionPrice\":\"4899\",\"priceAfterCoupon\":\"4779.00\",\"originalTkSpRates\":\"\",\"zkSalesPrice\":\"0.00\",\"pic\":\"//img.alicdn.com/bao/uploaded/i2/2435538353/O1CN01kHs6Ix2BZiyQAtX62_!!0-item_pic.jpg\",\"couponAmount\":\"120\",\"couponSendCount\":1392,\"couponTotalCount\":50000,\"couponTag\":\"0\",\"couponEffectiveStartTime\":\"1605283200000\",\"couponEffectiveEndTime\":\"1606060799000\",\"couponStartFee\":\"888\",\"monthSellCount\":\"225\",\"nick\":\"联想睿坤专卖店\",\"realPostFee\":\"0.00\",\"auctionTags\":\"385 843 1163 1478 1483 1923 2049 2059 2315 3974 4166 4491 4555 5323 7046 7431 7879 7883 8263 8454 11083 11339 11467 11846 12427 19787 21442 21762 22155 25282 28353 30977 31489 33217 34433 36161 37569 39233 39553 39809 40897 49218 64129 67521 70402 70465 73793 82369 84801 101761 101762 112001 112193 115329 120962 123905 131713 143746 144385 155905 159041 161793 161921 172226 188609 188673 192769 200002 200321 202050 203138 214273 217985 218049 218177 218369 241218 249858 257666 257730 257794 257858 257922 257986 281666 292098 299394 363650 363714 363778 363842 363906 363970 364034 364610 388354 427458 490498 493250 519106 531906 544322 1322626 1337858 1429634 1443906 1473090 1499202 1602178 1615810 1622018 1645570 1648770 1657986 1664962 1665026 1691586 1702530 1769346\",\"ostime\":null,\"oetime\":null,\"jddPrice\":null,\"jddNum\":null,\"uvSumPreSale\":\"\",\"couponShareUrl\":\"//uland.taobao.com/coupon/edetail?e=x9ByKQ40RKoNfLV8niU3R40dlhWtfp96Ng4Gqf8CT4B%2BjJnrC%2FSE1etSKeiS7MyomMHpNfYdHdAPkf%2BIwRD1B%2FfL1Y0L1DgsL58N9XQN5aZK8rZ3A2zQf7pK%2BiB0fEdkvae9xMbR2mYL3h1rer5ts6WY5EPMy%2B%2FEgwtP3f%2FtWchIH07HK3v5wM1rh%2B4QgJspTA0FRtOwCuw%3D&&app_pvid=59590_33.3.247.237_605_1605751530257&ptl=floorId:34371;app_pvid:59590_33.3.247.237_605_1605751530257;tpp_pvid:100_11.229.250.224_30180_6961605751530266088&union_lens=lensId%3AOPT%401605751530%402103f7ed_06cc_175de3fe3c3_8505%4001\",\"url\":\"//s.click.taobao.com/t?e=m%3D2%26s%3DZaVZxoQYSXdw4vFB6t2Z2ueEDrYVVa64RZKDdhY4Y8EKwPl3T8wu7Hq9Oxuj2hhdeMWMkvOuGu1pav%2FfWtOoXJBd%2FLLdqLkGnXXh09ZhQLa6kw7MOHsoJIN2%2Bmts5Rx%2Btuxy9Ey3W%2ByEMq5nmi4wraXqgAC9%2FhYaPaXg%2FKwnH88%3D&scm=null&pvid=100_11.229.250.224_30180_6961605751530266088&app_pvid=59590_33.3.247.237_605_1605751530257&ptl=floorId:34371;originalFloorId:34371;pvid:100_11.229.250.224_30180_6961605751530266088;app_pvid:59590_33.3.247.237_605_1605751530257&union_lens=lensId%3AOPT%401605751530%402103f7ed_06cc_175de3fe3c3_8505%4001\",\"udf_temp_store\":{},\"lensId\":\"OPT@1605751530@2103f7ed_06cc_175de3fe3c3_8505@01\"},{\"floorId\":34371,\"itemId\":\"600547789211\",\"itemName\":\"Lenovo/联想拯救者Y7000<span class=H>笔记本</span>i5电脑电竞吃鸡2020款轻薄游戏本I7\",\"subTitle\":\"\",\"userType\":0,\"isTmall\":false,\"sellerId\":1610713866,\"reservePrice\":\"3599\",\"price\":\"3599\",\"promotionPrice\":\"3599\",\"priceAfterCoupon\":\"3549.00\",\"originalTkSpRates\":\"\",\"zkSalesPrice\":\"0.00\",\"pic\":\"//img.alicdn.com/bao/uploaded/i1/1610713866/O1CNA1ZNANIh1eQfohBtaCn_!!1610713866-0-psf.jpg\",\"couponAmount\":\"50\",\"couponSendCount\":157,\"couponTotalCount\":10000,\"couponTag\":\"28\",\"couponEffectiveStartTime\":\"1605110400000\",\"couponEffectiveEndTime\":\"1607702399000\",\"couponStartFee\":\"1999\",\"monthSellCount\":\"127\",\"nick\":\"哥哥狠酷\",\"realPostFee\":\"0.00\",\"auctionTags\":\"385 843 1163 1483 2059 2315 4491 4555 5190 5323 7883 11083 11339 11467 11846 12427 19787 21442 22155 25282 36610 48578 52290 59970 65281 66241 67521 85249 100609 104514 120962 131713 143746 145857 149057 172226 216513 218754 224642 241218 371650 388354 426754 484098 493250 508226 544322 1255362 1288322 1337858 1362178 1362242 1441090 1443906 1445762 1481986 1520514 1585794 1589442 1589634 1602178 1624130 1624194 1648770 1691458 1691586 1702530 1762306 1762370 1769346 1770114 1770178 1770306 1770370 1770818 1778946 1779074\",\"ostime\":null,\"oetime\":null,\"jddPrice\":null,\"jddNum\":null,\"uvSumPreSale\":\"\",\"couponShareUrl\":\"//uland.taobao.com/coupon/edetail?e=zErEqcoY5RYNfLV8niU3R40dlhWtfp96Ng4Gqf8CT4B%2B07y0R7eDLSV4%2F7QMPOiAmMHpNfYdHdAPkf%2BIwRD1B%2FfL1Y0L1DgsL58N9XQN5aZK8rZ3A2zQf6bHv%2FFimYHa6qZS%2FPImVYg4vkBG04RKVXDlac%2Fl0lYQxx1pVDz2dhVIH07HK3v5wM1rh%2B4QgJsp%2FzrmtpFY67E%3D&&app_pvid=59590_33.3.247.237_605_1605751530257&ptl=floorId:34371;app_pvid:59590_33.3.247.237_605_1605751530257;tpp_pvid:100_11.229.250.224_30180_6961605751530266088&union_lens=lensId%3AOPT%401605751530%402103f7ed_06cc_175de3fe3c3_8506%4001\",\"url\":\"//s.click.taobao.com/t?e=m%3D2%26s%3DUvy7OViob8dw4vFB6t2Z2ueEDrYVVa64Vb0yt%2F5tJWX%2BmkB8Ys0cBZdOwQLjTps3lc2MxE3r9TvbUz3vG%2FGJ%2FUDRWTB43ZUaHIa9RbrgZYzCwiYxkgA7PuaE9QuxWChRwStJ8jR7F9mCfrm5LRTqdYQmVPnUO%2BIwZXrdo1CQivU%3D&scm=null&pvid=100_11.229.250.224_30180_6961605751530266088&app_pvid=59590_33.3.247.237_605_1605751530257&ptl=floorId:34371;originalFloorId:34371;pvid:100_11.229.250.224_30180_6961605751530266088;app_pvid:59590_33.3.247.237_605_1605751530257&union_lens=lensId%3AOPT%401605751530%402103f7ed_06cc_175de3fe3c3_8506%4001\",\"udf_temp_store\":{},\"lensId\":\"OPT@1605751530@2103f7ed_06cc_175de3fe3c3_8506@01\"},{\"floorId\":34371,\"itemId\":\"589679017703\",\"itemName\":\"Lenovo/联想扬天威6 酷睿十一代i3 15.6英寸 轻薄便携学生游戏本联想<span class=H>笔记本</span>电脑 i3-1115G4/8G/512/MX450\",\"subTitle\":\"全新正品 100%高色域 英特尔十一代\",\"userType\":1,\"isTmall\":true,\"sellerId\":4083726440,\"reservePrice\":\"4199\",\"price\":\"4199\",\"promotionPrice\":\"4199\",\"priceAfterCoupon\":\"3999.00\",\"originalTkSpRates\":\"\",\"zkSalesPrice\":\"0.00\",\"pic\":\"//img.alicdn.com/bao/uploaded/i3/4083726440/O1CN01XqtTRb1xRZIkjNCIk_!!0-item_pic.jpg\",\"couponAmount\":\"200\",\"couponSendCount\":59,\"couponTotalCount\":1000,\"couponTag\":\"0\",\"couponEffectiveStartTime\":\"1605283200000\",\"couponEffectiveEndTime\":\"1606751999000\",\"couponStartFee\":\"1999\",\"monthSellCount\":\"31\",\"nick\":\"联想联畅专卖店\",\"realPostFee\":\"0.00\",\"auctionTags\":\"385 843 1163 1478 1483 1923 2049 2059 2315 3974 4166 4491 4555 5323 7046 7883 8263 11083 11339 11467 11846 12427 19787 21762 22155 25282 33217 39553 39809 40897 49218 65281 67521 70402 101762 107842 112386 115329 120577 120962 123649 123905 131713 137281 161793 161921 172226 188609 188673 192769 200321 202050 203521 214273 217985 218049 218177 218369 233346 241218 249858 268418 281666 299394 299458 348546 363650 363714 363778 363842 363906 363970 364034 364610 368450 368962 369218 371650 388354 427458 493250 504066 519106 524418 540546 544322 775554 1253314 1286402 1288066 1297602 1337858 1426690 1443906 1456258 1473090 1481986 1520514 1602178 1624130 1624706 1645570 1648770 1664962 1665026 1691586 1702530 1769346\",\"ostime\":null,\"oetime\":null,\"jddPrice\":null,\"jddNum\":null,\"uvSumPreSale\":\"\",\"couponShareUrl\":\"//uland.taobao.com/coupon/edetail?e=Qb8iuHEsUmANfLV8niU3R40dlhWtfp96Ng4Gqf8CT4DFuUMo8voBxIb5xzU9HqUgmMHpNfYdHdAPkf%2BIwRD1B%2FfL1Y0L1DgsL58N9XQN5aZK8rZ3A2zQf6DMcCTQGbCRzNUO%2FZ4lDt33EWtTaZzZDrcDDzdc%2Fa%2FggwtP3f%2FtWchIH07HK3v5wM1rh%2B4QgJspTA0FRtOwCuw%3D&&app_pvid=59590_33.3.247.237_605_1605751530257&ptl=floorId:34371;app_pvid:59590_33.3.247.237_605_1605751530257;tpp_pvid:100_11.229.250.224_30180_6961605751530266088&union_lens=lensId%3AOPT%401605751530%402103f7ed_06cc_175de3fe3c3_8507%4001\",\"url\":\"//s.click.taobao.com/t?e=m%3D2%26s%3D78bqt92fjr1w4vFB6t2Z2ueEDrYVVa64RZKDdhY4Y8EKwPl3T8wu7Hq9Oxuj2hhdeMWMkvOuGu1pav%2FfWtOoXJBd%2FLLdqLkGnXXh09ZhQLa6kw7MOHsoJEkK9Dd%2FTqJyTd7HxQY%2BrULdmcMkEIR8n34sW0GD%2BC5TvRn9s5lIr3k%3D&scm=null&pvid=100_11.229.250.224_30180_6961605751530266088&app_pvid=59590_33.3.247.237_605_1605751530257&ptl=floorId:34371;originalFloorId:34371;pvid:100_11.229.250.224_30180_6961605751530266088;app_pvid:59590_33.3.247.237_605_1605751530257&union_lens=lensId%3AOPT%401605751530%402103f7ed_06cc_175de3fe3c3_8507%4001\",\"udf_temp_store\":{},\"lensId\":\"OPT@1605751530@2103f7ed_06cc_175de3fe3c3_8507@01\"},{\"floorId\":34371,\"itemId\":\"629307310207\",\"itemName\":\"Lenovo/联想 小新 AIR14 锐龙版/小新15轻薄商务游戏本<span class=H>笔记本</span>电脑\",\"subTitle\":\"\",\"userType\":0,\"isTmall\":false,\"sellerId\":2208045841646,\"reservePrice\":\"4349\",\"price\":\"4349\",\"promotionPrice\":\"4349\",\"priceAfterCoupon\":\"4249.00\",\"originalTkSpRates\":\"\",\"zkSalesPrice\":\"0.00\",\"pic\":\"//img.alicdn.com/bao/uploaded/i2/2208045841646/O1CN01guF1Dx1O1uXUWyNd4_!!2208045841646.jpg\",\"couponAmount\":\"100\",\"couponSendCount\":15,\"couponTotalCount\":100000,\"couponTag\":\"41196001\",\"couponEffectiveStartTime\":\"1604937600000\",\"couponEffectiveEndTime\":\"1609430399000\",\"couponStartFee\":\"2020\",\"monthSellCount\":\"69\",\"nick\":\"tb7815487723\",\"realPostFee\":\"30.00\",\"auctionTags\":\"385 843 1163 1483 2059 2315 4491 4555 5190 5323 7883 11083 11339 11467 12427 19787 22155 25282 36610 44545 48578 52290 59970 67521 85249 104514 131713 227457 241218 388354 426754 484098 1441090 1624194 1691586 1702530 1769346\",\"ostime\":null,\"oetime\":null,\"jddPrice\":null,\"jddNum\":null,\"uvSumPreSale\":\"\",\"couponShareUrl\":\"//uland.taobao.com/coupon/edetail?e=9FE%2Fk%2F%2Bo%2FsoNfLV8niU3R40dlhWtfp96Ng4Gqf8CT4BnmB%2Fzds2ljTq0gYdqtSBkvooaKJ6baRssHefUD3pJVFyyRsLQYwaHvB3FlNvlg%2FD%2BX6jzHDW6A9CRgSbn%2BRpvvDXPEvwhPbcASP%2FfrJbD45fFx1YWNHTw6H5C3fsK10mDC0%2Fd%2F%2B1ZyAzUv%2BYStry7WRP66uzeo7Y%3D&&app_pvid=59590_33.3.247.237_605_1605751530257&ptl=floorId:34371;app_pvid:59590_33.3.247.237_605_1605751530257;tpp_pvid:100_11.229.250.224_30180_6961605751530266088&union_lens=lensId%3AOPT%401605751530%402103f7ed_06cc_175de3fe3c3_8508%4001\",\"url\":\"//s.click.taobao.com/t?e=m%3D2%26s%3Db%2Bn0%2F9bo0Alw4vFB6t2Z2ueEDrYVVa64qYbrUZilZ4UKwPl3T8wu7Hq9Oxuj2hhdeMWMkvOuGu1pav%2FfWtOoXJBd%2FLLdqLkGnXXh09ZhQLa6kw7MOHsoJMf7AdObD3K18BLp0XGVht2K2zyq7tj0VgOgfOiNbOTvfdxCIjlwXJ0Mlu5kMKse3g%3D%3D&scm=null&pvid=100_11.229.250.224_30180_6961605751530266088&app_pvid=59590_33.3.247.237_605_1605751530257&ptl=floorId:34371;originalFloorId:34371;pvid:100_11.229.250.224_30180_6961605751530266088;app_pvid:59590_33.3.247.237_605_1605751530257&union_lens=lensId%3AOPT%401605751530%402103f7ed_06cc_175de3fe3c3_8508%4001\",\"udf_temp_store\":{},\"lensId\":\"OPT@1605751530@2103f7ed_06cc_175de3fe3c3_8508@01\"},{\"floorId\":34371,\"itemId\":\"620314907574\",\"itemName\":\"Lenovo/联想 拯救者 Y7000P新款R7000P游戏本<span class=H>笔记本</span>电脑学生轻薄\",\"subTitle\":\"\",\"userType\":0,\"isTmall\":false,\"sellerId\":2208045841646,\"reservePrice\":\"5698\",\"price\":\"5698\",\"promotionPrice\":\"5698\",\"priceAfterCoupon\":\"5598.00\",\"originalTkSpRates\":\"\",\"zkSalesPrice\":\"0.00\",\"pic\":\"//img.alicdn.com/bao/uploaded/i4/2208045841646/O1CN01Mnk1N01O1uWqj6oJA_!!2208045841646.jpg\",\"couponAmount\":\"100\",\"couponSendCount\":15,\"couponTotalCount\":100000,\"couponTag\":\"41196001\",\"couponEffectiveStartTime\":\"1604937600000\",\"couponEffectiveEndTime\":\"1609430399000\",\"couponStartFee\":\"2020\",\"monthSellCount\":\"59\",\"nick\":\"tb7815487723\",\"realPostFee\":\"0.00\",\"auctionTags\":\"385 843 1163 1483 2059 2315 4491 4555 5190 5323 7883 11083 11339 11467 12427 19787 22155 25282 36610 44545 48578 52290 67521 85249 104514 131713 227457 388354 1445762 1624194 1691586 1702530 1769346 1772034 1779714\",\"ostime\":null,\"oetime\":null,\"jddPrice\":null,\"jddNum\":null,\"uvSumPreSale\":\"\",\"couponShareUrl\":\"//uland.taobao.com/coupon/edetail?e=iG0pfCft2jUNfLV8niU3R40dlhWtfp96Ng4Gqf8CT4BnmB%2Fzds2ljfkdXmSYDjXudOTDVc7mVBUsHefUD3pJVFyyRsLQYwaHvB3FlNvlg%2FD%2BX6jzHDW6A9CRgSbn%2BRpv6TqBrablRId1sjQ4dzOd7ZfFx1YWNHTw6H5C3fsK10mDC0%2Fd%2F%2B1ZyAzUv%2BYStry7WRP66uzeo7Y%3D&&app_pvid=59590_33.3.247.237_605_1605751530257&ptl=floorId:34371;app_pvid:59590_33.3.247.237_605_1605751530257;tpp_pvid:100_11.229.250.224_30180_6961605751530266088&union_lens=lensId%3AOPT%401605751530%402103f7ed_06cc_175de3fe3c3_8509%4001\",\"url\":\"//s.click.taobao.com/t?e=m%3D2%26s%3DprjsH%2F%2FvTbJw4vFB6t2Z2ueEDrYVVa64qYbrUZilZ4UKwPl3T8wu7Hq9Oxuj2hhdeMWMkvOuGu1pav%2FfWtOoXJBd%2FLLdqLkGnXXh09ZhQLa6kw7MOHsoJMf7AdObD3K18BLp0XGVht2K2zyq7tj0ViJ272vNton4NVOB83uznxBMdIp1rr4P3Q%3D%3D&scm=null&pvid=100_11.229.250.224_30180_6961605751530266088&app_pvid=59590_33.3.247.237_605_1605751530257&ptl=floorId:34371;originalFloorId:34371;pvid:100_11.229.250.224_30180_6961605751530266088;app_pvid:59590_33.3.247.237_605_1605751530257&union_lens=lensId%3AOPT%401605751530%402103f7ed_06cc_175de3fe3c3_8509%4001\",\"udf_temp_store\":{},\"lensId\":\"OPT@1605751530@2103f7ed_06cc_175de3fe3c3_8509@01\"},{\"floorId\":34371,\"itemId\":\"595707540557\",\"itemName\":\"【新品】联想小新air14 2021 十一代酷睿i5<span class=H>笔记本</span>电脑MX450独显轻薄超便携学生女商务办公R5官方旗舰店正品\",\"subTitle\":\"2021款新品/11代酷睿i5/MX450独显\",\"userType\":1,\"isTmall\":true,\"sellerId\":4173350239,\"reservePrice\":\"5099\",\"price\":\"5099\",\"promotionPrice\":\"5099\",\"priceAfterCoupon\":\"4899.00\",\"originalTkSpRates\":\"\",\"zkSalesPrice\":\"0.00\",\"pic\":\"//img.alicdn.com/bao/uploaded/i1/4173350239/O1CN01aIQXvE1DdVIKXMs9W_!!0-item_pic.jpg\",\"couponAmount\":\"200\",\"couponSendCount\":472,\"couponTotalCount\":5000,\"couponTag\":\"0\",\"couponEffectiveStartTime\":\"1605283200000\",\"couponEffectiveEndTime\":\"1605887999000\",\"couponStartFee\":\"1980\",\"monthSellCount\":\"115\",\"nick\":\"联想爱特家专卖店\",\"realPostFee\":\"0.00\",\"auctionTags\":\"385 843 1163 1478 1483 1923 2049 2059 2315 3974 4166 4491 4555 5323 7883 11083 11339 11467 11846 12427 19787 21442 21762 22155 25282 33217 40897 49218 67521 70402 101762 107842 115329 120577 123649 123905 131713 137281 143746 144385 161793 161921 172226 176769 183425 188609 188673 192769 200002 200321 214273 217985 218049 218177 218369 231553 241218 249858 257666 257730 257794 257858 257986 281666 284802 299394 299458 348546 363650 363714 363778 363842 363906 363970 364034 364610 368386 368962 369218 371074 371650 386114 386242 388354 402434 427458 455554 481986 484866 490498 493250 504066 508418 508674 540482 540546 544322 775554 1259330 1286402 1288066 1322626 1337858 1398722 1426690 1443906 1550466 1602178 1645570 1648770 1657986 1664962 1665026 1691586 1702530 1769346\",\"ostime\":null,\"oetime\":null,\"jddPrice\":null,\"jddNum\":null,\"uvSumPreSale\":\"\",\"couponShareUrl\":\"//uland.taobao.com/coupon/edetail?e=tHrHLoTknvcNfLV8niU3R40dlhWtfp96Ng4Gqf8CT4Ca4Z%2FaHMpJXoYEWeMIVJ4MmMHpNfYdHdAPkf%2BIwRD1B%2FfL1Y0L1DgsL58N9XQN5aZK8rZ3A2zQf9%2B%2Fb%2B55Rxf2QFjIuCqeULxJMuaV%2Bo0st%2FZ9s%2FsqosnNgwtP3f%2FtWchIH07HK3v5wM1rh%2B4QgJspTA0FRtOwCuw%3D&&app_pvid=59590_33.3.247.237_605_1605751530257&ptl=floorId:34371;app_pvid:59590_33.3.247.237_605_1605751530257;tpp_pvid:100_11.229.250.224_30180_6961605751530266088&union_lens=lensId%3AOPT%401605751530%402103f7ed_06cc_175de3fe3c3_850a%4001\",\"url\":\"//s.click.taobao.com/t?e=m%3D2%26s%3DneU%2BVIJZHodw4vFB6t2Z2ueEDrYVVa64RZKDdhY4Y8EKwPl3T8wu7Hq9Oxuj2hhdeMWMkvOuGu1pav%2FfWtOoXJBd%2FLLdqLkGnXXh09ZhQLa6kw7MOHsoJMy8cQk%2FTvS2khkKo%2B7awX8NgfmVFMRC0s3qBOfFbZ%2B4DJbuZDCrHt4%3D&scm=null&pvid=100_11.229.250.224_30180_6961605751530266088&app_pvid=59590_33.3.247.237_605_1605751530257&ptl=floorId:34371;originalFloorId:34371;pvid:100_11.229.250.224_30180_6961605751530266088;app_pvid:59590_33.3.247.237_605_1605751530257&union_lens=lensId%3AOPT%401605751530%402103f7ed_06cc_175de3fe3c3_850a%4001\",\"udf_temp_store\":{},\"lensId\":\"OPT@1605751530@2103f7ed_06cc_175de3fe3c3_850a@01\"},{\"floorId\":34371,\"itemId\":\"620569891922\",\"itemName\":\"Lenovo/联想 联想小新 14轻薄便携手提办公游戏<span class=H>笔记本</span>电脑i5红色\",\"subTitle\":\"\",\"userType\":0,\"isTmall\":false,\"sellerId\":2248552825,\"reservePrice\":\"1388\",\"price\":\"1388\",\"promotionPrice\":\"1388\",\"priceAfterCoupon\":\"1388.00\",\"originalTkSpRates\":\"\",\"zkSalesPrice\":\"0.00\",\"pic\":\"//img.alicdn.com/bao/uploaded/i4/2248552825/O1CN01e4AFJN1WjtVD3NKMx_!!2248552825.jpg\",\"couponAmount\":null,\"couponSendCount\":0,\"couponTotalCount\":0,\"couponTag\":\"\",\"couponEffectiveStartTime\":\"\",\"couponEffectiveEndTime\":\"\",\"couponStartFee\":null,\"monthSellCount\":\"54\",\"nick\":\"宝宝爱妈咪32\",\"realPostFee\":\"0.00\",\"auctionTags\":\"385 843 1163 1483 2059 2315 4491 4555 5190 5323 7883 11083 11339 11467 11846 12427 19787 22155 25282 36610 40897 48578 52290 59970 67521 104514 123905 131713 216513 241218 362178 368066 388354 426754 484098 544322 545218 1362178 1362242 1441090 1445762 1602178 1624194 1648770 1691458 1691586 1702530 1768002 1769346 1770114 1770178 1770306 1770370\",\"ostime\":null,\"oetime\":null,\"jddPrice\":null,\"jddNum\":null,\"uvSumPreSale\":\"\",\"couponShareUrl\":null,\"url\":\"//s.click.taobao.com/t?e=m%3D2%26s%3DCJ3ckOgNdFpw4vFB6t2Z2ueEDrYVVa64qYbrUZilZ4UKwPl3T8wu7Hq9Oxuj2hhdeMWMkvOuGu1pav%2FfWtOoXJBd%2FLLdqLkGnXXh09ZhQLa6kw7MOHsoJIn2tCFEvuZRrhr62p%2Fjuvks9J4%2B%2BX08Vm2XHA9Okuo9OYQwrhPE0iw%3D&scm=null&pvid=100_11.229.250.224_30180_6961605751530266088&app_pvid=59590_33.3.247.237_605_1605751530257&ptl=floorId:34371;originalFloorId:34371;pvid:100_11.229.250.224_30180_6961605751530266088;app_pvid:59590_33.3.247.237_605_1605751530257&union_lens=lensId%3AOPT%401605751530%402103f7ed_06cc_175de3fe3c3_850b%4001\",\"udf_temp_store\":{},\"lensId\":\"OPT@1605751530@2103f7ed_06cc_175de3fe3c3_850b@01\"},{\"floorId\":34371,\"itemId\":\"603337030547\",\"itemName\":\"联想小新Air14 2020款锐龙六核R5 4600<span class=H>笔记本</span>电脑超轻薄 便携学生办公商务手提游戏官方旗舰小新Air15 2021款\",\"subTitle\":\"背光键盘 指纹解锁 Fn+Q双模式\",\"userType\":1,\"isTmall\":true,\"sellerId\":2435538353,\"reservePrice\":\"4399\",\"price\":\"4399\",\"promotionPrice\":\"4399\",\"priceAfterCoupon\":\"4279.00\",\"originalTkSpRates\":\"\",\"zkSalesPrice\":\"0.00\",\"pic\":\"//img.alicdn.com/bao/uploaded/i3/2435538353/O1CN01CTLHfD2BZiyYROBwq_!!0-item_pic.jpg\",\"couponAmount\":\"120\",\"couponSendCount\":1392,\"couponTotalCount\":50000,\"couponTag\":\"0\",\"couponEffectiveStartTime\":\"1605283200000\",\"couponEffectiveEndTime\":\"1606060799000\",\"couponStartFee\":\"888\",\"monthSellCount\":\"388\",\"nick\":\"联想睿坤专卖店\",\"realPostFee\":\"0.00\",\"auctionTags\":\"385 843 1163 1478 1483 1923 2049 2059 2315 3974 4166 4491 4555 5323 7046 7431 7879 7883 8263 8454 11083 11339 11467 11846 12427 19787 21442 21762 22155 25282 28353 30977 31489 33217 34433 36161 37569 39233 39553 39809 40897 49218 64129 67521 70402 70465 73793 82369 84801 101761 101762 112001 112193 115329 120962 123905 131713 143746 144385 155905 159041 161793 161921 172226 188609 188673 192769 200002 200321 202050 203138 214273 217985 218049 218177 218369 233282 241218 249858 257666 257730 257794 257858 257922 257986 281666 284802 292098 299394 299458 317634 348546 363650 363714 363778 363842 363906 363970 364034 364610 368386 369218 371650 388354 427458 481986 490498 493250 508674 519106 524418 531906 544322 775554 1259330 1286402 1288066 1322626 1337858 1398722 1426690 1429634 1443906 1456258 1473090 1481986 1520514 1602178 1615810 1622018 1624130 1645570 1648770 1657986 1664962 1665026 1691586 1702530 1769346\",\"ostime\":null,\"oetime\":null,\"jddPrice\":null,\"jddNum\":null,\"uvSumPreSale\":\"\",\"couponShareUrl\":\"//uland.taobao.com/coupon/edetail?e=ccO55VdC8ocNfLV8niU3R40dlhWtfp96Ng4Gqf8CT4Am7%2F0rZ%2FeN5JNPy5uTxa1gmMHpNfYdHdAPkf%2BIwRD1B%2FfL1Y0L1DgsL58N9XQN5aZK8rZ3A2zQf6bHv%2FFimYHadsSSg8xDSGCOnd%2F7uYAm0KWY5EPMy%2B%2FEgwtP3f%2FtWchIH07HK3v5wM1rh%2B4QgJspTA0FRtOwCuw%3D&&app_pvid=59590_33.3.247.237_605_1605751530257&ptl=floorId:34371;app_pvid:59590_33.3.247.237_605_1605751530257;tpp_pvid:100_11.229.250.224_30180_6961605751530266088&union_lens=lensId%3AOPT%401605751530%402103f7ed_06cc_175de3fe3c3_850c%4001\",\"url\":\"//s.click.taobao.com/t?e=m%3D2%26s%3DX5fRrqfkTNZw4vFB6t2Z2ueEDrYVVa64RZKDdhY4Y8EKwPl3T8wu7Hq9Oxuj2hhdeMWMkvOuGu1pav%2FfWtOoXJBd%2FLLdqLkGnXXh09ZhQLa6kw7MOHsoJIN2%2Bmts5Rx%2Btuxy9Ey3W%2ByTqurm8xEv%2B4k8NHmjGMxCDJbuZDCrHt4%3D&scm=null&pvid=100_11.229.250.224_30180_6961605751530266088&app_pvid=59590_33.3.247.237_605_1605751530257&ptl=floorId:34371;originalFloorId:34371;pvid:100_11.229.250.224_30180_6961605751530266088;app_pvid:59590_33.3.247.237_605_1605751530257&union_lens=lensId%3AOPT%401605751530%402103f7ed_06cc_175de3fe3c3_850c%4001\",\"udf_temp_store\":{},\"lensId\":\"OPT@1605751530@2103f7ed_06cc_175de3fe3c3_850c@01\"},{\"floorId\":34371,\"itemId\":\"615480064600\",\"itemName\":\"Lenovo/联想 拯救者Y7000P i7R7000学生游戏<span class=H>笔记本</span>电脑吃鸡商务\",\"subTitle\":\"\",\"userType\":0,\"isTmall\":false,\"sellerId\":2207893957876,\"reservePrice\":\"3999\",\"price\":\"3999\",\"promotionPrice\":\"3999\",\"priceAfterCoupon\":\"3969.00\",\"originalTkSpRates\":\"\",\"zkSalesPrice\":\"0.00\",\"pic\":\"//img.alicdn.com/bao/uploaded/i1/2207893957876/O1CN01pAtp4d283G2hjCfSH_!!2207893957876.jpg\",\"couponAmount\":\"30\",\"couponSendCount\":92,\"couponTotalCount\":1000,\"couponTag\":\"0\",\"couponEffectiveStartTime\":\"1604678400000\",\"couponEffectiveEndTime\":\"1607183999000\",\"couponStartFee\":\"1999\",\"monthSellCount\":\"61\",\"nick\":\"品牌电脑7711\",\"realPostFee\":\"0.00\",\"auctionTags\":\"843 1163 1483 2059 2315 4491 4555 5190 5323 7883 11083 11339 11467 11846 12427 19787 22155 25282 36610 48578 52290 59970 67521 85249 104514 120962 131713 172226 241218 388354 426754 484098 544322 1362178 1362242 1441090 1445762 1624194 1648770 1691458 1691586 1702530 1769346\",\"ostime\":null,\"oetime\":null,\"jddPrice\":null,\"jddNum\":null,\"uvSumPreSale\":\"\",\"couponShareUrl\":\"//uland.taobao.com/coupon/edetail?e=phVZQY4RMsANfLV8niU3R40dlhWtfp96Ng4Gqf8CT4DhbpIruSRJ25I6cuciVqjmmMHpNfYdHdAPkf%2BIwRD1B%2FfL1Y0L1DgsL58N9XQN5aZK8rZ3A2zQf7pK%2BiB0fEdkEIJup%2BJFGN3GMt57NCegP5rEBHLswXfxMHfljBQlcDrIGNNkxyNsZQzUv%2BYStry7WRP66uzeo7Y%3D&&app_pvid=59590_33.3.247.237_605_1605751530257&ptl=floorId:34371;app_pvid:59590_33.3.247.237_605_1605751530257;tpp_pvid:100_11.229.250.224_30180_6961605751530266088&union_lens=lensId%3AOPT%401605751530%402103f7ed_06cc_175de3fe3c3_850d%4001\",\"url\":\"//s.click.taobao.com/t?e=m%3D2%26s%3DNcAaL4tAJ65w4vFB6t2Z2ueEDrYVVa64qYbrUZilZ4UKwPl3T8wu7Hq9Oxuj2hhdeMWMkvOuGu1pav%2FfWtOoXJBd%2FLLdqLkGnXXh09ZhQLa6kw7MOHsoJEueEbvh9P1LSCp9VepK3TCbQ6jhE%2BKC0RCoG7Btx1dd2sKW3X2oGn7GJe8N%2FwNpGw%3D%3D&scm=null&pvid=100_11.229.250.224_30180_6961605751530266088&app_pvid=59590_33.3.247.237_605_1605751530257&ptl=floorId:34371;originalFloorId:34371;pvid:100_11.229.250.224_30180_6961605751530266088;app_pvid:59590_33.3.247.237_605_1605751530257&union_lens=lensId%3AOPT%401605751530%402103f7ed_06cc_175de3fe3c3_850d%4001\",\"udf_temp_store\":{},\"lensId\":\"OPT@1605751530@2103f7ed_06cc_175de3fe3c3_850d@01\"},{\"floorId\":34371,\"itemId\":\"612588434501\",\"itemName\":\"Lenovo/联想 G40-80商务办公轻薄便携i5游戏本独显学生<span class=H>笔记本</span>电脑\",\"subTitle\":\"\",\"userType\":0,\"isTmall\":false,\"sellerId\":714010059,\"reservePrice\":\"1350\",\"price\":\"1350\",\"promotionPrice\":\"1350\",\"priceAfterCoupon\":\"1320.00\",\"originalTkSpRates\":\"1000\",\"zkSalesPrice\":\"0.00\",\"pic\":\"//img.alicdn.com/bao/uploaded/i1/714010059/O1CN01uqK0SD1CJ3x5JxpzH_!!714010059.jpg\",\"couponAmount\":\"30\",\"couponSendCount\":424,\"couponTotalCount\":10000,\"couponTag\":\"0\",\"couponEffectiveStartTime\":\"1602086400000\",\"couponEffectiveEndTime\":\"1606751999000\",\"couponStartFee\":\"1300\",\"monthSellCount\":\"264\",\"nick\":\"高耀寒2011\",\"realPostFee\":\"0.00\",\"auctionTags\":\"385 843 1163 1483 2059 2315 4491 4555 5190 5323 7883 11083 11339 11467 11846 12427 19787 22155 25282 28353 36610 40897 48578 52290 59970 66241 67521 100609 104514 115329 120962 123905 131713 145857 149057 172226 241218 388354 426754 484098 544322 1337858 1362178 1362242 1441090 1445762 1589442 1602178 1624194 1648770 1691458 1691586 1702530 1769346\",\"ostime\":null,\"oetime\":null,\"jddPrice\":null,\"jddNum\":null,\"uvSumPreSale\":\"\",\"couponShareUrl\":\"//uland.taobao.com/coupon/edetail?e=j1CtFGwxQSENfLV8niU3R40dlhWtfp96Ng4Gqf8CT4AMzmlbq6X1Ce8Fem9OAt6RmMHpNfYdHdAPkf%2BIwRD1B%2FfL1Y0L1DgsL58N9XQN5aZK8rZ3A2zQf7pK%2BiB0fEdkMIeIYqR1eUGam95Iudm8EQsUm%2F1pujUmnV%2Fkd6as0uS8HzXEgh689T5%2F6mJ0IOYhJTNWSR3CwiY%3D&&app_pvid=59590_33.3.247.237_605_1605751530257&ptl=floorId:34371;app_pvid:59590_33.3.247.237_605_1605751530257;tpp_pvid:100_11.229.250.224_30180_6961605751530266088&union_lens=lensId%3AOPT%401605751530%402103f7ed_06cc_175de3fe3c3_850e%4001\",\"url\":\"//s.click.taobao.com/t?e=m%3D2%26s%3DI7%2B4bUa%2BYoxw4vFB6t2Z2ueEDrYVVa64Vb0yt%2F5tJWX%2BmkB8Ys0cBZdOwQLjTps3lc2MxE3r9TvbUz3vG%2FGJ%2FUDRWTB43ZUaHIa9RbrgZYzCwiYxkgA7PgCUb1sLl7S6WKW3hxIzsaSkdyGFZWUOisA%2FAtz1%2FK0MPaXg%2FKwnH88%3D&scm=null&pvid=100_11.229.250.224_30180_6961605751530266088&app_pvid=59590_33.3.247.237_605_1605751530257&ptl=floorId:34371;originalFloorId:34371;pvid:100_11.229.250.224_30180_6961605751530266088;app_pvid:59590_33.3.247.237_605_1605751530257&union_lens=lensId%3AOPT%401605751530%402103f7ed_06cc_175de3fe3c3_850e%4001\",\"udf_temp_store\":{},\"lensId\":\"OPT@1605751530@2103f7ed_06cc_175de3fe3c3_850e@01\"},{\"floorId\":34371,\"itemId\":\"630579595584\",\"itemName\":\"Lenovo/联想 小新Pro14轻薄<span class=H>笔记本</span>电脑2021新款11代i5酷睿2.2K高分辨14英寸全面屏人脸识别雷电4接口金属机身\",\"subTitle\":\"【11代酷睿】【现货直发】\",\"userType\":1,\"isTmall\":true,\"sellerId\":2206353795127,\"reservePrice\":\"5999\",\"price\":\"5999\",\"promotionPrice\":\"5999\",\"priceAfterCoupon\":\"5899.00\",\"originalTkSpRates\":\"50\",\"zkSalesPrice\":\"0.00\",\"pic\":\"//img.alicdn.com/bao/uploaded/i4/2206353795127/O1CN017IUFPO1nkDGZiKJz6_!!0-item_pic.jpg\",\"couponAmount\":\"100\",\"couponSendCount\":1907,\"couponTotalCount\":10000,\"couponTag\":\"0\",\"couponEffectiveStartTime\":\"1605110400000\",\"couponEffectiveEndTime\":\"1606924799000\",\"couponStartFee\":\"888\",\"monthSellCount\":\"353\",\"nick\":\"联想斯泰通添专卖店\",\"realPostFee\":\"0.00\",\"auctionTags\":\"385 843 1163 1478 1483 2049 2059 2315 3974 4166 4491 4555 5323 7883 11083 11339 11467 11846 12427 19787 21442 21762 22155 25282 33217 39809 49218 65281 67521 70402 101761 101762 120577 131713 137281 143746 161793 162177 172226 188609 188673 192769 194306 200002 200321 214273 217985 218049 218369 249858 257666 257730 257794 257858 257922 257986 273282 281602 281666 292098 299394 346114 348546 363650 363714 363778 363842 363906 363970 364034 364610 427458 432834 531906 544322 1337858 1622018 1648770 1665026 1691586 1702530 1769346 1772034\",\"ostime\":null,\"oetime\":null,\"jddPrice\":null,\"jddNum\":null,\"uvSumPreSale\":\"\",\"couponShareUrl\":\"//uland.taobao.com/coupon/edetail?e=6MIHIDYbJE4NfLV8niU3R40dlhWtfp96Ng4Gqf8CT4CjnITC2FWHIugHIC6z1YTSmMHpNfYdHdAPkf%2BIwRD1B%2FfL1Y0L1DgsL58N9XQN5aZK8rZ3A2zQf4l%2BFkIjiPH%2FzyOXdzCpJGZjf3qGLW0xfPQkbnPJpoDWNY44q8xP3dDIGNNkxyNsZQzUv%2BYStry7fjh37OZy0Bg%3D&&app_pvid=59590_33.3.247.237_605_1605751530257&ptl=floorId:34371;app_pvid:59590_33.3.247.237_605_1605751530257;tpp_pvid:100_11.229.250.224_30180_6961605751530266088&union_lens=lensId%3AOPT%401605751530%402103f7ed_06cc_175de3fe3c3_850f%4001\",\"url\":\"//s.click.taobao.com/t?e=m%3D2%26s%3Dt3QRbPk0xy9w4vFB6t2Z2ueEDrYVVa64RZKDdhY4Y8EKwPl3T8wu7Hq9Oxuj2hhdeMWMkvOuGu1pav%2FfWtOoXJBd%2FLLdqLkGnXXh09ZhQLa6kw7MOHsoJHnzcuD%2FUNyqw7gOWiYfdyjjK7YkfFzKoSaV%2Fa0y0ACQRMhlw1WlnT7GJe8N%2FwNpGw%3D%3D&scm=null&pvid=100_11.229.250.224_30180_6961605751530266088&app_pvid=59590_33.3.247.237_605_1605751530257&ptl=floorId:34371;originalFloorId:34371;pvid:100_11.229.250.224_30180_6961605751530266088;app_pvid:59590_33.3.247.237_605_1605751530257&union_lens=lensId%3AOPT%401605751530%402103f7ed_06cc_175de3fe3c3_850f%4001\",\"udf_temp_store\":{},\"lensId\":\"OPT@1605751530@2103f7ed_06cc_175de3fe3c3_850f@01\"},{\"floorId\":34371,\"itemId\":\"604804159934\",\"itemName\":\"Lenovo/联想 小新 Pro 13 2020 13.3英寸全面屏超轻薄便携<span class=H>笔记本</span>\",\"subTitle\":\"\",\"userType\":0,\"isTmall\":false,\"sellerId\":56651682,\"reservePrice\":\"4599\",\"price\":\"4599\",\"promotionPrice\":\"4599\",\"priceAfterCoupon\":\"4589.00\",\"originalTkSpRates\":\"\",\"zkSalesPrice\":\"0.00\",\"pic\":\"//img.alicdn.com/bao/uploaded/i2/56651682/O1CN01iW5pat1OIOot2Oq35_!!56651682.jpg\",\"couponAmount\":\"10\",\"couponSendCount\":1271,\"couponTotalCount\":9999,\"couponTag\":\"28\",\"couponEffectiveStartTime\":\"1604160000000\",\"couponEffectiveEndTime\":\"1606838399000\",\"couponStartFee\":\"2000\",\"monthSellCount\":\"37\",\"nick\":\"xu31301076\",\"realPostFee\":\"0.00\",\"auctionTags\":\"843 1159 1163 1483 2059 2315 3974 4491 4555 5190 5323 7883 11083 11339 11467 12427 19787 21442 22155 25282 28353 36610 40897 48578 52290 53121 59970 65281 85249 104514 118465 123905 143746 149057 172226 241218 368450 368962 426754 443650 484098 1288066 1337858 1362178 1441090 1445762 1624194 1691458 1691586 1702530 1769346 1779394 1783234\",\"ostime\":null,\"oetime\":null,\"jddPrice\":null,\"jddNum\":null,\"uvSumPreSale\":\"\",\"couponShareUrl\":\"//uland.taobao.com/coupon/edetail?e=9hYCYWRiPpINfLV8niU3R40dlhWtfp96Ng4Gqf8CT4BON51hmzZAx59ZY7KBvwLomMHpNfYdHdAPkf%2BIwRD1B%2FfL1Y0L1DgsL58N9XQN5aZK8rZ3A2zQf6bHv%2FFimYHa0p9WV0fa61TQ82QPOuhybh3%2BJlUw%2BNoMQyEPzSpJOqU%2BInh8FV60jeIg09jheaZgonv6QcvcARY%3D&&app_pvid=59590_33.3.247.237_605_1605751530257&ptl=floorId:34371;app_pvid:59590_33.3.247.237_605_1605751530257;tpp_pvid:100_11.229.250.224_30180_6961605751530266088&union_lens=lensId%3AOPT%401605751530%402103f7ed_06cc_175de3fe3c3_8510%4001\",\"url\":\"//s.click.taobao.com/t?e=m%3D2%26s%3DTuZHe6Ifhrpw4vFB6t2Z2ueEDrYVVa64qYbrUZilZ4UKwPl3T8wu7Hq9Oxuj2hhdeMWMkvOuGu1pav%2FfWtOoXJBd%2FLLdqLkGnXXh09ZhQLa6kw7MOHsoJNRl9Dgoa3LY5mZrbNP4iEbv6%2B%2BbtanYmUif9LngSgMScSpj5qSCmbA%3D&scm=null&pvid=100_11.229.250.224_30180_6961605751530266088&app_pvid=59590_33.3.247.237_605_1605751530257&ptl=floorId:34371;originalFloorId:34371;pvid:100_11.229.250.224_30180_6961605751530266088;app_pvid:59590_33.3.247.237_605_1605751530257&union_lens=lensId%3AOPT%401605751530%402103f7ed_06cc_175de3fe3c3_8510%4001\",\"udf_temp_store\":{},\"lensId\":\"OPT@1605751530@2103f7ed_06cc_175de3fe3c3_8510@01\"},{\"floorId\":34371,\"itemId\":\"615503412700\",\"itemName\":\"Lenovo/联想小新AIR14游戏2020新款窄边I5/I7轻薄学生电脑<span class=H>笔记本</span>\",\"subTitle\":\"\",\"userType\":0,\"isTmall\":false,\"sellerId\":2207893957876,\"reservePrice\":\"2699\",\"price\":\"2699\",\"promotionPrice\":\"2699\",\"priceAfterCoupon\":\"2649.00\",\"originalTkSpRates\":\"\",\"zkSalesPrice\":\"0.00\",\"pic\":\"//img.alicdn.com/bao/uploaded/i4/2207893957876/O1CN01FM0WH8283G1mybMRH_!!2207893957876.jpg\",\"couponAmount\":\"50\",\"couponSendCount\":34,\"couponTotalCount\":1000,\"couponTag\":\"0\",\"couponEffectiveStartTime\":\"1604678400000\",\"couponEffectiveEndTime\":\"1607183999000\",\"couponStartFee\":\"1999\",\"monthSellCount\":\"36\",\"nick\":\"品牌电脑7711\",\"realPostFee\":\"0.00\",\"auctionTags\":\"843 1163 1483 2059 2315 4491 4555 5190 5323 7883 11083 11339 11467 11846 12427 19787 21442 22155 25282 36610 48578 52290 59970 67521 72962 85249 104514 120962 131713 143746 172226 241218 388354 426754 484098 544322 1362178 1362242 1441090 1445762 1589442 1624194 1648770 1665474 1691458 1691586 1702530 1762370 1769346 1770114 1770306 1770370 1778946\",\"ostime\":null,\"oetime\":null,\"jddPrice\":null,\"jddNum\":null,\"uvSumPreSale\":\"\",\"couponShareUrl\":\"//uland.taobao.com/coupon/edetail?e=OSg%2FX45T4zENfLV8niU3R40dlhWtfp96Ng4Gqf8CT4DxKinbsBN%2FygevR9cWgbkSmMHpNfYdHdAPkf%2BIwRD1B%2FfL1Y0L1DgsL58N9XQN5aZK8rZ3A2zQf7pK%2BiB0fEdk2Dno6hJt4kHGMt57NCegP5rEBHLswXfxMHfljBQlcDrIGNNkxyNsZQzUv%2BYStry7WRP66uzeo7Y%3D&&app_pvid=59590_33.3.247.237_605_1605751530257&ptl=floorId:34371;app_pvid:59590_33.3.247.237_605_1605751530257;tpp_pvid:100_11.229.250.224_30180_6961605751530266088&union_lens=lensId%3AOPT%401605751530%402103f7ed_06cc_175de3fe3c3_8511%4001\",\"url\":\"//s.click.taobao.com/t?e=m%3D2%26s%3D0KEU7afIzrxw4vFB6t2Z2ueEDrYVVa64qYbrUZilZ4UKwPl3T8wu7Hq9Oxuj2hhdeMWMkvOuGu1pav%2FfWtOoXJBd%2FLLdqLkGnXXh09ZhQLa6kw7MOHsoJEueEbvh9P1LSCp9VepK3TCbQ6jhE%2BKC0c6DdkdjfFfKzEWZ7NGK2tXGJe8N%2FwNpGw%3D%3D&scm=null&pvid=100_11.229.250.224_30180_6961605751530266088&app_pvid=59590_33.3.247.237_605_1605751530257&ptl=floorId:34371;originalFloorId:34371;pvid:100_11.229.250.224_30180_6961605751530266088;app_pvid:59590_33.3.247.237_605_1605751530257&union_lens=lensId%3AOPT%401605751530%402103f7ed_06cc_175de3fe3c3_8511%4001\",\"udf_temp_store\":{},\"lensId\":\"OPT@1605751530@2103f7ed_06cc_175de3fe3c3_8511@01\"},{\"floorId\":34371,\"itemId\":\"619764150402\",\"itemName\":\"【酷睿十代i5】Lenovo/联想 扬天v340 2020新款 <span class=H>笔记本</span>电脑 商务办公学生游戏轻薄便携超级本\",\"subTitle\":\"指纹解锁 背光键盘 高清大屏\",\"userType\":1,\"isTmall\":true,\"sellerId\":2208105026036,\"reservePrice\":\"4499\",\"price\":\"4499\",\"promotionPrice\":\"4499\",\"priceAfterCoupon\":\"4299.00\",\"originalTkSpRates\":\"\",\"zkSalesPrice\":\"0.00\",\"pic\":\"//img.alicdn.com/bao/uploaded/i1/2208105026036/O1CN01ff601h1uSXI158RYI_!!0-item_pic.jpg\",\"couponAmount\":\"200\",\"couponSendCount\":610,\"couponTotalCount\":2000,\"couponTag\":\"0\",\"couponEffectiveStartTime\":\"1603900800000\",\"couponEffectiveEndTime\":\"1606751999000\",\"couponStartFee\":\"4000\",\"monthSellCount\":\"34\",\"nick\":\"联想添泰专卖店\",\"realPostFee\":\"0.00\",\"auctionTags\":\"385 843 1163 1478 1483 1923 2049 2059 2315 3974 4166 4491 4555 5323 7883 8263 11083 11339 11467 11846 12427 19787 21442 21762 22155 25282 33217 49218 65281 67521 70402 101761 101762 107842 120962 131713 143746 200002 214529 217985 218177 218369 241218 249858 257986 281666 299394 363970 364610 427458 544322 1443906 1499202 1622018 1645570 1648770 1657986 1664962 1665026 1691458 1691586 1702530 1769346\",\"ostime\":null,\"oetime\":null,\"jddPrice\":null,\"jddNum\":null,\"uvSumPreSale\":\"\",\"couponShareUrl\":\"//uland.taobao.com/coupon/edetail?e=50MD5nxNH2YNfLV8niU3R40dlhWtfp96Ng4Gqf8CT4AVsUrvc1l2r2swvOZlq9ikmMHpNfYdHdAPkf%2BIwRD1B%2FfL1Y0L1DgsL58N9XQN5aZK8rZ3A2zQf7pK%2BiB0fEdkVwqz2C3GtIpNcH1NUkvtVaPqkexi5ihdbIJ%2F4GPz3i%2FIGNNkxyNsZQzUv%2BYStry7fjh37OZy0Bg%3D&&app_pvid=59590_33.3.247.237_605_1605751530257&ptl=floorId:34371;app_pvid:59590_33.3.247.237_605_1605751530257;tpp_pvid:100_11.229.250.224_30180_6961605751530266088&union_lens=lensId%3AOPT%401605751530%402103f7ed_06cc_175de3fe3c3_8512%4001\",\"url\":\"//s.click.taobao.com/t?e=m%3D2%26s%3DOKLkXFg6sjJw4vFB6t2Z2ueEDrYVVa64RZKDdhY4Y8EKwPl3T8wu7Hq9Oxuj2hhdeMWMkvOuGu1pav%2FfWtOoXJBd%2FLLdqLkGnXXh09ZhQLa6kw7MOHsoJMf7AdObD3K1v4AVu1LiecSbQ6jhE%2BKC0RlAHocEdfZLNegokfgBHunGJe8N%2FwNpGw%3D%3D&scm=null&pvid=100_11.229.250.224_30180_6961605751530266088&app_pvid=59590_33.3.247.237_605_1605751530257&ptl=floorId:34371;originalFloorId:34371;pvid:100_11.229.250.224_30180_6961605751530266088;app_pvid:59590_33.3.247.237_605_1605751530257&union_lens=lensId%3AOPT%401605751530%402103f7ed_06cc_175de3fe3c3_8512%4001\",\"udf_temp_store\":{},\"lensId\":\"OPT@1605751530@2103f7ed_06cc_175de3fe3c3_8512@01\"},{\"floorId\":34371,\"itemId\":\"617569643086\",\"itemName\":\"Lenovo/联想 小新 AIR锐龙4600<span class=H>笔记本</span> i5 i7学生游戏办公电脑轻薄\",\"subTitle\":\"\",\"userType\":0,\"isTmall\":false,\"sellerId\":2207970513015,\"reservePrice\":\"2499\",\"price\":\"2499\",\"promotionPrice\":\"2499\",\"priceAfterCoupon\":\"2449.00\",\"originalTkSpRates\":\"\",\"zkSalesPrice\":\"0.00\",\"pic\":\"//img.alicdn.com/bao/uploaded/i3/2207970513015/O1CN01kcAoXp1Y8ukuVrmEf_!!2207970513015.png\",\"couponAmount\":\"50\",\"couponSendCount\":145,\"couponTotalCount\":1000,\"couponTag\":\"0\",\"couponEffectiveStartTime\":\"1604160000000\",\"couponEffectiveEndTime\":\"1609430399000\",\"couponStartFee\":\"1999\",\"monthSellCount\":\"81\",\"nick\":\"tb584106226\",\"realPostFee\":\"0.00\",\"auctionTags\":\"385 843 1163 1483 2059 2315 4491 4555 5190 5323 7883 11083 11339 11467 11846 12427 19787 21442 22155 25282 36610 48578 52290 59970 67521 85249 86786 104514 120962 131713 143746 172226 216513 241218 388354 426754 484098 544322 1441090 1445762 1589442 1600194 1602178 1624194 1648770 1691458 1691586 1702530 1762306 1762370 1769346 1770114 1770178 1770306 1770370 1770818 1778946 1779074\",\"ostime\":null,\"oetime\":null,\"jddPrice\":null,\"jddNum\":null,\"uvSumPreSale\":\"\",\"couponShareUrl\":\"//uland.taobao.com/coupon/edetail?e=BkdcIQhIlrsNfLV8niU3R40dlhWtfp96Ng4Gqf8CT4CQoCffR2BG1jY6MIjvYpofmMHpNfYdHdAPkf%2BIwRD1B%2FfL1Y0L1DgsL58N9XQN5aZK8rZ3A2zQf7pK%2BiB0fEdkHi2uJR57GztHuvbtQ1Bhr9qo9smktX4GUAxUp2p%2FEl3IGNNkxyNsZQzUv%2BYStry7WRP66uzeo7Y%3D&&app_pvid=59590_33.3.247.237_605_1605751530257&ptl=floorId:34371;app_pvid:59590_33.3.247.237_605_1605751530257;tpp_pvid:100_11.229.250.224_30180_6961605751530266088&union_lens=lensId%3AOPT%401605751530%402103f7ed_06cc_175de3fe3c3_8513%4001\",\"url\":\"//s.click.taobao.com/t?e=m%3D2%26s%3DcOHjHcFX9Xdw4vFB6t2Z2ueEDrYVVa64qYbrUZilZ4UKwPl3T8wu7Hq9Oxuj2hhdeMWMkvOuGu1pav%2FfWtOoXJBd%2FLLdqLkGnXXh09ZhQLa6kw7MOHsoJEueEbvh9P1LEJpw9B0PumfPqMAgeex7Z2zqa6qsYQ5LYBJXvxpAgADGJe8N%2FwNpGw%3D%3D&scm=null&pvid=100_11.229.250.224_30180_6961605751530266088&app_pvid=59590_33.3.247.237_605_1605751530257&ptl=floorId:34371;originalFloorId:34371;pvid:100_11.229.250.224_30180_6961605751530266088;app_pvid:59590_33.3.247.237_605_1605751530257&union_lens=lensId%3AOPT%401605751530%402103f7ed_06cc_175de3fe3c3_8513%4001\",\"udf_temp_store\":{},\"lensId\":\"OPT@1605751530@2103f7ed_06cc_175de3fe3c3_8513@01\"},{\"floorId\":34371,\"itemId\":\"585821168649\",\"itemName\":\"Lenovo/联想 拯救者 R720-15IKB吃鸡<span class=H>笔记本</span>LOL游戏本i5i7学生超薄\",\"subTitle\":\"\",\"userType\":0,\"isTmall\":false,\"sellerId\":466620602,\"reservePrice\":\"1699\",\"price\":\"1699\",\"promotionPrice\":\"1699\",\"priceAfterCoupon\":\"1649.00\",\"originalTkSpRates\":\"\",\"zkSalesPrice\":\"0.00\",\"pic\":\"//img.alicdn.com/bao/uploaded/i1/466620602/O1CN01ZEDtQj1GJl47UxHBg_!!0-item_pic.jpg\",\"couponAmount\":\"50\",\"couponSendCount\":437,\"couponTotalCount\":100000,\"couponTag\":\"0\",\"couponEffectiveStartTime\":\"1601308800000\",\"couponEffectiveEndTime\":\"1606492799000\",\"couponStartFee\":\"1000\",\"monthSellCount\":\"31\",\"nick\":\"danlitor\",\"realPostFee\":\"0.00\",\"auctionTags\":\"843 1163 1483 2059 2315 4491 4555 5190 5323 7110 7883 11083 11339 11467 11846 12427 19787 21442 22155 25282 36610 40513 48578 52290 59970 67521 73026 86786 87425 104514 120962 131713 143746 164673 172226 216513 241218 368962 388354 426754 481986 484098 493250 544322 1362178 1362242 1441090 1443906 1445762 1585794 1589442 1589634 1602178 1624194 1648770 1664898 1691458 1691586 1702530 1762306 1762370 1768002 1769346 1770114 1770178 1770306 1770370 1778946\",\"ostime\":null,\"oetime\":null,\"jddPrice\":null,\"jddNum\":null,\"uvSumPreSale\":\"\",\"couponShareUrl\":\"//uland.taobao.com/coupon/edetail?e=ewA%2FAZGjlTQNfLV8niU3R40dlhWtfp96Ng4Gqf8CT4Dw1R2eb%2BBQIF6zVWZrEBcqmMHpNfYdHdAPkf%2BIwRD1B%2FfL1Y0L1DgsL58N9XQN5aZK8rZ3A2zQf6DMcCTQGbCRSY7ezvhDKzbBS0PCjXx37%2FHRVeXFJxlZEf6uqGbvsBK8HzXEgh689T5%2F6mJ0IOYhJTNWSR3CwiY%3D&&app_pvid=59590_33.3.247.237_605_1605751530257&ptl=floorId:34371;app_pvid:59590_33.3.247.237_605_1605751530257;tpp_pvid:100_11.229.250.224_30180_6961605751530266088&union_lens=lensId%3AOPT%401605751530%402103f7ed_06cc_175de3fe3c3_8514%4001\",\"url\":\"//s.click.taobao.com/t?e=m%3D2%26s%3DThWh54vkajhw4vFB6t2Z2ueEDrYVVa64qYbrUZilZ4UKwPl3T8wu7Hq9Oxuj2hhdeMWMkvOuGu1pav%2FfWtOoXJBd%2FLLdqLkGnXXh09ZhQLa6kw7MOHsoJCDJ7gwuFs0HJhF9zwnzFTTzKugnXHMMa1pE6FgtPyOexgxdTc00KD8%3D&scm=null&pvid=100_11.229.250.224_30180_6961605751530266088&app_pvid=59590_33.3.247.237_605_1605751530257&ptl=floorId:34371;originalFloorId:34371;pvid:100_11.229.250.224_30180_6961605751530266088;app_pvid:59590_33.3.247.237_605_1605751530257&union_lens=lensId%3AOPT%401605751530%402103f7ed_06cc_175de3fe3c3_8514%4001\",\"udf_temp_store\":{},\"lensId\":\"OPT@1605751530@2103f7ed_06cc_175de3fe3c3_8514@01\"},{\"floorId\":34371,\"itemId\":\"620528170270\",\"itemName\":\"Lenovo/联想 小新 AIR14/潮7000轻薄<span class=H>笔记本</span>便携办公学生游戏电脑\",\"subTitle\":\"\",\"userType\":0,\"isTmall\":false,\"sellerId\":2206798156669,\"reservePrice\":\"1799\",\"price\":\"1799\",\"promotionPrice\":\"1799\",\"priceAfterCoupon\":\"1749.00\",\"originalTkSpRates\":\"\",\"zkSalesPrice\":\"0.00\",\"pic\":\"//img.alicdn.com/bao/uploaded/i4/2206798156669/O1CN01VyA92q1z8S0568M5N_!!0-item_pic.jpg\",\"couponAmount\":\"50\",\"couponSendCount\":31,\"couponTotalCount\":1000,\"couponTag\":\"0\",\"couponEffectiveStartTime\":\"1605283200000\",\"couponEffectiveEndTime\":\"1606751999000\",\"couponStartFee\":\"1599\",\"monthSellCount\":\"64\",\"nick\":\"lcp870528\",\"realPostFee\":\"0.00\",\"auctionTags\":\"385 843 1163 1483 2059 2315 4491 4555 5190 5323 7110 7883 11083 11339 11467 11846 12427 19787 21442 22155 25282 27137 36610 40513 48578 52290 59970 67521 85249 96002 104514 120962 131713 143746 216513 241218 362178 368066 388354 426754 484098 544322 1362178 1362242 1441090 1445762 1589442 1602178 1624194 1648770 1691458 1691586 1702530 1769346 1770306\",\"ostime\":null,\"oetime\":null,\"jddPrice\":null,\"jddNum\":null,\"uvSumPreSale\":\"\",\"couponShareUrl\":\"//uland.taobao.com/coupon/edetail?e=wromo%2BTWk7MNfLV8niU3R40dlhWtfp96Ng4Gqf8CT4BnmB%2Fzds2ljeQa9B%2BTWdDj83f00JJjEyIsHefUD3pJVFyyRsLQYwaHvB3FlNvlg%2FD%2BX6jzHDW6A9CRgSbn%2BRpvRw8YeHbKbGMei7xtCSsYW%2BGPE09pwKWLWw22%2FxavdsmDC0%2Fd%2F%2B1ZyAzUv%2BYStry7WRP66uzeo7Y%3D&&app_pvid=59590_33.3.247.237_605_1605751530257&ptl=floorId:34371;app_pvid:59590_33.3.247.237_605_1605751530257;tpp_pvid:100_11.229.250.224_30180_6961605751530266088&union_lens=lensId%3AOPT%401605751530%402103f7ed_06cc_175de3fe3c3_8515%4001\",\"url\":\"//s.click.taobao.com/t?e=m%3D2%26s%3DpZxuvk%2Fbj4Nw4vFB6t2Z2ueEDrYVVa64qYbrUZilZ4UKwPl3T8wu7Hq9Oxuj2hhdeMWMkvOuGu1pav%2FfWtOoXJBd%2FLLdqLkGnXXh09ZhQLa6kw7MOHsoJHnzcuD%2FUNyqx2lbXYpHIhx79bUJJ5zKziJ272vNton4M%2BAQL52WCTFRLBgaW5udaw%3D%3D&scm=null&pvid=100_11.229.250.224_30180_6961605751530266088&app_pvid=59590_33.3.247.237_605_1605751530257&ptl=floorId:34371;originalFloorId:34371;pvid:100_11.229.250.224_30180_6961605751530266088;app_pvid:59590_33.3.247.237_605_1605751530257&union_lens=lensId%3AOPT%401605751530%402103f7ed_06cc_175de3fe3c3_8515%4001\",\"udf_temp_store\":{},\"lensId\":\"OPT@1605751530@2103f7ed_06cc_175de3fe3c3_8515@01\"},{\"floorId\":34371,\"itemId\":\"622776913505\",\"itemName\":\"Lenovo/联想 MIIX 700 -12ISK 510 520平板电脑二合一12寸<span class=H>笔记本</span>\",\"subTitle\":\"\",\"userType\":0,\"isTmall\":false,\"sellerId\":68558971,\"reservePrice\":\"1850\",\"price\":\"1850\",\"promotionPrice\":\"1850\",\"priceAfterCoupon\":\"1850.00\",\"originalTkSpRates\":\"\",\"zkSalesPrice\":\"0.00\",\"pic\":\"//img.alicdn.com/bao/uploaded/i4/68558971/O1CN01VM3H062G8liTPqWdL_!!68558971.jpg\",\"couponAmount\":null,\"couponSendCount\":0,\"couponTotalCount\":0,\"couponTag\":\"\",\"couponEffectiveStartTime\":\"\",\"couponEffectiveEndTime\":\"\",\"couponStartFee\":null,\"monthSellCount\":\"16\",\"nick\":\"力圣通讯\",\"realPostFee\":\"0.00\",\"auctionTags\":\"385 843 1163 1483 2059 2315 4491 4555 4738 5190 5323 7883 11083 11339 11467 12427 19787 22155 25282 27137 28353 36610 40897 48578 52290 59970 67521 85249 104514 123905 131713 241218 362178 368066 388354 426754 484098 1362178 1362242 1441090 1445762 1624194 1691458 1691586 1702530 1769346\",\"ostime\":null,\"oetime\":null,\"jddPrice\":null,\"jddNum\":null,\"uvSumPreSale\":\"\",\"couponShareUrl\":null,\"url\":\"//s.click.taobao.com/t?e=m%3D2%26s%3Da%2BH9G1feBB5w4vFB6t2Z2ueEDrYVVa64Vb0yt%2F5tJWX%2BmkB8Ys0cBZdOwQLjTps3lc2MxE3r9TvbUz3vG%2FGJ%2FUDRWTB43ZUaHIa9RbrgZYzCwiYxkgA7PsFmAgxYdX3iIDoP6nhzpGMD4AXpL18EpFohL8BY4O7MxgxdTc00KD8%3D&scm=null&pvid=100_11.229.250.224_30180_6961605751530266088&app_pvid=59590_33.3.247.237_605_1605751530257&ptl=floorId:34371;originalFloorId:34371;pvid:100_11.229.250.224_30180_6961605751530266088;app_pvid:59590_33.3.247.237_605_1605751530257&union_lens=lensId%3AOPT%401605751530%402103f7ed_06cc_175de3fe3c3_8516%4001\",\"udf_temp_store\":{},\"lensId\":\"OPT@1605751530@2103f7ed_06cc_175de3fe3c3_8516@01\"},{\"floorId\":34371,\"itemId\":\"622245354211\",\"itemName\":\"2020新品联想v14<span class=H>笔记本</span>电脑十代酷睿i5 14英寸轻薄便捷 学生商务办公超薄手提游戏本电脑联想官方旗舰店官网\",\"subTitle\":\"新品上市全国联保 加送包鼠\",\"userType\":1,\"isTmall\":true,\"sellerId\":2200605958543,\"reservePrice\":\"3599\",\"price\":\"3599\",\"promotionPrice\":\"3599\",\"priceAfterCoupon\":\"3499.00\",\"originalTkSpRates\":\"\",\"zkSalesPrice\":\"0.00\",\"pic\":\"//img.alicdn.com/bao/uploaded/i3/2200605958543/O1CN01Szpbk42CykE3tPykx_!!0-item_pic.jpg\",\"couponAmount\":\"100\",\"couponSendCount\":8,\"couponTotalCount\":1000,\"couponTag\":\"0\",\"couponEffectiveStartTime\":\"1605628800000\",\"couponEffectiveEndTime\":\"1606319999000\",\"couponStartFee\":\"3500\",\"monthSellCount\":\"48\",\"nick\":\"联想瑾琪专卖店\",\"realPostFee\":\"0.00\",\"auctionTags\":\"385 843 1163 1478 1483 2049 2059 2315 3974 4166 4491 4555 5323 7883 8263 11083 11339 11467 11846 12427 19787 21442 21762 22155 25282 33217 49218 66241 67521 70402 95105 101762 107842 120577 123905 131713 137281 143746 172226 189761 192769 200002 214529 217985 218177 218369 241218 249858 281666 299394 388354 427458 544322 1337858 1443906 1499202 1602178 1622018 1645570 1648770 1657986 1664962 1665026 1691586 1702530 1769346\",\"ostime\":null,\"oetime\":null,\"jddPrice\":null,\"jddNum\":null,\"uvSumPreSale\":\"\",\"couponShareUrl\":\"//uland.taobao.com/coupon/edetail?e=eneDjNMHL2sNfLV8niU3R40dlhWtfp96Ng4Gqf8CT4Dq%2BQPyzDB37jIT0DPJtWt%2BmMHpNfYdHdAPkf%2BIwRD1B%2FfL1Y0L1DgsL58N9XQN5aZK8rZ3A2zQf2zWclIq8Ox5QjiMWBz32oIc3HN9dXH1hMiRswZoMYPCslohqli6HXbIGNNkxyNsZQzUv%2BYStry7fjh37OZy0Bg%3D&&app_pvid=59590_33.3.247.237_605_1605751530257&ptl=floorId:34371;app_pvid:59590_33.3.247.237_605_1605751530257;tpp_pvid:100_11.229.250.224_30180_6961605751530266088&union_lens=lensId%3AOPT%401605751530%402103f7ed_06cc_175de3fe3c3_8517%4001\",\"url\":\"//s.click.taobao.com/t?e=m%3D2%26s%3D%2BpIQU2gE2Edw4vFB6t2Z2ueEDrYVVa64RZKDdhY4Y8EKwPl3T8wu7Hq9Oxuj2hhdeMWMkvOuGu1pav%2FfWtOoXJBd%2FLLdqLkGnXXh09ZhQLa6kw7MOHsoJNLZnvo2YkXdLQegCtrS5lDG3S9D9B52ffLZbN8kTYZiVUVHhT3oJtDGJe8N%2FwNpGw%3D%3D&scm=null&pvid=100_11.229.250.224_30180_6961605751530266088&app_pvid=59590_33.3.247.237_605_1605751530257&ptl=floorId:34371;originalFloorId:34371;pvid:100_11.229.250.224_30180_6961605751530266088;app_pvid:59590_33.3.247.237_605_1605751530257&union_lens=lensId%3AOPT%401605751530%402103f7ed_06cc_175de3fe3c3_8517%4001\",\"udf_temp_store\":{},\"lensId\":\"OPT@1605751530@2103f7ed_06cc_175de3fe3c3_8517@01\"},{\"floorId\":34371,\"itemId\":\"615074206648\",\"itemName\":\"Lenovo/联想 小新air14 锐龙<span class=H>笔记本</span>电脑i5学生轻薄商务办公i7游戏\",\"subTitle\":\"\",\"userType\":0,\"isTmall\":false,\"sellerId\":2206873577094,\"reservePrice\":\"2099\",\"price\":\"2099\",\"promotionPrice\":\"2099\",\"priceAfterCoupon\":\"2049.00\",\"originalTkSpRates\":\"\",\"zkSalesPrice\":\"0.00\",\"pic\":\"//img.alicdn.com/bao/uploaded/i1/2206873577094/O1CN01ppgEmZ22H6JBsaDKe_!!2206873577094.jpg\",\"couponAmount\":\"50\",\"couponSendCount\":1249,\"couponTotalCount\":20000,\"couponTag\":\"0\",\"couponEffectiveStartTime\":\"1601481600000\",\"couponEffectiveEndTime\":\"1606751999000\",\"couponStartFee\":\"1999\",\"monthSellCount\":\"52\",\"nick\":\"行业排名前三\",\"realPostFee\":\"0.00\",\"auctionTags\":\"385 843 1163 1483 2059 2315 4491 4555 5190 5323 7883 11083 11339 11467 11846 12427 19787 21442 22155 25282 36610 48578 52290 59970 67521 85249 87425 104514 131713 143746 172226 241218 388354 426754 484098 544322 1362178 1362242 1441090 1445762 1481986 1520514 1585794 1589442 1624130 1624194 1648770 1691458 1691586 1702530 1769346 1770306\",\"ostime\":null,\"oetime\":null,\"jddPrice\":null,\"jddNum\":null,\"uvSumPreSale\":\"\",\"couponShareUrl\":\"//uland.taobao.com/coupon/edetail?e=CVxR0YdjbCINfLV8niU3R40dlhWtfp96Ng4Gqf8CT4A%2F80fnCaRRoUgj%2BpeqOzNxmMHpNfYdHdAPkf%2BIwRD1B%2FfL1Y0L1DgsL58N9XQN5aZK8rZ3A2zQf7pK%2BiB0fEdkxLnEibj2AWPxztIPWabeubw%2BOVuW56Kcqn%2BuSZODTQfIGNNkxyNsZQzUv%2BYStry7WRP66uzeo7Y%3D&&app_pvid=59590_33.3.247.237_605_1605751530257&ptl=floorId:34371;app_pvid:59590_33.3.247.237_605_1605751530257;tpp_pvid:100_11.229.250.224_30180_6961605751530266088&union_lens=lensId%3AOPT%401605751530%402103f7ed_06cc_175de3fe3c3_8518%4001\",\"url\":\"//s.click.taobao.com/t?e=m%3D2%26s%3DFY%2BUfTeoWGBw4vFB6t2Z2ueEDrYVVa64qYbrUZilZ4UKwPl3T8wu7Hq9Oxuj2hhdeMWMkvOuGu1pav%2FfWtOoXJBd%2FLLdqLkGnXXh09ZhQLa6kw7MOHsoJHnzcuD%2FUNyqjqweN5FZIEf346k7hYu8Vpjhpcgu4ACGn2FOHtLAwkrGJe8N%2FwNpGw%3D%3D&scm=null&pvid=100_11.229.250.224_30180_6961605751530266088&app_pvid=59590_33.3.247.237_605_1605751530257&ptl=floorId:34371;originalFloorId:34371;pvid:100_11.229.250.224_30180_6961605751530266088;app_pvid:59590_33.3.247.237_605_1605751530257&union_lens=lensId%3AOPT%401605751530%402103f7ed_06cc_175de3fe3c3_8518%4001\",\"udf_temp_store\":{},\"lensId\":\"OPT@1605751530@2103f7ed_06cc_175de3fe3c3_8518@01\"},{\"floorId\":34371,\"itemId\":\"593474953438\",\"itemName\":\"Lenovo/联想 拯救者 Y7000P 2020新游戏<span class=H>笔记本</span>电脑六核轻薄独显\",\"subTitle\":\"\",\"userType\":0,\"isTmall\":false,\"sellerId\":22680910,\"reservePrice\":\"5299\",\"price\":\"5299\",\"promotionPrice\":\"5299\",\"priceAfterCoupon\":\"5199.00\",\"originalTkSpRates\":\"\",\"zkSalesPrice\":\"0.00\",\"pic\":\"//img.alicdn.com/bao/uploaded/i3/22680910/O1CN01Hobub11Iap1nWvI1S_!!0-item_pic.jpg\",\"couponAmount\":\"100\",\"couponSendCount\":6149,\"couponTotalCount\":10000,\"couponTag\":\"0\",\"couponEffectiveStartTime\":\"1600963200000\",\"couponEffectiveEndTime\":\"1605887999000\",\"couponStartFee\":\"3999\",\"monthSellCount\":\"34\",\"nick\":\"jw51394551\",\"realPostFee\":\"0.00\",\"auctionTags\":\"385 843 1163 1483 2059 2315 4491 4555 5190 5323 7883 8454 11083 11339 11467 11846 12427 19787 21442 22155 25282 36610 45314 48578 52290 59970 66241 67521 82369 85249 104514 120962 131713 143746 149057 172226 216513 218754 224642 241218 368450 368962 443650 544322 1288066 1337858 1443906 1445762 1585794 1589442 1624194 1648770 1691586 1702530 1769346 1770114 1770370 1772034 1779394\",\"ostime\":null,\"oetime\":null,\"jddPrice\":null,\"jddNum\":null,\"uvSumPreSale\":\"\",\"couponShareUrl\":\"//uland.taobao.com/coupon/edetail?e=2uNzX3fOlBYNfLV8niU3R40dlhWtfp96Ng4Gqf8CT4BnmB%2Fzds2ljUWbFaKdj8UgDP9I%2FfzlpCEsHefUD3pJVFyyRsLQYwaHvB3FlNvlg%2FD%2BX6jzHDW6A9CRgSbn%2BRpv54HimVlGXWjsAXPMgCow3Yxgy17d0eQReiBdG%2BD3FMdmGGEh63vKnOIg09jheaZgonv6QcvcARY%3D&&app_pvid=59590_33.3.247.237_605_1605751530257&ptl=floorId:34371;app_pvid:59590_33.3.247.237_605_1605751530257;tpp_pvid:100_11.229.250.224_30180_6961605751530266088&union_lens=lensId%3AOPT%401605751530%402103f7ed_06cc_175de3fe3c3_8519%4001\",\"url\":\"//s.click.taobao.com/t?e=m%3D2%26s%3DZbU7ZSPs7cRw4vFB6t2Z2ueEDrYVVa64qYbrUZilZ4UKwPl3T8wu7Hq9Oxuj2hhdeMWMkvOuGu1pav%2FfWtOoXJBd%2FLLdqLkGnXXh09ZhQLa6kw7MOHsoJKlqQZyF0SE85YmhQzDzufUSIz%2BVIb9tlHwTJF5oPhzDfNntiDLtEiXGJe8N%2FwNpGw%3D%3D&scm=null&pvid=100_11.229.250.224_30180_6961605751530266088&app_pvid=59590_33.3.247.237_605_1605751530257&ptl=floorId:34371;originalFloorId:34371;pvid:100_11.229.250.224_30180_6961605751530266088;app_pvid:59590_33.3.247.237_605_1605751530257&union_lens=lensId%3AOPT%401605751530%402103f7ed_06cc_175de3fe3c3_8519%4001\",\"udf_temp_store\":{},\"lensId\":\"OPT@1605751530@2103f7ed_06cc_175de3fe3c3_8519@01\"}],\"pvid\":\"100_11.229.250.224_30180_6961605751530266088\",\"navigator\":[{\"flag\":\"qp_commend\",\"name\":\"风格\",\"count\":\"443\",\"id\":\"20608\",\"type\":\"property\",\"sub_ids\":[{\"flag\":\"qp_commend\",\"name\":\"商务\",\"count\":\"265\",\"id\":\"28908\",\"type\":\"property\"},{\"flag\":\"qp_commend\",\"name\":\"简约\",\"count\":\"165\",\"id\":\"109835873\",\"type\":\"property\"},{\"flag\":\"qp_commend\",\"name\":\"日韩\",\"count\":\"13\",\"id\":\"20785\",\"type\":\"property\"}]},{\"flag\":\"qp_commend\",\"name\":\"笔记本CPU\",\"count\":\"960\",\"id\":\"20143\",\"type\":\"property\",\"sub_ids\":[{\"flag\":\"qp_commend\",\"name\":\"英特尔 酷睿 i5-8250U\",\"count\":\"43\",\"id\":\"361625769\",\"type\":\"property\"},{\"flag\":\"qp_commend\",\"name\":\"英特尔 酷睿 i5-5200U\",\"count\":\"10\",\"id\":\"912206472\",\"type\":\"property\"},{\"flag\":\"qp_commend\",\"name\":\"英特尔 酷睿 i7-8750H\",\"count\":\"4\",\"id\":\"1947051605\",\"type\":\"property\"},{\"flag\":\"qp_commend\",\"name\":\"英特尔 酷睿 i5-4200U\",\"count\":\"2\",\"id\":\"736640919\",\"type\":\"property\"},{\"flag\":\"qp_commend\",\"name\":\"英特尔 酷睿 i7-7700HQ\",\"count\":\"1\",\"id\":\"1717865038\",\"type\":\"property\"},{\"flag\":\"qp_commend\",\"name\":\"英特尔 酷睿 i7-8650U\",\"count\":\"1\",\"id\":\"340343393\",\"type\":\"property\"},{\"flag\":\"qp_commend\",\"name\":\"英特尔 酷睿 i3-5005U\",\"count\":\"1\",\"id\":\"1717865224\",\"type\":\"property\"}]},{\"flag\":\"qp_commend\",\"name\":\"适用场景\",\"count\":\"7519\",\"id\":\"122216515\",\"type\":\"property\",\"sub_ids\":[{\"flag\":\"qp_commend\",\"name\":\"商务办公\",\"count\":\"1099\",\"id\":\"15642799\",\"type\":\"property\"},{\"flag\":\"qp_commend\",\"name\":\"家庭娱乐\",\"count\":\"1018\",\"id\":\"63672596\",\"type\":\"property\"},{\"flag\":\"qp_commend\",\"name\":\"家庭影音\",\"count\":\"1016\",\"id\":\"3227609\",\"type\":\"property\"},{\"flag\":\"qp_commend\",\"name\":\"轻薄便携\",\"count\":\"987\",\"id\":\"3422062\",\"type\":\"property\"},{\"flag\":\"qp_commend\",\"name\":\"女性定位\",\"count\":\"816\",\"id\":\"3227610\",\"type\":\"property\"},{\"flag\":\"qp_commend\",\"name\":\"高清游戏\",\"count\":\"791\",\"id\":\"107193199\",\"type\":\"property\"},{\"flag\":\"qp_commend\",\"name\":\"尊贵旗舰\",\"count\":\"666\",\"id\":\"123371940\",\"type\":\"property\"},{\"flag\":\"qp_commend\",\"name\":\"炒股理财\",\"count\":\"657\",\"id\":\"560552513\",\"type\":\"property\"},{\"flag\":\"qp_commend\",\"name\":\"移动工作站\",\"count\":\"447\",\"id\":\"112162696\",\"type\":\"property\"},{\"flag\":\"qp_commend\",\"name\":\"30876.G18\",\"count\":\"21\",\"id\":\"6367259\",\"type\":\"property\"},{\"flag\":\"qp_commend\",\"name\":\"办公\",\"count\":\"1\",\"id\":\"12032296\",\"type\":\"property\"}]},{\"flag\":\"qp_commend\",\"name\":\"尺寸\",\"count\":\"1982\",\"id\":\"21433\",\"type\":\"property\",\"sub_ids\":[{\"flag\":\"qp_commend\",\"name\":\"14英寸\",\"count\":\"751\",\"id\":\"11570852\",\"type\":\"property\"},{\"flag\":\"qp_commend\",\"name\":\"15.6英寸\",\"count\":\"744\",\"id\":\"48674720\",\"type\":\"property\"},{\"flag\":\"qp_commend\",\"name\":\"15英寸\",\"count\":\"150\",\"id\":\"6558689\",\"type\":\"property\"},{\"flag\":\"qp_commend\",\"name\":\"13.3英寸\",\"count\":\"142\",\"id\":\"13286522\",\"type\":\"property\"},{\"flag\":\"qp_commend\",\"name\":\"15.6\",\"count\":\"50\",\"id\":\"7326567\",\"type\":\"property\"},{\"flag\":\"qp_commend\",\"name\":\"13英寸\",\"count\":\"35\",\"id\":\"6983262\",\"type\":\"property\"},{\"flag\":\"qp_commend\",\"name\":\"12英寸\",\"count\":\"27\",\"id\":\"41636\",\"type\":\"property\"},{\"flag\":\"qp_commend\",\"name\":\"17英寸\",\"count\":\"24\",\"id\":\"78212\",\"type\":\"property\"},{\"flag\":\"qp_commend\",\"name\":\"17.3英寸\",\"count\":\"20\",\"id\":\"48676066\",\"type\":\"property\"},{\"flag\":\"qp_commend\",\"name\":\"15.4英寸\",\"count\":\"18\",\"id\":\"12692884\",\"type\":\"property\"},{\"flag\":\"qp_commend\",\"name\":\"14.1英寸\",\"count\":\"7\",\"id\":\"12692982\",\"type\":\"property\"},{\"flag\":\"qp_commend\",\"name\":\"10.1英寸\",\"count\":\"6\",\"id\":\"30006068\",\"type\":\"property\"},{\"flag\":\"qp_commend\",\"name\":\"11.6英寸\",\"count\":\"3\",\"id\":\"47669401\",\"type\":\"property\"},{\"flag\":\"qp_commend\",\"name\":\"16英寸\",\"count\":\"2\",\"id\":\"3884027\",\"type\":\"property\"},{\"flag\":\"qp_commend\",\"name\":\"12.5英寸\",\"count\":\"1\",\"id\":\"76049641\",\"type\":\"property\"},{\"flag\":\"qp_commend\",\"name\":\"13.5英寸\",\"count\":\"1\",\"id\":\"133133958\",\"type\":\"property\"},{\"flag\":\"qp_commend\",\"name\":\"13.9英寸\",\"count\":\"1\",\"id\":\"289240465\",\"type\":\"property\"}]},{\"flag\":\"qp_commend\",\"name\":\"记事本分类\",\"count\":\"1\",\"id\":\"122276194\",\"type\":\"property\",\"sub_ids\":[{\"flag\":\"qp_commend\",\"name\":\"通用笔记本\",\"count\":\"1\",\"id\":\"30709719\",\"type\":\"property\"}]}],\"selectedNavigator\":[{\"flag\":\"selected\",\"name\":\"品牌\",\"count\":\"0\",\"id\":\"20000\",\"type\":\"property\",\"sub_ids\":[{\"flag\":\"selected\",\"name\":\"Lenovo/联想\",\"count\":\"0\",\"id\":\"11119\",\"type\":\"property\"}]}],\"totalCount\":35728,\"lunaHead\":{\"docsfound\":\"35728\",\"status\":\"OK\"}},\"meta\":{\"reserveRoot\":\"recommend\",\"reserveAttrs\":\"navigator,selectedNavigator\"}},\"ret\":[\"SUCCESS::调用成功\"],\"v\":\"1.0\"})'"
            ]
          },
          "metadata": {
            "tags": []
          },
          "execution_count": 6
        }
      ]
    },
    {
      "cell_type": "markdown",
      "metadata": {
        "id": "Ya_SlaWZP8g2"
      },
      "source": [
        "## Machine Learning"
      ]
    },
    {
      "cell_type": "code",
      "metadata": {
        "id": "VFmACZaaP0F_"
      },
      "source": [
        "import pandas\n",
        "df = pandas.read_csv('https://raw.githubusercontent.com/ywchiu/tibamepy/master/data/customer_churn.csv', index_col = 0)"
      ],
      "execution_count": 9,
      "outputs": []
    },
    {
      "cell_type": "code",
      "metadata": {
        "colab": {
          "base_uri": "https://localhost:8080/",
          "height": 218
        },
        "id": "bPf3rnE4QAjl",
        "outputId": "5f2c24d1-ef74-4a1b-b9b6-2a4fb9fc688c"
      },
      "source": [
        "df.head()"
      ],
      "execution_count": 10,
      "outputs": [
        {
          "output_type": "execute_result",
          "data": {
            "text/html": [
              "<div>\n",
              "<style scoped>\n",
              "    .dataframe tbody tr th:only-of-type {\n",
              "        vertical-align: middle;\n",
              "    }\n",
              "\n",
              "    .dataframe tbody tr th {\n",
              "        vertical-align: top;\n",
              "    }\n",
              "\n",
              "    .dataframe thead th {\n",
              "        text-align: right;\n",
              "    }\n",
              "</style>\n",
              "<table border=\"1\" class=\"dataframe\">\n",
              "  <thead>\n",
              "    <tr style=\"text-align: right;\">\n",
              "      <th></th>\n",
              "      <th>state</th>\n",
              "      <th>account_length</th>\n",
              "      <th>area_code</th>\n",
              "      <th>international_plan</th>\n",
              "      <th>voice_mail_plan</th>\n",
              "      <th>number_vmail_messages</th>\n",
              "      <th>total_day_minutes</th>\n",
              "      <th>total_day_calls</th>\n",
              "      <th>total_day_charge</th>\n",
              "      <th>total_eve_minutes</th>\n",
              "      <th>total_eve_calls</th>\n",
              "      <th>total_eve_charge</th>\n",
              "      <th>total_night_minutes</th>\n",
              "      <th>total_night_calls</th>\n",
              "      <th>total_night_charge</th>\n",
              "      <th>total_intl_minutes</th>\n",
              "      <th>total_intl_calls</th>\n",
              "      <th>total_intl_charge</th>\n",
              "      <th>number_customer_service_calls</th>\n",
              "      <th>churn</th>\n",
              "    </tr>\n",
              "  </thead>\n",
              "  <tbody>\n",
              "    <tr>\n",
              "      <th>1</th>\n",
              "      <td>KS</td>\n",
              "      <td>128</td>\n",
              "      <td>area_code_415</td>\n",
              "      <td>no</td>\n",
              "      <td>yes</td>\n",
              "      <td>25</td>\n",
              "      <td>265.1</td>\n",
              "      <td>110</td>\n",
              "      <td>45.07</td>\n",
              "      <td>197.4</td>\n",
              "      <td>99</td>\n",
              "      <td>16.78</td>\n",
              "      <td>244.7</td>\n",
              "      <td>91</td>\n",
              "      <td>11.01</td>\n",
              "      <td>10.0</td>\n",
              "      <td>3</td>\n",
              "      <td>2.70</td>\n",
              "      <td>1</td>\n",
              "      <td>no</td>\n",
              "    </tr>\n",
              "    <tr>\n",
              "      <th>2</th>\n",
              "      <td>OH</td>\n",
              "      <td>107</td>\n",
              "      <td>area_code_415</td>\n",
              "      <td>no</td>\n",
              "      <td>yes</td>\n",
              "      <td>26</td>\n",
              "      <td>161.6</td>\n",
              "      <td>123</td>\n",
              "      <td>27.47</td>\n",
              "      <td>195.5</td>\n",
              "      <td>103</td>\n",
              "      <td>16.62</td>\n",
              "      <td>254.4</td>\n",
              "      <td>103</td>\n",
              "      <td>11.45</td>\n",
              "      <td>13.7</td>\n",
              "      <td>3</td>\n",
              "      <td>3.70</td>\n",
              "      <td>1</td>\n",
              "      <td>no</td>\n",
              "    </tr>\n",
              "    <tr>\n",
              "      <th>3</th>\n",
              "      <td>NJ</td>\n",
              "      <td>137</td>\n",
              "      <td>area_code_415</td>\n",
              "      <td>no</td>\n",
              "      <td>no</td>\n",
              "      <td>0</td>\n",
              "      <td>243.4</td>\n",
              "      <td>114</td>\n",
              "      <td>41.38</td>\n",
              "      <td>121.2</td>\n",
              "      <td>110</td>\n",
              "      <td>10.30</td>\n",
              "      <td>162.6</td>\n",
              "      <td>104</td>\n",
              "      <td>7.32</td>\n",
              "      <td>12.2</td>\n",
              "      <td>5</td>\n",
              "      <td>3.29</td>\n",
              "      <td>0</td>\n",
              "      <td>no</td>\n",
              "    </tr>\n",
              "    <tr>\n",
              "      <th>4</th>\n",
              "      <td>OH</td>\n",
              "      <td>84</td>\n",
              "      <td>area_code_408</td>\n",
              "      <td>yes</td>\n",
              "      <td>no</td>\n",
              "      <td>0</td>\n",
              "      <td>299.4</td>\n",
              "      <td>71</td>\n",
              "      <td>50.90</td>\n",
              "      <td>61.9</td>\n",
              "      <td>88</td>\n",
              "      <td>5.26</td>\n",
              "      <td>196.9</td>\n",
              "      <td>89</td>\n",
              "      <td>8.86</td>\n",
              "      <td>6.6</td>\n",
              "      <td>7</td>\n",
              "      <td>1.78</td>\n",
              "      <td>2</td>\n",
              "      <td>no</td>\n",
              "    </tr>\n",
              "    <tr>\n",
              "      <th>5</th>\n",
              "      <td>OK</td>\n",
              "      <td>75</td>\n",
              "      <td>area_code_415</td>\n",
              "      <td>yes</td>\n",
              "      <td>no</td>\n",
              "      <td>0</td>\n",
              "      <td>166.7</td>\n",
              "      <td>113</td>\n",
              "      <td>28.34</td>\n",
              "      <td>148.3</td>\n",
              "      <td>122</td>\n",
              "      <td>12.61</td>\n",
              "      <td>186.9</td>\n",
              "      <td>121</td>\n",
              "      <td>8.41</td>\n",
              "      <td>10.1</td>\n",
              "      <td>3</td>\n",
              "      <td>2.73</td>\n",
              "      <td>3</td>\n",
              "      <td>no</td>\n",
              "    </tr>\n",
              "  </tbody>\n",
              "</table>\n",
              "</div>"
            ],
            "text/plain": [
              "  state  account_length  ... number_customer_service_calls churn\n",
              "1    KS             128  ...                             1    no\n",
              "2    OH             107  ...                             1    no\n",
              "3    NJ             137  ...                             0    no\n",
              "4    OH              84  ...                             2    no\n",
              "5    OK              75  ...                             3    no\n",
              "\n",
              "[5 rows x 20 columns]"
            ]
          },
          "metadata": {
            "tags": []
          },
          "execution_count": 10
        }
      ]
    },
    {
      "cell_type": "code",
      "metadata": {
        "colab": {
          "base_uri": "https://localhost:8080/"
        },
        "id": "956yvo2kQBAr",
        "outputId": "2977420f-08cf-47e8-b458-5e3b8c0593ae"
      },
      "source": [
        "df.isna().sum()"
      ],
      "execution_count": 11,
      "outputs": [
        {
          "output_type": "execute_result",
          "data": {
            "text/plain": [
              "state                            0\n",
              "account_length                   0\n",
              "area_code                        0\n",
              "international_plan               0\n",
              "voice_mail_plan                  0\n",
              "number_vmail_messages            0\n",
              "total_day_minutes                0\n",
              "total_day_calls                  0\n",
              "total_day_charge                 0\n",
              "total_eve_minutes                0\n",
              "total_eve_calls                  0\n",
              "total_eve_charge                 0\n",
              "total_night_minutes              0\n",
              "total_night_calls                0\n",
              "total_night_charge               0\n",
              "total_intl_minutes               0\n",
              "total_intl_calls                 0\n",
              "total_intl_charge                0\n",
              "number_customer_service_calls    0\n",
              "churn                            0\n",
              "dtype: int64"
            ]
          },
          "metadata": {
            "tags": []
          },
          "execution_count": 11
        }
      ]
    },
    {
      "cell_type": "code",
      "metadata": {
        "id": "5J0cLDwKQQhI"
      },
      "source": [
        "df = df.iloc[:,3:]"
      ],
      "execution_count": 13,
      "outputs": []
    },
    {
      "cell_type": "code",
      "metadata": {
        "colab": {
          "base_uri": "https://localhost:8080/",
          "height": 218
        },
        "id": "TdFaqUIDQXGv",
        "outputId": "fee72ed1-1987-45a9-88d7-96c94c423bf4"
      },
      "source": [
        "df.head()"
      ],
      "execution_count": 14,
      "outputs": [
        {
          "output_type": "execute_result",
          "data": {
            "text/html": [
              "<div>\n",
              "<style scoped>\n",
              "    .dataframe tbody tr th:only-of-type {\n",
              "        vertical-align: middle;\n",
              "    }\n",
              "\n",
              "    .dataframe tbody tr th {\n",
              "        vertical-align: top;\n",
              "    }\n",
              "\n",
              "    .dataframe thead th {\n",
              "        text-align: right;\n",
              "    }\n",
              "</style>\n",
              "<table border=\"1\" class=\"dataframe\">\n",
              "  <thead>\n",
              "    <tr style=\"text-align: right;\">\n",
              "      <th></th>\n",
              "      <th>international_plan</th>\n",
              "      <th>voice_mail_plan</th>\n",
              "      <th>number_vmail_messages</th>\n",
              "      <th>total_day_minutes</th>\n",
              "      <th>total_day_calls</th>\n",
              "      <th>total_day_charge</th>\n",
              "      <th>total_eve_minutes</th>\n",
              "      <th>total_eve_calls</th>\n",
              "      <th>total_eve_charge</th>\n",
              "      <th>total_night_minutes</th>\n",
              "      <th>total_night_calls</th>\n",
              "      <th>total_night_charge</th>\n",
              "      <th>total_intl_minutes</th>\n",
              "      <th>total_intl_calls</th>\n",
              "      <th>total_intl_charge</th>\n",
              "      <th>number_customer_service_calls</th>\n",
              "      <th>churn</th>\n",
              "    </tr>\n",
              "  </thead>\n",
              "  <tbody>\n",
              "    <tr>\n",
              "      <th>1</th>\n",
              "      <td>no</td>\n",
              "      <td>yes</td>\n",
              "      <td>25</td>\n",
              "      <td>265.1</td>\n",
              "      <td>110</td>\n",
              "      <td>45.07</td>\n",
              "      <td>197.4</td>\n",
              "      <td>99</td>\n",
              "      <td>16.78</td>\n",
              "      <td>244.7</td>\n",
              "      <td>91</td>\n",
              "      <td>11.01</td>\n",
              "      <td>10.0</td>\n",
              "      <td>3</td>\n",
              "      <td>2.70</td>\n",
              "      <td>1</td>\n",
              "      <td>no</td>\n",
              "    </tr>\n",
              "    <tr>\n",
              "      <th>2</th>\n",
              "      <td>no</td>\n",
              "      <td>yes</td>\n",
              "      <td>26</td>\n",
              "      <td>161.6</td>\n",
              "      <td>123</td>\n",
              "      <td>27.47</td>\n",
              "      <td>195.5</td>\n",
              "      <td>103</td>\n",
              "      <td>16.62</td>\n",
              "      <td>254.4</td>\n",
              "      <td>103</td>\n",
              "      <td>11.45</td>\n",
              "      <td>13.7</td>\n",
              "      <td>3</td>\n",
              "      <td>3.70</td>\n",
              "      <td>1</td>\n",
              "      <td>no</td>\n",
              "    </tr>\n",
              "    <tr>\n",
              "      <th>3</th>\n",
              "      <td>no</td>\n",
              "      <td>no</td>\n",
              "      <td>0</td>\n",
              "      <td>243.4</td>\n",
              "      <td>114</td>\n",
              "      <td>41.38</td>\n",
              "      <td>121.2</td>\n",
              "      <td>110</td>\n",
              "      <td>10.30</td>\n",
              "      <td>162.6</td>\n",
              "      <td>104</td>\n",
              "      <td>7.32</td>\n",
              "      <td>12.2</td>\n",
              "      <td>5</td>\n",
              "      <td>3.29</td>\n",
              "      <td>0</td>\n",
              "      <td>no</td>\n",
              "    </tr>\n",
              "    <tr>\n",
              "      <th>4</th>\n",
              "      <td>yes</td>\n",
              "      <td>no</td>\n",
              "      <td>0</td>\n",
              "      <td>299.4</td>\n",
              "      <td>71</td>\n",
              "      <td>50.90</td>\n",
              "      <td>61.9</td>\n",
              "      <td>88</td>\n",
              "      <td>5.26</td>\n",
              "      <td>196.9</td>\n",
              "      <td>89</td>\n",
              "      <td>8.86</td>\n",
              "      <td>6.6</td>\n",
              "      <td>7</td>\n",
              "      <td>1.78</td>\n",
              "      <td>2</td>\n",
              "      <td>no</td>\n",
              "    </tr>\n",
              "    <tr>\n",
              "      <th>5</th>\n",
              "      <td>yes</td>\n",
              "      <td>no</td>\n",
              "      <td>0</td>\n",
              "      <td>166.7</td>\n",
              "      <td>113</td>\n",
              "      <td>28.34</td>\n",
              "      <td>148.3</td>\n",
              "      <td>122</td>\n",
              "      <td>12.61</td>\n",
              "      <td>186.9</td>\n",
              "      <td>121</td>\n",
              "      <td>8.41</td>\n",
              "      <td>10.1</td>\n",
              "      <td>3</td>\n",
              "      <td>2.73</td>\n",
              "      <td>3</td>\n",
              "      <td>no</td>\n",
              "    </tr>\n",
              "  </tbody>\n",
              "</table>\n",
              "</div>"
            ],
            "text/plain": [
              "  international_plan voice_mail_plan  ...  number_customer_service_calls  churn\n",
              "1                 no             yes  ...                              1     no\n",
              "2                 no             yes  ...                              1     no\n",
              "3                 no              no  ...                              0     no\n",
              "4                yes              no  ...                              2     no\n",
              "5                yes              no  ...                              3     no\n",
              "\n",
              "[5 rows x 17 columns]"
            ]
          },
          "metadata": {
            "tags": []
          },
          "execution_count": 14
        }
      ]
    },
    {
      "cell_type": "code",
      "metadata": {
        "colab": {
          "base_uri": "https://localhost:8080/",
          "height": 198
        },
        "id": "SWBobX6jQZLL",
        "outputId": "fd431244-ecf6-4451-e853-3a0e641741e9"
      },
      "source": [
        "df.select_dtypes('object').head()"
      ],
      "execution_count": 15,
      "outputs": [
        {
          "output_type": "execute_result",
          "data": {
            "text/html": [
              "<div>\n",
              "<style scoped>\n",
              "    .dataframe tbody tr th:only-of-type {\n",
              "        vertical-align: middle;\n",
              "    }\n",
              "\n",
              "    .dataframe tbody tr th {\n",
              "        vertical-align: top;\n",
              "    }\n",
              "\n",
              "    .dataframe thead th {\n",
              "        text-align: right;\n",
              "    }\n",
              "</style>\n",
              "<table border=\"1\" class=\"dataframe\">\n",
              "  <thead>\n",
              "    <tr style=\"text-align: right;\">\n",
              "      <th></th>\n",
              "      <th>international_plan</th>\n",
              "      <th>voice_mail_plan</th>\n",
              "      <th>churn</th>\n",
              "    </tr>\n",
              "  </thead>\n",
              "  <tbody>\n",
              "    <tr>\n",
              "      <th>1</th>\n",
              "      <td>no</td>\n",
              "      <td>yes</td>\n",
              "      <td>no</td>\n",
              "    </tr>\n",
              "    <tr>\n",
              "      <th>2</th>\n",
              "      <td>no</td>\n",
              "      <td>yes</td>\n",
              "      <td>no</td>\n",
              "    </tr>\n",
              "    <tr>\n",
              "      <th>3</th>\n",
              "      <td>no</td>\n",
              "      <td>no</td>\n",
              "      <td>no</td>\n",
              "    </tr>\n",
              "    <tr>\n",
              "      <th>4</th>\n",
              "      <td>yes</td>\n",
              "      <td>no</td>\n",
              "      <td>no</td>\n",
              "    </tr>\n",
              "    <tr>\n",
              "      <th>5</th>\n",
              "      <td>yes</td>\n",
              "      <td>no</td>\n",
              "      <td>no</td>\n",
              "    </tr>\n",
              "  </tbody>\n",
              "</table>\n",
              "</div>"
            ],
            "text/plain": [
              "  international_plan voice_mail_plan churn\n",
              "1                 no             yes    no\n",
              "2                 no             yes    no\n",
              "3                 no              no    no\n",
              "4                yes              no    no\n",
              "5                yes              no    no"
            ]
          },
          "metadata": {
            "tags": []
          },
          "execution_count": 15
        }
      ]
    },
    {
      "cell_type": "code",
      "metadata": {
        "id": "GULGJQ7tQdoH"
      },
      "source": [
        "df['international_plan'] = df['international_plan'].replace({'yes':1, 'no':0})\n",
        "df['voice_mail_plan'] = df['voice_mail_plan'].replace({'yes':1, 'no':0})\n",
        "df['churn'] = df['churn'].replace({'yes':1, 'no':0})"
      ],
      "execution_count": 16,
      "outputs": []
    },
    {
      "cell_type": "code",
      "metadata": {
        "colab": {
          "base_uri": "https://localhost:8080/",
          "height": 218
        },
        "id": "AMn0zAZ-Qq8H",
        "outputId": "9d410c2d-4987-496a-839a-953d84ab280e"
      },
      "source": [
        "df.head()"
      ],
      "execution_count": 17,
      "outputs": [
        {
          "output_type": "execute_result",
          "data": {
            "text/html": [
              "<div>\n",
              "<style scoped>\n",
              "    .dataframe tbody tr th:only-of-type {\n",
              "        vertical-align: middle;\n",
              "    }\n",
              "\n",
              "    .dataframe tbody tr th {\n",
              "        vertical-align: top;\n",
              "    }\n",
              "\n",
              "    .dataframe thead th {\n",
              "        text-align: right;\n",
              "    }\n",
              "</style>\n",
              "<table border=\"1\" class=\"dataframe\">\n",
              "  <thead>\n",
              "    <tr style=\"text-align: right;\">\n",
              "      <th></th>\n",
              "      <th>international_plan</th>\n",
              "      <th>voice_mail_plan</th>\n",
              "      <th>number_vmail_messages</th>\n",
              "      <th>total_day_minutes</th>\n",
              "      <th>total_day_calls</th>\n",
              "      <th>total_day_charge</th>\n",
              "      <th>total_eve_minutes</th>\n",
              "      <th>total_eve_calls</th>\n",
              "      <th>total_eve_charge</th>\n",
              "      <th>total_night_minutes</th>\n",
              "      <th>total_night_calls</th>\n",
              "      <th>total_night_charge</th>\n",
              "      <th>total_intl_minutes</th>\n",
              "      <th>total_intl_calls</th>\n",
              "      <th>total_intl_charge</th>\n",
              "      <th>number_customer_service_calls</th>\n",
              "      <th>churn</th>\n",
              "    </tr>\n",
              "  </thead>\n",
              "  <tbody>\n",
              "    <tr>\n",
              "      <th>1</th>\n",
              "      <td>0</td>\n",
              "      <td>1</td>\n",
              "      <td>25</td>\n",
              "      <td>265.1</td>\n",
              "      <td>110</td>\n",
              "      <td>45.07</td>\n",
              "      <td>197.4</td>\n",
              "      <td>99</td>\n",
              "      <td>16.78</td>\n",
              "      <td>244.7</td>\n",
              "      <td>91</td>\n",
              "      <td>11.01</td>\n",
              "      <td>10.0</td>\n",
              "      <td>3</td>\n",
              "      <td>2.70</td>\n",
              "      <td>1</td>\n",
              "      <td>0</td>\n",
              "    </tr>\n",
              "    <tr>\n",
              "      <th>2</th>\n",
              "      <td>0</td>\n",
              "      <td>1</td>\n",
              "      <td>26</td>\n",
              "      <td>161.6</td>\n",
              "      <td>123</td>\n",
              "      <td>27.47</td>\n",
              "      <td>195.5</td>\n",
              "      <td>103</td>\n",
              "      <td>16.62</td>\n",
              "      <td>254.4</td>\n",
              "      <td>103</td>\n",
              "      <td>11.45</td>\n",
              "      <td>13.7</td>\n",
              "      <td>3</td>\n",
              "      <td>3.70</td>\n",
              "      <td>1</td>\n",
              "      <td>0</td>\n",
              "    </tr>\n",
              "    <tr>\n",
              "      <th>3</th>\n",
              "      <td>0</td>\n",
              "      <td>0</td>\n",
              "      <td>0</td>\n",
              "      <td>243.4</td>\n",
              "      <td>114</td>\n",
              "      <td>41.38</td>\n",
              "      <td>121.2</td>\n",
              "      <td>110</td>\n",
              "      <td>10.30</td>\n",
              "      <td>162.6</td>\n",
              "      <td>104</td>\n",
              "      <td>7.32</td>\n",
              "      <td>12.2</td>\n",
              "      <td>5</td>\n",
              "      <td>3.29</td>\n",
              "      <td>0</td>\n",
              "      <td>0</td>\n",
              "    </tr>\n",
              "    <tr>\n",
              "      <th>4</th>\n",
              "      <td>1</td>\n",
              "      <td>0</td>\n",
              "      <td>0</td>\n",
              "      <td>299.4</td>\n",
              "      <td>71</td>\n",
              "      <td>50.90</td>\n",
              "      <td>61.9</td>\n",
              "      <td>88</td>\n",
              "      <td>5.26</td>\n",
              "      <td>196.9</td>\n",
              "      <td>89</td>\n",
              "      <td>8.86</td>\n",
              "      <td>6.6</td>\n",
              "      <td>7</td>\n",
              "      <td>1.78</td>\n",
              "      <td>2</td>\n",
              "      <td>0</td>\n",
              "    </tr>\n",
              "    <tr>\n",
              "      <th>5</th>\n",
              "      <td>1</td>\n",
              "      <td>0</td>\n",
              "      <td>0</td>\n",
              "      <td>166.7</td>\n",
              "      <td>113</td>\n",
              "      <td>28.34</td>\n",
              "      <td>148.3</td>\n",
              "      <td>122</td>\n",
              "      <td>12.61</td>\n",
              "      <td>186.9</td>\n",
              "      <td>121</td>\n",
              "      <td>8.41</td>\n",
              "      <td>10.1</td>\n",
              "      <td>3</td>\n",
              "      <td>2.73</td>\n",
              "      <td>3</td>\n",
              "      <td>0</td>\n",
              "    </tr>\n",
              "  </tbody>\n",
              "</table>\n",
              "</div>"
            ],
            "text/plain": [
              "   international_plan  voice_mail_plan  ...  number_customer_service_calls  churn\n",
              "1                   0                1  ...                              1      0\n",
              "2                   0                1  ...                              1      0\n",
              "3                   0                0  ...                              0      0\n",
              "4                   1                0  ...                              2      0\n",
              "5                   1                0  ...                              3      0\n",
              "\n",
              "[5 rows x 17 columns]"
            ]
          },
          "metadata": {
            "tags": []
          },
          "execution_count": 17
        }
      ]
    },
    {
      "cell_type": "code",
      "metadata": {
        "id": "Ba02iXpmQrtt"
      },
      "source": [
        "X = df.iloc[:,:-1]\n",
        "y = df.iloc[:,-1]"
      ],
      "execution_count": 18,
      "outputs": []
    },
    {
      "cell_type": "code",
      "metadata": {
        "colab": {
          "base_uri": "https://localhost:8080/",
          "height": 218
        },
        "id": "oe2Tb9j1Q6WT",
        "outputId": "5f203133-5c88-4c29-92ec-6cfaf3a6c394"
      },
      "source": [
        "X.head()"
      ],
      "execution_count": 19,
      "outputs": [
        {
          "output_type": "execute_result",
          "data": {
            "text/html": [
              "<div>\n",
              "<style scoped>\n",
              "    .dataframe tbody tr th:only-of-type {\n",
              "        vertical-align: middle;\n",
              "    }\n",
              "\n",
              "    .dataframe tbody tr th {\n",
              "        vertical-align: top;\n",
              "    }\n",
              "\n",
              "    .dataframe thead th {\n",
              "        text-align: right;\n",
              "    }\n",
              "</style>\n",
              "<table border=\"1\" class=\"dataframe\">\n",
              "  <thead>\n",
              "    <tr style=\"text-align: right;\">\n",
              "      <th></th>\n",
              "      <th>international_plan</th>\n",
              "      <th>voice_mail_plan</th>\n",
              "      <th>number_vmail_messages</th>\n",
              "      <th>total_day_minutes</th>\n",
              "      <th>total_day_calls</th>\n",
              "      <th>total_day_charge</th>\n",
              "      <th>total_eve_minutes</th>\n",
              "      <th>total_eve_calls</th>\n",
              "      <th>total_eve_charge</th>\n",
              "      <th>total_night_minutes</th>\n",
              "      <th>total_night_calls</th>\n",
              "      <th>total_night_charge</th>\n",
              "      <th>total_intl_minutes</th>\n",
              "      <th>total_intl_calls</th>\n",
              "      <th>total_intl_charge</th>\n",
              "      <th>number_customer_service_calls</th>\n",
              "    </tr>\n",
              "  </thead>\n",
              "  <tbody>\n",
              "    <tr>\n",
              "      <th>1</th>\n",
              "      <td>0</td>\n",
              "      <td>1</td>\n",
              "      <td>25</td>\n",
              "      <td>265.1</td>\n",
              "      <td>110</td>\n",
              "      <td>45.07</td>\n",
              "      <td>197.4</td>\n",
              "      <td>99</td>\n",
              "      <td>16.78</td>\n",
              "      <td>244.7</td>\n",
              "      <td>91</td>\n",
              "      <td>11.01</td>\n",
              "      <td>10.0</td>\n",
              "      <td>3</td>\n",
              "      <td>2.70</td>\n",
              "      <td>1</td>\n",
              "    </tr>\n",
              "    <tr>\n",
              "      <th>2</th>\n",
              "      <td>0</td>\n",
              "      <td>1</td>\n",
              "      <td>26</td>\n",
              "      <td>161.6</td>\n",
              "      <td>123</td>\n",
              "      <td>27.47</td>\n",
              "      <td>195.5</td>\n",
              "      <td>103</td>\n",
              "      <td>16.62</td>\n",
              "      <td>254.4</td>\n",
              "      <td>103</td>\n",
              "      <td>11.45</td>\n",
              "      <td>13.7</td>\n",
              "      <td>3</td>\n",
              "      <td>3.70</td>\n",
              "      <td>1</td>\n",
              "    </tr>\n",
              "    <tr>\n",
              "      <th>3</th>\n",
              "      <td>0</td>\n",
              "      <td>0</td>\n",
              "      <td>0</td>\n",
              "      <td>243.4</td>\n",
              "      <td>114</td>\n",
              "      <td>41.38</td>\n",
              "      <td>121.2</td>\n",
              "      <td>110</td>\n",
              "      <td>10.30</td>\n",
              "      <td>162.6</td>\n",
              "      <td>104</td>\n",
              "      <td>7.32</td>\n",
              "      <td>12.2</td>\n",
              "      <td>5</td>\n",
              "      <td>3.29</td>\n",
              "      <td>0</td>\n",
              "    </tr>\n",
              "    <tr>\n",
              "      <th>4</th>\n",
              "      <td>1</td>\n",
              "      <td>0</td>\n",
              "      <td>0</td>\n",
              "      <td>299.4</td>\n",
              "      <td>71</td>\n",
              "      <td>50.90</td>\n",
              "      <td>61.9</td>\n",
              "      <td>88</td>\n",
              "      <td>5.26</td>\n",
              "      <td>196.9</td>\n",
              "      <td>89</td>\n",
              "      <td>8.86</td>\n",
              "      <td>6.6</td>\n",
              "      <td>7</td>\n",
              "      <td>1.78</td>\n",
              "      <td>2</td>\n",
              "    </tr>\n",
              "    <tr>\n",
              "      <th>5</th>\n",
              "      <td>1</td>\n",
              "      <td>0</td>\n",
              "      <td>0</td>\n",
              "      <td>166.7</td>\n",
              "      <td>113</td>\n",
              "      <td>28.34</td>\n",
              "      <td>148.3</td>\n",
              "      <td>122</td>\n",
              "      <td>12.61</td>\n",
              "      <td>186.9</td>\n",
              "      <td>121</td>\n",
              "      <td>8.41</td>\n",
              "      <td>10.1</td>\n",
              "      <td>3</td>\n",
              "      <td>2.73</td>\n",
              "      <td>3</td>\n",
              "    </tr>\n",
              "  </tbody>\n",
              "</table>\n",
              "</div>"
            ],
            "text/plain": [
              "   international_plan  ...  number_customer_service_calls\n",
              "1                   0  ...                              1\n",
              "2                   0  ...                              1\n",
              "3                   0  ...                              0\n",
              "4                   1  ...                              2\n",
              "5                   1  ...                              3\n",
              "\n",
              "[5 rows x 16 columns]"
            ]
          },
          "metadata": {
            "tags": []
          },
          "execution_count": 19
        }
      ]
    },
    {
      "cell_type": "code",
      "metadata": {
        "colab": {
          "base_uri": "https://localhost:8080/"
        },
        "id": "WLatxnjkQ7A0",
        "outputId": "9954c13a-0fff-4dce-fd3a-01b3b8a44da9"
      },
      "source": [
        "y.head()"
      ],
      "execution_count": 20,
      "outputs": [
        {
          "output_type": "execute_result",
          "data": {
            "text/plain": [
              "1    0\n",
              "2    0\n",
              "3    0\n",
              "4    0\n",
              "5    0\n",
              "Name: churn, dtype: int64"
            ]
          },
          "metadata": {
            "tags": []
          },
          "execution_count": 20
        }
      ]
    },
    {
      "cell_type": "code",
      "metadata": {
        "id": "760sHXOnQ8Yy"
      },
      "source": [
        "from sklearn.model_selection import train_test_split\n",
        "train_X, test_X, train_y, test_y = train_test_split(X,y, test_size = 0.33, random_state = 42)"
      ],
      "execution_count": 21,
      "outputs": []
    },
    {
      "cell_type": "code",
      "metadata": {
        "colab": {
          "base_uri": "https://localhost:8080/"
        },
        "id": "XXf4pCseRb0Y",
        "outputId": "7efc8029-9d63-444d-88c0-aa7a294759ec"
      },
      "source": [
        "from sklearn.ensemble import GradientBoostingClassifier\n",
        "clf = GradientBoostingClassifier()\n",
        "clf.fit(train_X, train_y)"
      ],
      "execution_count": 22,
      "outputs": [
        {
          "output_type": "execute_result",
          "data": {
            "text/plain": [
              "GradientBoostingClassifier(ccp_alpha=0.0, criterion='friedman_mse', init=None,\n",
              "                           learning_rate=0.1, loss='deviance', max_depth=3,\n",
              "                           max_features=None, max_leaf_nodes=None,\n",
              "                           min_impurity_decrease=0.0, min_impurity_split=None,\n",
              "                           min_samples_leaf=1, min_samples_split=2,\n",
              "                           min_weight_fraction_leaf=0.0, n_estimators=100,\n",
              "                           n_iter_no_change=None, presort='deprecated',\n",
              "                           random_state=None, subsample=1.0, tol=0.0001,\n",
              "                           validation_fraction=0.1, verbose=0,\n",
              "                           warm_start=False)"
            ]
          },
          "metadata": {
            "tags": []
          },
          "execution_count": 22
        }
      ]
    },
    {
      "cell_type": "code",
      "metadata": {
        "id": "PtukHgtORtup"
      },
      "source": [
        "pred_y = clf.predict(test_X)"
      ],
      "execution_count": 23,
      "outputs": []
    },
    {
      "cell_type": "code",
      "metadata": {
        "colab": {
          "base_uri": "https://localhost:8080/"
        },
        "id": "erDEei7bR07s",
        "outputId": "289f554f-07bd-4999-810e-e0c8638f7475"
      },
      "source": [
        "from sklearn.metrics import accuracy_score, confusion_matrix\n",
        "accuracy_score(test_y, pred_y)"
      ],
      "execution_count": 24,
      "outputs": [
        {
          "output_type": "execute_result",
          "data": {
            "text/plain": [
              "0.95"
            ]
          },
          "metadata": {
            "tags": []
          },
          "execution_count": 24
        }
      ]
    },
    {
      "cell_type": "code",
      "metadata": {
        "colab": {
          "base_uri": "https://localhost:8080/"
        },
        "id": "nunHMdK2R6fq",
        "outputId": "de1fd161-4b35-4883-ead1-363413be3169"
      },
      "source": [
        "confusion_matrix(test_y, pred_y)"
      ],
      "execution_count": 25,
      "outputs": [
        {
          "output_type": "execute_result",
          "data": {
            "text/plain": [
              "array([[933,   7],\n",
              "       [ 48, 112]])"
            ]
          },
          "metadata": {
            "tags": []
          },
          "execution_count": 25
        }
      ]
    },
    {
      "cell_type": "code",
      "metadata": {
        "id": "VsZkAtMwR8-T"
      },
      "source": [
        ""
      ],
      "execution_count": null,
      "outputs": []
    }
  ]
}