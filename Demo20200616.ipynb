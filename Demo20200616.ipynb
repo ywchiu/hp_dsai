{
  "nbformat": 4,
  "nbformat_minor": 0,
  "metadata": {
    "colab": {
      "name": "Demo20200616.ipynb",
      "provenance": [],
      "collapsed_sections": []
    },
    "kernelspec": {
      "name": "python3",
      "display_name": "Python 3"
    },
    "accelerator": "GPU"
  },
  "cells": [
    {
      "cell_type": "code",
      "metadata": {
        "id": "cqMRGboLe6-U",
        "colab_type": "code",
        "colab": {
          "base_uri": "https://localhost:8080/",
          "height": 364
        },
        "outputId": "f6ac72f8-8545-4c52-bcfd-00020089a85e"
      },
      "source": [
        "! nvidia-smi"
      ],
      "execution_count": 1,
      "outputs": [
        {
          "output_type": "stream",
          "text": [
            "Thu Jun 18 03:32:07 2020       \n",
            "+-----------------------------------------------------------------------------+\n",
            "| NVIDIA-SMI 450.36.06    Driver Version: 418.67       CUDA Version: 10.1     |\n",
            "|-------------------------------+----------------------+----------------------+\n",
            "| GPU  Name        Persistence-M| Bus-Id        Disp.A | Volatile Uncorr. ECC |\n",
            "| Fan  Temp  Perf  Pwr:Usage/Cap|         Memory-Usage | GPU-Util  Compute M. |\n",
            "|                               |                      |               MIG M. |\n",
            "|===============================+======================+======================|\n",
            "|   0  Tesla P4            Off  | 00000000:00:04.0 Off |                    0 |\n",
            "| N/A   48C    P8     7W /  75W |      0MiB /  7611MiB |      0%      Default |\n",
            "|                               |                      |                 ERR! |\n",
            "+-------------------------------+----------------------+----------------------+\n",
            "                                                                               \n",
            "+-----------------------------------------------------------------------------+\n",
            "| Processes:                                                                  |\n",
            "|  GPU   GI   CI        PID   Type   Process name                  GPU Memory |\n",
            "|        ID   ID                                                   Usage      |\n",
            "|=============================================================================|\n",
            "|  No running processes found                                                 |\n",
            "+-----------------------------------------------------------------------------+\n"
          ],
          "name": "stdout"
        }
      ]
    },
    {
      "cell_type": "markdown",
      "metadata": {
        "id": "2KG-720i_-_l",
        "colab_type": "text"
      },
      "source": [
        "## Python 基礎\n",
        "- https://rate.bot.com.tw/xrt/quote/l6m/JPY"
      ]
    },
    {
      "cell_type": "code",
      "metadata": {
        "id": "Pqnb9mBvU83q",
        "colab_type": "code",
        "colab": {}
      },
      "source": [
        "import pandas\n",
        "dfs = pandas.read_html('https://rate.bot.com.tw/xrt/quote/l6m/JPY')"
      ],
      "execution_count": 9,
      "outputs": []
    },
    {
      "cell_type": "code",
      "metadata": {
        "id": "cWpb4bUZVVwg",
        "colab_type": "code",
        "colab": {}
      },
      "source": [
        "df = dfs[0].iloc[:,[0,3]]\n",
        "df.columns = ['date', 'price']"
      ],
      "execution_count": 15,
      "outputs": []
    },
    {
      "cell_type": "code",
      "metadata": {
        "id": "LZtZwIcfVhvE",
        "colab_type": "code",
        "colab": {
          "base_uri": "https://localhost:8080/",
          "height": 202
        },
        "outputId": "6cee7dd3-fe4a-4cd5-a52c-dae1686ab6d6"
      },
      "source": [
        "df.head()"
      ],
      "execution_count": 16,
      "outputs": [
        {
          "output_type": "execute_result",
          "data": {
            "text/html": [
              "<div>\n",
              "<style scoped>\n",
              "    .dataframe tbody tr th:only-of-type {\n",
              "        vertical-align: middle;\n",
              "    }\n",
              "\n",
              "    .dataframe tbody tr th {\n",
              "        vertical-align: top;\n",
              "    }\n",
              "\n",
              "    .dataframe thead th {\n",
              "        text-align: right;\n",
              "    }\n",
              "</style>\n",
              "<table border=\"1\" class=\"dataframe\">\n",
              "  <thead>\n",
              "    <tr style=\"text-align: right;\">\n",
              "      <th></th>\n",
              "      <th>date</th>\n",
              "      <th>price</th>\n",
              "    </tr>\n",
              "  </thead>\n",
              "  <tbody>\n",
              "    <tr>\n",
              "      <th>0</th>\n",
              "      <td>2020/06/18</td>\n",
              "      <td>0.2806</td>\n",
              "    </tr>\n",
              "    <tr>\n",
              "      <th>1</th>\n",
              "      <td>2020/06/17</td>\n",
              "      <td>0.2798</td>\n",
              "    </tr>\n",
              "    <tr>\n",
              "      <th>2</th>\n",
              "      <td>2020/06/16</td>\n",
              "      <td>0.2797</td>\n",
              "    </tr>\n",
              "    <tr>\n",
              "      <th>3</th>\n",
              "      <td>2020/06/15</td>\n",
              "      <td>0.2799</td>\n",
              "    </tr>\n",
              "    <tr>\n",
              "      <th>4</th>\n",
              "      <td>2020/06/12</td>\n",
              "      <td>0.2803</td>\n",
              "    </tr>\n",
              "  </tbody>\n",
              "</table>\n",
              "</div>"
            ],
            "text/plain": [
              "         date   price\n",
              "0  2020/06/18  0.2806\n",
              "1  2020/06/17  0.2798\n",
              "2  2020/06/16  0.2797\n",
              "3  2020/06/15  0.2799\n",
              "4  2020/06/12  0.2803"
            ]
          },
          "metadata": {
            "tags": []
          },
          "execution_count": 16
        }
      ]
    },
    {
      "cell_type": "code",
      "metadata": {
        "id": "ioLVRH2qVtk0",
        "colab_type": "code",
        "colab": {
          "base_uri": "https://localhost:8080/",
          "height": 141
        },
        "outputId": "a7136872-e46f-4b41-dfe2-797dc3d17bb9"
      },
      "source": [
        "df['date'] = pandas.to_datetime(df['date'], format = '%Y/%m/%d')\n",
        "df.set_index('date', drop='date', inplace=True)"
      ],
      "execution_count": 17,
      "outputs": [
        {
          "output_type": "stream",
          "text": [
            "/usr/local/lib/python3.6/dist-packages/ipykernel_launcher.py:1: SettingWithCopyWarning: \n",
            "A value is trying to be set on a copy of a slice from a DataFrame.\n",
            "Try using .loc[row_indexer,col_indexer] = value instead\n",
            "\n",
            "See the caveats in the documentation: https://pandas.pydata.org/pandas-docs/stable/user_guide/indexing.html#returning-a-view-versus-a-copy\n",
            "  \"\"\"Entry point for launching an IPython kernel.\n"
          ],
          "name": "stderr"
        }
      ]
    },
    {
      "cell_type": "code",
      "metadata": {
        "id": "S7Oz8FnfV-A_",
        "colab_type": "code",
        "colab": {
          "base_uri": "https://localhost:8080/",
          "height": 295
        },
        "outputId": "a0644719-2341-436c-bd4c-afd746fbc125"
      },
      "source": [
        "df.plot(kind = 'line')"
      ],
      "execution_count": 19,
      "outputs": [
        {
          "output_type": "execute_result",
          "data": {
            "text/plain": [
              "<matplotlib.axes._subplots.AxesSubplot at 0x7f64e9485048>"
            ]
          },
          "metadata": {
            "tags": []
          },
          "execution_count": 19
        },
        {
          "output_type": "display_data",
          "data": {
            "image/png": "[encoded data removed]",
            "text/plain": [
              "<Figure size 432x288 with 1 Axes>"
            ]
          },
          "metadata": {
            "tags": [],
            "needs_background": "light"
          }
        }
      ]
    },
    {
      "cell_type": "code",
      "metadata": {
        "id": "fON7-Lh_WFbS",
        "colab_type": "code",
        "colab": {
          "base_uri": "https://localhost:8080/",
          "height": 228
        },
        "outputId": "41881d94-0abc-459a-df97-2011a728803d"
      },
      "source": [
        "df.sort_index(inplace=True)\n",
        "df['ma30'] = df['price'].rolling(window = 30).mean()"
      ],
      "execution_count": 22,
      "outputs": [
        {
          "output_type": "stream",
          "text": [
            "/usr/local/lib/python3.6/dist-packages/ipykernel_launcher.py:1: SettingWithCopyWarning: \n",
            "A value is trying to be set on a copy of a slice from a DataFrame\n",
            "\n",
            "See the caveats in the documentation: https://pandas.pydata.org/pandas-docs/stable/user_guide/indexing.html#returning-a-view-versus-a-copy\n",
            "  \"\"\"Entry point for launching an IPython kernel.\n",
            "/usr/local/lib/python3.6/dist-packages/ipykernel_launcher.py:2: SettingWithCopyWarning: \n",
            "A value is trying to be set on a copy of a slice from a DataFrame.\n",
            "Try using .loc[row_indexer,col_indexer] = value instead\n",
            "\n",
            "See the caveats in the documentation: https://pandas.pydata.org/pandas-docs/stable/user_guide/indexing.html#returning-a-view-versus-a-copy\n",
            "  \n"
          ],
          "name": "stderr"
        }
      ]
    },
    {
      "cell_type": "code",
      "metadata": {
        "id": "Ff9aE2I-WTD1",
        "colab_type": "code",
        "colab": {
          "base_uri": "https://localhost:8080/",
          "height": 295
        },
        "outputId": "9889e1f4-4b5f-43b3-b1d3-a25d95983f45"
      },
      "source": [
        "df.plot(kind = 'line')"
      ],
      "execution_count": 23,
      "outputs": [
        {
          "output_type": "execute_result",
          "data": {
            "text/plain": [
              "<matplotlib.axes._subplots.AxesSubplot at 0x7f64e8f38a58>"
            ]
          },
          "metadata": {
            "tags": []
          },
          "execution_count": 23
        },
        {
          "output_type": "display_data",
          "data": {
            "image/png": "[encoded data removed]",
            "text/plain": [
              "<Figure size 432x288 with 1 Axes>"
            ]
          },
          "metadata": {
            "tags": [],
            "needs_background": "light"
          }
        }
      ]
    },
    {
      "cell_type": "markdown",
      "metadata": {
        "id": "iXjZPMxu__Lp",
        "colab_type": "text"
      },
      "source": [
        "## Python 網路爬蟲\n",
        "- https://www.twse.com.tw/zh/page/trading/exchange/BFT41U.html"
      ]
    },
    {
      "cell_type": "code",
      "metadata": {
        "id": "4ZyntmM0fFKJ",
        "colab_type": "code",
        "colab": {}
      },
      "source": [
        "import requests\n",
        "res = requests.get('https://www.twse.com.tw/exchangeReport/MI_INDEX?response=json&date=20200617&type=MS&_=1592451186375')"
      ],
      "execution_count": 2,
      "outputs": []
    },
    {
      "cell_type": "code",
      "metadata": {
        "id": "yRKoMFuHf1sp",
        "colab_type": "code",
        "colab": {}
      },
      "source": [
        "jd = res.json()"
      ],
      "execution_count": 4,
      "outputs": []
    },
    {
      "cell_type": "code",
      "metadata": {
        "id": "lTjNCPq5gQNn",
        "colab_type": "code",
        "colab": {
          "base_uri": "https://localhost:8080/",
          "height": 509
        },
        "outputId": "95eabbbf-8486-4fe4-a4de-f658aff56647"
      },
      "source": [
        "import pandas\n",
        "df = pandas.DataFrame(jd['data7'])\n",
        "df.columns = jd['fields7']\n",
        "df"
      ],
      "execution_count": 8,
      "outputs": [
        {
          "output_type": "execute_result",
          "data": {
            "text/html": [
              "<div>\n",
              "<style scoped>\n",
              "    .dataframe tbody tr th:only-of-type {\n",
              "        vertical-align: middle;\n",
              "    }\n",
              "\n",
              "    .dataframe tbody tr th {\n",
              "        vertical-align: top;\n",
              "    }\n",
              "\n",
              "    .dataframe thead th {\n",
              "        text-align: right;\n",
              "    }\n",
              "</style>\n",
              "<table border=\"1\" class=\"dataframe\">\n",
              "  <thead>\n",
              "    <tr style=\"text-align: right;\">\n",
              "      <th></th>\n",
              "      <th>成交統計</th>\n",
              "      <th>成交金額(元)</th>\n",
              "      <th>成交股數(股)</th>\n",
              "      <th>成交筆數</th>\n",
              "    </tr>\n",
              "  </thead>\n",
              "  <tbody>\n",
              "    <tr>\n",
              "      <th>0</th>\n",
              "      <td>1.一般股票</td>\n",
              "      <td>164,333,551,338</td>\n",
              "      <td>3,157,885,314</td>\n",
              "      <td>1,363,454</td>\n",
              "    </tr>\n",
              "    <tr>\n",
              "      <th>1</th>\n",
              "      <td>2.台灣存託憑證</td>\n",
              "      <td>73,868,475</td>\n",
              "      <td>12,123,175</td>\n",
              "      <td>2,815</td>\n",
              "    </tr>\n",
              "    <tr>\n",
              "      <th>2</th>\n",
              "      <td>3.受益憑證</td>\n",
              "      <td>0</td>\n",
              "      <td>0</td>\n",
              "      <td>0</td>\n",
              "    </tr>\n",
              "    <tr>\n",
              "      <th>3</th>\n",
              "      <td>4.ETF</td>\n",
              "      <td>9,172,651,148</td>\n",
              "      <td>783,179,061</td>\n",
              "      <td>94,186</td>\n",
              "    </tr>\n",
              "    <tr>\n",
              "      <th>4</th>\n",
              "      <td>5.受益證券</td>\n",
              "      <td>5,055,810</td>\n",
              "      <td>443,000</td>\n",
              "      <td>52</td>\n",
              "    </tr>\n",
              "    <tr>\n",
              "      <th>5</th>\n",
              "      <td>6.變更交易股票</td>\n",
              "      <td>14,108,876</td>\n",
              "      <td>2,913,030</td>\n",
              "      <td>808</td>\n",
              "    </tr>\n",
              "    <tr>\n",
              "      <th>6</th>\n",
              "      <td>7.認購(售)權證</td>\n",
              "      <td>2,076,111,930</td>\n",
              "      <td>1,471,811,000</td>\n",
              "      <td>79,312</td>\n",
              "    </tr>\n",
              "    <tr>\n",
              "      <th>7</th>\n",
              "      <td>8.轉換公司債</td>\n",
              "      <td>0</td>\n",
              "      <td>0</td>\n",
              "      <td>0</td>\n",
              "    </tr>\n",
              "    <tr>\n",
              "      <th>8</th>\n",
              "      <td>9.附認股權特別股</td>\n",
              "      <td>0</td>\n",
              "      <td>0</td>\n",
              "      <td>0</td>\n",
              "    </tr>\n",
              "    <tr>\n",
              "      <th>9</th>\n",
              "      <td>10.附認股權公司債</td>\n",
              "      <td>0</td>\n",
              "      <td>0</td>\n",
              "      <td>0</td>\n",
              "    </tr>\n",
              "    <tr>\n",
              "      <th>10</th>\n",
              "      <td>11.認股權憑證</td>\n",
              "      <td>0</td>\n",
              "      <td>0</td>\n",
              "      <td>0</td>\n",
              "    </tr>\n",
              "    <tr>\n",
              "      <th>11</th>\n",
              "      <td>12.公司債</td>\n",
              "      <td>0</td>\n",
              "      <td>0</td>\n",
              "      <td>0</td>\n",
              "    </tr>\n",
              "    <tr>\n",
              "      <th>12</th>\n",
              "      <td>13.ETN</td>\n",
              "      <td>14,620,200</td>\n",
              "      <td>1,518,000</td>\n",
              "      <td>224</td>\n",
              "    </tr>\n",
              "    <tr>\n",
              "      <th>13</th>\n",
              "      <td>證券合計(1+6)</td>\n",
              "      <td>164,347,660,214</td>\n",
              "      <td>3,160,798,344</td>\n",
              "      <td>1,364,262</td>\n",
              "    </tr>\n",
              "    <tr>\n",
              "      <th>14</th>\n",
              "      <td>總計(1~13)</td>\n",
              "      <td>175,689,967,777</td>\n",
              "      <td>5,429,872,580</td>\n",
              "      <td>1,540,851</td>\n",
              "    </tr>\n",
              "  </tbody>\n",
              "</table>\n",
              "</div>"
            ],
            "text/plain": [
              "          成交統計          成交金額(元)        成交股數(股)       成交筆數\n",
              "0       1.一般股票  164,333,551,338  3,157,885,314  1,363,454\n",
              "1     2.台灣存託憑證       73,868,475     12,123,175      2,815\n",
              "2       3.受益憑證                0              0          0\n",
              "3        4.ETF    9,172,651,148    783,179,061     94,186\n",
              "4       5.受益證券        5,055,810        443,000         52\n",
              "5     6.變更交易股票       14,108,876      2,913,030        808\n",
              "6    7.認購(售)權證    2,076,111,930  1,471,811,000     79,312\n",
              "7      8.轉換公司債                0              0          0\n",
              "8    9.附認股權特別股                0              0          0\n",
              "9   10.附認股權公司債                0              0          0\n",
              "10    11.認股權憑證                0              0          0\n",
              "11      12.公司債                0              0          0\n",
              "12      13.ETN       14,620,200      1,518,000        224\n",
              "13   證券合計(1+6)  164,347,660,214  3,160,798,344  1,364,262\n",
              "14    總計(1~13)  175,689,967,777  5,429,872,580  1,540,851"
            ]
          },
          "metadata": {
            "tags": []
          },
          "execution_count": 8
        }
      ]
    },
    {
      "cell_type": "code",
      "metadata": {
        "id": "6ADMmrDsBLd1",
        "colab_type": "code",
        "colab": {
          "base_uri": "https://localhost:8080/",
          "height": 446
        },
        "outputId": "8d3c763d-e5e1-41c5-9b86-a552760c8d0b"
      },
      "source": [
        "import pandas_datareader\n",
        "pandas_datareader.get_data_yahoo('hp')"
      ],
      "execution_count": 8,
      "outputs": [
        {
          "output_type": "execute_result",
          "data": {
            "text/html": [
              "<div>\n",
              "<style scoped>\n",
              "    .dataframe tbody tr th:only-of-type {\n",
              "        vertical-align: middle;\n",
              "    }\n",
              "\n",
              "    .dataframe tbody tr th {\n",
              "        vertical-align: top;\n",
              "    }\n",
              "\n",
              "    .dataframe thead th {\n",
              "        text-align: right;\n",
              "    }\n",
              "</style>\n",
              "<table border=\"1\" class=\"dataframe\">\n",
              "  <thead>\n",
              "    <tr style=\"text-align: right;\">\n",
              "      <th></th>\n",
              "      <th>High</th>\n",
              "      <th>Low</th>\n",
              "      <th>Open</th>\n",
              "      <th>Close</th>\n",
              "      <th>Volume</th>\n",
              "      <th>Adj Close</th>\n",
              "    </tr>\n",
              "    <tr>\n",
              "      <th>Date</th>\n",
              "      <th></th>\n",
              "      <th></th>\n",
              "      <th></th>\n",
              "      <th></th>\n",
              "      <th></th>\n",
              "      <th></th>\n",
              "    </tr>\n",
              "  </thead>\n",
              "  <tbody>\n",
              "    <tr>\n",
              "      <th>2015-06-22</th>\n",
              "      <td>72.800003</td>\n",
              "      <td>71.290001</td>\n",
              "      <td>72.209999</td>\n",
              "      <td>72.570000</td>\n",
              "      <td>1149900.0</td>\n",
              "      <td>53.709812</td>\n",
              "    </tr>\n",
              "    <tr>\n",
              "      <th>2015-06-23</th>\n",
              "      <td>73.220001</td>\n",
              "      <td>72.279999</td>\n",
              "      <td>72.459999</td>\n",
              "      <td>72.940002</td>\n",
              "      <td>1074300.0</td>\n",
              "      <td>53.983654</td>\n",
              "    </tr>\n",
              "    <tr>\n",
              "      <th>2015-06-24</th>\n",
              "      <td>72.250000</td>\n",
              "      <td>70.379997</td>\n",
              "      <td>71.709999</td>\n",
              "      <td>70.949997</td>\n",
              "      <td>3544700.0</td>\n",
              "      <td>52.510818</td>\n",
              "    </tr>\n",
              "    <tr>\n",
              "      <th>2015-06-25</th>\n",
              "      <td>71.339996</td>\n",
              "      <td>70.570000</td>\n",
              "      <td>70.959999</td>\n",
              "      <td>70.800003</td>\n",
              "      <td>1776700.0</td>\n",
              "      <td>52.399811</td>\n",
              "    </tr>\n",
              "    <tr>\n",
              "      <th>2015-06-26</th>\n",
              "      <td>71.419998</td>\n",
              "      <td>70.180000</td>\n",
              "      <td>70.599998</td>\n",
              "      <td>70.949997</td>\n",
              "      <td>3095800.0</td>\n",
              "      <td>52.510818</td>\n",
              "    </tr>\n",
              "    <tr>\n",
              "      <th>...</th>\n",
              "      <td>...</td>\n",
              "      <td>...</td>\n",
              "      <td>...</td>\n",
              "      <td>...</td>\n",
              "      <td>...</td>\n",
              "      <td>...</td>\n",
              "    </tr>\n",
              "    <tr>\n",
              "      <th>2020-06-11</th>\n",
              "      <td>23.360001</td>\n",
              "      <td>20.650000</td>\n",
              "      <td>22.000000</td>\n",
              "      <td>20.820000</td>\n",
              "      <td>2541600.0</td>\n",
              "      <td>20.820000</td>\n",
              "    </tr>\n",
              "    <tr>\n",
              "      <th>2020-06-12</th>\n",
              "      <td>23.030001</td>\n",
              "      <td>21.360001</td>\n",
              "      <td>22.480000</td>\n",
              "      <td>22.459999</td>\n",
              "      <td>1910600.0</td>\n",
              "      <td>22.459999</td>\n",
              "    </tr>\n",
              "    <tr>\n",
              "      <th>2020-06-15</th>\n",
              "      <td>23.670000</td>\n",
              "      <td>20.650000</td>\n",
              "      <td>20.980000</td>\n",
              "      <td>23.100000</td>\n",
              "      <td>2433900.0</td>\n",
              "      <td>23.100000</td>\n",
              "    </tr>\n",
              "    <tr>\n",
              "      <th>2020-06-16</th>\n",
              "      <td>24.870001</td>\n",
              "      <td>22.680000</td>\n",
              "      <td>24.870001</td>\n",
              "      <td>23.129999</td>\n",
              "      <td>2295600.0</td>\n",
              "      <td>23.129999</td>\n",
              "    </tr>\n",
              "    <tr>\n",
              "      <th>2020-06-17</th>\n",
              "      <td>23.170000</td>\n",
              "      <td>21.750000</td>\n",
              "      <td>23.040001</td>\n",
              "      <td>21.830000</td>\n",
              "      <td>1466700.0</td>\n",
              "      <td>21.830000</td>\n",
              "    </tr>\n",
              "  </tbody>\n",
              "</table>\n",
              "<p>1257 rows × 6 columns</p>\n",
              "</div>"
            ],
            "text/plain": [
              "                 High        Low       Open      Close     Volume  Adj Close\n",
              "Date                                                                        \n",
              "2015-06-22  72.800003  71.290001  72.209999  72.570000  1149900.0  53.709812\n",
              "2015-06-23  73.220001  72.279999  72.459999  72.940002  1074300.0  53.983654\n",
              "2015-06-24  72.250000  70.379997  71.709999  70.949997  3544700.0  52.510818\n",
              "2015-06-25  71.339996  70.570000  70.959999  70.800003  1776700.0  52.399811\n",
              "2015-06-26  71.419998  70.180000  70.599998  70.949997  3095800.0  52.510818\n",
              "...               ...        ...        ...        ...        ...        ...\n",
              "2020-06-11  23.360001  20.650000  22.000000  20.820000  2541600.0  20.820000\n",
              "2020-06-12  23.030001  21.360001  22.480000  22.459999  1910600.0  22.459999\n",
              "2020-06-15  23.670000  20.650000  20.980000  23.100000  2433900.0  23.100000\n",
              "2020-06-16  24.870001  22.680000  24.870001  23.129999  2295600.0  23.129999\n",
              "2020-06-17  23.170000  21.750000  23.040001  21.830000  1466700.0  21.830000\n",
              "\n",
              "[1257 rows x 6 columns]"
            ]
          },
          "metadata": {
            "tags": []
          },
          "execution_count": 8
        }
      ]
    },
    {
      "cell_type": "markdown",
      "metadata": {
        "id": "d6-lKnt4__WC",
        "colab_type": "text"
      },
      "source": [
        "## Python 資料清理\n",
        "- https://raw.githubusercontent.com/ywchiu/tibamepy/master/data/rent_591_sample.csv"
      ]
    },
    {
      "cell_type": "markdown",
      "metadata": {
        "id": "8-sicnVwAPWw",
        "colab_type": "text"
      },
      "source": [
        "## Python 機器學習"
      ]
    },
    {
      "cell_type": "markdown",
      "metadata": {
        "id": "U-5HL8wcA75x",
        "colab_type": "text"
      },
      "source": [
        "- https://github.com/ywchiu/tibamepy/blob/master/data/customer_churn.csv"
      ]
    },
    {
      "cell_type": "code",
      "metadata": {
        "id": "QpOp6somXKeV",
        "colab_type": "code",
        "colab": {}
      },
      "source": [
        "import pandas\n",
        "df = pandas.read_csv('https://raw.githubusercontent.com/ywchiu/tibamepy/master/data/customer_churn.csv', index_col = 0)"
      ],
      "execution_count": 5,
      "outputs": []
    },
    {
      "cell_type": "code",
      "metadata": {
        "id": "jLkJLM4eXRx5",
        "colab_type": "code",
        "colab": {
          "base_uri": "https://localhost:8080/",
          "height": 485
        },
        "outputId": "145135f7-0d25-4eec-bec2-d5c9ff2a6c50"
      },
      "source": [
        "df.info()"
      ],
      "execution_count": 7,
      "outputs": [
        {
          "output_type": "stream",
          "text": [
            "<class 'pandas.core.frame.DataFrame'>\n",
            "Int64Index: 3333 entries, 1 to 3333\n",
            "Data columns (total 20 columns):\n",
            " #   Column                         Non-Null Count  Dtype  \n",
            "---  ------                         --------------  -----  \n",
            " 0   state                          3333 non-null   object \n",
            " 1   account_length                 3333 non-null   int64  \n",
            " 2   area_code                      3333 non-null   object \n",
            " 3   international_plan             3333 non-null   object \n",
            " 4   voice_mail_plan                3333 non-null   object \n",
            " 5   number_vmail_messages          3333 non-null   int64  \n",
            " 6   total_day_minutes              3333 non-null   float64\n",
            " 7   total_day_calls                3333 non-null   int64  \n",
            " 8   total_day_charge               3333 non-null   float64\n",
            " 9   total_eve_minutes              3333 non-null   float64\n",
            " 10  total_eve_calls                3333 non-null   int64  \n",
            " 11  total_eve_charge               3333 non-null   float64\n",
            " 12  total_night_minutes            3333 non-null   float64\n",
            " 13  total_night_calls              3333 non-null   int64  \n",
            " 14  total_night_charge             3333 non-null   float64\n",
            " 15  total_intl_minutes             3333 non-null   float64\n",
            " 16  total_intl_calls               3333 non-null   int64  \n",
            " 17  total_intl_charge              3333 non-null   float64\n",
            " 18  number_customer_service_calls  3333 non-null   int64  \n",
            " 19  churn                          3333 non-null   object \n",
            "dtypes: float64(8), int64(7), object(5)\n",
            "memory usage: 546.8+ KB\n"
          ],
          "name": "stdout"
        }
      ]
    },
    {
      "cell_type": "code",
      "metadata": {
        "id": "GR_wFaTiXlIP",
        "colab_type": "code",
        "colab": {
          "base_uri": "https://localhost:8080/",
          "height": 222
        },
        "outputId": "33601e82-f526-4c6c-a584-88366d3dac3f"
      },
      "source": [
        "df.head()"
      ],
      "execution_count": 8,
      "outputs": [
        {
          "output_type": "execute_result",
          "data": {
            "text/html": [
              "<div>\n",
              "<style scoped>\n",
              "    .dataframe tbody tr th:only-of-type {\n",
              "        vertical-align: middle;\n",
              "    }\n",
              "\n",
              "    .dataframe tbody tr th {\n",
              "        vertical-align: top;\n",
              "    }\n",
              "\n",
              "    .dataframe thead th {\n",
              "        text-align: right;\n",
              "    }\n",
              "</style>\n",
              "<table border=\"1\" class=\"dataframe\">\n",
              "  <thead>\n",
              "    <tr style=\"text-align: right;\">\n",
              "      <th></th>\n",
              "      <th>state</th>\n",
              "      <th>account_length</th>\n",
              "      <th>area_code</th>\n",
              "      <th>international_plan</th>\n",
              "      <th>voice_mail_plan</th>\n",
              "      <th>number_vmail_messages</th>\n",
              "      <th>total_day_minutes</th>\n",
              "      <th>total_day_calls</th>\n",
              "      <th>total_day_charge</th>\n",
              "      <th>total_eve_minutes</th>\n",
              "      <th>total_eve_calls</th>\n",
              "      <th>total_eve_charge</th>\n",
              "      <th>total_night_minutes</th>\n",
              "      <th>total_night_calls</th>\n",
              "      <th>total_night_charge</th>\n",
              "      <th>total_intl_minutes</th>\n",
              "      <th>total_intl_calls</th>\n",
              "      <th>total_intl_charge</th>\n",
              "      <th>number_customer_service_calls</th>\n",
              "      <th>churn</th>\n",
              "    </tr>\n",
              "  </thead>\n",
              "  <tbody>\n",
              "    <tr>\n",
              "      <th>1</th>\n",
              "      <td>KS</td>\n",
              "      <td>128</td>\n",
              "      <td>area_code_415</td>\n",
              "      <td>no</td>\n",
              "      <td>yes</td>\n",
              "      <td>25</td>\n",
              "      <td>265.1</td>\n",
              "      <td>110</td>\n",
              "      <td>45.07</td>\n",
              "      <td>197.4</td>\n",
              "      <td>99</td>\n",
              "      <td>16.78</td>\n",
              "      <td>244.7</td>\n",
              "      <td>91</td>\n",
              "      <td>11.01</td>\n",
              "      <td>10.0</td>\n",
              "      <td>3</td>\n",
              "      <td>2.70</td>\n",
              "      <td>1</td>\n",
              "      <td>no</td>\n",
              "    </tr>\n",
              "    <tr>\n",
              "      <th>2</th>\n",
              "      <td>OH</td>\n",
              "      <td>107</td>\n",
              "      <td>area_code_415</td>\n",
              "      <td>no</td>\n",
              "      <td>yes</td>\n",
              "      <td>26</td>\n",
              "      <td>161.6</td>\n",
              "      <td>123</td>\n",
              "      <td>27.47</td>\n",
              "      <td>195.5</td>\n",
              "      <td>103</td>\n",
              "      <td>16.62</td>\n",
              "      <td>254.4</td>\n",
              "      <td>103</td>\n",
              "      <td>11.45</td>\n",
              "      <td>13.7</td>\n",
              "      <td>3</td>\n",
              "      <td>3.70</td>\n",
              "      <td>1</td>\n",
              "      <td>no</td>\n",
              "    </tr>\n",
              "    <tr>\n",
              "      <th>3</th>\n",
              "      <td>NJ</td>\n",
              "      <td>137</td>\n",
              "      <td>area_code_415</td>\n",
              "      <td>no</td>\n",
              "      <td>no</td>\n",
              "      <td>0</td>\n",
              "      <td>243.4</td>\n",
              "      <td>114</td>\n",
              "      <td>41.38</td>\n",
              "      <td>121.2</td>\n",
              "      <td>110</td>\n",
              "      <td>10.30</td>\n",
              "      <td>162.6</td>\n",
              "      <td>104</td>\n",
              "      <td>7.32</td>\n",
              "      <td>12.2</td>\n",
              "      <td>5</td>\n",
              "      <td>3.29</td>\n",
              "      <td>0</td>\n",
              "      <td>no</td>\n",
              "    </tr>\n",
              "    <tr>\n",
              "      <th>4</th>\n",
              "      <td>OH</td>\n",
              "      <td>84</td>\n",
              "      <td>area_code_408</td>\n",
              "      <td>yes</td>\n",
              "      <td>no</td>\n",
              "      <td>0</td>\n",
              "      <td>299.4</td>\n",
              "      <td>71</td>\n",
              "      <td>50.90</td>\n",
              "      <td>61.9</td>\n",
              "      <td>88</td>\n",
              "      <td>5.26</td>\n",
              "      <td>196.9</td>\n",
              "      <td>89</td>\n",
              "      <td>8.86</td>\n",
              "      <td>6.6</td>\n",
              "      <td>7</td>\n",
              "      <td>1.78</td>\n",
              "      <td>2</td>\n",
              "      <td>no</td>\n",
              "    </tr>\n",
              "    <tr>\n",
              "      <th>5</th>\n",
              "      <td>OK</td>\n",
              "      <td>75</td>\n",
              "      <td>area_code_415</td>\n",
              "      <td>yes</td>\n",
              "      <td>no</td>\n",
              "      <td>0</td>\n",
              "      <td>166.7</td>\n",
              "      <td>113</td>\n",
              "      <td>28.34</td>\n",
              "      <td>148.3</td>\n",
              "      <td>122</td>\n",
              "      <td>12.61</td>\n",
              "      <td>186.9</td>\n",
              "      <td>121</td>\n",
              "      <td>8.41</td>\n",
              "      <td>10.1</td>\n",
              "      <td>3</td>\n",
              "      <td>2.73</td>\n",
              "      <td>3</td>\n",
              "      <td>no</td>\n",
              "    </tr>\n",
              "  </tbody>\n",
              "</table>\n",
              "</div>"
            ],
            "text/plain": [
              "  state  account_length  ... number_customer_service_calls churn\n",
              "1    KS             128  ...                             1    no\n",
              "2    OH             107  ...                             1    no\n",
              "3    NJ             137  ...                             0    no\n",
              "4    OH              84  ...                             2    no\n",
              "5    OK              75  ...                             3    no\n",
              "\n",
              "[5 rows x 20 columns]"
            ]
          },
          "metadata": {
            "tags": []
          },
          "execution_count": 8
        }
      ]
    },
    {
      "cell_type": "code",
      "metadata": {
        "id": "2aLHTF0VXsDU",
        "colab_type": "code",
        "colab": {}
      },
      "source": [
        "df = df.iloc[:,3:]\n",
        "df['international_plan'] = df['international_plan'].replace({'yes':1, 'no':0 })\n",
        "df['voice_mail_plan'] = df['voice_mail_plan'].replace({'yes':1, 'no':0 })\n",
        "df['churn'] = df['churn'].replace({'yes':1, 'no':0 })"
      ],
      "execution_count": 9,
      "outputs": []
    },
    {
      "cell_type": "code",
      "metadata": {
        "id": "3eqJxUS7X6eP",
        "colab_type": "code",
        "colab": {
          "base_uri": "https://localhost:8080/",
          "height": 222
        },
        "outputId": "e6ebf8d6-9626-43dd-c3ca-5df85f7155d9"
      },
      "source": [
        "df.head()"
      ],
      "execution_count": 10,
      "outputs": [
        {
          "output_type": "execute_result",
          "data": {
            "text/html": [
              "<div>\n",
              "<style scoped>\n",
              "    .dataframe tbody tr th:only-of-type {\n",
              "        vertical-align: middle;\n",
              "    }\n",
              "\n",
              "    .dataframe tbody tr th {\n",
              "        vertical-align: top;\n",
              "    }\n",
              "\n",
              "    .dataframe thead th {\n",
              "        text-align: right;\n",
              "    }\n",
              "</style>\n",
              "<table border=\"1\" class=\"dataframe\">\n",
              "  <thead>\n",
              "    <tr style=\"text-align: right;\">\n",
              "      <th></th>\n",
              "      <th>international_plan</th>\n",
              "      <th>voice_mail_plan</th>\n",
              "      <th>number_vmail_messages</th>\n",
              "      <th>total_day_minutes</th>\n",
              "      <th>total_day_calls</th>\n",
              "      <th>total_day_charge</th>\n",
              "      <th>total_eve_minutes</th>\n",
              "      <th>total_eve_calls</th>\n",
              "      <th>total_eve_charge</th>\n",
              "      <th>total_night_minutes</th>\n",
              "      <th>total_night_calls</th>\n",
              "      <th>total_night_charge</th>\n",
              "      <th>total_intl_minutes</th>\n",
              "      <th>total_intl_calls</th>\n",
              "      <th>total_intl_charge</th>\n",
              "      <th>number_customer_service_calls</th>\n",
              "      <th>churn</th>\n",
              "    </tr>\n",
              "  </thead>\n",
              "  <tbody>\n",
              "    <tr>\n",
              "      <th>1</th>\n",
              "      <td>0</td>\n",
              "      <td>1</td>\n",
              "      <td>25</td>\n",
              "      <td>265.1</td>\n",
              "      <td>110</td>\n",
              "      <td>45.07</td>\n",
              "      <td>197.4</td>\n",
              "      <td>99</td>\n",
              "      <td>16.78</td>\n",
              "      <td>244.7</td>\n",
              "      <td>91</td>\n",
              "      <td>11.01</td>\n",
              "      <td>10.0</td>\n",
              "      <td>3</td>\n",
              "      <td>2.70</td>\n",
              "      <td>1</td>\n",
              "      <td>0</td>\n",
              "    </tr>\n",
              "    <tr>\n",
              "      <th>2</th>\n",
              "      <td>0</td>\n",
              "      <td>1</td>\n",
              "      <td>26</td>\n",
              "      <td>161.6</td>\n",
              "      <td>123</td>\n",
              "      <td>27.47</td>\n",
              "      <td>195.5</td>\n",
              "      <td>103</td>\n",
              "      <td>16.62</td>\n",
              "      <td>254.4</td>\n",
              "      <td>103</td>\n",
              "      <td>11.45</td>\n",
              "      <td>13.7</td>\n",
              "      <td>3</td>\n",
              "      <td>3.70</td>\n",
              "      <td>1</td>\n",
              "      <td>0</td>\n",
              "    </tr>\n",
              "    <tr>\n",
              "      <th>3</th>\n",
              "      <td>0</td>\n",
              "      <td>0</td>\n",
              "      <td>0</td>\n",
              "      <td>243.4</td>\n",
              "      <td>114</td>\n",
              "      <td>41.38</td>\n",
              "      <td>121.2</td>\n",
              "      <td>110</td>\n",
              "      <td>10.30</td>\n",
              "      <td>162.6</td>\n",
              "      <td>104</td>\n",
              "      <td>7.32</td>\n",
              "      <td>12.2</td>\n",
              "      <td>5</td>\n",
              "      <td>3.29</td>\n",
              "      <td>0</td>\n",
              "      <td>0</td>\n",
              "    </tr>\n",
              "    <tr>\n",
              "      <th>4</th>\n",
              "      <td>1</td>\n",
              "      <td>0</td>\n",
              "      <td>0</td>\n",
              "      <td>299.4</td>\n",
              "      <td>71</td>\n",
              "      <td>50.90</td>\n",
              "      <td>61.9</td>\n",
              "      <td>88</td>\n",
              "      <td>5.26</td>\n",
              "      <td>196.9</td>\n",
              "      <td>89</td>\n",
              "      <td>8.86</td>\n",
              "      <td>6.6</td>\n",
              "      <td>7</td>\n",
              "      <td>1.78</td>\n",
              "      <td>2</td>\n",
              "      <td>0</td>\n",
              "    </tr>\n",
              "    <tr>\n",
              "      <th>5</th>\n",
              "      <td>1</td>\n",
              "      <td>0</td>\n",
              "      <td>0</td>\n",
              "      <td>166.7</td>\n",
              "      <td>113</td>\n",
              "      <td>28.34</td>\n",
              "      <td>148.3</td>\n",
              "      <td>122</td>\n",
              "      <td>12.61</td>\n",
              "      <td>186.9</td>\n",
              "      <td>121</td>\n",
              "      <td>8.41</td>\n",
              "      <td>10.1</td>\n",
              "      <td>3</td>\n",
              "      <td>2.73</td>\n",
              "      <td>3</td>\n",
              "      <td>0</td>\n",
              "    </tr>\n",
              "  </tbody>\n",
              "</table>\n",
              "</div>"
            ],
            "text/plain": [
              "   international_plan  voice_mail_plan  ...  number_customer_service_calls  churn\n",
              "1                   0                1  ...                              1      0\n",
              "2                   0                1  ...                              1      0\n",
              "3                   0                0  ...                              0      0\n",
              "4                   1                0  ...                              2      0\n",
              "5                   1                0  ...                              3      0\n",
              "\n",
              "[5 rows x 17 columns]"
            ]
          },
          "metadata": {
            "tags": []
          },
          "execution_count": 10
        }
      ]
    },
    {
      "cell_type": "code",
      "metadata": {
        "id": "DtbMT82rYR5d",
        "colab_type": "code",
        "colab": {}
      },
      "source": [
        "X = df.iloc[:,:-1]\n",
        "Y = df.iloc[:,-1]"
      ],
      "execution_count": 11,
      "outputs": []
    },
    {
      "cell_type": "code",
      "metadata": {
        "id": "40yj41LhX_hP",
        "colab_type": "code",
        "colab": {
          "base_uri": "https://localhost:8080/",
          "height": 156
        },
        "outputId": "991476f4-f918-4ad3-a529-449df1cb3581"
      },
      "source": [
        "from sklearn.ensemble import RandomForestClassifier\n",
        "clf = RandomForestClassifier()\n",
        "clf.fit(X,Y)"
      ],
      "execution_count": 12,
      "outputs": [
        {
          "output_type": "execute_result",
          "data": {
            "text/plain": [
              "RandomForestClassifier(bootstrap=True, ccp_alpha=0.0, class_weight=None,\n",
              "                       criterion='gini', max_depth=None, max_features='auto',\n",
              "                       max_leaf_nodes=None, max_samples=None,\n",
              "                       min_impurity_decrease=0.0, min_impurity_split=None,\n",
              "                       min_samples_leaf=1, min_samples_split=2,\n",
              "                       min_weight_fraction_leaf=0.0, n_estimators=100,\n",
              "                       n_jobs=None, oob_score=False, random_state=None,\n",
              "                       verbose=0, warm_start=False)"
            ]
          },
          "metadata": {
            "tags": []
          },
          "execution_count": 12
        }
      ]
    },
    {
      "cell_type": "code",
      "metadata": {
        "id": "kAex-7OMYe3M",
        "colab_type": "code",
        "colab": {}
      },
      "source": [
        "predicted = clf.predict(X)"
      ],
      "execution_count": 14,
      "outputs": []
    },
    {
      "cell_type": "code",
      "metadata": {
        "id": "iAswBgBYYi6m",
        "colab_type": "code",
        "colab": {
          "base_uri": "https://localhost:8080/",
          "height": 35
        },
        "outputId": "993d44bb-ba58-42fa-b065-b7e0b4730b6c"
      },
      "source": [
        "from sklearn.metrics import accuracy_score\n",
        "accuracy_score(Y, predicted)"
      ],
      "execution_count": 15,
      "outputs": [
        {
          "output_type": "execute_result",
          "data": {
            "text/plain": [
              "0.9996999699969997"
            ]
          },
          "metadata": {
            "tags": []
          },
          "execution_count": 15
        }
      ]
    },
    {
      "cell_type": "markdown",
      "metadata": {
        "id": "CiQUuLGqARs2",
        "colab_type": "text"
      },
      "source": [
        "## Python 資料視覺化"
      ]
    },
    {
      "cell_type": "code",
      "metadata": {
        "id": "yzQqakUEAJVE",
        "colab_type": "code",
        "colab": {}
      },
      "source": [
        ""
      ],
      "execution_count": null,
      "outputs": []
    }
  ]
}