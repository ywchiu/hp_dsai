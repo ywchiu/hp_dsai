{
  "nbformat": 4,
  "nbformat_minor": 0,
  "metadata": {
    "colab": {
      "name": "Demo20200117.ipynb",
      "provenance": [],
      "collapsed_sections": []
    },
    "kernelspec": {
      "name": "python3",
      "display_name": "Python 3"
    }
  },
  "cells": [
    {
      "cell_type": "code",
      "metadata": {
        "id": "iF5gnV3yIvBy",
        "colab_type": "code",
        "colab": {
          "base_uri": "https://localhost:8080/",
          "height": 69
        },
        "outputId": "14af2669-e4cc-4108-8a1c-cdb0de2f03d2"
      },
      "source": [
        "from sklearn.datasets import load_iris\n",
        "iris = load_iris()\n",
        "iris.data[0:3,:]"
      ],
      "execution_count": 3,
      "outputs": [
        {
          "output_type": "execute_result",
          "data": {
            "text/plain": [
              "array([[5.1, 3.5, 1.4, 0.2],\n",
              "       [4.9, 3. , 1.4, 0.2],\n",
              "       [4.7, 3.2, 1.3, 0.2]])"
            ]
          },
          "metadata": {
            "tags": []
          },
          "execution_count": 3
        }
      ]
    },
    {
      "cell_type": "code",
      "metadata": {
        "id": "I6ZsV4kdI2AA",
        "colab_type": "code",
        "colab": {
          "base_uri": "https://localhost:8080/",
          "height": 139
        },
        "outputId": "a1f9f6c3-9b19-4a82-f959-2f7e158e9768"
      },
      "source": [
        "iris.target"
      ],
      "execution_count": 4,
      "outputs": [
        {
          "output_type": "execute_result",
          "data": {
            "text/plain": [
              "array([0, 0, 0, 0, 0, 0, 0, 0, 0, 0, 0, 0, 0, 0, 0, 0, 0, 0, 0, 0, 0, 0,\n",
              "       0, 0, 0, 0, 0, 0, 0, 0, 0, 0, 0, 0, 0, 0, 0, 0, 0, 0, 0, 0, 0, 0,\n",
              "       0, 0, 0, 0, 0, 0, 1, 1, 1, 1, 1, 1, 1, 1, 1, 1, 1, 1, 1, 1, 1, 1,\n",
              "       1, 1, 1, 1, 1, 1, 1, 1, 1, 1, 1, 1, 1, 1, 1, 1, 1, 1, 1, 1, 1, 1,\n",
              "       1, 1, 1, 1, 1, 1, 1, 1, 1, 1, 1, 1, 2, 2, 2, 2, 2, 2, 2, 2, 2, 2,\n",
              "       2, 2, 2, 2, 2, 2, 2, 2, 2, 2, 2, 2, 2, 2, 2, 2, 2, 2, 2, 2, 2, 2,\n",
              "       2, 2, 2, 2, 2, 2, 2, 2, 2, 2, 2, 2, 2, 2, 2, 2, 2, 2])"
            ]
          },
          "metadata": {
            "tags": []
          },
          "execution_count": 4
        }
      ]
    },
    {
      "cell_type": "code",
      "metadata": {
        "id": "JzICI15FI_k1",
        "colab_type": "code",
        "colab": {
          "base_uri": "https://localhost:8080/",
          "height": 121
        },
        "outputId": "d8a2801d-a161-4157-a025-f21ee61b9722"
      },
      "source": [
        "from sklearn import tree\n",
        "clf = tree.DecisionTreeClassifier(max_depth=2)\n",
        "clf.fit(iris.data, iris.target)"
      ],
      "execution_count": 9,
      "outputs": [
        {
          "output_type": "execute_result",
          "data": {
            "text/plain": [
              "DecisionTreeClassifier(ccp_alpha=0.0, class_weight=None, criterion='gini',\n",
              "                       max_depth=2, max_features=None, max_leaf_nodes=None,\n",
              "                       min_impurity_decrease=0.0, min_impurity_split=None,\n",
              "                       min_samples_leaf=1, min_samples_split=2,\n",
              "                       min_weight_fraction_leaf=0.0, presort='deprecated',\n",
              "                       random_state=None, splitter='best')"
            ]
          },
          "metadata": {
            "tags": []
          },
          "execution_count": 9
        }
      ]
    },
    {
      "cell_type": "code",
      "metadata": {
        "id": "P4g8cyyuJJke",
        "colab_type": "code",
        "colab": {}
      },
      "source": [
        "tree.export_graphviz(clf, 'tree.dot')"
      ],
      "execution_count": 0,
      "outputs": []
    },
    {
      "cell_type": "code",
      "metadata": {
        "id": "yBag01R-JR4V",
        "colab_type": "code",
        "colab": {
          "base_uri": "https://localhost:8080/",
          "height": 225
        },
        "outputId": "125a5dff-0472-4f93-b6d0-31c7ded47e2f"
      },
      "source": [
        "! cat tree.dot"
      ],
      "execution_count": 11,
      "outputs": [
        {
          "output_type": "stream",
          "text": [
            "digraph Tree {\n",
            "node [shape=box] ;\n",
            "0 [label=\"X[2] <= 2.45\\ngini = 0.667\\nsamples = 150\\nvalue = [50, 50, 50]\"] ;\n",
            "1 [label=\"gini = 0.0\\nsamples = 50\\nvalue = [50, 0, 0]\"] ;\n",
            "0 -> 1 [labeldistance=2.5, labelangle=45, headlabel=\"True\"] ;\n",
            "2 [label=\"X[3] <= 1.75\\ngini = 0.5\\nsamples = 100\\nvalue = [0, 50, 50]\"] ;\n",
            "0 -> 2 [labeldistance=2.5, labelangle=-45, headlabel=\"False\"] ;\n",
            "3 [label=\"gini = 0.168\\nsamples = 54\\nvalue = [0, 49, 5]\"] ;\n",
            "2 -> 3 ;\n",
            "4 [label=\"gini = 0.043\\nsamples = 46\\nvalue = [0, 1, 45]\"] ;\n",
            "2 -> 4 ;\n",
            "}"
          ],
          "name": "stdout"
        }
      ]
    },
    {
      "cell_type": "code",
      "metadata": {
        "id": "UdGWCKpUROSb",
        "colab_type": "code",
        "colab": {
          "base_uri": "https://localhost:8080/",
          "height": 35
        },
        "outputId": "a5672fd4-723f-4af4-bd62-9dd3bc326b9a"
      },
      "source": [
        "def rectifier(x):\n",
        "  return np.maximum(0, x)\n",
        "a = np.array([-1,-2,4])\n",
        "rectifier(a)"
      ],
      "execution_count": 20,
      "outputs": [
        {
          "output_type": "execute_result",
          "data": {
            "text/plain": [
              "array([0, 0, 4])"
            ]
          },
          "metadata": {
            "tags": []
          },
          "execution_count": 20
        }
      ]
    },
    {
      "cell_type": "code",
      "metadata": {
        "id": "b1Gz8C2EJWS1",
        "colab_type": "code",
        "colab": {}
      },
      "source": [
        "import numpy as np\n",
        "X = np.array([70, 10, 300, 20])\n",
        "W1 = np.random.randn(4,5)\n",
        "X1 = np.dot(X,W1) \n",
        "X2 = rectifier(X1)"
      ],
      "execution_count": 0,
      "outputs": []
    },
    {
      "cell_type": "code",
      "metadata": {
        "id": "QQYjcdf8Pfra",
        "colab_type": "code",
        "colab": {
          "base_uri": "https://localhost:8080/",
          "height": 35
        },
        "outputId": "da4eafca-52fa-4163-ec01-fcecd27bf9b8"
      },
      "source": [
        "W2 = np.random.randn(5,1)\n",
        "np.dot(X2, W2)"
      ],
      "execution_count": 22,
      "outputs": [
        {
          "output_type": "execute_result",
          "data": {
            "text/plain": [
              "array([52.03151521])"
            ]
          },
          "metadata": {
            "tags": []
          },
          "execution_count": 22
        }
      ]
    },
    {
      "cell_type": "code",
      "metadata": {
        "id": "fghxxpaLPyyH",
        "colab_type": "code",
        "colab": {
          "base_uri": "https://localhost:8080/",
          "height": 283
        },
        "outputId": "9335fa1c-fd2d-4d43-8d3e-b18bb56eca92"
      },
      "source": [
        "\n",
        "import matplotlib.pyplot as plt\n",
        "\n",
        "def func(x):\n",
        "    return x ** 2\n",
        "def dfunc(f, x):\n",
        "    h = 1e-4 \n",
        "    return (f(x+h) - f(x)) / (h)\n",
        "# 绘制 x ^ 2 \n",
        "x = np.arange(-6, 6, 0.01)\n",
        "y = func(x)\n",
        "plt.plot(x, y)"
      ],
      "execution_count": 25,
      "outputs": [
        {
          "output_type": "execute_result",
          "data": {
            "text/plain": [
              "[<matplotlib.lines.Line2D at 0x7fd2f4af22b0>]"
            ]
          },
          "metadata": {
            "tags": []
          },
          "execution_count": 25
        },
        {
          "output_type": "display_data",
          "data": {
            "image/png": "[encoded data removed]",
            "text/plain": [
              "<Figure size 432x288 with 1 Axes>"
            ]
          },
          "metadata": {
            "tags": []
          }
        }
      ]
    },
    {
      "cell_type": "code",
      "metadata": {
        "id": "OTcf5cvOTQZL",
        "colab_type": "code",
        "colab": {
          "base_uri": "https://localhost:8080/",
          "height": 265
        },
        "outputId": "f0fc9656-48c5-4417-965f-d63101571344"
      },
      "source": [
        "import matplotlib.pyplot as plt\n",
        "# 切线函数\n",
        "def tfunc(f, x, t):\n",
        "    d = dfunc(f, x)\n",
        "    y = f(x) - d*x\n",
        "    return d*t + y\n",
        "\n",
        "# 绘制 x ^ 2 \n",
        "x = np.arange(-6, 6, 0.01)\n",
        "y = func(x)\n",
        "plt.plot(x, y)\n",
        "\n",
        "# 绘制x = 3 时的切线\n",
        "x2 = np.arange(0, 5, 0.01)\n",
        "y2 = tfunc(func, 3, x2)\n",
        "plt.plot(x2, y2)\n",
        "plt.show()"
      ],
      "execution_count": 26,
      "outputs": [
        {
          "output_type": "display_data",
          "data": {
            "image/png": "[encoded data removed]",
            "text/plain": [
              "<Figure size 432x288 with 1 Axes>"
            ]
          },
          "metadata": {
            "tags": []
          }
        }
      ]
    },
    {
      "cell_type": "code",
      "metadata": {
        "id": "Iq0Rr8c9Tci-",
        "colab_type": "code",
        "colab": {}
      },
      "source": [
        "def gradient_descent(func, init_x, lr = 0.3, epochs = 100):    \n",
        "    x = init_x       \n",
        "    res = [x]\n",
        "    for i in range(epochs):         \n",
        "        grad = dfunc(func,x)        \n",
        "        x = x - grad * lr\n",
        "        res.append(x)\n",
        "    return np.array(res)\n",
        "\n",
        "def dfunc(f, x):\n",
        "    h = 1e-4 \n",
        "    return (f(x+h) - f(x-h)) / (2*h)"
      ],
      "execution_count": 0,
      "outputs": []
    },
    {
      "cell_type": "code",
      "metadata": {
        "id": "0a4yPUZ8TngV",
        "colab_type": "code",
        "colab": {
          "base_uri": "https://localhost:8080/",
          "height": 265
        },
        "outputId": "c0f42ee4-220e-4d85-af1a-36e93cd55144"
      },
      "source": [
        "x = gradient_descent(func, -5, lr=0.8)\n",
        "t = np.arange(-6.0, 6.0, 0.08)\n",
        "plt.plot(t, func(t), c='b')\n",
        "plt.plot(x, func(x), c='r')    \n",
        "plt.scatter(x, func(x), c='r')    \n",
        "plt.show()"
      ],
      "execution_count": 29,
      "outputs": [
        {
          "output_type": "display_data",
          "data": {
            "image/png": "[encoded data removed]",
            "text/plain": [
              "<Figure size 432x288 with 1 Axes>"
            ]
          },
          "metadata": {
            "tags": []
          }
        }
      ]
    },
    {
      "cell_type": "code",
      "metadata": {
        "id": "I1iJ6q6ATq6G",
        "colab_type": "code",
        "colab": {}
      },
      "source": [
        ""
      ],
      "execution_count": 0,
      "outputs": []
    }
  ]
}