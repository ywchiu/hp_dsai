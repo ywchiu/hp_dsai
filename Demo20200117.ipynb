{
  "nbformat": 4,
  "nbformat_minor": 0,
  "metadata": {
    "colab": {
      "name": "Demo20200117.ipynb",
      "provenance": [],
      "collapsed_sections": []
    },
    "kernelspec": {
      "name": "python3",
      "display_name": "Python 3"
    }
  },
  "cells": [
    {
      "cell_type": "code",
      "metadata": {
        "id": "iF5gnV3yIvBy",
        "colab_type": "code",
        "colab": {
          "base_uri": "https://localhost:8080/",
          "height": 69
        },
        "outputId": "14af2669-e4cc-4108-8a1c-cdb0de2f03d2"
      },
      "source": [
        "from sklearn.datasets import load_iris\n",
        "iris = load_iris()\n",
        "iris.data[0:3,:]"
      ],
      "execution_count": 3,
      "outputs": [
        {
          "output_type": "execute_result",
          "data": {
            "text/plain": [
              "array([[5.1, 3.5, 1.4, 0.2],\n",
              "       [4.9, 3. , 1.4, 0.2],\n",
              "       [4.7, 3.2, 1.3, 0.2]])"
            ]
          },
          "metadata": {
            "tags": []
          },
          "execution_count": 3
        }
      ]
    },
    {
      "cell_type": "code",
      "metadata": {
        "id": "I6ZsV4kdI2AA",
        "colab_type": "code",
        "colab": {
          "base_uri": "https://localhost:8080/",
          "height": 138
        },
        "outputId": "a1f9f6c3-9b19-4a82-f959-2f7e158e9768"
      },
      "source": [
        "iris.target"
      ],
      "execution_count": 4,
      "outputs": [
        {
          "output_type": "execute_result",
          "data": {
            "text/plain": [
              "array([0, 0, 0, 0, 0, 0, 0, 0, 0, 0, 0, 0, 0, 0, 0, 0, 0, 0, 0, 0, 0, 0,\n",
              "       0, 0, 0, 0, 0, 0, 0, 0, 0, 0, 0, 0, 0, 0, 0, 0, 0, 0, 0, 0, 0, 0,\n",
              "       0, 0, 0, 0, 0, 0, 1, 1, 1, 1, 1, 1, 1, 1, 1, 1, 1, 1, 1, 1, 1, 1,\n",
              "       1, 1, 1, 1, 1, 1, 1, 1, 1, 1, 1, 1, 1, 1, 1, 1, 1, 1, 1, 1, 1, 1,\n",
              "       1, 1, 1, 1, 1, 1, 1, 1, 1, 1, 1, 1, 2, 2, 2, 2, 2, 2, 2, 2, 2, 2,\n",
              "       2, 2, 2, 2, 2, 2, 2, 2, 2, 2, 2, 2, 2, 2, 2, 2, 2, 2, 2, 2, 2, 2,\n",
              "       2, 2, 2, 2, 2, 2, 2, 2, 2, 2, 2, 2, 2, 2, 2, 2, 2, 2])"
            ]
          },
          "metadata": {
            "tags": []
          },
          "execution_count": 4
        }
      ]
    },
    {
      "cell_type": "code",
      "metadata": {
        "id": "JzICI15FI_k1",
        "colab_type": "code",
        "colab": {
          "base_uri": "https://localhost:8080/",
          "height": 121
        },
        "outputId": "d8a2801d-a161-4157-a025-f21ee61b9722"
      },
      "source": [
        "from sklearn import tree\n",
        "clf = tree.DecisionTreeClassifier(max_depth=2)\n",
        "clf.fit(iris.data, iris.target)"
      ],
      "execution_count": 9,
      "outputs": [
        {
          "output_type": "execute_result",
          "data": {
            "text/plain": [
              "DecisionTreeClassifier(ccp_alpha=0.0, class_weight=None, criterion='gini',\n",
              "                       max_depth=2, max_features=None, max_leaf_nodes=None,\n",
              "                       min_impurity_decrease=0.0, min_impurity_split=None,\n",
              "                       min_samples_leaf=1, min_samples_split=2,\n",
              "                       min_weight_fraction_leaf=0.0, presort='deprecated',\n",
              "                       random_state=None, splitter='best')"
            ]
          },
          "metadata": {
            "tags": []
          },
          "execution_count": 9
        }
      ]
    },
    {
      "cell_type": "code",
      "metadata": {
        "id": "P4g8cyyuJJke",
        "colab_type": "code",
        "colab": {}
      },
      "source": [
        "tree.export_graphviz(clf, 'tree.dot')"
      ],
      "execution_count": 0,
      "outputs": []
    },
    {
      "cell_type": "code",
      "metadata": {
        "id": "yBag01R-JR4V",
        "colab_type": "code",
        "colab": {
          "base_uri": "https://localhost:8080/",
          "height": 225
        },
        "outputId": "125a5dff-0472-4f93-b6d0-31c7ded47e2f"
      },
      "source": [
        "! cat tree.dot"
      ],
      "execution_count": 11,
      "outputs": [
        {
          "output_type": "stream",
          "text": [
            "digraph Tree {\n",
            "node [shape=box] ;\n",
            "0 [label=\"X[2] <= 2.45\\ngini = 0.667\\nsamples = 150\\nvalue = [50, 50, 50]\"] ;\n",
            "1 [label=\"gini = 0.0\\nsamples = 50\\nvalue = [50, 0, 0]\"] ;\n",
            "0 -> 1 [labeldistance=2.5, labelangle=45, headlabel=\"True\"] ;\n",
            "2 [label=\"X[3] <= 1.75\\ngini = 0.5\\nsamples = 100\\nvalue = [0, 50, 50]\"] ;\n",
            "0 -> 2 [labeldistance=2.5, labelangle=-45, headlabel=\"False\"] ;\n",
            "3 [label=\"gini = 0.168\\nsamples = 54\\nvalue = [0, 49, 5]\"] ;\n",
            "2 -> 3 ;\n",
            "4 [label=\"gini = 0.043\\nsamples = 46\\nvalue = [0, 1, 45]\"] ;\n",
            "2 -> 4 ;\n",
            "}"
          ],
          "name": "stdout"
        }
      ]
    },
    {
      "cell_type": "code",
      "metadata": {
        "id": "UdGWCKpUROSb",
        "colab_type": "code",
        "colab": {
          "base_uri": "https://localhost:8080/",
          "height": 35
        },
        "outputId": "a5672fd4-723f-4af4-bd62-9dd3bc326b9a"
      },
      "source": [
        "def rectifier(x):\n",
        "  return np.maximum(0, x)\n",
        "a = np.array([-1,-2,4])\n",
        "rectifier(a)"
      ],
      "execution_count": 20,
      "outputs": [
        {
          "output_type": "execute_result",
          "data": {
            "text/plain": [
              "array([0, 0, 4])"
            ]
          },
          "metadata": {
            "tags": []
          },
          "execution_count": 20
        }
      ]
    },
    {
      "cell_type": "code",
      "metadata": {
        "id": "b1Gz8C2EJWS1",
        "colab_type": "code",
        "colab": {}
      },
      "source": [
        "import numpy as np\n",
        "X = np.array([70, 10, 300, 20])\n",
        "W1 = np.random.randn(4,5)\n",
        "X1 = np.dot(X,W1) \n",
        "X2 = rectifier(X1)"
      ],
      "execution_count": 0,
      "outputs": []
    },
    {
      "cell_type": "code",
      "metadata": {
        "id": "QQYjcdf8Pfra",
        "colab_type": "code",
        "colab": {
          "base_uri": "https://localhost:8080/",
          "height": 35
        },
        "outputId": "da4eafca-52fa-4163-ec01-fcecd27bf9b8"
      },
      "source": [
        "W2 = np.random.randn(5,1)\n",
        "np.dot(X2, W2)"
      ],
      "execution_count": 22,
      "outputs": [
        {
          "output_type": "execute_result",
          "data": {
            "text/plain": [
              "array([52.03151521])"
            ]
          },
          "metadata": {
            "tags": []
          },
          "execution_count": 22
        }
      ]
    },
    {
      "cell_type": "code",
      "metadata": {
        "id": "fghxxpaLPyyH",
        "colab_type": "code",
        "colab": {
          "base_uri": "https://localhost:8080/",
          "height": 282
        },
        "outputId": "9335fa1c-fd2d-4d43-8d3e-b18bb56eca92"
      },
      "source": [
        "\n",
        "import matplotlib.pyplot as plt\n",
        "\n",
        "def func(x):\n",
        "    return x ** 2\n",
        "def dfunc(f, x):\n",
        "    h = 1e-4 \n",
        "    return (f(x+h) - f(x)) / (h)\n",
        "# 绘制 x ^ 2 \n",
        "x = np.arange(-6, 6, 0.01)\n",
        "y = func(x)\n",
        "plt.plot(x, y)"
      ],
      "execution_count": 25,
      "outputs": [
        {
          "output_type": "execute_result",
          "data": {
            "text/plain": [
              "[<matplotlib.lines.Line2D at 0x7fd2f4af22b0>]"
            ]
          },
          "metadata": {
            "tags": []
          },
          "execution_count": 25
        },
        {
          "output_type": "display_data",
          "data": {
            "image/png": "[encoded data removed]",
            "text/plain": [
              "<Figure size 432x288 with 1 Axes>"
            ]
          },
          "metadata": {
            "tags": []
          }
        }
      ]
    },
    {
      "cell_type": "code",
      "metadata": {
        "id": "OTcf5cvOTQZL",
        "colab_type": "code",
        "colab": {
          "base_uri": "https://localhost:8080/",
          "height": 265
        },
        "outputId": "f0fc9656-48c5-4417-965f-d63101571344"
      },
      "source": [
        "import matplotlib.pyplot as plt\n",
        "# 切线函数\n",
        "def tfunc(f, x, t):\n",
        "    d = dfunc(f, x)\n",
        "    y = f(x) - d*x\n",
        "    return d*t + y\n",
        "\n",
        "# 绘制 x ^ 2 \n",
        "x = np.arange(-6, 6, 0.01)\n",
        "y = func(x)\n",
        "plt.plot(x, y)\n",
        "\n",
        "# 绘制x = 3 时的切线\n",
        "x2 = np.arange(0, 5, 0.01)\n",
        "y2 = tfunc(func, 3, x2)\n",
        "plt.plot(x2, y2)\n",
        "plt.show()"
      ],
      "execution_count": 26,
      "outputs": [
        {
          "output_type": "display_data",
          "data": {
            "image/png": "[encoded data removed]",
            "text/plain": [
              "<Figure size 432x288 with 1 Axes>"
            ]
          },
          "metadata": {
            "tags": []
          }
        }
      ]
    },
    {
      "cell_type": "code",
      "metadata": {
        "id": "Iq0Rr8c9Tci-",
        "colab_type": "code",
        "colab": {}
      },
      "source": [
        "def gradient_descent(func, init_x, lr = 0.3, epochs = 100):    \n",
        "    x = init_x       \n",
        "    res = [x]\n",
        "    for i in range(epochs):         \n",
        "        grad = dfunc(func,x)        \n",
        "        x = x - grad * lr\n",
        "        res.append(x)\n",
        "    return np.array(res)\n",
        "\n",
        "def dfunc(f, x):\n",
        "    h = 1e-4 \n",
        "    return (f(x+h) - f(x-h)) / (2*h)"
      ],
      "execution_count": 0,
      "outputs": []
    },
    {
      "cell_type": "code",
      "metadata": {
        "id": "0a4yPUZ8TngV",
        "colab_type": "code",
        "colab": {
          "base_uri": "https://localhost:8080/",
          "height": 265
        },
        "outputId": "c0f42ee4-220e-4d85-af1a-36e93cd55144"
      },
      "source": [
        "x = gradient_descent(func, -5, lr=0.8)\n",
        "t = np.arange(-6.0, 6.0, 0.08)\n",
        "plt.plot(t, func(t), c='b')\n",
        "plt.plot(x, func(x), c='r')    \n",
        "plt.scatter(x, func(x), c='r')    \n",
        "plt.show()"
      ],
      "execution_count": 29,
      "outputs": [
        {
          "output_type": "display_data",
          "data": {
            "image/png": "[encoded data removed]",
            "text/plain": [
              "<Figure size 432x288 with 1 Axes>"
            ]
          },
          "metadata": {
            "tags": []
          }
        }
      ]
    },
    {
      "cell_type": "code",
      "metadata": {
        "id": "I1iJ6q6ATq6G",
        "colab_type": "code",
        "colab": {}
      },
      "source": [
        "import numpy as np"
      ],
      "execution_count": 0,
      "outputs": []
    },
    {
      "cell_type": "code",
      "metadata": {
        "id": "Sb205-0_Yro2",
        "colab_type": "code",
        "colab": {}
      },
      "source": [
        "\n",
        "def softmax_function(x):\n",
        "    return np.exp(x) / np.sum(np.exp(x))\n",
        "\n",
        "def sigmoid_function(x):\n",
        "    return 1/ (1 + np.exp(-x))\n",
        "\n",
        "def dfunc(f, x):\n",
        "    h = 1e-4 \n",
        "    grad = np.zeros_like(x)\n",
        "    it = np.nditer(x, flags=['multi_index'])\n",
        "    while not it.finished:     \n",
        "        idx = it.multi_index\n",
        "        tmp_val = x[idx]\n",
        "        x[idx] = float(tmp_val) + h\n",
        "        fxh1 = f(x) # f(x+h)\n",
        "        x[idx] = tmp_val - h \n",
        "        fxh2 = f(x) # f(x-h)\n",
        "        grad[idx] = (fxh1 - fxh2) / (2*h)\n",
        "        x[idx] = tmp_val\n",
        "        it.iternext()   \n",
        "    return grad\n",
        "\n",
        "def cross_entropy_err(y_hat, y):\n",
        "    delta = 1e-8\n",
        "    return -np.sum(y*np.log(y_hat + delta))"
      ],
      "execution_count": 0,
      "outputs": []
    },
    {
      "cell_type": "code",
      "metadata": {
        "id": "MLg23x0jYufM",
        "colab_type": "code",
        "colab": {}
      },
      "source": [
        "class ANN:\n",
        "    def __init__(self, input_size, hidden_size, output_size, weight_init_std=0.01):\n",
        "        self.params = {}\n",
        "        self.params['W1'] = weight_init_std * np.random.randn(input_size, hidden_size)\n",
        "        self.params['b1'] = np.zeros(hidden_size)\n",
        "        self.params['W2'] = weight_init_std * np.random.randn(hidden_size, output_size)\n",
        "        self.params['b2'] = np.zeros(output_size)\n",
        " \n",
        "    def predict(self, x):\n",
        "        W1, W2 = self.params['W1'], self.params['W2']\n",
        "        b1, b2 = self.params['b1'], self.params['b2']\n",
        "        a1 = np.dot(x, W1) + b1\n",
        "        z1 = sigmoid_function(a1)\n",
        "        a2 = np.dot(z1, W2) + b2\n",
        "        y = softmax_function(a2)\n",
        "        return y\n",
        "        \n",
        "    def loss(self, x, y):\n",
        "        y_hat = self.predict(x)\n",
        "        return cross_entropy_err(y_hat, y)\n",
        "        \n",
        "    def numerical_gradient(self, x, y):\n",
        "        loss_W = lambda W: self.loss(x, y)\n",
        "        grads = {}\n",
        "        grads['W1'] = dfunc(loss_W, self.params['W1'])\n",
        "        grads['b1'] = dfunc(loss_W, self.params['b1'])\n",
        "        grads['W2'] = dfunc(loss_W, self.params['W2'])\n",
        "        grads['b2'] = dfunc(loss_W, self.params['b2'])\n",
        "        return grads"
      ],
      "execution_count": 0,
      "outputs": []
    },
    {
      "cell_type": "code",
      "metadata": {
        "id": "eRAEsOxbYySs",
        "colab_type": "code",
        "colab": {}
      },
      "source": [
        "net = ANN(input_size=4, hidden_size=5, output_size=3)"
      ],
      "execution_count": 0,
      "outputs": []
    },
    {
      "cell_type": "code",
      "metadata": {
        "id": "07hhOctxY0Zb",
        "colab_type": "code",
        "colab": {
          "base_uri": "https://localhost:8080/",
          "height": 86
        },
        "outputId": "5c23e65c-6e37-493d-8a25-2f6cf7466a7d"
      },
      "source": [
        "net.params['W1']"
      ],
      "execution_count": 38,
      "outputs": [
        {
          "output_type": "execute_result",
          "data": {
            "text/plain": [
              "array([[ 0.01234307,  0.0206171 , -0.00267256,  0.00493172,  0.0035726 ],\n",
              "       [-0.00953511,  0.00422477, -0.01529872,  0.01595091, -0.00544726],\n",
              "       [ 0.0030067 , -0.00422311,  0.00946238, -0.01647292, -0.00504105],\n",
              "       [ 0.00832021, -0.00049774,  0.00312244, -0.0015852 , -0.00236045]])"
            ]
          },
          "metadata": {
            "tags": []
          },
          "execution_count": 38
        }
      ]
    },
    {
      "cell_type": "code",
      "metadata": {
        "id": "X4qsmIEVY-AK",
        "colab_type": "code",
        "colab": {
          "base_uri": "https://localhost:8080/",
          "height": 104
        },
        "outputId": "fcf5a17c-2930-4c26-ab80-052d2f7b94b5"
      },
      "source": [
        "net.params['W2']"
      ],
      "execution_count": 39,
      "outputs": [
        {
          "output_type": "execute_result",
          "data": {
            "text/plain": [
              "array([[ 0.00967531, -0.00670245, -0.00945167],\n",
              "       [ 0.00122545, -0.00332531, -0.00825699],\n",
              "       [-0.00087312, -0.01408017, -0.02384349],\n",
              "       [ 0.01371578, -0.0112543 , -0.00105485],\n",
              "       [ 0.00906653,  0.00552186,  0.00086537]])"
            ]
          },
          "metadata": {
            "tags": []
          },
          "execution_count": 39
        }
      ]
    },
    {
      "cell_type": "code",
      "metadata": {
        "id": "tzUE-2AUZFbR",
        "colab_type": "code",
        "colab": {}
      },
      "source": [
        "from sklearn.datasets import load_iris\n",
        "iris = load_iris()\n",
        "x= iris.data"
      ],
      "execution_count": 0,
      "outputs": []
    },
    {
      "cell_type": "code",
      "metadata": {
        "id": "76INWEbkZJ8R",
        "colab_type": "code",
        "colab": {
          "base_uri": "https://localhost:8080/",
          "height": 138
        },
        "outputId": "cc63e027-34c3-416c-b604-aae467fc7ae6"
      },
      "source": [
        "iris.target"
      ],
      "execution_count": 41,
      "outputs": [
        {
          "output_type": "execute_result",
          "data": {
            "text/plain": [
              "array([0, 0, 0, 0, 0, 0, 0, 0, 0, 0, 0, 0, 0, 0, 0, 0, 0, 0, 0, 0, 0, 0,\n",
              "       0, 0, 0, 0, 0, 0, 0, 0, 0, 0, 0, 0, 0, 0, 0, 0, 0, 0, 0, 0, 0, 0,\n",
              "       0, 0, 0, 0, 0, 0, 1, 1, 1, 1, 1, 1, 1, 1, 1, 1, 1, 1, 1, 1, 1, 1,\n",
              "       1, 1, 1, 1, 1, 1, 1, 1, 1, 1, 1, 1, 1, 1, 1, 1, 1, 1, 1, 1, 1, 1,\n",
              "       1, 1, 1, 1, 1, 1, 1, 1, 1, 1, 1, 1, 2, 2, 2, 2, 2, 2, 2, 2, 2, 2,\n",
              "       2, 2, 2, 2, 2, 2, 2, 2, 2, 2, 2, 2, 2, 2, 2, 2, 2, 2, 2, 2, 2, 2,\n",
              "       2, 2, 2, 2, 2, 2, 2, 2, 2, 2, 2, 2, 2, 2, 2, 2, 2, 2])"
            ]
          },
          "metadata": {
            "tags": []
          },
          "execution_count": 41
        }
      ]
    },
    {
      "cell_type": "code",
      "metadata": {
        "id": "KVLadmS8ZMXI",
        "colab_type": "code",
        "colab": {}
      },
      "source": [
        "y = np.zeros((len(iris.target), 3))\n",
        "for idx, val in enumerate(iris.target):\n",
        "    y[idx, val] = 1"
      ],
      "execution_count": 0,
      "outputs": []
    },
    {
      "cell_type": "code",
      "metadata": {
        "id": "CQWpzNfLZRmP",
        "colab_type": "code",
        "colab": {}
      },
      "source": [
        "#y"
      ],
      "execution_count": 0,
      "outputs": []
    },
    {
      "cell_type": "code",
      "metadata": {
        "id": "X459udhjZSKv",
        "colab_type": "code",
        "colab": {}
      },
      "source": [
        "y_hat = net.predict(x)"
      ],
      "execution_count": 0,
      "outputs": []
    },
    {
      "cell_type": "code",
      "metadata": {
        "id": "QOEVYAwYZfux",
        "colab_type": "code",
        "colab": {
          "base_uri": "https://localhost:8080/",
          "height": 69
        },
        "outputId": "477699a1-c2fb-423b-e06a-7299e410c238"
      },
      "source": [
        "y[0:3,:]"
      ],
      "execution_count": 47,
      "outputs": [
        {
          "output_type": "execute_result",
          "data": {
            "text/plain": [
              "array([[1., 0., 0.],\n",
              "       [1., 0., 0.],\n",
              "       [1., 0., 0.]])"
            ]
          },
          "metadata": {
            "tags": []
          },
          "execution_count": 47
        }
      ]
    },
    {
      "cell_type": "code",
      "metadata": {
        "id": "SIkspQ_LZZL_",
        "colab_type": "code",
        "colab": {
          "base_uri": "https://localhost:8080/",
          "height": 69
        },
        "outputId": "9c970a67-6e2d-4437-ec98-7d3da28df75d"
      },
      "source": [
        "y_hat[0:3,:]"
      ],
      "execution_count": 48,
      "outputs": [
        {
          "output_type": "execute_result",
          "data": {
            "text/plain": [
              "array([[0.0022742 , 0.00220307, 0.00219027],\n",
              "       [0.00227415, 0.00220308, 0.00219019],\n",
              "       [0.00227415, 0.0022031 , 0.00219027]])"
            ]
          },
          "metadata": {
            "tags": []
          },
          "execution_count": 48
        }
      ]
    },
    {
      "cell_type": "code",
      "metadata": {
        "id": "y-DjFPU1ZaJP",
        "colab_type": "code",
        "colab": {}
      },
      "source": [
        "epochs = 3000\n",
        "lr     = 0.01\n",
        "\n",
        "train_loss = []\n",
        "for i in range(epochs):         \n",
        "    grad = net.numerical_gradient(x,y)\n",
        "    for key in ('W1', 'b1', 'W2', 'b2'):\n",
        "        net.params[key] = net.params[key] - lr * grad[key]\n",
        "    loss = net.loss(x, y)\n",
        "    train_loss.append(loss)"
      ],
      "execution_count": 0,
      "outputs": []
    },
    {
      "cell_type": "code",
      "metadata": {
        "id": "queyKEE-Z4g6",
        "colab_type": "code",
        "colab": {
          "base_uri": "https://localhost:8080/",
          "height": 295
        },
        "outputId": "a081ebf5-ee18-4c53-e3b5-95090f5eef2c"
      },
      "source": [
        "import matplotlib.pyplot as plt\n",
        "plt.scatter(range(0,3000),train_loss)\n",
        "plt.xlabel('Iteration')\n",
        "plt.ylabel('Loss')\n",
        "plt.title('Training Loss')\n",
        "plt.show()"
      ],
      "execution_count": 50,
      "outputs": [
        {
          "output_type": "display_data",
          "data": {
            "image/png": "[encoded data removed]",
            "text/plain": [
              "<Figure size 432x288 with 1 Axes>"
            ]
          },
          "metadata": {
            "tags": []
          }
        }
      ]
    },
    {
      "cell_type": "code",
      "metadata": {
        "id": "zhWBTSBXaB1R",
        "colab_type": "code",
        "colab": {
          "base_uri": "https://localhost:8080/",
          "height": 86
        },
        "outputId": "2842d388-1cf0-4943-bd7a-34b2961d6d4d"
      },
      "source": [
        "net.params['W1']"
      ],
      "execution_count": 51,
      "outputs": [
        {
          "output_type": "execute_result",
          "data": {
            "text/plain": [
              "array([[-0.85927289, -5.92337563,  3.64215903, -0.89296565,  2.32135282],\n",
              "       [-2.6913297 , -6.20020395,  3.18402086,  0.82383888,  3.30358179],\n",
              "       [ 4.46047242,  8.97941034, -5.67259363, -3.54637965, -4.3261051 ],\n",
              "       [ 2.15486693,  9.95524693, -6.02955505, -1.54429988, -4.77558263]])"
            ]
          },
          "metadata": {
            "tags": []
          },
          "execution_count": 51
        }
      ]
    },
    {
      "cell_type": "code",
      "metadata": {
        "id": "a7RJGmnYaMZX",
        "colab_type": "code",
        "colab": {}
      },
      "source": [
        "y_hat = net.predict(x)"
      ],
      "execution_count": 0,
      "outputs": []
    },
    {
      "cell_type": "code",
      "metadata": {
        "id": "a9suDWjLaR6H",
        "colab_type": "code",
        "colab": {
          "base_uri": "https://localhost:8080/",
          "height": 69
        },
        "outputId": "c4499d6b-4e77-4f48-f3c8-0336dcd3591e"
      },
      "source": [
        "y[0:3,:]"
      ],
      "execution_count": 53,
      "outputs": [
        {
          "output_type": "execute_result",
          "data": {
            "text/plain": [
              "array([[1., 0., 0.],\n",
              "       [1., 0., 0.],\n",
              "       [1., 0., 0.]])"
            ]
          },
          "metadata": {
            "tags": []
          },
          "execution_count": 53
        }
      ]
    },
    {
      "cell_type": "code",
      "metadata": {
        "id": "8xiIxKrAaTIW",
        "colab_type": "code",
        "colab": {
          "base_uri": "https://localhost:8080/",
          "height": 69
        },
        "outputId": "a09753e8-4bcb-43da-999a-541a795a12cf"
      },
      "source": [
        "y_hat[0:3,:]"
      ],
      "execution_count": 54,
      "outputs": [
        {
          "output_type": "execute_result",
          "data": {
            "text/plain": [
              "array([[6.15878811e-03, 7.73827118e-06, 3.92717575e-09],\n",
              "       [6.08935410e-03, 7.82678301e-06, 3.95666598e-09],\n",
              "       [6.14690072e-03, 7.75685090e-06, 3.93047705e-09]])"
            ]
          },
          "metadata": {
            "tags": []
          },
          "execution_count": 54
        }
      ]
    },
    {
      "cell_type": "code",
      "metadata": {
        "id": "4eyJkEA2aWk-",
        "colab_type": "code",
        "colab": {}
      },
      "source": [
        "class Relu:\n",
        "    def __init__(self):\n",
        "        self.cache = None\n",
        "    \n",
        "    def forward(self, x):\n",
        "        self.cache = (x <=0)\n",
        "        out = np.maximum(0,x)\n",
        "        return out\n",
        "\n",
        "    def backward(self, dout):\n",
        "        dout[self.cache] = 0\n",
        "        dx = dout\n",
        "        return dx"
      ],
      "execution_count": 0,
      "outputs": []
    },
    {
      "cell_type": "code",
      "metadata": {
        "id": "zVFAM0olfAKz",
        "colab_type": "code",
        "colab": {}
      },
      "source": [
        " class Sigmoid:\n",
        "    def __init__(self):\n",
        "        self.out = None\n",
        "\n",
        "    def forward(self, x):\n",
        "        out = 1/ (1 + np.exp(-x))\n",
        "        self.out = out\n",
        "        return out\n",
        "\n",
        "    def backward(self, dout):\n",
        "        y  = self.out\n",
        "        dx = dout * y * (1-y)\n",
        "        return dx"
      ],
      "execution_count": 0,
      "outputs": []
    },
    {
      "cell_type": "code",
      "metadata": {
        "id": "BOeF-EXyfEQS",
        "colab_type": "code",
        "colab": {}
      },
      "source": [
        "class Affine:\n",
        "    def __init__(self, W, b):\n",
        "        self.W = W\n",
        "        self.b = b\n",
        "        self.x = None\n",
        "        self.dW = None\n",
        "        self.db = None\n",
        "\n",
        "    def forward(self, x):\n",
        "        self.x = x\n",
        "        out = np.dot(self.x, self.W) + self.b\n",
        "        return out\n",
        "\n",
        "    def backward(self, dout):\n",
        "        dx = np.dot(dout, self.W.T)\n",
        "        self.dW = np.dot(self.x.T, dout)\n",
        "        self.db = np.sum(dout)\n",
        "        return dx"
      ],
      "execution_count": 0,
      "outputs": []
    },
    {
      "cell_type": "code",
      "metadata": {
        "id": "v__Jsg0vfJYy",
        "colab_type": "code",
        "colab": {}
      },
      "source": [
        "class SoftmaxWithLoss:\n",
        "    def __init__(self):\n",
        "        self.loss = None\n",
        "        self.y_hat = None \n",
        "        self.y = None \n",
        "\n",
        "    def forward(self, x, y):\n",
        "        self.y = y\n",
        "        self.y_hat = softmax_function(x)\n",
        "        self.loss = cross_entropy_err(self.y_hat, self.y)\n",
        "        return self.loss\n",
        "\n",
        "    def backward(self, dout=1):\n",
        "        batch_size = self.y.shape[0]\n",
        "        dx = (self.y_hat - self.y) / batch_size\n",
        "        return dx"
      ],
      "execution_count": 0,
      "outputs": []
    },
    {
      "cell_type": "code",
      "metadata": {
        "id": "BvPWRMFTfLR_",
        "colab_type": "code",
        "colab": {}
      },
      "source": [
        "def softmax_function(x):\n",
        "    if x.ndim == 2:\n",
        "        x = x.T\n",
        "        x = x - np.max(x, axis=0)\n",
        "        y = np.exp(x) / np.sum(np.exp(x), axis=0)\n",
        "        return y.T \n",
        "\n",
        "    x = x - np.max(x)\n",
        "    return np.exp(x) / np.sum(np.exp(x))"
      ],
      "execution_count": 0,
      "outputs": []
    },
    {
      "cell_type": "code",
      "metadata": {
        "id": "BV87sYlofNVx",
        "colab_type": "code",
        "colab": {}
      },
      "source": [
        "def cross_entropy_err(y_hat, y):\n",
        "    y      = y.reshape(1, y.size)\n",
        "    y_hat  = y_hat.reshape(1, y_hat.size)\n",
        "    batch_size = y_hat.shape[0]\n",
        "    return -np.sum(y * np.log(y_hat)) / batch_size"
      ],
      "execution_count": 0,
      "outputs": []
    },
    {
      "cell_type": "code",
      "metadata": {
        "id": "aXfN6OxYfO0R",
        "colab_type": "code",
        "colab": {}
      },
      "source": [
        "import numpy as np\n",
        "from collections import OrderedDict\n",
        "\n",
        "class ANN:\n",
        "\n",
        "    def __init__(self, input_size, hidden_size, output_size, weight_init_std = 0.01):\n",
        "        self.params = {}\n",
        "        self.params['W1'] = weight_init_std * np.random.randn(input_size, hidden_size)\n",
        "        self.params['b1'] = np.zeros(hidden_size)\n",
        "        self.params['W2'] = weight_init_std * np.random.randn(hidden_size, output_size) \n",
        "        self.params['b2'] = np.zeros(output_size)\n",
        "\n",
        "        self.layers = OrderedDict()\n",
        "        self.layers['Affine1'] = Affine(self.params['W1'], self.params['b1'])\n",
        "        self.layers['Sigmoid1'] = Sigmoid()\n",
        "        self.layers['Affine2'] = Affine(self.params['W2'], self.params['b2'])\n",
        "\n",
        "        self.lastLayer = SoftmaxWithLoss()\n",
        "        \n",
        "    def predict(self, x):\n",
        "        for layer in self.layers.values():\n",
        "            x = layer.forward(x)\n",
        "        return x\n",
        "        \n",
        "    def loss(self, x, y):\n",
        "        y_hat = self.predict(x)\n",
        "        return self.lastLayer.forward(y_hat, y)\n",
        "  \n",
        "    def gradient(self, x, y):\n",
        "        # forward\n",
        "        self.loss(x, y)\n",
        "\n",
        "        # backward\n",
        "        dout = 1\n",
        "        dout = self.lastLayer.backward(dout)\n",
        "        \n",
        "        layers = list(self.layers.values())\n",
        "        layers.reverse()\n",
        "        for layer in layers:\n",
        "            dout = layer.backward(dout)\n",
        "\n",
        "        grads = {}\n",
        "        grads['W1'], grads['b1'] = self.layers['Affine1'].dW, self.layers['Affine1'].db\n",
        "        grads['W2'], grads['b2'] = self.layers['Affine2'].dW, self.layers['Affine2'].db\n",
        "\n",
        "        return grads"
      ],
      "execution_count": 0,
      "outputs": []
    },
    {
      "cell_type": "code",
      "metadata": {
        "id": "ke6RNuyZfQ5J",
        "colab_type": "code",
        "colab": {}
      },
      "source": [
        "from sklearn.datasets import load_iris\n",
        "iris = load_iris()\n",
        "\n",
        "y = np.zeros((len(iris.target), 3))\n",
        "for idx, val in enumerate(iris.target):\n",
        "    y[idx, val] = 1"
      ],
      "execution_count": 0,
      "outputs": []
    },
    {
      "cell_type": "code",
      "metadata": {
        "id": "MJgLwRg0fTMQ",
        "colab_type": "code",
        "colab": {}
      },
      "source": [
        "import random\n",
        "epochs     = 3000\n",
        "lr         = 0.01\n",
        "batch_size = 10\n",
        "net = ANN(input_size=4, hidden_size=5, output_size=3)\n",
        "\n",
        "train_loss = []\n",
        "for i in range(epochs): \n",
        "    idx = np.random.choice(iris.data.shape[0], batch_size)\n",
        "    x_batch   = iris.data[idx]\n",
        "    y_batch   = y[idx]\n",
        "    grad = net.gradient(x_batch,y_batch)\n",
        "    for key in ('W1', 'b1', 'W2', 'b2'):\n",
        "        net.params[key] -= lr * grad[key]\n",
        "    loss = net.loss(x_batch, y_batch)\n",
        "    train_loss.append(loss)"
      ],
      "execution_count": 0,
      "outputs": []
    },
    {
      "cell_type": "code",
      "metadata": {
        "id": "NLVkiJztfU8Y",
        "colab_type": "code",
        "colab": {}
      },
      "source": [
        ""
      ],
      "execution_count": 0,
      "outputs": []
    },
    {
      "cell_type": "markdown",
      "metadata": {
        "id": "SQpyd6HJlYmm",
        "colab_type": "text"
      },
      "source": [
        "## OCR"
      ]
    },
    {
      "cell_type": "code",
      "metadata": {
        "id": "iIKyagMIlaUZ",
        "colab_type": "code",
        "colab": {}
      },
      "source": [
        "from sklearn.datasets import load_digits\n",
        "import matplotlib.pyplot as plt\n",
        "from sklearn.neural_network import MLPClassifier\n",
        "from sklearn.preprocessing import StandardScaler\n",
        "import numpy as np\n",
        "digits = load_digits()"
      ],
      "execution_count": 0,
      "outputs": []
    },
    {
      "cell_type": "code",
      "metadata": {
        "id": "jDvGxlo9lhWo",
        "colab_type": "code",
        "colab": {
          "base_uri": "https://localhost:8080/",
          "height": 138
        },
        "outputId": "c808d446-5b04-4dae-9e56-662a5e6a5caa"
      },
      "source": [
        "digits.data"
      ],
      "execution_count": 75,
      "outputs": [
        {
          "output_type": "execute_result",
          "data": {
            "text/plain": [
              "array([[ 0.,  0.,  5., ...,  0.,  0.,  0.],\n",
              "       [ 0.,  0.,  0., ..., 10.,  0.,  0.],\n",
              "       [ 0.,  0.,  0., ..., 16.,  9.,  0.],\n",
              "       ...,\n",
              "       [ 0.,  0.,  1., ...,  6.,  0.,  0.],\n",
              "       [ 0.,  0.,  2., ..., 12.,  0.,  0.],\n",
              "       [ 0.,  0., 10., ..., 12.,  1.,  0.]])"
            ]
          },
          "metadata": {
            "tags": []
          },
          "execution_count": 75
        }
      ]
    },
    {
      "cell_type": "code",
      "metadata": {
        "id": "H6e011ryllMX",
        "colab_type": "code",
        "colab": {
          "base_uri": "https://localhost:8080/",
          "height": 35
        },
        "outputId": "f53c1868-eb0b-4a92-8dd0-2cf81f259660"
      },
      "source": [
        "digits.data.shape"
      ],
      "execution_count": 76,
      "outputs": [
        {
          "output_type": "execute_result",
          "data": {
            "text/plain": [
              "(1797, 64)"
            ]
          },
          "metadata": {
            "tags": []
          },
          "execution_count": 76
        }
      ]
    },
    {
      "cell_type": "code",
      "metadata": {
        "id": "OTCQj46ulmgX",
        "colab_type": "code",
        "colab": {
          "base_uri": "https://localhost:8080/",
          "height": 610
        },
        "outputId": "294bc002-db68-45c0-ee6d-67d8114b2555"
      },
      "source": [
        "fig = plt.figure(figsize = (8,8))\n",
        "fig.subplots_adjust(left=0, right=1, bottom=0, top=1, hspace=0.05, wspace=0.05)\n",
        "for i in range(36):\n",
        "    ax = fig.add_subplot(6, 6, i+1, xticks=[], yticks=[])\n",
        "    ax.imshow(digits.images[i],cmap=plt.cm.binary,interpolation='nearest')\n",
        "    ax.text(0, 7, str(digits.target[i]), color=\"red\", fontsize = 20)"
      ],
      "execution_count": 77,
      "outputs": [
        {
          "output_type": "display_data",
          "data": {
            "image/png": "[encoded data removed]",
            "text/plain": [
              "<Figure size 576x576 with 36 Axes>"
            ]
          },
          "metadata": {
            "tags": []
          }
        }
      ]
    },
    {
      "cell_type": "code",
      "metadata": {
        "id": "-WUbfaONlqmA",
        "colab_type": "code",
        "colab": {}
      },
      "source": [
        "scaler = StandardScaler()\n",
        "scaler.fit(digits.data)\n",
        "X_scaled = scaler.transform(digits.data)"
      ],
      "execution_count": 0,
      "outputs": []
    },
    {
      "cell_type": "code",
      "metadata": {
        "id": "wxVf4n5Pm1Jr",
        "colab_type": "code",
        "colab": {
          "base_uri": "https://localhost:8080/",
          "height": 155
        },
        "outputId": "883490aa-2177-4794-9e3e-596aa68a286a"
      },
      "source": [
        "mlp = MLPClassifier(hidden_layer_sizes=(30,30,30), \n",
        "                    activation='relu', max_iter = 2000, \n",
        "                    solver='sgd',learning_rate='constant',\n",
        "                    learning_rate_init=0.001, )\n",
        "mlp.fit(X_scaled,digits.target)"
      ],
      "execution_count": 83,
      "outputs": [
        {
          "output_type": "execute_result",
          "data": {
            "text/plain": [
              "MLPClassifier(activation='relu', alpha=0.0001, batch_size='auto', beta_1=0.9,\n",
              "              beta_2=0.999, early_stopping=False, epsilon=1e-08,\n",
              "              hidden_layer_sizes=(30, 30, 30), learning_rate='constant',\n",
              "              learning_rate_init=0.001, max_fun=15000, max_iter=2000,\n",
              "              momentum=0.9, n_iter_no_change=10, nesterovs_momentum=True,\n",
              "              power_t=0.5, random_state=None, shuffle=True, solver='sgd',\n",
              "              tol=0.0001, validation_fraction=0.1, verbose=False,\n",
              "              warm_start=False)"
            ]
          },
          "metadata": {
            "tags": []
          },
          "execution_count": 83
        }
      ]
    },
    {
      "cell_type": "code",
      "metadata": {
        "id": "RYepNUpcnMVO",
        "colab_type": "code",
        "colab": {
          "base_uri": "https://localhost:8080/",
          "height": 610
        },
        "outputId": "e265f619-f9d7-4c2a-b8a0-d1bb64df5aad"
      },
      "source": [
        "predicted = mlp.predict(X_scaled)\n",
        "fig = plt.figure(figsize = (8,8))\n",
        "fig.subplots_adjust(left=0, right=1, bottom=0, top=1, hspace=0.05, wspace=0.05)\n",
        "for i in range(36):\n",
        "    ax = fig.add_subplot(6, 6, i+1, xticks=[], yticks=[])\n",
        "    ax.imshow(digits.images[i],cmap=plt.cm.binary,interpolation='nearest')\n",
        "    ax.text(0, 7, str('{}-{}'.format(digits.target[i],predicted[i])), color=\"red\", fontsize = 20)"
      ],
      "execution_count": 84,
      "outputs": [
        {
          "output_type": "display_data",
          "data": {
            "image/png": "[encoded data removed]",
            "text/plain": [
              "<Figure size 576x576 with 36 Axes>"
            ]
          },
          "metadata": {
            "tags": []
          }
        }
      ]
    },
    {
      "cell_type": "code",
      "metadata": {
        "id": "fO3QbsGinPNf",
        "colab_type": "code",
        "colab": {
          "base_uri": "https://localhost:8080/",
          "height": 35
        },
        "outputId": "03385e9a-ba84-4c94-87bc-a634aaf1392e"
      },
      "source": [
        "from sklearn.metrics import accuracy_score, confusion_matrix\n",
        "accuracy_score(digits.target, predicted)"
      ],
      "execution_count": 85,
      "outputs": [
        {
          "output_type": "execute_result",
          "data": {
            "text/plain": [
              "0.9977740678909294"
            ]
          },
          "metadata": {
            "tags": []
          },
          "execution_count": 85
        }
      ]
    },
    {
      "cell_type": "code",
      "metadata": {
        "id": "jLUtF3L_numb",
        "colab_type": "code",
        "colab": {
          "base_uri": "https://localhost:8080/",
          "height": 35
        },
        "outputId": "511fd7c4-f266-454d-cd81-16e1ed6a9cdc"
      },
      "source": [
        "mlp.coefs_[0].shape"
      ],
      "execution_count": 88,
      "outputs": [
        {
          "output_type": "execute_result",
          "data": {
            "text/plain": [
              "(64, 30)"
            ]
          },
          "metadata": {
            "tags": []
          },
          "execution_count": 88
        }
      ]
    },
    {
      "cell_type": "code",
      "metadata": {
        "id": "7G-oE2Pgnopc",
        "colab_type": "code",
        "colab": {
          "base_uri": "https://localhost:8080/",
          "height": 35
        },
        "outputId": "644078a0-26e9-477c-ef32-1e28dabe7ba7"
      },
      "source": [
        "mlp.coefs_[1].shape"
      ],
      "execution_count": 89,
      "outputs": [
        {
          "output_type": "execute_result",
          "data": {
            "text/plain": [
              "(30, 30)"
            ]
          },
          "metadata": {
            "tags": []
          },
          "execution_count": 89
        }
      ]
    },
    {
      "cell_type": "code",
      "metadata": {
        "id": "9Zd5r13goAV4",
        "colab_type": "code",
        "colab": {
          "base_uri": "https://localhost:8080/",
          "height": 35
        },
        "outputId": "35f84760-a103-4f46-aa4a-dec6e297f3ac"
      },
      "source": [
        "mlp.coefs_[2].shape"
      ],
      "execution_count": 90,
      "outputs": [
        {
          "output_type": "execute_result",
          "data": {
            "text/plain": [
              "(30, 30)"
            ]
          },
          "metadata": {
            "tags": []
          },
          "execution_count": 90
        }
      ]
    },
    {
      "cell_type": "code",
      "metadata": {
        "id": "KD5zQX-RoBi_",
        "colab_type": "code",
        "colab": {
          "base_uri": "https://localhost:8080/",
          "height": 35
        },
        "outputId": "1c1e2de7-ab7a-41d2-bd2d-4b4a06e50868"
      },
      "source": [
        "mlp.coefs_[3].shape"
      ],
      "execution_count": 91,
      "outputs": [
        {
          "output_type": "execute_result",
          "data": {
            "text/plain": [
              "(30, 10)"
            ]
          },
          "metadata": {
            "tags": []
          },
          "execution_count": 91
        }
      ]
    },
    {
      "cell_type": "code",
      "metadata": {
        "id": "I7Xq0SsToCkf",
        "colab_type": "code",
        "colab": {
          "base_uri": "https://localhost:8080/",
          "height": 242
        },
        "outputId": "84fb907b-4109-4451-fef4-ea9067636882"
      },
      "source": [
        "mlp.coefs_[0]"
      ],
      "execution_count": 92,
      "outputs": [
        {
          "output_type": "execute_result",
          "data": {
            "text/plain": [
              "array([[-0.22761221,  0.10583337, -0.20121886, ...,  0.22461993,\n",
              "        -0.0530505 ,  0.20898026],\n",
              "       [-0.0810389 , -0.00110642, -0.01919938, ..., -0.01952809,\n",
              "        -0.08855999,  0.23232402],\n",
              "       [-0.22994312, -0.01175639, -0.05566391, ..., -0.04561745,\n",
              "        -0.0021015 ,  0.13000709],\n",
              "       ...,\n",
              "       [ 0.0238779 ,  0.02845178, -0.06554213, ..., -0.00613202,\n",
              "         0.04032937,  0.00760052],\n",
              "       [ 0.38347551, -0.15044444, -0.20985501, ...,  0.1523244 ,\n",
              "        -0.11782021, -0.34148194],\n",
              "       [ 0.24710552,  0.24911966,  0.12909392, ...,  0.11620724,\n",
              "        -0.20352795, -0.26709731]])"
            ]
          },
          "metadata": {
            "tags": []
          },
          "execution_count": 92
        }
      ]
    },
    {
      "cell_type": "code",
      "metadata": {
        "id": "NXsnP4bpoFu3",
        "colab_type": "code",
        "colab": {
          "base_uri": "https://localhost:8080/",
          "height": 81
        },
        "outputId": "d00b38d9-10c4-4c46-d146-420940fc26a2"
      },
      "source": [
        "\n",
        "import keras"
      ],
      "execution_count": 93,
      "outputs": [
        {
          "output_type": "stream",
          "text": [
            "Using TensorFlow backend.\n"
          ],
          "name": "stderr"
        },
        {
          "output_type": "display_data",
          "data": {
            "text/html": [
              "<p style=\"color: red;\">\n",
              "The default version of TensorFlow in Colab will soon switch to TensorFlow 2.x.<br>\n",
              "We recommend you <a href=\"https://www.tensorflow.org/guide/migrate\" target=\"_blank\">upgrade</a> now \n",
              "or ensure your notebook will continue to use TensorFlow 1.x via the <code>%tensorflow_version 1.x</code> magic:\n",
              "<a href=\"https://colab.research.google.com/notebooks/tensorflow_version.ipynb\" target=\"_blank\">more info</a>.</p>\n"
            ],
            "text/plain": [
              "<IPython.core.display.HTML object>"
            ]
          },
          "metadata": {
            "tags": []
          }
        }
      ]
    },
    {
      "cell_type": "code",
      "metadata": {
        "id": "dRb6LmPpqGIu",
        "colab_type": "code",
        "colab": {}
      },
      "source": [
        "from keras.datasets import mnist\n",
        "from keras.models import Sequential\n",
        "from keras.optimizers import SGD\n",
        "from keras.layers import Activation, Dense"
      ],
      "execution_count": 0,
      "outputs": []
    },
    {
      "cell_type": "code",
      "metadata": {
        "id": "PKWwKY8YqIO1",
        "colab_type": "code",
        "colab": {}
      },
      "source": [
        "(x_train, y_train), (x_test, y_test) = mnist.load_data()"
      ],
      "execution_count": 0,
      "outputs": []
    },
    {
      "cell_type": "code",
      "metadata": {
        "id": "5ZM92IahqJ9M",
        "colab_type": "code",
        "colab": {}
      },
      "source": [
        "x_train = x_train.reshape(60000, 784)\n",
        "x_test = x_test.reshape(10000, 784)\n",
        "x_train = x_train.astype('float32')\n",
        "x_test  = x_test.astype('float32')\n",
        "x_train /= 255\n",
        "x_test  /= 255"
      ],
      "execution_count": 0,
      "outputs": []
    },
    {
      "cell_type": "code",
      "metadata": {
        "id": "kp_comyqqz-N",
        "colab_type": "code",
        "colab": {}
      },
      "source": [
        "n_classes  = 10 \n",
        "y_train = keras.utils.to_categorical(y_train, n_classes)\n",
        "y_test  = keras.utils.to_categorical(y_test, n_classes)"
      ],
      "execution_count": 0,
      "outputs": []
    },
    {
      "cell_type": "code",
      "metadata": {
        "id": "dCnH7ka0qL_0",
        "colab_type": "code",
        "colab": {}
      },
      "source": [
        "n_hidden_1 = 256 \n",
        "n_hidden_2 = 256 \n",
        "n_input    = 784 \n",
        "n_classes  = 10 \n",
        "\n",
        "training_epochs = 15\n",
        "batch_size = 100"
      ],
      "execution_count": 0,
      "outputs": []
    },
    {
      "cell_type": "code",
      "metadata": {
        "id": "BHX-LxUDqNwc",
        "colab_type": "code",
        "colab": {}
      },
      "source": [
        "model = keras.Sequential()\n",
        "model.add(Dense(n_hidden_1, activation='relu', input_shape=(n_input,)))\n",
        "model.add(Dense(n_hidden_2, activation='relu'))\n",
        "model.add(Dense(n_classes, activation='softmax'))"
      ],
      "execution_count": 0,
      "outputs": []
    },
    {
      "cell_type": "code",
      "metadata": {
        "id": "d20fb2EaqRiM",
        "colab_type": "code",
        "colab": {}
      },
      "source": [
        "model.compile(loss='categorical_crossentropy',\n",
        "              optimizer=SGD(),\n",
        "              metrics=['accuracy'])\n"
      ],
      "execution_count": 0,
      "outputs": []
    },
    {
      "cell_type": "code",
      "metadata": {
        "id": "7AlZ8m_bqfsy",
        "colab_type": "code",
        "colab": {
          "base_uri": "https://localhost:8080/",
          "height": 573
        },
        "outputId": "923d2b9f-3c06-47f6-8aaf-cfe52718c15d"
      },
      "source": [
        "history = model.fit(x_train, y_train,\n",
        "                    batch_size=batch_size,\n",
        "                    epochs=training_epochs,\n",
        "                    verbose=1,\n",
        "                    validation_data=(x_test, y_test))"
      ],
      "execution_count": 125,
      "outputs": [
        {
          "output_type": "stream",
          "text": [
            "Train on 60000 samples, validate on 10000 samples\n",
            "Epoch 1/15\n",
            "60000/60000 [==============================] - 4s 74us/step - loss: 1.0391 - acc: 0.7540 - val_loss: 0.4803 - val_acc: 0.8816\n",
            "Epoch 2/15\n",
            "60000/60000 [==============================] - 4s 70us/step - loss: 0.4185 - acc: 0.8897 - val_loss: 0.3470 - val_acc: 0.9062\n",
            "Epoch 3/15\n",
            "60000/60000 [==============================] - 4s 69us/step - loss: 0.3398 - acc: 0.9055 - val_loss: 0.3031 - val_acc: 0.9154\n",
            "Epoch 4/15\n",
            "60000/60000 [==============================] - 4s 70us/step - loss: 0.3037 - acc: 0.9147 - val_loss: 0.2768 - val_acc: 0.9209\n",
            "Epoch 5/15\n",
            "60000/60000 [==============================] - 4s 70us/step - loss: 0.2796 - acc: 0.9201 - val_loss: 0.2614 - val_acc: 0.9248\n",
            "Epoch 6/15\n",
            "60000/60000 [==============================] - 4s 69us/step - loss: 0.2609 - acc: 0.9255 - val_loss: 0.2474 - val_acc: 0.9303\n",
            "Epoch 7/15\n",
            "60000/60000 [==============================] - 4s 68us/step - loss: 0.2450 - acc: 0.9304 - val_loss: 0.2318 - val_acc: 0.9329\n",
            "Epoch 8/15\n",
            "60000/60000 [==============================] - 4s 69us/step - loss: 0.2315 - acc: 0.9345 - val_loss: 0.2210 - val_acc: 0.9363\n",
            "Epoch 9/15\n",
            "60000/60000 [==============================] - 4s 68us/step - loss: 0.2194 - acc: 0.9383 - val_loss: 0.2104 - val_acc: 0.9378\n",
            "Epoch 10/15\n",
            "60000/60000 [==============================] - 4s 68us/step - loss: 0.2085 - acc: 0.9405 - val_loss: 0.2016 - val_acc: 0.9415\n",
            "Epoch 11/15\n",
            "60000/60000 [==============================] - 4s 69us/step - loss: 0.1988 - acc: 0.9438 - val_loss: 0.1931 - val_acc: 0.9438\n",
            "Epoch 12/15\n",
            "60000/60000 [==============================] - 4s 68us/step - loss: 0.1897 - acc: 0.9464 - val_loss: 0.1853 - val_acc: 0.9459\n",
            "Epoch 13/15\n",
            "60000/60000 [==============================] - 4s 70us/step - loss: 0.1818 - acc: 0.9486 - val_loss: 0.1790 - val_acc: 0.9464\n",
            "Epoch 14/15\n",
            "60000/60000 [==============================] - 4s 70us/step - loss: 0.1742 - acc: 0.9504 - val_loss: 0.1737 - val_acc: 0.9488\n",
            "Epoch 15/15\n",
            "60000/60000 [==============================] - 4s 70us/step - loss: 0.1671 - acc: 0.9528 - val_loss: 0.1675 - val_acc: 0.9491\n"
          ],
          "name": "stdout"
        }
      ]
    },
    {
      "cell_type": "code",
      "metadata": {
        "id": "YJq2ZJ3iqv2G",
        "colab_type": "code",
        "colab": {}
      },
      "source": [
        ""
      ],
      "execution_count": 0,
      "outputs": []
    },
    {
      "cell_type": "code",
      "metadata": {
        "id": "Bbypq5qxqhgp",
        "colab_type": "code",
        "colab": {}
      },
      "source": [
        ""
      ],
      "execution_count": 0,
      "outputs": []
    }
  ]
}