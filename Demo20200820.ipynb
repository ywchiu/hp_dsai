{
  "nbformat": 4,
  "nbformat_minor": 0,
  "metadata": {
    "colab": {
      "name": "Demo20200820.ipynb",
      "provenance": [],
      "collapsed_sections": []
    },
    "kernelspec": {
      "name": "python3",
      "display_name": "Python 3"
    },
    "accelerator": "GPU"
  },
  "cells": [
    {
      "cell_type": "code",
      "metadata": {
        "id": "gNQP4ysxt7Vm",
        "colab_type": "code",
        "colab": {
          "base_uri": "https://localhost:8080/",
          "height": 363
        },
        "outputId": "71485fba-3e14-4b57-acac-fa9922bb6a85"
      },
      "source": [
        "! nvidia-smi"
      ],
      "execution_count": null,
      "outputs": [
        {
          "output_type": "stream",
          "text": [
            "Thu Aug 20 02:35:47 2020       \n",
            "+-----------------------------------------------------------------------------+\n",
            "| NVIDIA-SMI 450.57       Driver Version: 418.67       CUDA Version: 10.1     |\n",
            "|-------------------------------+----------------------+----------------------+\n",
            "| GPU  Name        Persistence-M| Bus-Id        Disp.A | Volatile Uncorr. ECC |\n",
            "| Fan  Temp  Perf  Pwr:Usage/Cap|         Memory-Usage | GPU-Util  Compute M. |\n",
            "|                               |                      |               MIG M. |\n",
            "|===============================+======================+======================|\n",
            "|   0  Tesla P100-PCIE...  Off  | 00000000:00:04.0 Off |                    0 |\n",
            "| N/A   41C    P0    27W / 250W |      0MiB / 16280MiB |      0%      Default |\n",
            "|                               |                      |                 ERR! |\n",
            "+-------------------------------+----------------------+----------------------+\n",
            "                                                                               \n",
            "+-----------------------------------------------------------------------------+\n",
            "| Processes:                                                                  |\n",
            "|  GPU   GI   CI        PID   Type   Process name                  GPU Memory |\n",
            "|        ID   ID                                                   Usage      |\n",
            "|=============================================================================|\n",
            "|  No running processes found                                                 |\n",
            "+-----------------------------------------------------------------------------+\n"
          ],
          "name": "stdout"
        }
      ]
    },
    {
      "cell_type": "code",
      "metadata": {
        "id": "Xuo6kHH8uNn6",
        "colab_type": "code",
        "colab": {}
      },
      "source": [
        "import pandas_datareader\n",
        "stocks = pandas_datareader.get_data_yahoo('2330.TW')"
      ],
      "execution_count": null,
      "outputs": []
    },
    {
      "cell_type": "code",
      "metadata": {
        "id": "WjNyPRfXukpz",
        "colab_type": "code",
        "colab": {
          "base_uri": "https://localhost:8080/",
          "height": 228
        },
        "outputId": "3a5b06b0-cc41-4d25-df25-93ff9bf9d040"
      },
      "source": [
        "stocks.head()"
      ],
      "execution_count": null,
      "outputs": [
        {
          "output_type": "execute_result",
          "data": {
            "text/html": [
              "<div>\n",
              "<style scoped>\n",
              "    .dataframe tbody tr th:only-of-type {\n",
              "        vertical-align: middle;\n",
              "    }\n",
              "\n",
              "    .dataframe tbody tr th {\n",
              "        vertical-align: top;\n",
              "    }\n",
              "\n",
              "    .dataframe thead th {\n",
              "        text-align: right;\n",
              "    }\n",
              "</style>\n",
              "<table border=\"1\" class=\"dataframe\">\n",
              "  <thead>\n",
              "    <tr style=\"text-align: right;\">\n",
              "      <th></th>\n",
              "      <th>High</th>\n",
              "      <th>Low</th>\n",
              "      <th>Open</th>\n",
              "      <th>Close</th>\n",
              "      <th>Volume</th>\n",
              "      <th>Adj Close</th>\n",
              "    </tr>\n",
              "    <tr>\n",
              "      <th>Date</th>\n",
              "      <th></th>\n",
              "      <th></th>\n",
              "      <th></th>\n",
              "      <th></th>\n",
              "      <th></th>\n",
              "      <th></th>\n",
              "    </tr>\n",
              "  </thead>\n",
              "  <tbody>\n",
              "    <tr>\n",
              "      <th>2015-08-24</th>\n",
              "      <td>121.0</td>\n",
              "      <td>112.5</td>\n",
              "      <td>120.0</td>\n",
              "      <td>115.0</td>\n",
              "      <td>116158000.0</td>\n",
              "      <td>96.807365</td>\n",
              "    </tr>\n",
              "    <tr>\n",
              "      <th>2015-08-25</th>\n",
              "      <td>124.0</td>\n",
              "      <td>117.5</td>\n",
              "      <td>118.0</td>\n",
              "      <td>123.5</td>\n",
              "      <td>94960000.0</td>\n",
              "      <td>103.962685</td>\n",
              "    </tr>\n",
              "    <tr>\n",
              "      <th>2015-08-26</th>\n",
              "      <td>124.5</td>\n",
              "      <td>119.5</td>\n",
              "      <td>121.0</td>\n",
              "      <td>122.5</td>\n",
              "      <td>64879000.0</td>\n",
              "      <td>103.120888</td>\n",
              "    </tr>\n",
              "    <tr>\n",
              "      <th>2015-08-27</th>\n",
              "      <td>125.0</td>\n",
              "      <td>122.0</td>\n",
              "      <td>125.0</td>\n",
              "      <td>124.0</td>\n",
              "      <td>53388000.0</td>\n",
              "      <td>104.383583</td>\n",
              "    </tr>\n",
              "    <tr>\n",
              "      <th>2015-08-28</th>\n",
              "      <td>127.0</td>\n",
              "      <td>124.5</td>\n",
              "      <td>127.0</td>\n",
              "      <td>125.0</td>\n",
              "      <td>41466000.0</td>\n",
              "      <td>105.225380</td>\n",
              "    </tr>\n",
              "  </tbody>\n",
              "</table>\n",
              "</div>"
            ],
            "text/plain": [
              "             High    Low   Open  Close       Volume   Adj Close\n",
              "Date                                                           \n",
              "2015-08-24  121.0  112.5  120.0  115.0  116158000.0   96.807365\n",
              "2015-08-25  124.0  117.5  118.0  123.5   94960000.0  103.962685\n",
              "2015-08-26  124.5  119.5  121.0  122.5   64879000.0  103.120888\n",
              "2015-08-27  125.0  122.0  125.0  124.0   53388000.0  104.383583\n",
              "2015-08-28  127.0  124.5  127.0  125.0   41466000.0  105.225380"
            ]
          },
          "metadata": {
            "tags": []
          },
          "execution_count": 4
        }
      ]
    },
    {
      "cell_type": "code",
      "metadata": {
        "id": "jzJW1HcHumvV",
        "colab_type": "code",
        "colab": {
          "base_uri": "https://localhost:8080/",
          "height": 528
        },
        "outputId": "be4a834a-3eda-433c-ac11-02be43c3e1a5"
      },
      "source": [
        "stocks['Close'].plot(kind = 'line', figsize = [20,10], grid=True, legend=True)"
      ],
      "execution_count": null,
      "outputs": [
        {
          "output_type": "execute_result",
          "data": {
            "text/plain": [
              "<matplotlib.axes._subplots.AxesSubplot at 0x7f9452c58550>"
            ]
          },
          "metadata": {
            "tags": []
          },
          "execution_count": 6
        },
        {
          "output_type": "display_data",
          "data": {
            "image/png": "[encoded data removed]",
            "text/plain": [
              "<Figure size 1440x720 with 1 Axes>"
            ]
          },
          "metadata": {
            "tags": [],
            "needs_background": "light"
          }
        }
      ]
    },
    {
      "cell_type": "code",
      "metadata": {
        "id": "QTrjS1VturQc",
        "colab_type": "code",
        "colab": {}
      },
      "source": [
        "stocks['ma180'] = stocks['Close'].rolling(window = 180).mean()"
      ],
      "execution_count": null,
      "outputs": []
    },
    {
      "cell_type": "code",
      "metadata": {
        "id": "UcZCTNP_vAfy",
        "colab_type": "code",
        "colab": {
          "base_uri": "https://localhost:8080/",
          "height": 528
        },
        "outputId": "08818e86-cd61-4d2f-d467-72cfde790729"
      },
      "source": [
        "stocks[['Close', 'ma180']].plot(kind = 'line', figsize = [20,10])"
      ],
      "execution_count": null,
      "outputs": [
        {
          "output_type": "execute_result",
          "data": {
            "text/plain": [
              "<matplotlib.axes._subplots.AxesSubplot at 0x7f944adf07f0>"
            ]
          },
          "metadata": {
            "tags": []
          },
          "execution_count": 10
        },
        {
          "output_type": "display_data",
          "data": {
            "image/png": "[encoded data removed]",
            "text/plain": [
              "<Figure size 1440x720 with 1 Axes>"
            ]
          },
          "metadata": {
            "tags": [],
            "needs_background": "light"
          }
        }
      ]
    },
    {
      "cell_type": "code",
      "metadata": {
        "id": "hn2VzjhjvGQ2",
        "colab_type": "code",
        "colab": {}
      },
      "source": [
        "import pandas\n",
        "dfs = pandas.read_html('https://rate.bot.com.tw/xrt/quote/l6m/USD')"
      ],
      "execution_count": null,
      "outputs": []
    },
    {
      "cell_type": "code",
      "metadata": {
        "id": "BRJPIVP42DMD",
        "colab_type": "code",
        "colab": {}
      },
      "source": [
        "df = dfs[0].iloc[:,[0,2]]"
      ],
      "execution_count": null,
      "outputs": []
    },
    {
      "cell_type": "code",
      "metadata": {
        "id": "9SeerVL_2E0g",
        "colab_type": "code",
        "colab": {}
      },
      "source": [
        "df.columns = ['日期', '匯率']"
      ],
      "execution_count": null,
      "outputs": []
    },
    {
      "cell_type": "code",
      "metadata": {
        "id": "I9tiOYqc2Yih",
        "colab_type": "code",
        "colab": {
          "base_uri": "https://localhost:8080/",
          "height": 198
        },
        "outputId": "0968667e-907e-4732-bead-8db86ecb9a15"
      },
      "source": [
        "df.head()"
      ],
      "execution_count": null,
      "outputs": [
        {
          "output_type": "execute_result",
          "data": {
            "text/html": [
              "<div>\n",
              "<style scoped>\n",
              "    .dataframe tbody tr th:only-of-type {\n",
              "        vertical-align: middle;\n",
              "    }\n",
              "\n",
              "    .dataframe tbody tr th {\n",
              "        vertical-align: top;\n",
              "    }\n",
              "\n",
              "    .dataframe thead th {\n",
              "        text-align: right;\n",
              "    }\n",
              "</style>\n",
              "<table border=\"1\" class=\"dataframe\">\n",
              "  <thead>\n",
              "    <tr style=\"text-align: right;\">\n",
              "      <th></th>\n",
              "      <th>日期</th>\n",
              "      <th>匯率</th>\n",
              "    </tr>\n",
              "  </thead>\n",
              "  <tbody>\n",
              "    <tr>\n",
              "      <th>0</th>\n",
              "      <td>2020/08/20</td>\n",
              "      <td>28.995</td>\n",
              "    </tr>\n",
              "    <tr>\n",
              "      <th>1</th>\n",
              "      <td>2020/08/19</td>\n",
              "      <td>29.080</td>\n",
              "    </tr>\n",
              "    <tr>\n",
              "      <th>2</th>\n",
              "      <td>2020/08/18</td>\n",
              "      <td>29.080</td>\n",
              "    </tr>\n",
              "    <tr>\n",
              "      <th>3</th>\n",
              "      <td>2020/08/17</td>\n",
              "      <td>29.100</td>\n",
              "    </tr>\n",
              "    <tr>\n",
              "      <th>4</th>\n",
              "      <td>2020/08/14</td>\n",
              "      <td>29.120</td>\n",
              "    </tr>\n",
              "  </tbody>\n",
              "</table>\n",
              "</div>"
            ],
            "text/plain": [
              "           日期      匯率\n",
              "0  2020/08/20  28.995\n",
              "1  2020/08/19  29.080\n",
              "2  2020/08/18  29.080\n",
              "3  2020/08/17  29.100\n",
              "4  2020/08/14  29.120"
            ]
          },
          "metadata": {
            "tags": []
          },
          "execution_count": 16
        }
      ]
    },
    {
      "cell_type": "code",
      "metadata": {
        "id": "LSnNBonq2ZJf",
        "colab_type": "code",
        "colab": {}
      },
      "source": [
        "import sqlite3\n",
        "with sqlite3.connect('test.db') as con:\n",
        "  df.to_sql('exchange', con = con)"
      ],
      "execution_count": null,
      "outputs": []
    },
    {
      "cell_type": "code",
      "metadata": {
        "id": "iomdVxjC2jnH",
        "colab_type": "code",
        "colab": {}
      },
      "source": [
        "import requests\n",
        "headers = {\n",
        "   'user-agent': 'Mozilla/5.0 (Macintosh; Intel Mac OS X 10_14_6) AppleWebKit/537.36 (KHTML, like Gecko) Chrome/84.0.4147.125 Safari/537.36' \n",
        "}\n",
        "res = requests.get('https://goodinfo.tw/StockInfo/StockBzPerformance.asp?STOCK_ID=2330', headers = headers)\n",
        "res.encoding = 'utf-8'\n"
      ],
      "execution_count": null,
      "outputs": []
    },
    {
      "cell_type": "code",
      "metadata": {
        "id": "rGD5a7tn3X1p",
        "colab_type": "code",
        "colab": {}
      },
      "source": [
        "import pandas\n",
        "dfs = pandas.read_html(res.text)"
      ],
      "execution_count": null,
      "outputs": []
    },
    {
      "cell_type": "code",
      "metadata": {
        "id": "k9nM9sDp33s8",
        "colab_type": "code",
        "colab": {}
      },
      "source": [
        "#dfs[8]"
      ],
      "execution_count": null,
      "outputs": []
    },
    {
      "cell_type": "code",
      "metadata": {
        "id": "3IxmLuTV34PL",
        "colab_type": "code",
        "colab": {
          "base_uri": "https://localhost:8080/",
          "height": 174
        },
        "outputId": "d888b521-ab01-4a55-bca5-3de172050340"
      },
      "source": [
        "import requests\n",
        "headers = {\n",
        "  'cookie': 'buuid=LzlWb3hwMkM5K2RpYmoyVmliNmZ6d2tWY2dlaTlyZjcvMWFCRXhXTzhsSGVFTmg5bCtBWld1Tk04NEdJaEZkay0tVmdXY2xFRWdVU3BSZFhBb08vTk9LZz09--57276bb3ce0c725bbc04fb8c5abeb85dd6afd2d7; easy_ab=3e6118a4-03d9-43da-8268-6786151a7d84; _ga=GA1.2.2000006587.1597896557; _gid=GA1.2.233461786.1597896557; _gat=1; upgrade_browser=1; _gali=login-form; remember_user_token=W1s0MzAzNzZdLCIkMmEkMTAkMkJJS2JBZXNGUmliQW9OcXpIV2M2LiIsIjE1OTc4OTY1NzcuMjIzNTc2NSJd--f14ea37e25d382dd4e6fcb69d03b1e844657a87d; _statementdog_session_v2=c3lJQTZ6Ym94M2Vwd0tuR3gxVWFuOHd2K0hmRjJLak93SjVDeVBiU3dVN0RwSEZhdHl3MXk2bWp3SUlLR1QvenlpVWVmZHZBWm9CNUlrWjM3a29TdG5iamg3U3F0T00yUFZPQlFaQ0kwQS9YQlh6RTFUVzZHQ3BKV3RLWVczUkVjUUhOQkJpUGRqM29xclBHaW9SVm12YVpwcy9oS3RFRC8rWTVHb2tMZ2dVWnRlNHlrb2t6YnMyajdHM1lHZVFkNWttOE9NOGNEcVA5Znl6VCtGRVgwV2FNTUZrRnlGRHd2a1BRN3ZxNnB2eE9HT1NqS2pjYVlNSCt4M09HNmVjTWpXSGlEcUZreGU1YjV6TWFxK2VSM1ZXN1dOQkhIVFY3U2VFWnBNaWM2WGNrMUxCRE1TMkRSbmRaUVBwUW51cCtoU3VVdks0Ym5lREZQNDYzdkN3NE9BPT0tLW1OeWZHQkJBMGw3aVhMWEFHa21xTHc9PQ%3D%3D--95a9c04179c1e8e3e4271cc4a2c059373fc8811e; amplitude_id_0ab77a441fbc226251ef1a272380fcd7statementdog.com=eyJkZXZpY2VJZCI6IjhhMDdjYjJjLTRlNDEtNGY4ZC1iNTlkLTFkZTE0YTljYmJjMlIiLCJ1c2VySWQiOiI0MzAzNzYiLCJvcHRPdXQiOmZhbHNlLCJzZXNzaW9uSWQiOjE1OTc4OTY1NTY3NDQsImxhc3RFdmVudFRpbWUiOjE1OTc4OTY1Nzc4NDAsImV2ZW50SWQiOjMsImlkZW50aWZ5SWQiOjQsInNlcXVlbmNlTnVtYmVyIjo3fQ=='  \n",
        "}\n",
        "res = requests.get('https://statementdog.com/api/v1/feeds?&_=1597896578141', headers = headers)\n",
        "res.text"
      ],
      "execution_count": null,
      "outputs": [
        {
          "output_type": "execute_result",
          "data": {
            "application/vnd.google.colaboratory.intrinsic+json": {
              "type": "string"
            },
            "text/plain": [
              "'{\"items\":[{\"type\":\"news\",\"id\":3310153,\"title\":\"台積電ADR19日下跌0.87美元跌幅1.10%折台股463.51元\",\"source_url\":\"https://tw.stock.yahoo.com/news/%E5%8F%B0%E7%A9%8D%E9%9B%BBadr19%E6%97%A5%E4%B8%8B%E8%B7%8C0-87%E7%BE%8E%E5%85%83%E8%B7%8C%E5%B9%851-10-%E6%8A%98%E5%8F%B0%E8%82%A1463-51%E5%85%83-011110302.html\",\"likers_count\":0,\"liked\":false,\"collected\":false,\"related_stocks\":[{\"id\":323,\"ticker\":\"2330\",\"name\":\"台積電\"}],\"total_comments_count\":0,\"created_at\":\"2020-08-20T09:11:10+08:00\",\"created_or_replied_at\":\"2020-08-20T09:11:10+08:00\",\"comments_count\":0,\"comments\":[],\"comments_pagination\":{\"has_more_comments\":false,\"next_url\":null},\"content\":\"(中央社台北2020年 8月20日電)台積電在NYSE掛牌 ADR以 78.54美元作收，下跌0.87美元，跌幅 1.10%。由於每單位台積電 ADR相當於台股 5股台積電普通股，以 8月19日新台幣\"},{\"type\":\"announcement\",\"id\":1262747,\"title\":\"本公司代子公司 TSMC Global Ltd. 公告取得固定收益證券\",\"source_url\":\"https://mops.twse.com.tw/mops/web/t05st02?step=1&off=1&firstin=1&TYPEK=sii&i=213&h2130=%A5%78%BF%6E%B9%71&h2131=2330&h2132=20200819&h2133=181851&h2134=%A5%BB%A4%BD%A5%71%A5%4E%A4%6C%A4%BD%A5%71+TSMC+Global+Ltd.+%A4%BD%A7%69%A8%FA%B1%6F%A9%54%A9%77%A6%AC%AF%71%C3%D2%A8%E9&h2135=1&pgname=t05st02\",\"likers_count\":0,\"liked\":false,\"collected\":false,\"related_stocks\":[{\"id\":323,\"ticker\":\"2330\",\"name\":\"台積電\"}],\"total_comments_count\":0,\"created_at\":\"2020-08-19T18:18:51+08:00\",\"created_or_replied_at\":\"2020-08-19T18:18:51+08:00\",\"comments_count\":0,\"comments\":[],\"comments_pagination\":{\"has_more_comments\":false,\"next_url\":null},\"content\":\"本公司代子公司 TSMC Global Ltd. 公告取得固定收益證券\"},{\"type\":\"news\",\"id\":3309929,\"title\":\"《科技》蝦皮開出線上專店 專攻超市採購移轉商機\",\"source_url\":\"https://tw.stock.yahoo.com/news/%E7%A7%91%E6%8A%80-%E8%9D%A6%E7%9A%AE%E9%96%8B%E5%87%BA%E7%B7%9A%E4%B8%8A%E5%B0%88%E5%BA%97-%E5%B0%88%E6%94%BB%E8%B6%85%E5%B8%82%E6%8E%A1%E8%B3%BC%E7%A7%BB%E8%BD%89%E5%95%86%E6%A9%9F-031448712.html\",\"likers_count\":0,\"liked\":false,\"collected\":false,\"related_stocks\":[{\"id\":323,\"ticker\":\"2330\",\"name\":\"台積電\"}],\"total_comments_count\":0,\"created_at\":\"2020-08-19T11:14:48+08:00\",\"created_or_replied_at\":\"2020-08-19T11:14:48+08:00\",\"comments_count\":0,\"comments\":[],\"comments_pagination\":{\"has_more_comments\":false,\"next_url\":null},\"content\":\"【時報記者莊丙農台北報導】蝦皮購物觀察宅經濟帶動站上民生必需品、3C家電、居家娛樂商品需求，因此佈局線上專店策略，打造「蝦皮超市」、「蝦皮電子」、「蝦皮書城」向通路化拓展經營觸角；更看好食品類線上採購\"},{\"type\":\"news\",\"id\":3309930,\"title\":\"《半導體》台積電技術論壇 首度線上舉行\",\"source_url\":\"https://tw.stock.yahoo.com/news/%E5%8D%8A%E5%B0%8E%E9%AB%94-%E5%8F%B0%E7%A9%8D%E9%9B%BB%E6%8A%80%E8%A1%93%E8%AB%96%E5%A3%87-%E9%A6%96%E5%BA%A6%E7%B7%9A%E4%B8%8A%E8%88%89%E8%A1%8C-031323925.html\",\"likers_count\":0,\"liked\":false,\"collected\":false,\"related_stocks\":[{\"id\":323,\"ticker\":\"2330\",\"name\":\"台積電\"}],\"total_comments_count\":0,\"created_at\":\"2020-08-19T11:13:23+08:00\",\"created_or_replied_at\":\"2020-08-19T11:13:23+08:00\",\"comments_count\":0,\"comments\":[],\"comments_pagination\":{\"has_more_comments\":false,\"next_url\":null},\"content\":\"【時報記者沈培華台北報導】台積電(2330)先前已將今年度的全球技術論壇延至8月24日舉行，受到全球疫情持續延燒，台積電決定將今年度技術論壇與開放創新平台生態論壇改採線上舉行，這將是台積電這兩項論壇首\"},{\"type\":\"news\",\"id\":3309931,\"title\":\"疫情持續延燒 台積電全球技術論壇首度線上舉行\",\"source_url\":\"https://tw.stock.yahoo.com/news/%E7%96%AB%E6%83%85%E6%8C%81%E7%BA%8C%E5%BB%B6%E7%87%92-%E5%8F%B0%E7%A9%8D%E9%9B%BB%E5%85%A8%E7%90%83%E6%8A%80%E8%A1%93%E8%AB%96%E5%A3%87%E9%A6%96%E5%BA%A6%E7%B7%9A%E4%B8%8A%E8%88%89%E8%A1%8C-022328113.html\",\"likers_count\":0,\"liked\":false,\"collected\":false,\"related_stocks\":[{\"id\":323,\"ticker\":\"2330\",\"name\":\"台積電\"}],\"total_comments_count\":0,\"created_at\":\"2020-08-19T10:23:28+08:00\",\"created_or_replied_at\":\"2020-08-19T10:23:28+08:00\",\"comments_count\":0,\"comments\":[],\"comments_pagination\":{\"has_more_comments\":false,\"next_url\":null},\"content\":\"（中央社記者張建中新竹2020年8月19日電）全球疫情持續延燒，晶圓代工廠台積電(2330)決定今年度技術論壇與開放創新平台生態論壇改採線上形式舉行，這將是台積電兩項論壇首度以線上形式進行。台積電今年\"},{\"type\":\"news\",\"id\":3309877,\"title\":\"台積電ADR18日下跌0.78美元跌幅0.97%折台股468.80元\",\"source_url\":\"https://tw.stock.yahoo.com/news/%E5%8F%B0%E7%A9%8D%E9%9B%BBadr18%E6%97%A5%E4%B8%8B%E8%B7%8C0-78%E7%BE%8E%E5%85%83%E8%B7%8C%E5%B9%850-97-%E6%8A%98%E5%8F%B0%E8%82%A1468-80%E5%85%83-003225947.html\",\"likers_count\":0,\"liked\":false,\"collected\":false,\"related_stocks\":[{\"id\":323,\"ticker\":\"2330\",\"name\":\"台積電\"}],\"total_comments_count\":0,\"created_at\":\"2020-08-19T08:32:25+08:00\",\"created_or_replied_at\":\"2020-08-19T08:32:25+08:00\",\"comments_count\":0,\"comments\":[],\"comments_pagination\":{\"has_more_comments\":false,\"next_url\":null},\"content\":\"(中央社台北2020年 8月19日電)台積電在NYSE掛牌 ADR以 79.41美元作收，下跌0.78美元，跌幅 0.97%。由於每單位台積電 ADR相當於台股 5股台積電普通股，以 8月18日新台幣\"},{\"type\":\"news\",\"id\":3309878,\"title\":\"《半導體》台積電捐贈半導體的世界展館\",\"source_url\":\"https://tw.stock.yahoo.com/news/%E5%8D%8A%E5%B0%8E%E9%AB%94-%E5%8F%B0%E7%A9%8D%E9%9B%BB%E6%8D%90%E8%B4%88%E5%8D%8A%E5%B0%8E%E9%AB%94%E7%9A%84%E4%B8%96%E7%95%8C%E5%B1%95%E9%A4%A8-002639361.html\",\"likers_count\":0,\"liked\":false,\"collected\":false,\"related_stocks\":[{\"id\":323,\"ticker\":\"2330\",\"name\":\"台積電\"}],\"total_comments_count\":0,\"created_at\":\"2020-08-19T08:26:39+08:00\",\"created_or_replied_at\":\"2020-08-19T08:26:39+08:00\",\"comments_count\":0,\"comments\":[],\"comments_pagination\":{\"has_more_comments\":false,\"next_url\":null},\"content\":\"【時報-台北電】由台積電文教基金會規畫、位於國立自然科學博物館科學中心二樓的「半導體的世界」展館，已於日前落成並於18日舉行捐贈儀式。台積電董事長劉德音、台積電文教基金會董事長曾繁城、台積電慈善基金會\"},{\"type\":\"news\",\"id\":3309879,\"title\":\"《各報要聞》台積員工 成中南部購屋大戶\",\"source_url\":\"https://tw.stock.yahoo.com/news/%E5%90%84%E5%A0%B1%E8%A6%81%E8%81%9E-%E5%8F%B0%E7%A9%8D%E5%93%A1%E5%B7%A5-%E6%88%90%E4%B8%AD%E5%8D%97%E9%83%A8%E8%B3%BC%E5%B1%8B%E5%A4%A7%E6%88%B6-235804003.html\",\"likers_count\":0,\"liked\":false,\"collected\":false,\"related_stocks\":[{\"id\":323,\"ticker\":\"2330\",\"name\":\"台積電\"}],\"total_comments_count\":0,\"created_at\":\"2020-08-19T07:58:04+08:00\",\"created_or_replied_at\":\"2020-08-19T07:58:04+08:00\",\"comments_count\":0,\"comments\":[],\"comments_pagination\":{\"has_more_comments\":false,\"next_url\":null},\"content\":\"【時報-台北電】半導體龍頭大廠台積電，不僅領軍台股站上一萬三千點歷史新高，其龐大的科技大軍，更被中南部開發商奉為「購屋大戶」！其中，中科西屯區、大雅區、北屯區的新建案，賞屋客中有高達三成比重為台積電員\"},{\"type\":\"news\",\"id\":3309880,\"title\":\"《其他電子》漢唐業績燙 H2拚再賺1股本\",\"source_url\":\"https://tw.stock.yahoo.com/news/%E5%85%B6%E4%BB%96%E9%9B%BB%E5%AD%90-%E6%BC%A2%E5%94%90%E6%A5%AD%E7%B8%BE%E7%87%99-h2%E6%8B%9A%E5%86%8D%E8%B3%BA1%E8%82%A1%E6%9C%AC-234209126.html\",\"likers_count\":0,\"liked\":false,\"collected\":false,\"related_stocks\":[{\"id\":323,\"ticker\":\"2330\",\"name\":\"台積電\"}],\"total_comments_count\":0,\"created_at\":\"2020-08-19T07:42:09+08:00\",\"created_or_replied_at\":\"2020-08-19T07:42:09+08:00\",\"comments_count\":0,\"comments\":[],\"comments_pagination\":{\"has_more_comments\":false,\"next_url\":null},\"content\":\"【時報-台北電】無塵室廠務工程大廠漢唐（2404）目前在手訂單高達500億元，2020年在美光及台積電廠務逐步完工效應下，下半年將進入認列業績高峰。法人預期，漢唐下半年營運將可望維持上半年的高檔水準，\"},{\"type\":\"news\",\"id\":3309802,\"title\":\"【公告】台積電將參加線上法說會2020 Taiwan Tech Corporate Day\",\"source_url\":\"https://tw.stock.yahoo.com/news/%E5%85%AC%E5%91%8A-%E5%8F%B0%E7%A9%8D%E9%9B%BB%E5%B0%87%E5%8F%83%E5%8A%A0%E7%B7%9A%E4%B8%8A%E6%B3%95%E8%AA%AA%E6%9C%832020-taiwan-tech-corporate-100310477.html\",\"likers_count\":0,\"liked\":false,\"collected\":false,\"related_stocks\":[{\"id\":323,\"ticker\":\"2330\",\"name\":\"台積電\"}],\"total_comments_count\":0,\"created_at\":\"2020-08-18T18:03:10+08:00\",\"created_or_replied_at\":\"2020-08-18T18:03:10+08:00\",\"comments_count\":0,\"comments\":[],\"comments_pagination\":{\"has_more_comments\":false,\"next_url\":null},\"content\":\"日\\u3000\\u3000期：2020年08月18日公司名稱：台積電(2330)主\\u3000\\u3000旨：台積電將參加美銀證券所舉辦之線上法說會-『2020 Taiwan Tech Corporate Day』發言人：黃仁昭說\\u3000\\u3000明：符\"},{\"type\":\"announcement\",\"id\":1262546,\"title\":\"本公司將參加美銀證券所舉辦之線上法說會-『2020 Taiwan Tech Corporate Day』\",\"source_url\":\"https://mops.twse.com.tw/mops/web/t05st02?step=1&off=1&firstin=1&TYPEK=sii&i=208&h2080=%A5%78%BF%6E%B9%71&h2081=2330&h2082=20200818&h2083=173608&h2084=%A5%BB%A4%BD%A5%71%B1%4E%B0%D1%A5%5B%AC%FC%BB%C8%C3%D2%A8%E9%A9%D2%C1%7C%BF%EC%A4%A7%BD%75%A4%57%AA%6B%BB%A1%B7%7C-%A1%792020+Taiwan+Tech+Corporate+Day%A1%7A&h2085=1&pgname=t05st02\",\"likers_count\":0,\"liked\":false,\"collected\":false,\"related_stocks\":[{\"id\":323,\"ticker\":\"2330\",\"name\":\"台積電\"}],\"total_comments_count\":0,\"created_at\":\"2020-08-18T17:36:08+08:00\",\"created_or_replied_at\":\"2020-08-18T17:36:08+08:00\",\"comments_count\":0,\"comments\":[],\"comments_pagination\":{\"has_more_comments\":false,\"next_url\":null},\"content\":\"本公司將參加美銀證券所舉辦之線上法說會-『2020 Taiwan Tech Corporate Day』\"},{\"type\":\"news\",\"id\":3309712,\"title\":\"駁台積電遭陸挖角 劉德音：這半年誰敢離開台灣\",\"source_url\":\"https://tw.stock.yahoo.com/news/%E9%A7%81%E5%8F%B0%E7%A9%8D%E9%9B%BB%E9%81%AD%E9%99%B8%E6%8C%96%E8%A7%92-%E5%8A%89%E5%BE%B7%E9%9F%B3-%E9%80%99%E5%8D%8A%E5%B9%B4%E8%AA%B0%E6%95%A2%E9%9B%A2%E9%96%8B%E5%8F%B0%E7%81%A3-090159180.html\",\"likers_count\":0,\"liked\":false,\"collected\":false,\"related_stocks\":[{\"id\":323,\"ticker\":\"2330\",\"name\":\"台積電\"}],\"total_comments_count\":0,\"created_at\":\"2020-08-18T17:01:59+08:00\",\"created_or_replied_at\":\"2020-08-18T17:01:59+08:00\",\"comments_count\":0,\"comments\":[],\"comments_pagination\":{\"has_more_comments\":false,\"next_url\":null},\"content\":\"（中央社記者鍾榮峰台北2020年8月18日電）台積電(2330)日前傳出遭中國半導體廠挖角上百名工程師與經理人，董事長劉德音表示，與事實不符，這半年來疫情嚴重，誰敢離開台灣。由台積電文教基金會規劃、位\"},{\"type\":\"news\",\"id\":3309713,\"title\":\"台積電捐贈半導體新展館 攜手科博館推廣科普教育\",\"source_url\":\"https://tw.stock.yahoo.com/news/%E5%8F%B0%E7%A9%8D%E9%9B%BB%E6%8D%90%E8%B4%88%E5%8D%8A%E5%B0%8E%E9%AB%94%E6%96%B0%E5%B1%95%E9%A4%A8-%E6%94%9C%E6%89%8B%E7%A7%91%E5%8D%9A%E9%A4%A8%E6%8E%A8%E5%BB%A3%E7%A7%91%E6%99%AE%E6%95%99%E8%82%B2-084017662.html\",\"likers_count\":0,\"liked\":false,\"collected\":false,\"related_stocks\":[{\"id\":323,\"ticker\":\"2330\",\"name\":\"台積電\"}],\"total_comments_count\":0,\"created_at\":\"2020-08-18T16:40:17+08:00\",\"created_or_replied_at\":\"2020-08-18T16:40:17+08:00\",\"comments_count\":0,\"comments\":[],\"comments_pagination\":{\"has_more_comments\":false,\"next_url\":null},\"content\":\"台積電文教基金會歷時 3 年，規劃新一代「半導體的世界」展館，推廣科普教育，並有多個供應商夥伴參與執行，五大展區規模近 200 坪，其中包括使用光雕互動技術展示的 18 公尺晶圓製程牆\"},{\"type\":\"news\",\"id\":3309581,\"title\":\"台積電ADR17日上漲1.78美元漲幅2.27%折台股473.54元\",\"source_url\":\"https://tw.stock.yahoo.com/news/%E5%8F%B0%E7%A9%8D%E9%9B%BBadr17%E6%97%A5%E4%B8%8A%E6%BC%B21-78%E7%BE%8E%E5%85%83%E6%BC%B2%E5%B9%852-27-%E6%8A%98%E5%8F%B0%E8%82%A1473-54%E5%85%83-005938323.html\",\"likers_count\":0,\"liked\":false,\"collected\":false,\"related_stocks\":[{\"id\":323,\"ticker\":\"2330\",\"name\":\"台積電\"}],\"total_comments_count\":0,\"created_at\":\"2020-08-18T08:59:38+08:00\",\"created_or_replied_at\":\"2020-08-18T08:59:38+08:00\",\"comments_count\":0,\"comments\":[],\"comments_pagination\":{\"has_more_comments\":false,\"next_url\":null},\"content\":\"(中央社台北2020年 8月18日電)台積電在NYSE掛牌 ADR以 80.19美元作收，上漲1.78美元，漲幅 2.27%。由於每單位台積電 ADR相當於台股 5股台積電普通股，以 8月17日新台幣\"},{\"type\":\"news\",\"id\":3309582,\"title\":\"台積電需求強勁！三菱化學傳在台灣建新廠、擴產5成\",\"source_url\":\"https://tw.stock.yahoo.com/news/%E5%8F%B0%E7%A9%8D%E9%9B%BB%E9%9C%80%E6%B1%82%E5%BC%B7%E5%8B%81-%E4%B8%89%E8%8F%B1%E5%8C%96%E5%AD%B8%E5%82%B3%E5%9C%A8%E5%8F%B0%E7%81%A3%E5%BB%BA%E6%96%B0%E5%BB%A0-%E6%93%B4%E7%94%A25%E6%88%90-230800752.html\",\"likers_count\":0,\"liked\":false,\"collected\":false,\"related_stocks\":[{\"id\":323,\"ticker\":\"2330\",\"name\":\"台積電\"}],\"total_comments_count\":0,\"created_at\":\"2020-08-18T07:08:00+08:00\",\"created_or_replied_at\":\"2020-08-18T07:08:00+08:00\",\"comments_count\":0,\"comments\":[],\"comments_pagination\":{\"has_more_comments\":false,\"next_url\":null},\"content\":\"MoneyDJ新聞 2020-08-18 07:08:18 記者 蔡承啟 報導因來自台積電(2330)等台灣客戶的訂單強勁，傳出日本三菱化學(Mitsubishi Chemical)將在台灣興建新工廠\"},{\"type\":\"news\",\"id\":3309547,\"title\":\"傳蘋果一款A14處理器命名玉山 台積電不評論\",\"source_url\":\"https://tw.stock.yahoo.com/news/%E5%82%B3%E8%98%8B%E6%9E%9C-%E6%AC%BEa14%E8%99%95%E7%90%86%E5%99%A8%E5%91%BD%E5%90%8D%E7%8E%89%E5%B1%B1-%E5%8F%B0%E7%A9%8D%E9%9B%BB%E4%B8%8D%E8%A9%95%E8%AB%96-123829745.html\",\"likers_count\":0,\"liked\":false,\"collected\":false,\"related_stocks\":[{\"id\":323,\"ticker\":\"2330\",\"name\":\"台積電\"}],\"total_comments_count\":0,\"created_at\":\"2020-08-17T20:38:29+08:00\",\"created_or_replied_at\":\"2020-08-17T20:38:29+08:00\",\"comments_count\":0,\"comments\":[],\"comments_pagination\":{\"has_more_comments\":false,\"next_url\":null},\"content\":\"（中央社記者鍾榮峰台北2020年8月17日電）市場傳出蘋果A14系列處理器採用台積電(2330)5奈米製程量產，其中一款處理器將名為「玉山」，是首次採用台灣的地名命名。對此，台積電今晚表示不予評論。台\"},{\"type\":\"news\",\"id\":3309287,\"title\":\"《國際產業》台積電5奈米太搶手 傳蘋果要求優先供貨 確保新愛瘋所需\",\"source_url\":\"https://tw.stock.yahoo.com/news/%E5%9C%8B%E9%9A%9B%E7%94%A2%E6%A5%AD-%E5%8F%B0%E7%A9%8D%E9%9B%BB5%E5%A5%88%E7%B1%B3%E5%A4%AA%E6%90%B6%E6%89%8B-%E5%82%B3%E8%98%8B%E6%9E%9C%E8%A6%81%E6%B1%82%E5%84%AA%E5%85%88%E4%BE%9B%E8%B2%A8-%E7%A2%BA%E4%BF%9D%E6%96%B0%E6%84%9B%E7%98%8B%E6%89%80%E9%9C%80-030454159.html\",\"likers_count\":0,\"liked\":false,\"collected\":false,\"related_stocks\":[{\"id\":323,\"ticker\":\"2330\",\"name\":\"台積電\"}],\"total_comments_count\":0,\"created_at\":\"2020-08-17T11:04:54+08:00\",\"created_or_replied_at\":\"2020-08-17T11:04:54+08:00\",\"comments_count\":0,\"comments\":[],\"comments_pagination\":{\"has_more_comments\":false,\"next_url\":null},\"content\":\"【時報-台北電】美國手機大廠蘋果（Apple）將在今年秋天發表最新的iPhone手機（暫稱iPhone 12），據傳將搭載由台積電代工製造、採用5奈米製程的A14晶片。 \\u3000大陸微博博主「手機晶片達人」\"},{\"type\":\"news\",\"id\":3309259,\"title\":\"《各報要聞》台積電7奈米 獲博通HPC訂單\",\"source_url\":\"https://tw.stock.yahoo.com/news/%E5%90%84%E5%A0%B1%E8%A6%81%E8%81%9E-%E5%8F%B0%E7%A9%8D%E9%9B%BB7%E5%A5%88%E7%B1%B3-%E7%8D%B2%E5%8D%9A%E9%80%9Ahpc%E8%A8%82%E5%96%AE-234636340.html\",\"likers_count\":0,\"liked\":false,\"collected\":false,\"related_stocks\":[{\"id\":323,\"ticker\":\"2330\",\"name\":\"台積電\"}],\"total_comments_count\":0,\"created_at\":\"2020-08-17T07:46:36+08:00\",\"created_or_replied_at\":\"2020-08-17T07:46:36+08:00\",\"comments_count\":0,\"comments\":[],\"comments_pagination\":{\"has_more_comments\":false,\"next_url\":null},\"content\":\"【時報-台北電】晶圓代工龍頭台積電(2330)再傳接單捷報。業界傳出，全球IC設計龍頭博通（Broadcom）與電動車大廠特斯拉（Tesla）共同開發的新款高效能運算（HPC）晶片，將以台積電7奈米先\"},{\"type\":\"news\",\"id\":3309215,\"title\":\"《熱門族群》15檔獲利連四季成長 買盤力挺\",\"source_url\":\"https://tw.stock.yahoo.com/news/%E7%86%B1%E9%96%80%E6%97%8F%E7%BE%A4-15%E6%AA%94%E7%8D%B2%E5%88%A9%E9%80%A3%E5%9B%9B%E5%AD%A3%E6%88%90%E9%95%B7-%E8%B2%B7%E7%9B%A4%E5%8A%9B%E6%8C%BA-071614290.html\",\"likers_count\":0,\"liked\":false,\"collected\":false,\"related_stocks\":[{\"id\":323,\"ticker\":\"2330\",\"name\":\"台積電\"}],\"total_comments_count\":0,\"created_at\":\"2020-08-15T15:16:14+08:00\",\"created_or_replied_at\":\"2020-08-15T15:16:14+08:00\",\"comments_count\":0,\"comments\":[],\"comments_pagination\":{\"has_more_comments\":false,\"next_url\":null},\"content\":\"【時報-台北電】上市櫃第二季財報全數公布，受新冠疫情重創整體經濟，今年第二季營收維持成長態勢的個股，占比不足四成，因此，台積電（2330）、和碩（4938）等15檔連四季獲利雙位數成長的個股，格外亮眼\"},{\"type\":\"news\",\"id\":3309210,\"title\":\"《熱門族群》五天王揭曉 台積穩坐獲利王\",\"source_url\":\"https://tw.stock.yahoo.com/news/%E7%86%B1%E9%96%80%E6%97%8F%E7%BE%A4-%E4%BA%94%E5%A4%A9%E7%8E%8B%E6%8F%AD%E6%9B%89-%E5%8F%B0%E7%A9%8D%E7%A9%A9%E5%9D%90%E7%8D%B2%E5%88%A9%E7%8E%8B-040023645.html\",\"likers_count\":0,\"liked\":false,\"collected\":false,\"related_stocks\":[{\"id\":323,\"ticker\":\"2330\",\"name\":\"台積電\"}],\"total_comments_count\":0,\"created_at\":\"2020-08-15T12:00:23+08:00\",\"created_or_replied_at\":\"2020-08-15T12:00:23+08:00\",\"comments_count\":0,\"comments\":[],\"comments_pagination\":{\"has_more_comments\":false,\"next_url\":null},\"content\":\"【時報-台北電】上市櫃公司第二季財報出爐，護國神山台積電（2330）第二季稅後純益1,208億元，上半年累計稅後純益2,379億元，穩坐今年上半年獲利王。 \\u3000 \\u3000台積電上半年稅後純益與去年同期相較，成\"}],\"pagination\":{\"has_more_items\":true,\"next_url\":\"https://statementdog.com/api/v1/feeds?max_time=2020-08-15T12:00:23+08:00&type=tweet,news,announcement,sec_filing,insight_post\"}}'"
            ]
          },
          "metadata": {
            "tags": []
          },
          "execution_count": 28
        }
      ]
    },
    {
      "cell_type": "markdown",
      "metadata": {
        "id": "O8B8WzbWrWRO",
        "colab_type": "text"
      },
      "source": [
        "## Machine Learning"
      ]
    },
    {
      "cell_type": "code",
      "metadata": {
        "id": "T-67uVhYD5dc",
        "colab_type": "code",
        "colab": {
          "base_uri": "https://localhost:8080/",
          "height": 218
        },
        "outputId": "7dba4990-be8e-451b-9d4a-f861a3f51844"
      },
      "source": [
        "import pandas\n",
        "df = pandas.read_csv('https://raw.githubusercontent.com/ywchiu/tibamepy/master/data/customer_churn.csv', index_col = 0)\n",
        "df.head()"
      ],
      "execution_count": null,
      "outputs": [
        {
          "output_type": "execute_result",
          "data": {
            "text/html": [
              "<div>\n",
              "<style scoped>\n",
              "    .dataframe tbody tr th:only-of-type {\n",
              "        vertical-align: middle;\n",
              "    }\n",
              "\n",
              "    .dataframe tbody tr th {\n",
              "        vertical-align: top;\n",
              "    }\n",
              "\n",
              "    .dataframe thead th {\n",
              "        text-align: right;\n",
              "    }\n",
              "</style>\n",
              "<table border=\"1\" class=\"dataframe\">\n",
              "  <thead>\n",
              "    <tr style=\"text-align: right;\">\n",
              "      <th></th>\n",
              "      <th>state</th>\n",
              "      <th>account_length</th>\n",
              "      <th>area_code</th>\n",
              "      <th>international_plan</th>\n",
              "      <th>voice_mail_plan</th>\n",
              "      <th>number_vmail_messages</th>\n",
              "      <th>total_day_minutes</th>\n",
              "      <th>total_day_calls</th>\n",
              "      <th>total_day_charge</th>\n",
              "      <th>total_eve_minutes</th>\n",
              "      <th>total_eve_calls</th>\n",
              "      <th>total_eve_charge</th>\n",
              "      <th>total_night_minutes</th>\n",
              "      <th>total_night_calls</th>\n",
              "      <th>total_night_charge</th>\n",
              "      <th>total_intl_minutes</th>\n",
              "      <th>total_intl_calls</th>\n",
              "      <th>total_intl_charge</th>\n",
              "      <th>number_customer_service_calls</th>\n",
              "      <th>churn</th>\n",
              "    </tr>\n",
              "  </thead>\n",
              "  <tbody>\n",
              "    <tr>\n",
              "      <th>1</th>\n",
              "      <td>KS</td>\n",
              "      <td>128</td>\n",
              "      <td>area_code_415</td>\n",
              "      <td>no</td>\n",
              "      <td>yes</td>\n",
              "      <td>25</td>\n",
              "      <td>265.1</td>\n",
              "      <td>110</td>\n",
              "      <td>45.07</td>\n",
              "      <td>197.4</td>\n",
              "      <td>99</td>\n",
              "      <td>16.78</td>\n",
              "      <td>244.7</td>\n",
              "      <td>91</td>\n",
              "      <td>11.01</td>\n",
              "      <td>10.0</td>\n",
              "      <td>3</td>\n",
              "      <td>2.70</td>\n",
              "      <td>1</td>\n",
              "      <td>no</td>\n",
              "    </tr>\n",
              "    <tr>\n",
              "      <th>2</th>\n",
              "      <td>OH</td>\n",
              "      <td>107</td>\n",
              "      <td>area_code_415</td>\n",
              "      <td>no</td>\n",
              "      <td>yes</td>\n",
              "      <td>26</td>\n",
              "      <td>161.6</td>\n",
              "      <td>123</td>\n",
              "      <td>27.47</td>\n",
              "      <td>195.5</td>\n",
              "      <td>103</td>\n",
              "      <td>16.62</td>\n",
              "      <td>254.4</td>\n",
              "      <td>103</td>\n",
              "      <td>11.45</td>\n",
              "      <td>13.7</td>\n",
              "      <td>3</td>\n",
              "      <td>3.70</td>\n",
              "      <td>1</td>\n",
              "      <td>no</td>\n",
              "    </tr>\n",
              "    <tr>\n",
              "      <th>3</th>\n",
              "      <td>NJ</td>\n",
              "      <td>137</td>\n",
              "      <td>area_code_415</td>\n",
              "      <td>no</td>\n",
              "      <td>no</td>\n",
              "      <td>0</td>\n",
              "      <td>243.4</td>\n",
              "      <td>114</td>\n",
              "      <td>41.38</td>\n",
              "      <td>121.2</td>\n",
              "      <td>110</td>\n",
              "      <td>10.30</td>\n",
              "      <td>162.6</td>\n",
              "      <td>104</td>\n",
              "      <td>7.32</td>\n",
              "      <td>12.2</td>\n",
              "      <td>5</td>\n",
              "      <td>3.29</td>\n",
              "      <td>0</td>\n",
              "      <td>no</td>\n",
              "    </tr>\n",
              "    <tr>\n",
              "      <th>4</th>\n",
              "      <td>OH</td>\n",
              "      <td>84</td>\n",
              "      <td>area_code_408</td>\n",
              "      <td>yes</td>\n",
              "      <td>no</td>\n",
              "      <td>0</td>\n",
              "      <td>299.4</td>\n",
              "      <td>71</td>\n",
              "      <td>50.90</td>\n",
              "      <td>61.9</td>\n",
              "      <td>88</td>\n",
              "      <td>5.26</td>\n",
              "      <td>196.9</td>\n",
              "      <td>89</td>\n",
              "      <td>8.86</td>\n",
              "      <td>6.6</td>\n",
              "      <td>7</td>\n",
              "      <td>1.78</td>\n",
              "      <td>2</td>\n",
              "      <td>no</td>\n",
              "    </tr>\n",
              "    <tr>\n",
              "      <th>5</th>\n",
              "      <td>OK</td>\n",
              "      <td>75</td>\n",
              "      <td>area_code_415</td>\n",
              "      <td>yes</td>\n",
              "      <td>no</td>\n",
              "      <td>0</td>\n",
              "      <td>166.7</td>\n",
              "      <td>113</td>\n",
              "      <td>28.34</td>\n",
              "      <td>148.3</td>\n",
              "      <td>122</td>\n",
              "      <td>12.61</td>\n",
              "      <td>186.9</td>\n",
              "      <td>121</td>\n",
              "      <td>8.41</td>\n",
              "      <td>10.1</td>\n",
              "      <td>3</td>\n",
              "      <td>2.73</td>\n",
              "      <td>3</td>\n",
              "      <td>no</td>\n",
              "    </tr>\n",
              "  </tbody>\n",
              "</table>\n",
              "</div>"
            ],
            "text/plain": [
              "  state  account_length  ... number_customer_service_calls churn\n",
              "1    KS             128  ...                             1    no\n",
              "2    OH             107  ...                             1    no\n",
              "3    NJ             137  ...                             0    no\n",
              "4    OH              84  ...                             2    no\n",
              "5    OK              75  ...                             3    no\n",
              "\n",
              "[5 rows x 20 columns]"
            ]
          },
          "metadata": {
            "tags": []
          },
          "execution_count": 2
        }
      ]
    },
    {
      "cell_type": "code",
      "metadata": {
        "id": "p-Ghir68rZuL",
        "colab_type": "code",
        "colab": {
          "base_uri": "https://localhost:8080/",
          "height": 380
        },
        "outputId": "7245d66f-b172-4ca2-ecba-8fd94ca7f521"
      },
      "source": [
        "df.isna().sum()"
      ],
      "execution_count": null,
      "outputs": [
        {
          "output_type": "execute_result",
          "data": {
            "text/plain": [
              "state                            0\n",
              "account_length                   0\n",
              "area_code                        0\n",
              "international_plan               0\n",
              "voice_mail_plan                  0\n",
              "number_vmail_messages            0\n",
              "total_day_minutes                0\n",
              "total_day_calls                  0\n",
              "total_day_charge                 0\n",
              "total_eve_minutes                0\n",
              "total_eve_calls                  0\n",
              "total_eve_charge                 0\n",
              "total_night_minutes              0\n",
              "total_night_calls                0\n",
              "total_night_charge               0\n",
              "total_intl_minutes               0\n",
              "total_intl_calls                 0\n",
              "total_intl_charge                0\n",
              "number_customer_service_calls    0\n",
              "churn                            0\n",
              "dtype: int64"
            ]
          },
          "metadata": {
            "tags": []
          },
          "execution_count": 3
        }
      ]
    },
    {
      "cell_type": "code",
      "metadata": {
        "id": "07jpJZrArmNw",
        "colab_type": "code",
        "colab": {
          "base_uri": "https://localhost:8080/",
          "height": 218
        },
        "outputId": "6312e2d5-dd98-4d71-9861-e135047c58a6"
      },
      "source": [
        "df  = df.iloc[:,3:]\n",
        "df.head()"
      ],
      "execution_count": null,
      "outputs": [
        {
          "output_type": "execute_result",
          "data": {
            "text/html": [
              "<div>\n",
              "<style scoped>\n",
              "    .dataframe tbody tr th:only-of-type {\n",
              "        vertical-align: middle;\n",
              "    }\n",
              "\n",
              "    .dataframe tbody tr th {\n",
              "        vertical-align: top;\n",
              "    }\n",
              "\n",
              "    .dataframe thead th {\n",
              "        text-align: right;\n",
              "    }\n",
              "</style>\n",
              "<table border=\"1\" class=\"dataframe\">\n",
              "  <thead>\n",
              "    <tr style=\"text-align: right;\">\n",
              "      <th></th>\n",
              "      <th>international_plan</th>\n",
              "      <th>voice_mail_plan</th>\n",
              "      <th>number_vmail_messages</th>\n",
              "      <th>total_day_minutes</th>\n",
              "      <th>total_day_calls</th>\n",
              "      <th>total_day_charge</th>\n",
              "      <th>total_eve_minutes</th>\n",
              "      <th>total_eve_calls</th>\n",
              "      <th>total_eve_charge</th>\n",
              "      <th>total_night_minutes</th>\n",
              "      <th>total_night_calls</th>\n",
              "      <th>total_night_charge</th>\n",
              "      <th>total_intl_minutes</th>\n",
              "      <th>total_intl_calls</th>\n",
              "      <th>total_intl_charge</th>\n",
              "      <th>number_customer_service_calls</th>\n",
              "      <th>churn</th>\n",
              "    </tr>\n",
              "  </thead>\n",
              "  <tbody>\n",
              "    <tr>\n",
              "      <th>1</th>\n",
              "      <td>no</td>\n",
              "      <td>yes</td>\n",
              "      <td>25</td>\n",
              "      <td>265.1</td>\n",
              "      <td>110</td>\n",
              "      <td>45.07</td>\n",
              "      <td>197.4</td>\n",
              "      <td>99</td>\n",
              "      <td>16.78</td>\n",
              "      <td>244.7</td>\n",
              "      <td>91</td>\n",
              "      <td>11.01</td>\n",
              "      <td>10.0</td>\n",
              "      <td>3</td>\n",
              "      <td>2.70</td>\n",
              "      <td>1</td>\n",
              "      <td>no</td>\n",
              "    </tr>\n",
              "    <tr>\n",
              "      <th>2</th>\n",
              "      <td>no</td>\n",
              "      <td>yes</td>\n",
              "      <td>26</td>\n",
              "      <td>161.6</td>\n",
              "      <td>123</td>\n",
              "      <td>27.47</td>\n",
              "      <td>195.5</td>\n",
              "      <td>103</td>\n",
              "      <td>16.62</td>\n",
              "      <td>254.4</td>\n",
              "      <td>103</td>\n",
              "      <td>11.45</td>\n",
              "      <td>13.7</td>\n",
              "      <td>3</td>\n",
              "      <td>3.70</td>\n",
              "      <td>1</td>\n",
              "      <td>no</td>\n",
              "    </tr>\n",
              "    <tr>\n",
              "      <th>3</th>\n",
              "      <td>no</td>\n",
              "      <td>no</td>\n",
              "      <td>0</td>\n",
              "      <td>243.4</td>\n",
              "      <td>114</td>\n",
              "      <td>41.38</td>\n",
              "      <td>121.2</td>\n",
              "      <td>110</td>\n",
              "      <td>10.30</td>\n",
              "      <td>162.6</td>\n",
              "      <td>104</td>\n",
              "      <td>7.32</td>\n",
              "      <td>12.2</td>\n",
              "      <td>5</td>\n",
              "      <td>3.29</td>\n",
              "      <td>0</td>\n",
              "      <td>no</td>\n",
              "    </tr>\n",
              "    <tr>\n",
              "      <th>4</th>\n",
              "      <td>yes</td>\n",
              "      <td>no</td>\n",
              "      <td>0</td>\n",
              "      <td>299.4</td>\n",
              "      <td>71</td>\n",
              "      <td>50.90</td>\n",
              "      <td>61.9</td>\n",
              "      <td>88</td>\n",
              "      <td>5.26</td>\n",
              "      <td>196.9</td>\n",
              "      <td>89</td>\n",
              "      <td>8.86</td>\n",
              "      <td>6.6</td>\n",
              "      <td>7</td>\n",
              "      <td>1.78</td>\n",
              "      <td>2</td>\n",
              "      <td>no</td>\n",
              "    </tr>\n",
              "    <tr>\n",
              "      <th>5</th>\n",
              "      <td>yes</td>\n",
              "      <td>no</td>\n",
              "      <td>0</td>\n",
              "      <td>166.7</td>\n",
              "      <td>113</td>\n",
              "      <td>28.34</td>\n",
              "      <td>148.3</td>\n",
              "      <td>122</td>\n",
              "      <td>12.61</td>\n",
              "      <td>186.9</td>\n",
              "      <td>121</td>\n",
              "      <td>8.41</td>\n",
              "      <td>10.1</td>\n",
              "      <td>3</td>\n",
              "      <td>2.73</td>\n",
              "      <td>3</td>\n",
              "      <td>no</td>\n",
              "    </tr>\n",
              "  </tbody>\n",
              "</table>\n",
              "</div>"
            ],
            "text/plain": [
              "  international_plan voice_mail_plan  ...  number_customer_service_calls  churn\n",
              "1                 no             yes  ...                              1     no\n",
              "2                 no             yes  ...                              1     no\n",
              "3                 no              no  ...                              0     no\n",
              "4                yes              no  ...                              2     no\n",
              "5                yes              no  ...                              3     no\n",
              "\n",
              "[5 rows x 17 columns]"
            ]
          },
          "metadata": {
            "tags": []
          },
          "execution_count": 4
        }
      ]
    },
    {
      "cell_type": "code",
      "metadata": {
        "id": "tQQlVl6lrxyp",
        "colab_type": "code",
        "colab": {}
      },
      "source": [
        "df['international_plan'] = df['international_plan'].replace({'yes':1, 'no':0})\n",
        "df['voice_mail_plan'] = df['voice_mail_plan'].replace({'yes':1, 'no':0})\n",
        "df['churn'] = df['churn'].replace({'yes':1, 'no':0})"
      ],
      "execution_count": null,
      "outputs": []
    },
    {
      "cell_type": "code",
      "metadata": {
        "id": "W_KJz37fsCsd",
        "colab_type": "code",
        "colab": {
          "base_uri": "https://localhost:8080/",
          "height": 218
        },
        "outputId": "0247e79c-4b0b-418f-fb6e-cb5b38576e1c"
      },
      "source": [
        "df.head()"
      ],
      "execution_count": null,
      "outputs": [
        {
          "output_type": "execute_result",
          "data": {
            "text/html": [
              "<div>\n",
              "<style scoped>\n",
              "    .dataframe tbody tr th:only-of-type {\n",
              "        vertical-align: middle;\n",
              "    }\n",
              "\n",
              "    .dataframe tbody tr th {\n",
              "        vertical-align: top;\n",
              "    }\n",
              "\n",
              "    .dataframe thead th {\n",
              "        text-align: right;\n",
              "    }\n",
              "</style>\n",
              "<table border=\"1\" class=\"dataframe\">\n",
              "  <thead>\n",
              "    <tr style=\"text-align: right;\">\n",
              "      <th></th>\n",
              "      <th>international_plan</th>\n",
              "      <th>voice_mail_plan</th>\n",
              "      <th>number_vmail_messages</th>\n",
              "      <th>total_day_minutes</th>\n",
              "      <th>total_day_calls</th>\n",
              "      <th>total_day_charge</th>\n",
              "      <th>total_eve_minutes</th>\n",
              "      <th>total_eve_calls</th>\n",
              "      <th>total_eve_charge</th>\n",
              "      <th>total_night_minutes</th>\n",
              "      <th>total_night_calls</th>\n",
              "      <th>total_night_charge</th>\n",
              "      <th>total_intl_minutes</th>\n",
              "      <th>total_intl_calls</th>\n",
              "      <th>total_intl_charge</th>\n",
              "      <th>number_customer_service_calls</th>\n",
              "      <th>churn</th>\n",
              "    </tr>\n",
              "  </thead>\n",
              "  <tbody>\n",
              "    <tr>\n",
              "      <th>1</th>\n",
              "      <td>0</td>\n",
              "      <td>1</td>\n",
              "      <td>25</td>\n",
              "      <td>265.1</td>\n",
              "      <td>110</td>\n",
              "      <td>45.07</td>\n",
              "      <td>197.4</td>\n",
              "      <td>99</td>\n",
              "      <td>16.78</td>\n",
              "      <td>244.7</td>\n",
              "      <td>91</td>\n",
              "      <td>11.01</td>\n",
              "      <td>10.0</td>\n",
              "      <td>3</td>\n",
              "      <td>2.70</td>\n",
              "      <td>1</td>\n",
              "      <td>0</td>\n",
              "    </tr>\n",
              "    <tr>\n",
              "      <th>2</th>\n",
              "      <td>0</td>\n",
              "      <td>1</td>\n",
              "      <td>26</td>\n",
              "      <td>161.6</td>\n",
              "      <td>123</td>\n",
              "      <td>27.47</td>\n",
              "      <td>195.5</td>\n",
              "      <td>103</td>\n",
              "      <td>16.62</td>\n",
              "      <td>254.4</td>\n",
              "      <td>103</td>\n",
              "      <td>11.45</td>\n",
              "      <td>13.7</td>\n",
              "      <td>3</td>\n",
              "      <td>3.70</td>\n",
              "      <td>1</td>\n",
              "      <td>0</td>\n",
              "    </tr>\n",
              "    <tr>\n",
              "      <th>3</th>\n",
              "      <td>0</td>\n",
              "      <td>0</td>\n",
              "      <td>0</td>\n",
              "      <td>243.4</td>\n",
              "      <td>114</td>\n",
              "      <td>41.38</td>\n",
              "      <td>121.2</td>\n",
              "      <td>110</td>\n",
              "      <td>10.30</td>\n",
              "      <td>162.6</td>\n",
              "      <td>104</td>\n",
              "      <td>7.32</td>\n",
              "      <td>12.2</td>\n",
              "      <td>5</td>\n",
              "      <td>3.29</td>\n",
              "      <td>0</td>\n",
              "      <td>0</td>\n",
              "    </tr>\n",
              "    <tr>\n",
              "      <th>4</th>\n",
              "      <td>1</td>\n",
              "      <td>0</td>\n",
              "      <td>0</td>\n",
              "      <td>299.4</td>\n",
              "      <td>71</td>\n",
              "      <td>50.90</td>\n",
              "      <td>61.9</td>\n",
              "      <td>88</td>\n",
              "      <td>5.26</td>\n",
              "      <td>196.9</td>\n",
              "      <td>89</td>\n",
              "      <td>8.86</td>\n",
              "      <td>6.6</td>\n",
              "      <td>7</td>\n",
              "      <td>1.78</td>\n",
              "      <td>2</td>\n",
              "      <td>0</td>\n",
              "    </tr>\n",
              "    <tr>\n",
              "      <th>5</th>\n",
              "      <td>1</td>\n",
              "      <td>0</td>\n",
              "      <td>0</td>\n",
              "      <td>166.7</td>\n",
              "      <td>113</td>\n",
              "      <td>28.34</td>\n",
              "      <td>148.3</td>\n",
              "      <td>122</td>\n",
              "      <td>12.61</td>\n",
              "      <td>186.9</td>\n",
              "      <td>121</td>\n",
              "      <td>8.41</td>\n",
              "      <td>10.1</td>\n",
              "      <td>3</td>\n",
              "      <td>2.73</td>\n",
              "      <td>3</td>\n",
              "      <td>0</td>\n",
              "    </tr>\n",
              "  </tbody>\n",
              "</table>\n",
              "</div>"
            ],
            "text/plain": [
              "   international_plan  voice_mail_plan  ...  number_customer_service_calls  churn\n",
              "1                   0                1  ...                              1      0\n",
              "2                   0                1  ...                              1      0\n",
              "3                   0                0  ...                              0      0\n",
              "4                   1                0  ...                              2      0\n",
              "5                   1                0  ...                              3      0\n",
              "\n",
              "[5 rows x 17 columns]"
            ]
          },
          "metadata": {
            "tags": []
          },
          "execution_count": 6
        }
      ]
    },
    {
      "cell_type": "code",
      "metadata": {
        "id": "t_LzjSVRsRPv",
        "colab_type": "code",
        "colab": {}
      },
      "source": [
        "X = df.iloc[:,:-1]\n",
        "y = df.iloc[:,-1]"
      ],
      "execution_count": null,
      "outputs": []
    },
    {
      "cell_type": "code",
      "metadata": {
        "id": "78ZZSHsEsXZa",
        "colab_type": "code",
        "colab": {
          "base_uri": "https://localhost:8080/",
          "height": 218
        },
        "outputId": "98887d8a-15a2-4201-ef96-daefc8bccc26"
      },
      "source": [
        "X.head()"
      ],
      "execution_count": null,
      "outputs": [
        {
          "output_type": "execute_result",
          "data": {
            "text/html": [
              "<div>\n",
              "<style scoped>\n",
              "    .dataframe tbody tr th:only-of-type {\n",
              "        vertical-align: middle;\n",
              "    }\n",
              "\n",
              "    .dataframe tbody tr th {\n",
              "        vertical-align: top;\n",
              "    }\n",
              "\n",
              "    .dataframe thead th {\n",
              "        text-align: right;\n",
              "    }\n",
              "</style>\n",
              "<table border=\"1\" class=\"dataframe\">\n",
              "  <thead>\n",
              "    <tr style=\"text-align: right;\">\n",
              "      <th></th>\n",
              "      <th>international_plan</th>\n",
              "      <th>voice_mail_plan</th>\n",
              "      <th>number_vmail_messages</th>\n",
              "      <th>total_day_minutes</th>\n",
              "      <th>total_day_calls</th>\n",
              "      <th>total_day_charge</th>\n",
              "      <th>total_eve_minutes</th>\n",
              "      <th>total_eve_calls</th>\n",
              "      <th>total_eve_charge</th>\n",
              "      <th>total_night_minutes</th>\n",
              "      <th>total_night_calls</th>\n",
              "      <th>total_night_charge</th>\n",
              "      <th>total_intl_minutes</th>\n",
              "      <th>total_intl_calls</th>\n",
              "      <th>total_intl_charge</th>\n",
              "      <th>number_customer_service_calls</th>\n",
              "    </tr>\n",
              "  </thead>\n",
              "  <tbody>\n",
              "    <tr>\n",
              "      <th>1</th>\n",
              "      <td>0</td>\n",
              "      <td>1</td>\n",
              "      <td>25</td>\n",
              "      <td>265.1</td>\n",
              "      <td>110</td>\n",
              "      <td>45.07</td>\n",
              "      <td>197.4</td>\n",
              "      <td>99</td>\n",
              "      <td>16.78</td>\n",
              "      <td>244.7</td>\n",
              "      <td>91</td>\n",
              "      <td>11.01</td>\n",
              "      <td>10.0</td>\n",
              "      <td>3</td>\n",
              "      <td>2.70</td>\n",
              "      <td>1</td>\n",
              "    </tr>\n",
              "    <tr>\n",
              "      <th>2</th>\n",
              "      <td>0</td>\n",
              "      <td>1</td>\n",
              "      <td>26</td>\n",
              "      <td>161.6</td>\n",
              "      <td>123</td>\n",
              "      <td>27.47</td>\n",
              "      <td>195.5</td>\n",
              "      <td>103</td>\n",
              "      <td>16.62</td>\n",
              "      <td>254.4</td>\n",
              "      <td>103</td>\n",
              "      <td>11.45</td>\n",
              "      <td>13.7</td>\n",
              "      <td>3</td>\n",
              "      <td>3.70</td>\n",
              "      <td>1</td>\n",
              "    </tr>\n",
              "    <tr>\n",
              "      <th>3</th>\n",
              "      <td>0</td>\n",
              "      <td>0</td>\n",
              "      <td>0</td>\n",
              "      <td>243.4</td>\n",
              "      <td>114</td>\n",
              "      <td>41.38</td>\n",
              "      <td>121.2</td>\n",
              "      <td>110</td>\n",
              "      <td>10.30</td>\n",
              "      <td>162.6</td>\n",
              "      <td>104</td>\n",
              "      <td>7.32</td>\n",
              "      <td>12.2</td>\n",
              "      <td>5</td>\n",
              "      <td>3.29</td>\n",
              "      <td>0</td>\n",
              "    </tr>\n",
              "    <tr>\n",
              "      <th>4</th>\n",
              "      <td>1</td>\n",
              "      <td>0</td>\n",
              "      <td>0</td>\n",
              "      <td>299.4</td>\n",
              "      <td>71</td>\n",
              "      <td>50.90</td>\n",
              "      <td>61.9</td>\n",
              "      <td>88</td>\n",
              "      <td>5.26</td>\n",
              "      <td>196.9</td>\n",
              "      <td>89</td>\n",
              "      <td>8.86</td>\n",
              "      <td>6.6</td>\n",
              "      <td>7</td>\n",
              "      <td>1.78</td>\n",
              "      <td>2</td>\n",
              "    </tr>\n",
              "    <tr>\n",
              "      <th>5</th>\n",
              "      <td>1</td>\n",
              "      <td>0</td>\n",
              "      <td>0</td>\n",
              "      <td>166.7</td>\n",
              "      <td>113</td>\n",
              "      <td>28.34</td>\n",
              "      <td>148.3</td>\n",
              "      <td>122</td>\n",
              "      <td>12.61</td>\n",
              "      <td>186.9</td>\n",
              "      <td>121</td>\n",
              "      <td>8.41</td>\n",
              "      <td>10.1</td>\n",
              "      <td>3</td>\n",
              "      <td>2.73</td>\n",
              "      <td>3</td>\n",
              "    </tr>\n",
              "  </tbody>\n",
              "</table>\n",
              "</div>"
            ],
            "text/plain": [
              "   international_plan  ...  number_customer_service_calls\n",
              "1                   0  ...                              1\n",
              "2                   0  ...                              1\n",
              "3                   0  ...                              0\n",
              "4                   1  ...                              2\n",
              "5                   1  ...                              3\n",
              "\n",
              "[5 rows x 16 columns]"
            ]
          },
          "metadata": {
            "tags": []
          },
          "execution_count": 9
        }
      ]
    },
    {
      "cell_type": "code",
      "metadata": {
        "id": "dt4gwIJdsb7J",
        "colab_type": "code",
        "colab": {
          "base_uri": "https://localhost:8080/",
          "height": 121
        },
        "outputId": "8dbf2bd0-4f03-4998-c84d-52c6da747f9a"
      },
      "source": [
        "y.head()"
      ],
      "execution_count": null,
      "outputs": [
        {
          "output_type": "execute_result",
          "data": {
            "text/plain": [
              "1    0\n",
              "2    0\n",
              "3    0\n",
              "4    0\n",
              "5    0\n",
              "Name: churn, dtype: int64"
            ]
          },
          "metadata": {
            "tags": []
          },
          "execution_count": 10
        }
      ]
    },
    {
      "cell_type": "code",
      "metadata": {
        "id": "JY3Bk6VCsfTh",
        "colab_type": "code",
        "colab": {}
      },
      "source": [
        "from sklearn.model_selection import train_test_split\n",
        "train_X, test_X, train_y, test_y = train_test_split(X,y, test_size = 0.2) "
      ],
      "execution_count": null,
      "outputs": []
    },
    {
      "cell_type": "code",
      "metadata": {
        "id": "62XXCZSYsDn9",
        "colab_type": "code",
        "colab": {
          "base_uri": "https://localhost:8080/",
          "height": 121
        },
        "outputId": "60f78517-febc-4372-96e8-93165d12cf95"
      },
      "source": [
        "from sklearn.tree import DecisionTreeClassifier\n",
        "clf = DecisionTreeClassifier()\n",
        "clf.fit(train_X, train_y)"
      ],
      "execution_count": null,
      "outputs": [
        {
          "output_type": "execute_result",
          "data": {
            "text/plain": [
              "DecisionTreeClassifier(ccp_alpha=0.0, class_weight=None, criterion='gini',\n",
              "                       max_depth=None, max_features=None, max_leaf_nodes=None,\n",
              "                       min_impurity_decrease=0.0, min_impurity_split=None,\n",
              "                       min_samples_leaf=1, min_samples_split=2,\n",
              "                       min_weight_fraction_leaf=0.0, presort='deprecated',\n",
              "                       random_state=None, splitter='best')"
            ]
          },
          "metadata": {
            "tags": []
          },
          "execution_count": 12
        }
      ]
    },
    {
      "cell_type": "code",
      "metadata": {
        "id": "mWKOkC4xs6rU",
        "colab_type": "code",
        "colab": {
          "base_uri": "https://localhost:8080/",
          "height": 190
        },
        "outputId": "beac8368-37e4-4602-f8a9-4d75f9f9ff80"
      },
      "source": [
        "from sklearn.ensemble import GradientBoostingClassifier\n",
        "clf = GradientBoostingClassifier()\n",
        "clf.fit(train_X, train_y)"
      ],
      "execution_count": null,
      "outputs": [
        {
          "output_type": "execute_result",
          "data": {
            "text/plain": [
              "GradientBoostingClassifier(ccp_alpha=0.0, criterion='friedman_mse', init=None,\n",
              "                           learning_rate=0.1, loss='deviance', max_depth=3,\n",
              "                           max_features=None, max_leaf_nodes=None,\n",
              "                           min_impurity_decrease=0.0, min_impurity_split=None,\n",
              "                           min_samples_leaf=1, min_samples_split=2,\n",
              "                           min_weight_fraction_leaf=0.0, n_estimators=100,\n",
              "                           n_iter_no_change=None, presort='deprecated',\n",
              "                           random_state=None, subsample=1.0, tol=0.0001,\n",
              "                           validation_fraction=0.1, verbose=0,\n",
              "                           warm_start=False)"
            ]
          },
          "metadata": {
            "tags": []
          },
          "execution_count": 13
        }
      ]
    },
    {
      "cell_type": "code",
      "metadata": {
        "id": "Zlr_Ag_TtDxj",
        "colab_type": "code",
        "colab": {}
      },
      "source": [
        "pred_y = clf.predict(test_X)"
      ],
      "execution_count": null,
      "outputs": []
    },
    {
      "cell_type": "code",
      "metadata": {
        "id": "FRg4u-BltGgh",
        "colab_type": "code",
        "colab": {
          "base_uri": "https://localhost:8080/",
          "height": 35
        },
        "outputId": "049b33c7-0ec9-42f5-8eb3-73931fc8bac2"
      },
      "source": [
        "from sklearn.metrics import accuracy_score, confusion_matrix\n",
        "accuracy_score(test_y, pred_y)"
      ],
      "execution_count": null,
      "outputs": [
        {
          "output_type": "execute_result",
          "data": {
            "text/plain": [
              "0.9415292353823088"
            ]
          },
          "metadata": {
            "tags": []
          },
          "execution_count": 15
        }
      ]
    },
    {
      "cell_type": "code",
      "metadata": {
        "id": "9iHpKkPOtOjs",
        "colab_type": "code",
        "colab": {
          "base_uri": "https://localhost:8080/",
          "height": 52
        },
        "outputId": "3ac517a6-f23d-4c8d-f2ae-5337c0d6f0f0"
      },
      "source": [
        "confusion_matrix(test_y, pred_y)"
      ],
      "execution_count": null,
      "outputs": [
        {
          "output_type": "execute_result",
          "data": {
            "text/plain": [
              "array([[564,  11],\n",
              "       [ 28,  64]])"
            ]
          },
          "metadata": {
            "tags": []
          },
          "execution_count": 16
        }
      ]
    },
    {
      "cell_type": "markdown",
      "metadata": {
        "id": "LbdlmKxH4vnK",
        "colab_type": "text"
      },
      "source": [
        "## Spark"
      ]
    },
    {
      "cell_type": "code",
      "metadata": {
        "id": "eRV_joDYtSTT",
        "colab_type": "code",
        "colab": {
          "base_uri": "https://localhost:8080/",
          "height": 131
        },
        "outputId": "d058fc4a-9f03-4a69-94c1-c2f0cec36072"
      },
      "source": [
        "a = [1,2,3,4,5,6,7,8]\n",
        "\n",
        "b = [] \n",
        "for e in a:\n",
        "  if e %2 ==0:\n",
        "    b.append(e)\n",
        "\n",
        "assert 1= 0 \n",
        "\n",
        "c = sum(b)\n",
        "c"
      ],
      "execution_count": null,
      "outputs": [
        {
          "output_type": "error",
          "ename": "SyntaxError",
          "evalue": "ignored",
          "traceback": [
            "\u001b[0;36m  File \u001b[0;32m\"<ipython-input-19-3549ef2e8d93>\"\u001b[0;36m, line \u001b[0;32m8\u001b[0m\n\u001b[0;31m    assert 1= 0\u001b[0m\n\u001b[0m            ^\u001b[0m\n\u001b[0;31mSyntaxError\u001b[0m\u001b[0;31m:\u001b[0m invalid syntax\n"
          ]
        }
      ]
    },
    {
      "cell_type": "code",
      "metadata": {
        "id": "P_WTUzuE44oj",
        "colab_type": "code",
        "colab": {
          "base_uri": "https://localhost:8080/",
          "height": 35
        },
        "outputId": "1c36e3fd-655b-453a-a9b9-bfa96528eaf3"
      },
      "source": [
        "import numpy as np\n",
        "a = np.array([1,2,3,4,5,6,7,8])\n",
        "a[a %2 == 0].sum()"
      ],
      "execution_count": null,
      "outputs": [
        {
          "output_type": "execute_result",
          "data": {
            "text/plain": [
              "20"
            ]
          },
          "metadata": {
            "tags": []
          },
          "execution_count": 24
        }
      ]
    },
    {
      "cell_type": "code",
      "metadata": {
        "id": "uOUyAHPf5KsI",
        "colab_type": "code",
        "colab": {}
      },
      "source": [
        ""
      ],
      "execution_count": null,
      "outputs": []
    }
  ]
}